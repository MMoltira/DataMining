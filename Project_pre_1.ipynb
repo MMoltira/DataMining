{
  "nbformat": 4,
  "nbformat_minor": 0,
  "metadata": {
    "colab": {
      "name": "Project pre 1.ipynb",
      "provenance": [],
      "authorship_tag": "ABX9TyOfZBmAIdQ9TbsfOBJuMUU2",
      "include_colab_link": true
    },
    "kernelspec": {
      "name": "python3",
      "display_name": "Python 3"
    }
  },
  "cells": [
    {
      "cell_type": "markdown",
      "metadata": {
        "id": "view-in-github",
        "colab_type": "text"
      },
      "source": [
        "<a href=\"https://colab.research.google.com/github/MMoltira/DataMining/blob/master/Project_pre_1.ipynb\" target=\"_parent\"><img src=\"https://colab.research.google.com/assets/colab-badge.svg\" alt=\"Open In Colab\"/></a>"
      ]
    },
    {
      "cell_type": "code",
      "metadata": {
        "id": "q8etP3dcy0Ep",
        "outputId": "60b93e79-ac9f-4871-d2d1-e5e2164c27d0",
        "colab": {
          "base_uri": "https://localhost:8080/"
        }
      },
      "source": [
        "from google.colab import drive\n",
        "drive.mount('/content/drive')"
      ],
      "execution_count": null,
      "outputs": [
        {
          "output_type": "stream",
          "text": [
            "Drive already mounted at /content/drive; to attempt to forcibly remount, call drive.mount(\"/content/drive\", force_remount=True).\n"
          ],
          "name": "stdout"
        }
      ]
    },
    {
      "cell_type": "code",
      "metadata": {
        "id": "npJLmrtnUqjY"
      },
      "source": [
        "path = '/content/drive/My Drive/DWDM_material'"
      ],
      "execution_count": null,
      "outputs": []
    },
    {
      "cell_type": "code",
      "metadata": {
        "id": "PcAyu_OZyU3B"
      },
      "source": [
        "import os \n",
        "import pandas as pd"
      ],
      "execution_count": null,
      "outputs": []
    },
    {
      "cell_type": "code",
      "metadata": {
        "id": "AvGLeXgZUCRH"
      },
      "source": [
        "divorce = os.path.join(path,'divorce.csv')\n",
        "caijai = os.path.join(path,'caijai.csv')"
      ],
      "execution_count": null,
      "outputs": []
    },
    {
      "cell_type": "code",
      "metadata": {
        "id": "lu-3T3mOSsua",
        "outputId": "969f705a-8456-42d9-d5b7-b8a80b1a0f0a",
        "colab": {
          "base_uri": "https://localhost:8080/",
          "height": 419
        }
      },
      "source": [
        "divorce = pandas.read_csv(divorce)\n",
        "divorce"
      ],
      "execution_count": null,
      "outputs": [
        {
          "output_type": "execute_result",
          "data": {
            "text/html": [
              "<div>\n",
              "<style scoped>\n",
              "    .dataframe tbody tr th:only-of-type {\n",
              "        vertical-align: middle;\n",
              "    }\n",
              "\n",
              "    .dataframe tbody tr th {\n",
              "        vertical-align: top;\n",
              "    }\n",
              "\n",
              "    .dataframe thead th {\n",
              "        text-align: right;\n",
              "    }\n",
              "</style>\n",
              "<table border=\"1\" class=\"dataframe\">\n",
              "  <thead>\n",
              "    <tr style=\"text-align: right;\">\n",
              "      <th></th>\n",
              "      <th>Province</th>\n",
              "      <th>num_of_divorced_couples2553</th>\n",
              "      <th>num_of_divorced_couples2554</th>\n",
              "      <th>num_of_divorced_couples2555</th>\n",
              "      <th>num_of_divorcer2556</th>\n",
              "    </tr>\n",
              "  </thead>\n",
              "  <tbody>\n",
              "    <tr>\n",
              "      <th>0</th>\n",
              "      <td>Bangkok</td>\n",
              "      <td>15,919</td>\n",
              "      <td>15,175</td>\n",
              "      <td>15,557</td>\n",
              "      <td>15,130</td>\n",
              "    </tr>\n",
              "    <tr>\n",
              "      <th>1</th>\n",
              "      <td>Samut Prakan</td>\n",
              "      <td>3,325</td>\n",
              "      <td>3,638</td>\n",
              "      <td>3,760</td>\n",
              "      <td>3,661</td>\n",
              "    </tr>\n",
              "    <tr>\n",
              "      <th>2</th>\n",
              "      <td>Nonthaburi</td>\n",
              "      <td>2,134</td>\n",
              "      <td>2,019</td>\n",
              "      <td>2,228</td>\n",
              "      <td>2,189</td>\n",
              "    </tr>\n",
              "    <tr>\n",
              "      <th>3</th>\n",
              "      <td>Pathum Thani</td>\n",
              "      <td>2,546</td>\n",
              "      <td>2,301</td>\n",
              "      <td>2,465</td>\n",
              "      <td>2,656</td>\n",
              "    </tr>\n",
              "    <tr>\n",
              "      <th>4</th>\n",
              "      <td>Phra Nakhon Si Ayutthaya</td>\n",
              "      <td>2,001</td>\n",
              "      <td>1,825</td>\n",
              "      <td>2,041</td>\n",
              "      <td>1,849</td>\n",
              "    </tr>\n",
              "    <tr>\n",
              "      <th>...</th>\n",
              "      <td>...</td>\n",
              "      <td>...</td>\n",
              "      <td>...</td>\n",
              "      <td>...</td>\n",
              "      <td>...</td>\n",
              "    </tr>\n",
              "    <tr>\n",
              "      <th>72</th>\n",
              "      <td>Trang</td>\n",
              "      <td>705</td>\n",
              "      <td>777</td>\n",
              "      <td>737</td>\n",
              "      <td>742</td>\n",
              "    </tr>\n",
              "    <tr>\n",
              "      <th>73</th>\n",
              "      <td>Phatthalung</td>\n",
              "      <td>643</td>\n",
              "      <td>678</td>\n",
              "      <td>716</td>\n",
              "      <td>704</td>\n",
              "    </tr>\n",
              "    <tr>\n",
              "      <th>74</th>\n",
              "      <td>Pattani</td>\n",
              "      <td>261</td>\n",
              "      <td>263</td>\n",
              "      <td>248</td>\n",
              "      <td>255</td>\n",
              "    </tr>\n",
              "    <tr>\n",
              "      <th>75</th>\n",
              "      <td>Yala</td>\n",
              "      <td>272</td>\n",
              "      <td>324</td>\n",
              "      <td>345</td>\n",
              "      <td>301</td>\n",
              "    </tr>\n",
              "    <tr>\n",
              "      <th>76</th>\n",
              "      <td>Narathiwat</td>\n",
              "      <td>240</td>\n",
              "      <td>260</td>\n",
              "      <td>266</td>\n",
              "      <td>225</td>\n",
              "    </tr>\n",
              "  </tbody>\n",
              "</table>\n",
              "<p>77 rows × 5 columns</p>\n",
              "</div>"
            ],
            "text/plain": [
              "                    Province  ... num_of_divorcer2556\n",
              "0                    Bangkok  ...              15,130\n",
              "1               Samut Prakan  ...               3,661\n",
              "2                 Nonthaburi  ...               2,189\n",
              "3               Pathum Thani  ...               2,656\n",
              "4   Phra Nakhon Si Ayutthaya  ...               1,849\n",
              "..                       ...  ...                 ...\n",
              "72                     Trang  ...                 742\n",
              "73               Phatthalung  ...                 704\n",
              "74                   Pattani  ...                 255\n",
              "75                      Yala  ...                 301\n",
              "76                Narathiwat  ...                 225\n",
              "\n",
              "[77 rows x 5 columns]"
            ]
          },
          "metadata": {
            "tags": []
          },
          "execution_count": 181
        }
      ]
    },
    {
      "cell_type": "code",
      "metadata": {
        "id": "r70b1PS9TJN_",
        "outputId": "11df9a9f-d980-4de7-d2f2-a17e0564e894",
        "colab": {
          "base_uri": "https://localhost:8080/",
          "height": 419
        }
      },
      "source": [
        "caijai = pandas.read_csv(caijai)\n",
        "caijai"
      ],
      "execution_count": null,
      "outputs": [
        {
          "output_type": "execute_result",
          "data": {
            "text/html": [
              "<div>\n",
              "<style scoped>\n",
              "    .dataframe tbody tr th:only-of-type {\n",
              "        vertical-align: middle;\n",
              "    }\n",
              "\n",
              "    .dataframe tbody tr th {\n",
              "        vertical-align: top;\n",
              "    }\n",
              "\n",
              "    .dataframe thead th {\n",
              "        text-align: right;\n",
              "    }\n",
              "</style>\n",
              "<table border=\"1\" class=\"dataframe\">\n",
              "  <thead>\n",
              "    <tr style=\"text-align: right;\">\n",
              "      <th></th>\n",
              "      <th>Region and province</th>\n",
              "      <th>cost_avg2553</th>\n",
              "      <th>cost_avg2554</th>\n",
              "      <th>cost_avg2555</th>\n",
              "      <th>cost_avg2556</th>\n",
              "    </tr>\n",
              "  </thead>\n",
              "  <tbody>\n",
              "    <tr>\n",
              "      <th>0</th>\n",
              "      <td>Bangkok</td>\n",
              "      <td>29647</td>\n",
              "      <td>29969.2</td>\n",
              "      <td>33956.98</td>\n",
              "      <td>35023.7</td>\n",
              "    </tr>\n",
              "    <tr>\n",
              "      <th>1</th>\n",
              "      <td>Samut Prakan</td>\n",
              "      <td>19973</td>\n",
              "      <td>20158.2</td>\n",
              "      <td>25860.88</td>\n",
              "      <td>26192.9</td>\n",
              "    </tr>\n",
              "    <tr>\n",
              "      <th>2</th>\n",
              "      <td>Nonthaburi</td>\n",
              "      <td>32423</td>\n",
              "      <td>29099.3</td>\n",
              "      <td>28731.23</td>\n",
              "      <td>26946.6</td>\n",
              "    </tr>\n",
              "    <tr>\n",
              "      <th>3</th>\n",
              "      <td>Pathum Thani</td>\n",
              "      <td>23118</td>\n",
              "      <td>18993.2</td>\n",
              "      <td>30668.81</td>\n",
              "      <td>29514.0</td>\n",
              "    </tr>\n",
              "    <tr>\n",
              "      <th>4</th>\n",
              "      <td>Phra Nakhon Si Ayutthaya</td>\n",
              "      <td>18789</td>\n",
              "      <td>17534.3</td>\n",
              "      <td>25215.89</td>\n",
              "      <td>20493.7</td>\n",
              "    </tr>\n",
              "    <tr>\n",
              "      <th>...</th>\n",
              "      <td>...</td>\n",
              "      <td>...</td>\n",
              "      <td>...</td>\n",
              "      <td>...</td>\n",
              "      <td>...</td>\n",
              "    </tr>\n",
              "    <tr>\n",
              "      <th>72</th>\n",
              "      <td>Trang</td>\n",
              "      <td>18187</td>\n",
              "      <td>22686.6</td>\n",
              "      <td>19617.83</td>\n",
              "      <td>20922.3</td>\n",
              "    </tr>\n",
              "    <tr>\n",
              "      <th>73</th>\n",
              "      <td>Phatthalung</td>\n",
              "      <td>17442</td>\n",
              "      <td>18111.6</td>\n",
              "      <td>18404.19</td>\n",
              "      <td>16635.7</td>\n",
              "    </tr>\n",
              "    <tr>\n",
              "      <th>74</th>\n",
              "      <td>Pattani</td>\n",
              "      <td>11928</td>\n",
              "      <td>14011.7</td>\n",
              "      <td>14119.15</td>\n",
              "      <td>16668.1</td>\n",
              "    </tr>\n",
              "    <tr>\n",
              "      <th>75</th>\n",
              "      <td>Yala</td>\n",
              "      <td>12576</td>\n",
              "      <td>14776.7</td>\n",
              "      <td>12883.10</td>\n",
              "      <td>12521.7</td>\n",
              "    </tr>\n",
              "    <tr>\n",
              "      <th>76</th>\n",
              "      <td>Narathiwat</td>\n",
              "      <td>12162</td>\n",
              "      <td>13901.0</td>\n",
              "      <td>12686.17</td>\n",
              "      <td>13727.8</td>\n",
              "    </tr>\n",
              "  </tbody>\n",
              "</table>\n",
              "<p>77 rows × 5 columns</p>\n",
              "</div>"
            ],
            "text/plain": [
              "         Region and province  cost_avg2553  ...  cost_avg2555  cost_avg2556\n",
              "0                    Bangkok         29647  ...      33956.98       35023.7\n",
              "1               Samut Prakan         19973  ...      25860.88       26192.9\n",
              "2                 Nonthaburi         32423  ...      28731.23       26946.6\n",
              "3               Pathum Thani         23118  ...      30668.81       29514.0\n",
              "4   Phra Nakhon Si Ayutthaya         18789  ...      25215.89       20493.7\n",
              "..                       ...           ...  ...           ...           ...\n",
              "72                     Trang         18187  ...      19617.83       20922.3\n",
              "73               Phatthalung         17442  ...      18404.19       16635.7\n",
              "74                   Pattani         11928  ...      14119.15       16668.1\n",
              "75                      Yala         12576  ...      12883.10       12521.7\n",
              "76                Narathiwat         12162  ...      12686.17       13727.8\n",
              "\n",
              "[77 rows x 5 columns]"
            ]
          },
          "metadata": {
            "tags": []
          },
          "execution_count": 182
        }
      ]
    },
    {
      "cell_type": "code",
      "metadata": {
        "id": "-pnQdVDFTzi6",
        "outputId": "db475597-4a95-41a5-df48-bf8afdade90c",
        "colab": {
          "base_uri": "https://localhost:8080/",
          "height": 204
        }
      },
      "source": [
        "caijai.head()"
      ],
      "execution_count": null,
      "outputs": [
        {
          "output_type": "execute_result",
          "data": {
            "text/html": [
              "<div>\n",
              "<style scoped>\n",
              "    .dataframe tbody tr th:only-of-type {\n",
              "        vertical-align: middle;\n",
              "    }\n",
              "\n",
              "    .dataframe tbody tr th {\n",
              "        vertical-align: top;\n",
              "    }\n",
              "\n",
              "    .dataframe thead th {\n",
              "        text-align: right;\n",
              "    }\n",
              "</style>\n",
              "<table border=\"1\" class=\"dataframe\">\n",
              "  <thead>\n",
              "    <tr style=\"text-align: right;\">\n",
              "      <th></th>\n",
              "      <th>Region and province</th>\n",
              "      <th>cost_avg2553</th>\n",
              "      <th>cost_avg2554</th>\n",
              "      <th>cost_avg2555</th>\n",
              "      <th>cost_avg2556</th>\n",
              "    </tr>\n",
              "  </thead>\n",
              "  <tbody>\n",
              "    <tr>\n",
              "      <th>0</th>\n",
              "      <td>Bangkok</td>\n",
              "      <td>29647</td>\n",
              "      <td>29969.2</td>\n",
              "      <td>33956.98</td>\n",
              "      <td>35023.7</td>\n",
              "    </tr>\n",
              "    <tr>\n",
              "      <th>1</th>\n",
              "      <td>Samut Prakan</td>\n",
              "      <td>19973</td>\n",
              "      <td>20158.2</td>\n",
              "      <td>25860.88</td>\n",
              "      <td>26192.9</td>\n",
              "    </tr>\n",
              "    <tr>\n",
              "      <th>2</th>\n",
              "      <td>Nonthaburi</td>\n",
              "      <td>32423</td>\n",
              "      <td>29099.3</td>\n",
              "      <td>28731.23</td>\n",
              "      <td>26946.6</td>\n",
              "    </tr>\n",
              "    <tr>\n",
              "      <th>3</th>\n",
              "      <td>Pathum Thani</td>\n",
              "      <td>23118</td>\n",
              "      <td>18993.2</td>\n",
              "      <td>30668.81</td>\n",
              "      <td>29514.0</td>\n",
              "    </tr>\n",
              "    <tr>\n",
              "      <th>4</th>\n",
              "      <td>Phra Nakhon Si Ayutthaya</td>\n",
              "      <td>18789</td>\n",
              "      <td>17534.3</td>\n",
              "      <td>25215.89</td>\n",
              "      <td>20493.7</td>\n",
              "    </tr>\n",
              "  </tbody>\n",
              "</table>\n",
              "</div>"
            ],
            "text/plain": [
              "        Region and province  cost_avg2553  ...  cost_avg2555  cost_avg2556\n",
              "0                   Bangkok         29647  ...      33956.98       35023.7\n",
              "1              Samut Prakan         19973  ...      25860.88       26192.9\n",
              "2                Nonthaburi         32423  ...      28731.23       26946.6\n",
              "3              Pathum Thani         23118  ...      30668.81       29514.0\n",
              "4  Phra Nakhon Si Ayutthaya         18789  ...      25215.89       20493.7\n",
              "\n",
              "[5 rows x 5 columns]"
            ]
          },
          "metadata": {
            "tags": []
          },
          "execution_count": 183
        }
      ]
    },
    {
      "cell_type": "code",
      "metadata": {
        "id": "aGC8CvyTWJJB",
        "outputId": "dedc089e-ea67-4b65-b848-dff54f0b04e5",
        "colab": {
          "base_uri": "https://localhost:8080/"
        }
      },
      "source": [
        "divorce.shape"
      ],
      "execution_count": null,
      "outputs": [
        {
          "output_type": "execute_result",
          "data": {
            "text/plain": [
              "(77, 5)"
            ]
          },
          "metadata": {
            "tags": []
          },
          "execution_count": 184
        }
      ]
    },
    {
      "cell_type": "code",
      "metadata": {
        "id": "FXq3LtM4WRdX",
        "outputId": "04ce2e61-e838-4b79-de29-4aaa420e6d56",
        "colab": {
          "base_uri": "https://localhost:8080/"
        }
      },
      "source": [
        "caijai.shape"
      ],
      "execution_count": null,
      "outputs": [
        {
          "output_type": "execute_result",
          "data": {
            "text/plain": [
              "(77, 5)"
            ]
          },
          "metadata": {
            "tags": []
          },
          "execution_count": 185
        }
      ]
    },
    {
      "cell_type": "code",
      "metadata": {
        "id": "51uYmwowWaAQ",
        "outputId": "05311101-9bbf-498c-e98f-fd54cb66a72e",
        "colab": {
          "base_uri": "https://localhost:8080/"
        }
      },
      "source": [
        "divorce.isnull().any()"
      ],
      "execution_count": null,
      "outputs": [
        {
          "output_type": "execute_result",
          "data": {
            "text/plain": [
              "Province                       False\n",
              "num_of_divorced_couples2553     True\n",
              "num_of_divorced_couples2554    False\n",
              "num_of_divorced_couples2555    False\n",
              "num_of_divorcer2556            False\n",
              "dtype: bool"
            ]
          },
          "metadata": {
            "tags": []
          },
          "execution_count": 186
        }
      ]
    },
    {
      "cell_type": "code",
      "metadata": {
        "id": "LaScEbsQZQhs"
      },
      "source": [
        "divorce_nm = divorce.dropna()"
      ],
      "execution_count": null,
      "outputs": []
    },
    {
      "cell_type": "code",
      "metadata": {
        "id": "tmtcmz7uZk46",
        "outputId": "1abd8cf8-f822-4628-c587-a4900b2caff6",
        "colab": {
          "base_uri": "https://localhost:8080/"
        }
      },
      "source": [
        "divorce_nm.isnull().any().any()"
      ],
      "execution_count": null,
      "outputs": [
        {
          "output_type": "execute_result",
          "data": {
            "text/plain": [
              "False"
            ]
          },
          "metadata": {
            "tags": []
          },
          "execution_count": 188
        }
      ]
    },
    {
      "cell_type": "code",
      "metadata": {
        "id": "bl6771ZPZ4U-",
        "outputId": "a6a1e2e3-057b-4728-9c96-db607343e26f",
        "colab": {
          "base_uri": "https://localhost:8080/"
        }
      },
      "source": [
        "print(divorce.shape)\n",
        "print(divorce_nm.shape)"
      ],
      "execution_count": null,
      "outputs": [
        {
          "output_type": "stream",
          "text": [
            "(77, 5)\n",
            "(76, 5)\n"
          ],
          "name": "stdout"
        }
      ]
    },
    {
      "cell_type": "code",
      "metadata": {
        "id": "WboOjmvraWKv",
        "outputId": "1def7f28-5be8-4ee1-fcd3-a7aec0be39df",
        "colab": {
          "base_uri": "https://localhost:8080/"
        }
      },
      "source": [
        "divorce_nm.isnull().any()"
      ],
      "execution_count": null,
      "outputs": [
        {
          "output_type": "execute_result",
          "data": {
            "text/plain": [
              "Province                       False\n",
              "num_of_divorced_couples2553    False\n",
              "num_of_divorced_couples2554    False\n",
              "num_of_divorced_couples2555    False\n",
              "num_of_divorcer2556            False\n",
              "dtype: bool"
            ]
          },
          "metadata": {
            "tags": []
          },
          "execution_count": 192
        }
      ]
    },
    {
      "cell_type": "code",
      "metadata": {
        "id": "2s9XdMBwXnPt",
        "outputId": "ad0862f5-67e3-4def-b2f3-3a3a7b6f1132",
        "colab": {
          "base_uri": "https://localhost:8080/"
        }
      },
      "source": [
        "caijai.isnull().any()"
      ],
      "execution_count": null,
      "outputs": [
        {
          "output_type": "execute_result",
          "data": {
            "text/plain": [
              "Region and province    False\n",
              "cost_avg2553           False\n",
              "cost_avg2554           False\n",
              "cost_avg2555           False\n",
              "cost_avg2556           False\n",
              "dtype: bool"
            ]
          },
          "metadata": {
            "tags": []
          },
          "execution_count": 190
        }
      ]
    },
    {
      "cell_type": "code",
      "metadata": {
        "id": "gtKUPU6ya-To",
        "outputId": "29ed3151-e5b6-4857-f892-a286d903c7c7",
        "colab": {
          "base_uri": "https://localhost:8080/",
          "height": 541
        }
      },
      "source": [
        "merged_table = divorce.merge(caijai,how='left',left_on='Province',right_on='Region and province')\n",
        "merged_table"
      ],
      "execution_count": null,
      "outputs": [
        {
          "output_type": "execute_result",
          "data": {
            "text/html": [
              "<div>\n",
              "<style scoped>\n",
              "    .dataframe tbody tr th:only-of-type {\n",
              "        vertical-align: middle;\n",
              "    }\n",
              "\n",
              "    .dataframe tbody tr th {\n",
              "        vertical-align: top;\n",
              "    }\n",
              "\n",
              "    .dataframe thead th {\n",
              "        text-align: right;\n",
              "    }\n",
              "</style>\n",
              "<table border=\"1\" class=\"dataframe\">\n",
              "  <thead>\n",
              "    <tr style=\"text-align: right;\">\n",
              "      <th></th>\n",
              "      <th>Province</th>\n",
              "      <th>num_of_divorced_couples2553</th>\n",
              "      <th>num_of_divorced_couples2554</th>\n",
              "      <th>num_of_divorced_couples2555</th>\n",
              "      <th>num_of_divorcer2556</th>\n",
              "      <th>Region and province</th>\n",
              "      <th>cost_avg2553</th>\n",
              "      <th>cost_avg2554</th>\n",
              "      <th>cost_avg2555</th>\n",
              "      <th>cost_avg2556</th>\n",
              "    </tr>\n",
              "  </thead>\n",
              "  <tbody>\n",
              "    <tr>\n",
              "      <th>0</th>\n",
              "      <td>Bangkok</td>\n",
              "      <td>15,919</td>\n",
              "      <td>15,175</td>\n",
              "      <td>15,557</td>\n",
              "      <td>15,130</td>\n",
              "      <td>Bangkok</td>\n",
              "      <td>29647</td>\n",
              "      <td>29969.2</td>\n",
              "      <td>33956.98</td>\n",
              "      <td>35023.7</td>\n",
              "    </tr>\n",
              "    <tr>\n",
              "      <th>1</th>\n",
              "      <td>Samut Prakan</td>\n",
              "      <td>3,325</td>\n",
              "      <td>3,638</td>\n",
              "      <td>3,760</td>\n",
              "      <td>3,661</td>\n",
              "      <td>Samut Prakan</td>\n",
              "      <td>19973</td>\n",
              "      <td>20158.2</td>\n",
              "      <td>25860.88</td>\n",
              "      <td>26192.9</td>\n",
              "    </tr>\n",
              "    <tr>\n",
              "      <th>2</th>\n",
              "      <td>Nonthaburi</td>\n",
              "      <td>2,134</td>\n",
              "      <td>2,019</td>\n",
              "      <td>2,228</td>\n",
              "      <td>2,189</td>\n",
              "      <td>Nonthaburi</td>\n",
              "      <td>32423</td>\n",
              "      <td>29099.3</td>\n",
              "      <td>28731.23</td>\n",
              "      <td>26946.6</td>\n",
              "    </tr>\n",
              "    <tr>\n",
              "      <th>3</th>\n",
              "      <td>Pathum Thani</td>\n",
              "      <td>2,546</td>\n",
              "      <td>2,301</td>\n",
              "      <td>2,465</td>\n",
              "      <td>2,656</td>\n",
              "      <td>Pathum Thani</td>\n",
              "      <td>23118</td>\n",
              "      <td>18993.2</td>\n",
              "      <td>30668.81</td>\n",
              "      <td>29514.0</td>\n",
              "    </tr>\n",
              "    <tr>\n",
              "      <th>4</th>\n",
              "      <td>Phra Nakhon Si Ayutthaya</td>\n",
              "      <td>2,001</td>\n",
              "      <td>1,825</td>\n",
              "      <td>2,041</td>\n",
              "      <td>1,849</td>\n",
              "      <td>Phra Nakhon Si Ayutthaya</td>\n",
              "      <td>18789</td>\n",
              "      <td>17534.3</td>\n",
              "      <td>25215.89</td>\n",
              "      <td>20493.7</td>\n",
              "    </tr>\n",
              "    <tr>\n",
              "      <th>...</th>\n",
              "      <td>...</td>\n",
              "      <td>...</td>\n",
              "      <td>...</td>\n",
              "      <td>...</td>\n",
              "      <td>...</td>\n",
              "      <td>...</td>\n",
              "      <td>...</td>\n",
              "      <td>...</td>\n",
              "      <td>...</td>\n",
              "      <td>...</td>\n",
              "    </tr>\n",
              "    <tr>\n",
              "      <th>72</th>\n",
              "      <td>Trang</td>\n",
              "      <td>705</td>\n",
              "      <td>777</td>\n",
              "      <td>737</td>\n",
              "      <td>742</td>\n",
              "      <td>Trang</td>\n",
              "      <td>18187</td>\n",
              "      <td>22686.6</td>\n",
              "      <td>19617.83</td>\n",
              "      <td>20922.3</td>\n",
              "    </tr>\n",
              "    <tr>\n",
              "      <th>73</th>\n",
              "      <td>Phatthalung</td>\n",
              "      <td>643</td>\n",
              "      <td>678</td>\n",
              "      <td>716</td>\n",
              "      <td>704</td>\n",
              "      <td>Phatthalung</td>\n",
              "      <td>17442</td>\n",
              "      <td>18111.6</td>\n",
              "      <td>18404.19</td>\n",
              "      <td>16635.7</td>\n",
              "    </tr>\n",
              "    <tr>\n",
              "      <th>74</th>\n",
              "      <td>Pattani</td>\n",
              "      <td>261</td>\n",
              "      <td>263</td>\n",
              "      <td>248</td>\n",
              "      <td>255</td>\n",
              "      <td>Pattani</td>\n",
              "      <td>11928</td>\n",
              "      <td>14011.7</td>\n",
              "      <td>14119.15</td>\n",
              "      <td>16668.1</td>\n",
              "    </tr>\n",
              "    <tr>\n",
              "      <th>75</th>\n",
              "      <td>Yala</td>\n",
              "      <td>272</td>\n",
              "      <td>324</td>\n",
              "      <td>345</td>\n",
              "      <td>301</td>\n",
              "      <td>Yala</td>\n",
              "      <td>12576</td>\n",
              "      <td>14776.7</td>\n",
              "      <td>12883.10</td>\n",
              "      <td>12521.7</td>\n",
              "    </tr>\n",
              "    <tr>\n",
              "      <th>76</th>\n",
              "      <td>Narathiwat</td>\n",
              "      <td>240</td>\n",
              "      <td>260</td>\n",
              "      <td>266</td>\n",
              "      <td>225</td>\n",
              "      <td>Narathiwat</td>\n",
              "      <td>12162</td>\n",
              "      <td>13901.0</td>\n",
              "      <td>12686.17</td>\n",
              "      <td>13727.8</td>\n",
              "    </tr>\n",
              "  </tbody>\n",
              "</table>\n",
              "<p>77 rows × 10 columns</p>\n",
              "</div>"
            ],
            "text/plain": [
              "                    Province  ... cost_avg2556\n",
              "0                    Bangkok  ...      35023.7\n",
              "1               Samut Prakan  ...      26192.9\n",
              "2                 Nonthaburi  ...      26946.6\n",
              "3               Pathum Thani  ...      29514.0\n",
              "4   Phra Nakhon Si Ayutthaya  ...      20493.7\n",
              "..                       ...  ...          ...\n",
              "72                     Trang  ...      20922.3\n",
              "73               Phatthalung  ...      16635.7\n",
              "74                   Pattani  ...      16668.1\n",
              "75                      Yala  ...      12521.7\n",
              "76                Narathiwat  ...      13727.8\n",
              "\n",
              "[77 rows x 10 columns]"
            ]
          },
          "metadata": {
            "tags": []
          },
          "execution_count": 193
        }
      ]
    },
    {
      "cell_type": "code",
      "metadata": {
        "id": "UfyVK3r2z7aL",
        "outputId": "c8ecfe83-4586-40a2-f026-891b33f223bc",
        "colab": {
          "base_uri": "https://localhost:8080/",
          "height": 507
        }
      },
      "source": [
        "new_table = merged_table.drop(columns=['Region and province'])\n",
        "new_table "
      ],
      "execution_count": null,
      "outputs": [
        {
          "output_type": "execute_result",
          "data": {
            "text/html": [
              "<div>\n",
              "<style scoped>\n",
              "    .dataframe tbody tr th:only-of-type {\n",
              "        vertical-align: middle;\n",
              "    }\n",
              "\n",
              "    .dataframe tbody tr th {\n",
              "        vertical-align: top;\n",
              "    }\n",
              "\n",
              "    .dataframe thead th {\n",
              "        text-align: right;\n",
              "    }\n",
              "</style>\n",
              "<table border=\"1\" class=\"dataframe\">\n",
              "  <thead>\n",
              "    <tr style=\"text-align: right;\">\n",
              "      <th></th>\n",
              "      <th>Province</th>\n",
              "      <th>num_of_divorced_couples2553</th>\n",
              "      <th>num_of_divorced_couples2554</th>\n",
              "      <th>num_of_divorced_couples2555</th>\n",
              "      <th>num_of_divorcer2556</th>\n",
              "      <th>cost_avg2553</th>\n",
              "      <th>cost_avg2554</th>\n",
              "      <th>cost_avg2555</th>\n",
              "      <th>cost_avg2556</th>\n",
              "    </tr>\n",
              "  </thead>\n",
              "  <tbody>\n",
              "    <tr>\n",
              "      <th>0</th>\n",
              "      <td>Bangkok</td>\n",
              "      <td>15,919</td>\n",
              "      <td>15,175</td>\n",
              "      <td>15,557</td>\n",
              "      <td>15,130</td>\n",
              "      <td>29647</td>\n",
              "      <td>29969.2</td>\n",
              "      <td>33956.98</td>\n",
              "      <td>35023.7</td>\n",
              "    </tr>\n",
              "    <tr>\n",
              "      <th>1</th>\n",
              "      <td>Samut Prakan</td>\n",
              "      <td>3,325</td>\n",
              "      <td>3,638</td>\n",
              "      <td>3,760</td>\n",
              "      <td>3,661</td>\n",
              "      <td>19973</td>\n",
              "      <td>20158.2</td>\n",
              "      <td>25860.88</td>\n",
              "      <td>26192.9</td>\n",
              "    </tr>\n",
              "    <tr>\n",
              "      <th>2</th>\n",
              "      <td>Nonthaburi</td>\n",
              "      <td>2,134</td>\n",
              "      <td>2,019</td>\n",
              "      <td>2,228</td>\n",
              "      <td>2,189</td>\n",
              "      <td>32423</td>\n",
              "      <td>29099.3</td>\n",
              "      <td>28731.23</td>\n",
              "      <td>26946.6</td>\n",
              "    </tr>\n",
              "    <tr>\n",
              "      <th>3</th>\n",
              "      <td>Pathum Thani</td>\n",
              "      <td>2,546</td>\n",
              "      <td>2,301</td>\n",
              "      <td>2,465</td>\n",
              "      <td>2,656</td>\n",
              "      <td>23118</td>\n",
              "      <td>18993.2</td>\n",
              "      <td>30668.81</td>\n",
              "      <td>29514.0</td>\n",
              "    </tr>\n",
              "    <tr>\n",
              "      <th>4</th>\n",
              "      <td>Phra Nakhon Si Ayutthaya</td>\n",
              "      <td>2,001</td>\n",
              "      <td>1,825</td>\n",
              "      <td>2,041</td>\n",
              "      <td>1,849</td>\n",
              "      <td>18789</td>\n",
              "      <td>17534.3</td>\n",
              "      <td>25215.89</td>\n",
              "      <td>20493.7</td>\n",
              "    </tr>\n",
              "    <tr>\n",
              "      <th>...</th>\n",
              "      <td>...</td>\n",
              "      <td>...</td>\n",
              "      <td>...</td>\n",
              "      <td>...</td>\n",
              "      <td>...</td>\n",
              "      <td>...</td>\n",
              "      <td>...</td>\n",
              "      <td>...</td>\n",
              "      <td>...</td>\n",
              "    </tr>\n",
              "    <tr>\n",
              "      <th>72</th>\n",
              "      <td>Trang</td>\n",
              "      <td>705</td>\n",
              "      <td>777</td>\n",
              "      <td>737</td>\n",
              "      <td>742</td>\n",
              "      <td>18187</td>\n",
              "      <td>22686.6</td>\n",
              "      <td>19617.83</td>\n",
              "      <td>20922.3</td>\n",
              "    </tr>\n",
              "    <tr>\n",
              "      <th>73</th>\n",
              "      <td>Phatthalung</td>\n",
              "      <td>643</td>\n",
              "      <td>678</td>\n",
              "      <td>716</td>\n",
              "      <td>704</td>\n",
              "      <td>17442</td>\n",
              "      <td>18111.6</td>\n",
              "      <td>18404.19</td>\n",
              "      <td>16635.7</td>\n",
              "    </tr>\n",
              "    <tr>\n",
              "      <th>74</th>\n",
              "      <td>Pattani</td>\n",
              "      <td>261</td>\n",
              "      <td>263</td>\n",
              "      <td>248</td>\n",
              "      <td>255</td>\n",
              "      <td>11928</td>\n",
              "      <td>14011.7</td>\n",
              "      <td>14119.15</td>\n",
              "      <td>16668.1</td>\n",
              "    </tr>\n",
              "    <tr>\n",
              "      <th>75</th>\n",
              "      <td>Yala</td>\n",
              "      <td>272</td>\n",
              "      <td>324</td>\n",
              "      <td>345</td>\n",
              "      <td>301</td>\n",
              "      <td>12576</td>\n",
              "      <td>14776.7</td>\n",
              "      <td>12883.10</td>\n",
              "      <td>12521.7</td>\n",
              "    </tr>\n",
              "    <tr>\n",
              "      <th>76</th>\n",
              "      <td>Narathiwat</td>\n",
              "      <td>240</td>\n",
              "      <td>260</td>\n",
              "      <td>266</td>\n",
              "      <td>225</td>\n",
              "      <td>12162</td>\n",
              "      <td>13901.0</td>\n",
              "      <td>12686.17</td>\n",
              "      <td>13727.8</td>\n",
              "    </tr>\n",
              "  </tbody>\n",
              "</table>\n",
              "<p>77 rows × 9 columns</p>\n",
              "</div>"
            ],
            "text/plain": [
              "                    Province  ... cost_avg2556\n",
              "0                    Bangkok  ...      35023.7\n",
              "1               Samut Prakan  ...      26192.9\n",
              "2                 Nonthaburi  ...      26946.6\n",
              "3               Pathum Thani  ...      29514.0\n",
              "4   Phra Nakhon Si Ayutthaya  ...      20493.7\n",
              "..                       ...  ...          ...\n",
              "72                     Trang  ...      20922.3\n",
              "73               Phatthalung  ...      16635.7\n",
              "74                   Pattani  ...      16668.1\n",
              "75                      Yala  ...      12521.7\n",
              "76                Narathiwat  ...      13727.8\n",
              "\n",
              "[77 rows x 9 columns]"
            ]
          },
          "metadata": {
            "tags": []
          },
          "execution_count": 194
        }
      ]
    }
  ]
}