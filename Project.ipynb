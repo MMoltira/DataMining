{
  "nbformat": 4,
  "nbformat_minor": 0,
  "metadata": {
    "colab": {
      "name": "Project.ipynb",
      "provenance": [],
      "authorship_tag": "ABX9TyOlXKKLmJToI7Dq0Jpx5sCJ",
      "include_colab_link": true
    },
    "kernelspec": {
      "name": "python3",
      "display_name": "Python 3"
    }
  },
  "cells": [
    {
      "cell_type": "markdown",
      "metadata": {
        "id": "view-in-github",
        "colab_type": "text"
      },
      "source": [
        "<a href=\"https://colab.research.google.com/github/MMoltira/DataMining/blob/master/Project.ipynb\" target=\"_parent\"><img src=\"https://colab.research.google.com/assets/colab-badge.svg\" alt=\"Open In Colab\"/></a>"
      ]
    },
    {
      "cell_type": "code",
      "metadata": {
        "id": "q8etP3dcy0Ep",
        "outputId": "2c063949-df6f-47bb-be32-f22833f76c4f",
        "colab": {
          "base_uri": "https://localhost:8080/"
        }
      },
      "source": [
        "from google.colab import drive\n",
        "drive.mount('/content/drive')"
      ],
      "execution_count": 129,
      "outputs": [
        {
          "output_type": "stream",
          "text": [
            "Drive already mounted at /content/drive; to attempt to forcibly remount, call drive.mount(\"/content/drive\", force_remount=True).\n"
          ],
          "name": "stdout"
        }
      ]
    },
    {
      "cell_type": "code",
      "metadata": {
        "id": "npJLmrtnUqjY"
      },
      "source": [
        "path = '/content/drive/My Drive/DWDM_material'"
      ],
      "execution_count": 130,
      "outputs": []
    },
    {
      "cell_type": "code",
      "metadata": {
        "id": "PcAyu_OZyU3B"
      },
      "source": [
        "import os \n",
        "import pandas as pd"
      ],
      "execution_count": 131,
      "outputs": []
    },
    {
      "cell_type": "code",
      "metadata": {
        "id": "AvGLeXgZUCRH"
      },
      "source": [
        "divorce = os.path.join(path,'divorce.csv')\n",
        "caijai = os.path.join(path,'caijai.csv')"
      ],
      "execution_count": 132,
      "outputs": []
    },
    {
      "cell_type": "code",
      "metadata": {
        "id": "lu-3T3mOSsua",
        "outputId": "ad4f8dbc-9718-4557-b4e0-88033afced45",
        "colab": {
          "base_uri": "https://localhost:8080/",
          "height": 419
        }
      },
      "source": [
        "divorce = pandas.read_csv(divorce)\n",
        "divorce"
      ],
      "execution_count": 133,
      "outputs": [
        {
          "output_type": "execute_result",
          "data": {
            "text/html": [
              "<div>\n",
              "<style scoped>\n",
              "    .dataframe tbody tr th:only-of-type {\n",
              "        vertical-align: middle;\n",
              "    }\n",
              "\n",
              "    .dataframe tbody tr th {\n",
              "        vertical-align: top;\n",
              "    }\n",
              "\n",
              "    .dataframe thead th {\n",
              "        text-align: right;\n",
              "    }\n",
              "</style>\n",
              "<table border=\"1\" class=\"dataframe\">\n",
              "  <thead>\n",
              "    <tr style=\"text-align: right;\">\n",
              "      <th></th>\n",
              "      <th>City</th>\n",
              "      <th>2547</th>\n",
              "      <th>2548</th>\n",
              "      <th>2549</th>\n",
              "      <th>2550</th>\n",
              "      <th>2551</th>\n",
              "      <th>2552</th>\n",
              "      <th>2553</th>\n",
              "      <th>2554</th>\n",
              "      <th>2555</th>\n",
              "      <th>2556</th>\n",
              "      <th>province</th>\n",
              "    </tr>\n",
              "  </thead>\n",
              "  <tbody>\n",
              "    <tr>\n",
              "      <th>0</th>\n",
              "      <td>?????????????</td>\n",
              "      <td>14,976</td>\n",
              "      <td>15,158</td>\n",
              "      <td>15,625</td>\n",
              "      <td>15,796</td>\n",
              "      <td>16,884</td>\n",
              "      <td>16,608</td>\n",
              "      <td>15,919</td>\n",
              "      <td>15,175</td>\n",
              "      <td>15,557</td>\n",
              "      <td>15,130</td>\n",
              "      <td>Bangkok</td>\n",
              "    </tr>\n",
              "    <tr>\n",
              "      <th>1</th>\n",
              "      <td>???????????</td>\n",
              "      <td>2,624</td>\n",
              "      <td>608</td>\n",
              "      <td>3,102</td>\n",
              "      <td>3,434</td>\n",
              "      <td>3,797</td>\n",
              "      <td>3,683</td>\n",
              "      <td>3,325</td>\n",
              "      <td>3,638</td>\n",
              "      <td>3,760</td>\n",
              "      <td>3,661</td>\n",
              "      <td>Samut Prakan</td>\n",
              "    </tr>\n",
              "    <tr>\n",
              "      <th>2</th>\n",
              "      <td>???????</td>\n",
              "      <td>2,322</td>\n",
              "      <td>2,205</td>\n",
              "      <td>2,263</td>\n",
              "      <td>2,221</td>\n",
              "      <td>2,475</td>\n",
              "      <td>2,389</td>\n",
              "      <td>2,134</td>\n",
              "      <td>2,019</td>\n",
              "      <td>2,228</td>\n",
              "      <td>2,189</td>\n",
              "      <td>Nonthaburi</td>\n",
              "    </tr>\n",
              "    <tr>\n",
              "      <th>3</th>\n",
              "      <td>????????</td>\n",
              "      <td>1,688</td>\n",
              "      <td>2,018</td>\n",
              "      <td>1,963</td>\n",
              "      <td>2,290</td>\n",
              "      <td>2,193</td>\n",
              "      <td>2,370</td>\n",
              "      <td>2,546</td>\n",
              "      <td>2,301</td>\n",
              "      <td>2,465</td>\n",
              "      <td>2,656</td>\n",
              "      <td>Pathum Thani</td>\n",
              "    </tr>\n",
              "    <tr>\n",
              "      <th>4</th>\n",
              "      <td>???????????????</td>\n",
              "      <td>1,333</td>\n",
              "      <td>1,689</td>\n",
              "      <td>1,690</td>\n",
              "      <td>1,822</td>\n",
              "      <td>1,927</td>\n",
              "      <td>1,981</td>\n",
              "      <td>2,001</td>\n",
              "      <td>1,825</td>\n",
              "      <td>2,041</td>\n",
              "      <td>1,849</td>\n",
              "      <td>Phra Nakhon Si Ayutthaya</td>\n",
              "    </tr>\n",
              "    <tr>\n",
              "      <th>...</th>\n",
              "      <td>...</td>\n",
              "      <td>...</td>\n",
              "      <td>...</td>\n",
              "      <td>...</td>\n",
              "      <td>...</td>\n",
              "      <td>...</td>\n",
              "      <td>...</td>\n",
              "      <td>...</td>\n",
              "      <td>...</td>\n",
              "      <td>...</td>\n",
              "      <td>...</td>\n",
              "      <td>...</td>\n",
              "    </tr>\n",
              "    <tr>\n",
              "      <th>72</th>\n",
              "      <td>????</td>\n",
              "      <td>584</td>\n",
              "      <td>662</td>\n",
              "      <td>602</td>\n",
              "      <td>713</td>\n",
              "      <td>728</td>\n",
              "      <td>757</td>\n",
              "      <td>705</td>\n",
              "      <td>777</td>\n",
              "      <td>737</td>\n",
              "      <td>742</td>\n",
              "      <td>Trang</td>\n",
              "    </tr>\n",
              "    <tr>\n",
              "      <th>73</th>\n",
              "      <td>??????</td>\n",
              "      <td>545</td>\n",
              "      <td>551</td>\n",
              "      <td>562</td>\n",
              "      <td>597</td>\n",
              "      <td>686</td>\n",
              "      <td>651</td>\n",
              "      <td>643</td>\n",
              "      <td>678</td>\n",
              "      <td>716</td>\n",
              "      <td>704</td>\n",
              "      <td>Phatthalung</td>\n",
              "    </tr>\n",
              "    <tr>\n",
              "      <th>74</th>\n",
              "      <td>???????</td>\n",
              "      <td>160</td>\n",
              "      <td>176</td>\n",
              "      <td>176</td>\n",
              "      <td>179</td>\n",
              "      <td>241</td>\n",
              "      <td>266</td>\n",
              "      <td>261</td>\n",
              "      <td>263</td>\n",
              "      <td>248</td>\n",
              "      <td>255</td>\n",
              "      <td>Pattani</td>\n",
              "    </tr>\n",
              "    <tr>\n",
              "      <th>75</th>\n",
              "      <td>????</td>\n",
              "      <td>246</td>\n",
              "      <td>232</td>\n",
              "      <td>231</td>\n",
              "      <td>222</td>\n",
              "      <td>282</td>\n",
              "      <td>299</td>\n",
              "      <td>272</td>\n",
              "      <td>324</td>\n",
              "      <td>345</td>\n",
              "      <td>301</td>\n",
              "      <td>Yala</td>\n",
              "    </tr>\n",
              "    <tr>\n",
              "      <th>76</th>\n",
              "      <td>????????</td>\n",
              "      <td>138</td>\n",
              "      <td>183</td>\n",
              "      <td>208</td>\n",
              "      <td>214</td>\n",
              "      <td>252</td>\n",
              "      <td>258</td>\n",
              "      <td>240</td>\n",
              "      <td>260</td>\n",
              "      <td>266</td>\n",
              "      <td>225</td>\n",
              "      <td>Narathiwat</td>\n",
              "    </tr>\n",
              "  </tbody>\n",
              "</table>\n",
              "<p>77 rows × 12 columns</p>\n",
              "</div>"
            ],
            "text/plain": [
              "               City       2547  ...       2556                  province\n",
              "0     ?????????????  14,976     ...  15,130                      Bangkok\n",
              "1       ???????????   2,624     ...   3,661                 Samut Prakan\n",
              "2           ???????   2,322     ...   2,189                   Nonthaburi\n",
              "3          ????????   1,688     ...   2,656                 Pathum Thani\n",
              "4   ???????????????   1,333     ...   1,849     Phra Nakhon Si Ayutthaya\n",
              "..              ...        ...  ...        ...                       ...\n",
              "72             ????     584     ...     742                        Trang\n",
              "73           ??????     545     ...     704                  Phatthalung\n",
              "74          ???????     160     ...     255                      Pattani\n",
              "75             ????     246     ...     301                         Yala\n",
              "76         ????????     138     ...     225                   Narathiwat\n",
              "\n",
              "[77 rows x 12 columns]"
            ]
          },
          "metadata": {
            "tags": []
          },
          "execution_count": 133
        }
      ]
    },
    {
      "cell_type": "code",
      "metadata": {
        "id": "r70b1PS9TJN_",
        "outputId": "500069a5-d21c-477b-c19c-ff768933e261",
        "colab": {
          "base_uri": "https://localhost:8080/",
          "height": 419
        }
      },
      "source": [
        "caijai = pandas.read_csv(caijai)\n",
        "caijai"
      ],
      "execution_count": 134,
      "outputs": [
        {
          "output_type": "execute_result",
          "data": {
            "text/html": [
              "<div>\n",
              "<style scoped>\n",
              "    .dataframe tbody tr th:only-of-type {\n",
              "        vertical-align: middle;\n",
              "    }\n",
              "\n",
              "    .dataframe tbody tr th {\n",
              "        vertical-align: top;\n",
              "    }\n",
              "\n",
              "    .dataframe thead th {\n",
              "        text-align: right;\n",
              "    }\n",
              "</style>\n",
              "<table border=\"1\" class=\"dataframe\">\n",
              "  <thead>\n",
              "    <tr style=\"text-align: right;\">\n",
              "      <th></th>\n",
              "      <th>City</th>\n",
              "      <th>2553</th>\n",
              "      <th>2554</th>\n",
              "      <th>2555</th>\n",
              "      <th>2556</th>\n",
              "      <th>2557</th>\n",
              "      <th>2558</th>\n",
              "      <th>2559</th>\n",
              "      <th>2560</th>\n",
              "      <th>2561</th>\n",
              "      <th>2562</th>\n",
              "    </tr>\n",
              "  </thead>\n",
              "  <tbody>\n",
              "    <tr>\n",
              "      <th>0</th>\n",
              "      <td>?????????????</td>\n",
              "      <td>29647</td>\n",
              "      <td>29969.2</td>\n",
              "      <td>33956.98</td>\n",
              "      <td>35023.7</td>\n",
              "      <td>34425.64</td>\n",
              "      <td>33085.7</td>\n",
              "      <td>35101.40</td>\n",
              "      <td>35350.70</td>\n",
              "      <td>34127.44</td>\n",
              "      <td>31753.04</td>\n",
              "    </tr>\n",
              "    <tr>\n",
              "      <th>1</th>\n",
              "      <td>???????????</td>\n",
              "      <td>19973</td>\n",
              "      <td>20158.2</td>\n",
              "      <td>25860.88</td>\n",
              "      <td>26192.9</td>\n",
              "      <td>22747.21</td>\n",
              "      <td>22331.8</td>\n",
              "      <td>24353.97</td>\n",
              "      <td>24354.72</td>\n",
              "      <td>23231.71</td>\n",
              "      <td>21423.43</td>\n",
              "    </tr>\n",
              "    <tr>\n",
              "      <th>2</th>\n",
              "      <td>???????</td>\n",
              "      <td>32423</td>\n",
              "      <td>29099.3</td>\n",
              "      <td>28731.23</td>\n",
              "      <td>26946.6</td>\n",
              "      <td>30812.06</td>\n",
              "      <td>31381.0</td>\n",
              "      <td>28828.37</td>\n",
              "      <td>33313.04</td>\n",
              "      <td>33808.98</td>\n",
              "      <td>32189.09</td>\n",
              "    </tr>\n",
              "    <tr>\n",
              "      <th>3</th>\n",
              "      <td>????????</td>\n",
              "      <td>23118</td>\n",
              "      <td>18993.2</td>\n",
              "      <td>30668.81</td>\n",
              "      <td>29514.0</td>\n",
              "      <td>30197.07</td>\n",
              "      <td>29770.0</td>\n",
              "      <td>31271.04</td>\n",
              "      <td>33604.46</td>\n",
              "      <td>43300.51</td>\n",
              "      <td>37086.11</td>\n",
              "    </tr>\n",
              "    <tr>\n",
              "      <th>4</th>\n",
              "      <td>???????????????</td>\n",
              "      <td>18789</td>\n",
              "      <td>17534.3</td>\n",
              "      <td>25215.89</td>\n",
              "      <td>20493.7</td>\n",
              "      <td>20409.63</td>\n",
              "      <td>22218.1</td>\n",
              "      <td>23095.32</td>\n",
              "      <td>23780.19</td>\n",
              "      <td>22790.08</td>\n",
              "      <td>24439.76</td>\n",
              "    </tr>\n",
              "    <tr>\n",
              "      <th>...</th>\n",
              "      <td>...</td>\n",
              "      <td>...</td>\n",
              "      <td>...</td>\n",
              "      <td>...</td>\n",
              "      <td>...</td>\n",
              "      <td>...</td>\n",
              "      <td>...</td>\n",
              "      <td>...</td>\n",
              "      <td>...</td>\n",
              "      <td>...</td>\n",
              "      <td>...</td>\n",
              "    </tr>\n",
              "    <tr>\n",
              "      <th>72</th>\n",
              "      <td>????</td>\n",
              "      <td>18187</td>\n",
              "      <td>22686.6</td>\n",
              "      <td>19617.83</td>\n",
              "      <td>20922.3</td>\n",
              "      <td>17107.10</td>\n",
              "      <td>19794.9</td>\n",
              "      <td>18599.29</td>\n",
              "      <td>18768.44</td>\n",
              "      <td>18648.61</td>\n",
              "      <td>20143.01</td>\n",
              "    </tr>\n",
              "    <tr>\n",
              "      <th>73</th>\n",
              "      <td>??????</td>\n",
              "      <td>17442</td>\n",
              "      <td>18111.6</td>\n",
              "      <td>18404.19</td>\n",
              "      <td>16635.7</td>\n",
              "      <td>18514.03</td>\n",
              "      <td>17143.3</td>\n",
              "      <td>18420.66</td>\n",
              "      <td>16807.88</td>\n",
              "      <td>15947.09</td>\n",
              "      <td>15848.77</td>\n",
              "    </tr>\n",
              "    <tr>\n",
              "      <th>74</th>\n",
              "      <td>???????</td>\n",
              "      <td>11928</td>\n",
              "      <td>14011.7</td>\n",
              "      <td>14119.15</td>\n",
              "      <td>16668.1</td>\n",
              "      <td>14809.34</td>\n",
              "      <td>15341.1</td>\n",
              "      <td>17962.18</td>\n",
              "      <td>16948.61</td>\n",
              "      <td>15705.85</td>\n",
              "      <td>15948.56</td>\n",
              "    </tr>\n",
              "    <tr>\n",
              "      <th>75</th>\n",
              "      <td>????</td>\n",
              "      <td>12576</td>\n",
              "      <td>14776.7</td>\n",
              "      <td>12883.10</td>\n",
              "      <td>12521.7</td>\n",
              "      <td>12370.15</td>\n",
              "      <td>13453.9</td>\n",
              "      <td>14122.15</td>\n",
              "      <td>15483.63</td>\n",
              "      <td>13301.01</td>\n",
              "      <td>13595.63</td>\n",
              "    </tr>\n",
              "    <tr>\n",
              "      <th>76</th>\n",
              "      <td>????????</td>\n",
              "      <td>12162</td>\n",
              "      <td>13901.0</td>\n",
              "      <td>12686.17</td>\n",
              "      <td>13727.8</td>\n",
              "      <td>11985.95</td>\n",
              "      <td>13717.4</td>\n",
              "      <td>13065.80</td>\n",
              "      <td>14980.10</td>\n",
              "      <td>15630.54</td>\n",
              "      <td>14572.65</td>\n",
              "    </tr>\n",
              "  </tbody>\n",
              "</table>\n",
              "<p>77 rows × 11 columns</p>\n",
              "</div>"
            ],
            "text/plain": [
              "               City   2553     2554  ...      2560      2561      2562\n",
              "0     ?????????????  29647  29969.2  ...  35350.70  34127.44  31753.04\n",
              "1       ???????????  19973  20158.2  ...  24354.72  23231.71  21423.43\n",
              "2           ???????  32423  29099.3  ...  33313.04  33808.98  32189.09\n",
              "3          ????????  23118  18993.2  ...  33604.46  43300.51  37086.11\n",
              "4   ???????????????  18789  17534.3  ...  23780.19  22790.08  24439.76\n",
              "..              ...    ...      ...  ...       ...       ...       ...\n",
              "72             ????  18187  22686.6  ...  18768.44  18648.61  20143.01\n",
              "73           ??????  17442  18111.6  ...  16807.88  15947.09  15848.77\n",
              "74          ???????  11928  14011.7  ...  16948.61  15705.85  15948.56\n",
              "75             ????  12576  14776.7  ...  15483.63  13301.01  13595.63\n",
              "76         ????????  12162  13901.0  ...  14980.10  15630.54  14572.65\n",
              "\n",
              "[77 rows x 11 columns]"
            ]
          },
          "metadata": {
            "tags": []
          },
          "execution_count": 134
        }
      ]
    },
    {
      "cell_type": "code",
      "metadata": {
        "id": "-pnQdVDFTzi6",
        "outputId": "fc3afb55-e5c0-4004-ce74-4ed9f7be898d",
        "colab": {
          "base_uri": "https://localhost:8080/",
          "height": 204
        }
      },
      "source": [
        "caijai.head()"
      ],
      "execution_count": 135,
      "outputs": [
        {
          "output_type": "execute_result",
          "data": {
            "text/html": [
              "<div>\n",
              "<style scoped>\n",
              "    .dataframe tbody tr th:only-of-type {\n",
              "        vertical-align: middle;\n",
              "    }\n",
              "\n",
              "    .dataframe tbody tr th {\n",
              "        vertical-align: top;\n",
              "    }\n",
              "\n",
              "    .dataframe thead th {\n",
              "        text-align: right;\n",
              "    }\n",
              "</style>\n",
              "<table border=\"1\" class=\"dataframe\">\n",
              "  <thead>\n",
              "    <tr style=\"text-align: right;\">\n",
              "      <th></th>\n",
              "      <th>City</th>\n",
              "      <th>2553</th>\n",
              "      <th>2554</th>\n",
              "      <th>2555</th>\n",
              "      <th>2556</th>\n",
              "      <th>2557</th>\n",
              "      <th>2558</th>\n",
              "      <th>2559</th>\n",
              "      <th>2560</th>\n",
              "      <th>2561</th>\n",
              "      <th>2562</th>\n",
              "    </tr>\n",
              "  </thead>\n",
              "  <tbody>\n",
              "    <tr>\n",
              "      <th>0</th>\n",
              "      <td>?????????????</td>\n",
              "      <td>29647</td>\n",
              "      <td>29969.2</td>\n",
              "      <td>33956.98</td>\n",
              "      <td>35023.7</td>\n",
              "      <td>34425.64</td>\n",
              "      <td>33085.7</td>\n",
              "      <td>35101.40</td>\n",
              "      <td>35350.70</td>\n",
              "      <td>34127.44</td>\n",
              "      <td>31753.04</td>\n",
              "    </tr>\n",
              "    <tr>\n",
              "      <th>1</th>\n",
              "      <td>???????????</td>\n",
              "      <td>19973</td>\n",
              "      <td>20158.2</td>\n",
              "      <td>25860.88</td>\n",
              "      <td>26192.9</td>\n",
              "      <td>22747.21</td>\n",
              "      <td>22331.8</td>\n",
              "      <td>24353.97</td>\n",
              "      <td>24354.72</td>\n",
              "      <td>23231.71</td>\n",
              "      <td>21423.43</td>\n",
              "    </tr>\n",
              "    <tr>\n",
              "      <th>2</th>\n",
              "      <td>???????</td>\n",
              "      <td>32423</td>\n",
              "      <td>29099.3</td>\n",
              "      <td>28731.23</td>\n",
              "      <td>26946.6</td>\n",
              "      <td>30812.06</td>\n",
              "      <td>31381.0</td>\n",
              "      <td>28828.37</td>\n",
              "      <td>33313.04</td>\n",
              "      <td>33808.98</td>\n",
              "      <td>32189.09</td>\n",
              "    </tr>\n",
              "    <tr>\n",
              "      <th>3</th>\n",
              "      <td>????????</td>\n",
              "      <td>23118</td>\n",
              "      <td>18993.2</td>\n",
              "      <td>30668.81</td>\n",
              "      <td>29514.0</td>\n",
              "      <td>30197.07</td>\n",
              "      <td>29770.0</td>\n",
              "      <td>31271.04</td>\n",
              "      <td>33604.46</td>\n",
              "      <td>43300.51</td>\n",
              "      <td>37086.11</td>\n",
              "    </tr>\n",
              "    <tr>\n",
              "      <th>4</th>\n",
              "      <td>???????????????</td>\n",
              "      <td>18789</td>\n",
              "      <td>17534.3</td>\n",
              "      <td>25215.89</td>\n",
              "      <td>20493.7</td>\n",
              "      <td>20409.63</td>\n",
              "      <td>22218.1</td>\n",
              "      <td>23095.32</td>\n",
              "      <td>23780.19</td>\n",
              "      <td>22790.08</td>\n",
              "      <td>24439.76</td>\n",
              "    </tr>\n",
              "  </tbody>\n",
              "</table>\n",
              "</div>"
            ],
            "text/plain": [
              "              City   2553     2554  ...      2560      2561      2562\n",
              "0    ?????????????  29647  29969.2  ...  35350.70  34127.44  31753.04\n",
              "1      ???????????  19973  20158.2  ...  24354.72  23231.71  21423.43\n",
              "2          ???????  32423  29099.3  ...  33313.04  33808.98  32189.09\n",
              "3         ????????  23118  18993.2  ...  33604.46  43300.51  37086.11\n",
              "4  ???????????????  18789  17534.3  ...  23780.19  22790.08  24439.76\n",
              "\n",
              "[5 rows x 11 columns]"
            ]
          },
          "metadata": {
            "tags": []
          },
          "execution_count": 135
        }
      ]
    },
    {
      "cell_type": "code",
      "metadata": {
        "id": "aGC8CvyTWJJB",
        "outputId": "21858401-b60d-4f39-d9b3-0e72ebe9b1df",
        "colab": {
          "base_uri": "https://localhost:8080/"
        }
      },
      "source": [
        "divorce.shape"
      ],
      "execution_count": 136,
      "outputs": [
        {
          "output_type": "execute_result",
          "data": {
            "text/plain": [
              "(77, 12)"
            ]
          },
          "metadata": {
            "tags": []
          },
          "execution_count": 136
        }
      ]
    },
    {
      "cell_type": "code",
      "metadata": {
        "id": "FXq3LtM4WRdX",
        "outputId": "7393ca99-e5f0-437b-bbd4-321b1210e490",
        "colab": {
          "base_uri": "https://localhost:8080/"
        }
      },
      "source": [
        "caijai.shape"
      ],
      "execution_count": 137,
      "outputs": [
        {
          "output_type": "execute_result",
          "data": {
            "text/plain": [
              "(77, 11)"
            ]
          },
          "metadata": {
            "tags": []
          },
          "execution_count": 137
        }
      ]
    },
    {
      "cell_type": "code",
      "metadata": {
        "id": "51uYmwowWaAQ",
        "outputId": "9b9a42ff-07a9-4938-8dce-36a625f49a42",
        "colab": {
          "base_uri": "https://localhost:8080/"
        }
      },
      "source": [
        "divorce.isnull().any()"
      ],
      "execution_count": 100,
      "outputs": [
        {
          "output_type": "execute_result",
          "data": {
            "text/plain": [
              "???????                False\n",
              "2547                    True\n",
              "2548                    True\n",
              "2549                    True\n",
              "2550                    True\n",
              "2551                    True\n",
              "2552                    True\n",
              "2553                    True\n",
              "2554                   False\n",
              "2555                   False\n",
              "2556                   False\n",
              "Region and province    False\n",
              "dtype: bool"
            ]
          },
          "metadata": {
            "tags": []
          },
          "execution_count": 100
        }
      ]
    },
    {
      "cell_type": "code",
      "metadata": {
        "id": "LaScEbsQZQhs"
      },
      "source": [
        "divorce_nm = divorce.dropna()"
      ],
      "execution_count": 103,
      "outputs": []
    },
    {
      "cell_type": "code",
      "metadata": {
        "id": "tmtcmz7uZk46",
        "outputId": "b4ec8f9e-1cdb-4b71-b6cc-f146e2dca161",
        "colab": {
          "base_uri": "https://localhost:8080/"
        }
      },
      "source": [
        "divorce_nm.isnull().any().any()"
      ],
      "execution_count": 104,
      "outputs": [
        {
          "output_type": "execute_result",
          "data": {
            "text/plain": [
              "False"
            ]
          },
          "metadata": {
            "tags": []
          },
          "execution_count": 104
        }
      ]
    },
    {
      "cell_type": "code",
      "metadata": {
        "id": "bl6771ZPZ4U-",
        "outputId": "409ada4e-fd7f-4eec-b880-e0e9ba22c590",
        "colab": {
          "base_uri": "https://localhost:8080/"
        }
      },
      "source": [
        "print(divorce.shape)\n",
        "print(divorce_nm.shape)"
      ],
      "execution_count": 105,
      "outputs": [
        {
          "output_type": "stream",
          "text": [
            "(76, 12)\n",
            "(76, 12)\n"
          ],
          "name": "stdout"
        }
      ]
    },
    {
      "cell_type": "code",
      "metadata": {
        "id": "WboOjmvraWKv",
        "outputId": "3381b1cc-2fcb-4a3c-d8e9-e4de61008397",
        "colab": {
          "base_uri": "https://localhost:8080/"
        }
      },
      "source": [
        "divorce_nm.isnull().any()"
      ],
      "execution_count": 106,
      "outputs": [
        {
          "output_type": "execute_result",
          "data": {
            "text/plain": [
              "???????                False\n",
              "2547                   False\n",
              "2548                   False\n",
              "2549                   False\n",
              "2550                   False\n",
              "2551                   False\n",
              "2552                   False\n",
              "2553                   False\n",
              "2554                   False\n",
              "2555                   False\n",
              "2556                   False\n",
              "Region and province    False\n",
              "dtype: bool"
            ]
          },
          "metadata": {
            "tags": []
          },
          "execution_count": 106
        }
      ]
    },
    {
      "cell_type": "code",
      "metadata": {
        "id": "2s9XdMBwXnPt",
        "outputId": "61c8174e-4c5a-4791-99ce-89a947e49546",
        "colab": {
          "base_uri": "https://localhost:8080/"
        }
      },
      "source": [
        "caijai.isnull().any()"
      ],
      "execution_count": 101,
      "outputs": [
        {
          "output_type": "execute_result",
          "data": {
            "text/plain": [
              "???????    False\n",
              "2553       False\n",
              "2554       False\n",
              "2555       False\n",
              "2556       False\n",
              "2557       False\n",
              "2558       False\n",
              "2559       False\n",
              "2560       False\n",
              "2561       False\n",
              "2562       False\n",
              "dtype: bool"
            ]
          },
          "metadata": {
            "tags": []
          },
          "execution_count": 101
        }
      ]
    },
    {
      "cell_type": "code",
      "metadata": {
        "id": "gtKUPU6ya-To"
      },
      "source": [
        "merged_table = divorce.merge(caijai,how='left',left_on='class_type',right_on='Class_Number')\n",
        "merged_table"
      ],
      "execution_count": null,
      "outputs": []
    },
    {
      "cell_type": "code",
      "metadata": {
        "id": "lEpjxeiYN1nL",
        "outputId": "0f949f30-ae30-4a1c-a0f0-f34ff7b603e5",
        "colab": {
          "base_uri": "https://localhost:8080/",
          "height": 307
        }
      },
      "source": [
        "divorce=pd.read_csv('divorce.csv',encoding='thai')"
      ],
      "execution_count": 66,
      "outputs": [
        {
          "output_type": "error",
          "ename": "FileNotFoundError",
          "evalue": "ignored",
          "traceback": [
            "\u001b[0;31m---------------------------------------------------------------------------\u001b[0m",
            "\u001b[0;31mFileNotFoundError\u001b[0m                         Traceback (most recent call last)",
            "\u001b[0;32m<ipython-input-66-58339515fc47>\u001b[0m in \u001b[0;36m<module>\u001b[0;34m()\u001b[0m\n\u001b[0;32m----> 1\u001b[0;31m \u001b[0mdivorce\u001b[0m\u001b[0;34m=\u001b[0m\u001b[0mpd\u001b[0m\u001b[0;34m.\u001b[0m\u001b[0mread_csv\u001b[0m\u001b[0;34m(\u001b[0m\u001b[0;34m'divorce.csv'\u001b[0m\u001b[0;34m,\u001b[0m\u001b[0mencoding\u001b[0m\u001b[0;34m=\u001b[0m\u001b[0;34m'thai'\u001b[0m\u001b[0;34m)\u001b[0m\u001b[0;34m\u001b[0m\u001b[0;34m\u001b[0m\u001b[0m\n\u001b[0m",
            "\u001b[0;32m/usr/local/lib/python3.6/dist-packages/pandas/io/parsers.py\u001b[0m in \u001b[0;36mread_csv\u001b[0;34m(filepath_or_buffer, sep, delimiter, header, names, index_col, usecols, squeeze, prefix, mangle_dupe_cols, dtype, engine, converters, true_values, false_values, skipinitialspace, skiprows, skipfooter, nrows, na_values, keep_default_na, na_filter, verbose, skip_blank_lines, parse_dates, infer_datetime_format, keep_date_col, date_parser, dayfirst, cache_dates, iterator, chunksize, compression, thousands, decimal, lineterminator, quotechar, quoting, doublequote, escapechar, comment, encoding, dialect, error_bad_lines, warn_bad_lines, delim_whitespace, low_memory, memory_map, float_precision)\u001b[0m\n\u001b[1;32m    686\u001b[0m     )\n\u001b[1;32m    687\u001b[0m \u001b[0;34m\u001b[0m\u001b[0m\n\u001b[0;32m--> 688\u001b[0;31m     \u001b[0;32mreturn\u001b[0m \u001b[0m_read\u001b[0m\u001b[0;34m(\u001b[0m\u001b[0mfilepath_or_buffer\u001b[0m\u001b[0;34m,\u001b[0m \u001b[0mkwds\u001b[0m\u001b[0;34m)\u001b[0m\u001b[0;34m\u001b[0m\u001b[0;34m\u001b[0m\u001b[0m\n\u001b[0m\u001b[1;32m    689\u001b[0m \u001b[0;34m\u001b[0m\u001b[0m\n\u001b[1;32m    690\u001b[0m \u001b[0;34m\u001b[0m\u001b[0m\n",
            "\u001b[0;32m/usr/local/lib/python3.6/dist-packages/pandas/io/parsers.py\u001b[0m in \u001b[0;36m_read\u001b[0;34m(filepath_or_buffer, kwds)\u001b[0m\n\u001b[1;32m    452\u001b[0m \u001b[0;34m\u001b[0m\u001b[0m\n\u001b[1;32m    453\u001b[0m     \u001b[0;31m# Create the parser.\u001b[0m\u001b[0;34m\u001b[0m\u001b[0;34m\u001b[0m\u001b[0;34m\u001b[0m\u001b[0m\n\u001b[0;32m--> 454\u001b[0;31m     \u001b[0mparser\u001b[0m \u001b[0;34m=\u001b[0m \u001b[0mTextFileReader\u001b[0m\u001b[0;34m(\u001b[0m\u001b[0mfp_or_buf\u001b[0m\u001b[0;34m,\u001b[0m \u001b[0;34m**\u001b[0m\u001b[0mkwds\u001b[0m\u001b[0;34m)\u001b[0m\u001b[0;34m\u001b[0m\u001b[0;34m\u001b[0m\u001b[0m\n\u001b[0m\u001b[1;32m    455\u001b[0m \u001b[0;34m\u001b[0m\u001b[0m\n\u001b[1;32m    456\u001b[0m     \u001b[0;32mif\u001b[0m \u001b[0mchunksize\u001b[0m \u001b[0;32mor\u001b[0m \u001b[0miterator\u001b[0m\u001b[0;34m:\u001b[0m\u001b[0;34m\u001b[0m\u001b[0;34m\u001b[0m\u001b[0m\n",
            "\u001b[0;32m/usr/local/lib/python3.6/dist-packages/pandas/io/parsers.py\u001b[0m in \u001b[0;36m__init__\u001b[0;34m(self, f, engine, **kwds)\u001b[0m\n\u001b[1;32m    946\u001b[0m             \u001b[0mself\u001b[0m\u001b[0;34m.\u001b[0m\u001b[0moptions\u001b[0m\u001b[0;34m[\u001b[0m\u001b[0;34m\"has_index_names\"\u001b[0m\u001b[0;34m]\u001b[0m \u001b[0;34m=\u001b[0m \u001b[0mkwds\u001b[0m\u001b[0;34m[\u001b[0m\u001b[0;34m\"has_index_names\"\u001b[0m\u001b[0;34m]\u001b[0m\u001b[0;34m\u001b[0m\u001b[0;34m\u001b[0m\u001b[0m\n\u001b[1;32m    947\u001b[0m \u001b[0;34m\u001b[0m\u001b[0m\n\u001b[0;32m--> 948\u001b[0;31m         \u001b[0mself\u001b[0m\u001b[0;34m.\u001b[0m\u001b[0m_make_engine\u001b[0m\u001b[0;34m(\u001b[0m\u001b[0mself\u001b[0m\u001b[0;34m.\u001b[0m\u001b[0mengine\u001b[0m\u001b[0;34m)\u001b[0m\u001b[0;34m\u001b[0m\u001b[0;34m\u001b[0m\u001b[0m\n\u001b[0m\u001b[1;32m    949\u001b[0m \u001b[0;34m\u001b[0m\u001b[0m\n\u001b[1;32m    950\u001b[0m     \u001b[0;32mdef\u001b[0m \u001b[0mclose\u001b[0m\u001b[0;34m(\u001b[0m\u001b[0mself\u001b[0m\u001b[0;34m)\u001b[0m\u001b[0;34m:\u001b[0m\u001b[0;34m\u001b[0m\u001b[0;34m\u001b[0m\u001b[0m\n",
            "\u001b[0;32m/usr/local/lib/python3.6/dist-packages/pandas/io/parsers.py\u001b[0m in \u001b[0;36m_make_engine\u001b[0;34m(self, engine)\u001b[0m\n\u001b[1;32m   1178\u001b[0m     \u001b[0;32mdef\u001b[0m \u001b[0m_make_engine\u001b[0m\u001b[0;34m(\u001b[0m\u001b[0mself\u001b[0m\u001b[0;34m,\u001b[0m \u001b[0mengine\u001b[0m\u001b[0;34m=\u001b[0m\u001b[0;34m\"c\"\u001b[0m\u001b[0;34m)\u001b[0m\u001b[0;34m:\u001b[0m\u001b[0;34m\u001b[0m\u001b[0;34m\u001b[0m\u001b[0m\n\u001b[1;32m   1179\u001b[0m         \u001b[0;32mif\u001b[0m \u001b[0mengine\u001b[0m \u001b[0;34m==\u001b[0m \u001b[0;34m\"c\"\u001b[0m\u001b[0;34m:\u001b[0m\u001b[0;34m\u001b[0m\u001b[0;34m\u001b[0m\u001b[0m\n\u001b[0;32m-> 1180\u001b[0;31m             \u001b[0mself\u001b[0m\u001b[0;34m.\u001b[0m\u001b[0m_engine\u001b[0m \u001b[0;34m=\u001b[0m \u001b[0mCParserWrapper\u001b[0m\u001b[0;34m(\u001b[0m\u001b[0mself\u001b[0m\u001b[0;34m.\u001b[0m\u001b[0mf\u001b[0m\u001b[0;34m,\u001b[0m \u001b[0;34m**\u001b[0m\u001b[0mself\u001b[0m\u001b[0;34m.\u001b[0m\u001b[0moptions\u001b[0m\u001b[0;34m)\u001b[0m\u001b[0;34m\u001b[0m\u001b[0;34m\u001b[0m\u001b[0m\n\u001b[0m\u001b[1;32m   1181\u001b[0m         \u001b[0;32melse\u001b[0m\u001b[0;34m:\u001b[0m\u001b[0;34m\u001b[0m\u001b[0;34m\u001b[0m\u001b[0m\n\u001b[1;32m   1182\u001b[0m             \u001b[0;32mif\u001b[0m \u001b[0mengine\u001b[0m \u001b[0;34m==\u001b[0m \u001b[0;34m\"python\"\u001b[0m\u001b[0;34m:\u001b[0m\u001b[0;34m\u001b[0m\u001b[0;34m\u001b[0m\u001b[0m\n",
            "\u001b[0;32m/usr/local/lib/python3.6/dist-packages/pandas/io/parsers.py\u001b[0m in \u001b[0;36m__init__\u001b[0;34m(self, src, **kwds)\u001b[0m\n\u001b[1;32m   1991\u001b[0m         \u001b[0;32mif\u001b[0m \u001b[0mkwds\u001b[0m\u001b[0;34m.\u001b[0m\u001b[0mget\u001b[0m\u001b[0;34m(\u001b[0m\u001b[0;34m\"compression\"\u001b[0m\u001b[0;34m)\u001b[0m \u001b[0;32mis\u001b[0m \u001b[0;32mNone\u001b[0m \u001b[0;32mand\u001b[0m \u001b[0mencoding\u001b[0m\u001b[0;34m:\u001b[0m\u001b[0;34m\u001b[0m\u001b[0;34m\u001b[0m\u001b[0m\n\u001b[1;32m   1992\u001b[0m             \u001b[0;32mif\u001b[0m \u001b[0misinstance\u001b[0m\u001b[0;34m(\u001b[0m\u001b[0msrc\u001b[0m\u001b[0;34m,\u001b[0m \u001b[0mstr\u001b[0m\u001b[0;34m)\u001b[0m\u001b[0;34m:\u001b[0m\u001b[0;34m\u001b[0m\u001b[0;34m\u001b[0m\u001b[0m\n\u001b[0;32m-> 1993\u001b[0;31m                 \u001b[0msrc\u001b[0m \u001b[0;34m=\u001b[0m \u001b[0mopen\u001b[0m\u001b[0;34m(\u001b[0m\u001b[0msrc\u001b[0m\u001b[0;34m,\u001b[0m \u001b[0;34m\"rb\"\u001b[0m\u001b[0;34m)\u001b[0m\u001b[0;34m\u001b[0m\u001b[0;34m\u001b[0m\u001b[0m\n\u001b[0m\u001b[1;32m   1994\u001b[0m                 \u001b[0mself\u001b[0m\u001b[0;34m.\u001b[0m\u001b[0mhandles\u001b[0m\u001b[0;34m.\u001b[0m\u001b[0mappend\u001b[0m\u001b[0;34m(\u001b[0m\u001b[0msrc\u001b[0m\u001b[0;34m)\u001b[0m\u001b[0;34m\u001b[0m\u001b[0;34m\u001b[0m\u001b[0m\n\u001b[1;32m   1995\u001b[0m \u001b[0;34m\u001b[0m\u001b[0m\n",
            "\u001b[0;31mFileNotFoundError\u001b[0m: [Errno 2] No such file or directory: 'divorce.csv'"
          ]
        }
      ]
    },
    {
      "cell_type": "code",
      "metadata": {
        "id": "aacytbjmQe1H",
        "outputId": "be6b37e6-0c54-4191-fabe-0fe630b37685",
        "colab": {
          "base_uri": "https://localhost:8080/",
          "height": 181
        }
      },
      "source": [
        "divorce=pd.read_scv('divorce.scv')\n",
        "divorce"
      ],
      "execution_count": 51,
      "outputs": [
        {
          "output_type": "error",
          "ename": "AttributeError",
          "evalue": "ignored",
          "traceback": [
            "\u001b[0;31m---------------------------------------------------------------------------\u001b[0m",
            "\u001b[0;31mAttributeError\u001b[0m                            Traceback (most recent call last)",
            "\u001b[0;32m<ipython-input-51-90e493382068>\u001b[0m in \u001b[0;36m<module>\u001b[0;34m()\u001b[0m\n\u001b[0;32m----> 1\u001b[0;31m \u001b[0mdivorce\u001b[0m\u001b[0;34m=\u001b[0m\u001b[0mpd\u001b[0m\u001b[0;34m.\u001b[0m\u001b[0mread_scv\u001b[0m\u001b[0;34m(\u001b[0m\u001b[0;34m'divorce.scv'\u001b[0m\u001b[0;34m)\u001b[0m\u001b[0;34m\u001b[0m\u001b[0;34m\u001b[0m\u001b[0m\n\u001b[0m\u001b[1;32m      2\u001b[0m \u001b[0mdivorce\u001b[0m\u001b[0;34m\u001b[0m\u001b[0;34m\u001b[0m\u001b[0m\n",
            "\u001b[0;31mAttributeError\u001b[0m: module 'pandas' has no attribute 'read_scv'"
          ]
        }
      ]
    },
    {
      "cell_type": "code",
      "metadata": {
        "id": "_FAsfZVozxTJ",
        "outputId": "bd33b4b1-804f-4ac5-fd33-ca6784fcc992",
        "colab": {
          "base_uri": "https://localhost:8080/",
          "height": 164
        }
      },
      "source": [
        "divorce.head()"
      ],
      "execution_count": 47,
      "outputs": [
        {
          "output_type": "error",
          "ename": "AttributeError",
          "evalue": "ignored",
          "traceback": [
            "\u001b[0;31m---------------------------------------------------------------------------\u001b[0m",
            "\u001b[0;31mAttributeError\u001b[0m                            Traceback (most recent call last)",
            "\u001b[0;32m<ipython-input-47-d3598d69e59d>\u001b[0m in \u001b[0;36m<module>\u001b[0;34m()\u001b[0m\n\u001b[0;32m----> 1\u001b[0;31m \u001b[0mdivorce\u001b[0m\u001b[0;34m.\u001b[0m\u001b[0mhead\u001b[0m\u001b[0;34m(\u001b[0m\u001b[0;34m)\u001b[0m\u001b[0;34m\u001b[0m\u001b[0;34m\u001b[0m\u001b[0m\n\u001b[0m",
            "\u001b[0;31mAttributeError\u001b[0m: 'str' object has no attribute 'head'"
          ]
        }
      ]
    },
    {
      "cell_type": "code",
      "metadata": {
        "id": "F1K3juX35PL6"
      },
      "source": [
        "w_restaurant_df = pandas.read_csv(w_restaurant)"
      ],
      "execution_count": null,
      "outputs": []
    },
    {
      "cell_type": "code",
      "metadata": {
        "id": "gJMguC3j5T2e",
        "outputId": "a9ce4c98-4788-449c-cdc4-06f1d280d43b",
        "colab": {
          "base_uri": "https://localhost:8080/",
          "height": 309
        }
      },
      "source": [
        "w_restaurant_df.head()"
      ],
      "execution_count": null,
      "outputs": [
        {
          "output_type": "execute_result",
          "data": {
            "text/html": [
              "<div>\n",
              "<style scoped>\n",
              "    .dataframe tbody tr th:only-of-type {\n",
              "        vertical-align: middle;\n",
              "    }\n",
              "\n",
              "    .dataframe tbody tr th {\n",
              "        vertical-align: top;\n",
              "    }\n",
              "\n",
              "    .dataframe thead th {\n",
              "        text-align: right;\n",
              "    }\n",
              "</style>\n",
              "<table border=\"1\" class=\"dataframe\">\n",
              "  <thead>\n",
              "    <tr style=\"text-align: right;\">\n",
              "      <th></th>\n",
              "      <th>Province</th>\n",
              "      <th>2547</th>\n",
              "      <th>2548</th>\n",
              "      <th>2549</th>\n",
              "      <th>2550</th>\n",
              "      <th>2551</th>\n",
              "      <th>2552</th>\n",
              "      <th>2553</th>\n",
              "      <th>2554</th>\n",
              "      <th>2555</th>\n",
              "      <th>2556</th>\n",
              "      <th>Unnamed: 11</th>\n",
              "      <th>Unnamed: 12</th>\n",
              "      <th>Unnamed: 13</th>\n",
              "      <th>Unnamed: 14</th>\n",
              "      <th>Unnamed: 15</th>\n",
              "      <th>Unnamed: 16</th>\n",
              "      <th>Unnamed: 17</th>\n",
              "      <th>Unnamed: 18</th>\n",
              "      <th>Unnamed: 19</th>\n",
              "      <th>Unnamed: 20</th>\n",
              "      <th>Unnamed: 21</th>\n",
              "      <th>Unnamed: 22</th>\n",
              "      <th>Unnamed: 23</th>\n",
              "      <th>Unnamed: 24</th>\n",
              "      <th>Unnamed: 25</th>\n",
              "      <th>Unnamed: 26</th>\n",
              "      <th>Unnamed: 27</th>\n",
              "      <th>Unnamed: 28</th>\n",
              "      <th>Unnamed: 29</th>\n",
              "      <th>Unnamed: 30</th>\n",
              "      <th>Unnamed: 31</th>\n",
              "      <th>Unnamed: 32</th>\n",
              "      <th>Unnamed: 33</th>\n",
              "      <th>Unnamed: 34</th>\n",
              "      <th>Unnamed: 35</th>\n",
              "      <th>Unnamed: 36</th>\n",
              "      <th>Unnamed: 37</th>\n",
              "      <th>Unnamed: 38</th>\n",
              "      <th>Unnamed: 39</th>\n",
              "      <th>Unnamed: 40</th>\n",
              "      <th>Unnamed: 41</th>\n",
              "      <th>Unnamed: 42</th>\n",
              "      <th>Unnamed: 43</th>\n",
              "      <th>Unnamed: 44</th>\n",
              "      <th>Unnamed: 45</th>\n",
              "      <th>Unnamed: 46</th>\n",
              "      <th>Unnamed: 47</th>\n",
              "      <th>Unnamed: 48</th>\n",
              "      <th>Unnamed: 49</th>\n",
              "      <th>Unnamed: 50</th>\n",
              "      <th>Unnamed: 51</th>\n",
              "      <th>Unnamed: 52</th>\n",
              "      <th>Unnamed: 53</th>\n",
              "      <th>Unnamed: 54</th>\n",
              "      <th>Unnamed: 55</th>\n",
              "      <th>Unnamed: 56</th>\n",
              "      <th>Unnamed: 57</th>\n",
              "      <th>Unnamed: 58</th>\n",
              "      <th>Unnamed: 59</th>\n",
              "      <th>Unnamed: 60</th>\n",
              "      <th>Unnamed: 61</th>\n",
              "      <th>Unnamed: 62</th>\n",
              "      <th>Unnamed: 63</th>\n",
              "      <th>Unnamed: 64</th>\n",
              "    </tr>\n",
              "  </thead>\n",
              "  <tbody>\n",
              "    <tr>\n",
              "      <th>0</th>\n",
              "      <td>Bangkok</td>\n",
              "      <td>26,054</td>\n",
              "      <td>26,909</td>\n",
              "      <td>29,589</td>\n",
              "      <td>29,843</td>\n",
              "      <td>36,658</td>\n",
              "      <td>39,020</td>\n",
              "      <td>42,380</td>\n",
              "      <td>48,951</td>\n",
              "      <td>49,191</td>\n",
              "      <td>45,572</td>\n",
              "      <td>NaN</td>\n",
              "      <td>NaN</td>\n",
              "      <td>NaN</td>\n",
              "      <td>NaN</td>\n",
              "      <td>NaN</td>\n",
              "      <td>NaN</td>\n",
              "      <td>NaN</td>\n",
              "      <td>NaN</td>\n",
              "      <td>NaN</td>\n",
              "      <td>NaN</td>\n",
              "      <td>NaN</td>\n",
              "      <td>NaN</td>\n",
              "      <td>NaN</td>\n",
              "      <td>NaN</td>\n",
              "      <td>NaN</td>\n",
              "      <td>NaN</td>\n",
              "      <td>NaN</td>\n",
              "      <td>NaN</td>\n",
              "      <td>NaN</td>\n",
              "      <td>NaN</td>\n",
              "      <td>NaN</td>\n",
              "      <td>NaN</td>\n",
              "      <td>NaN</td>\n",
              "      <td>NaN</td>\n",
              "      <td>NaN</td>\n",
              "      <td>NaN</td>\n",
              "      <td>NaN</td>\n",
              "      <td>NaN</td>\n",
              "      <td>NaN</td>\n",
              "      <td>NaN</td>\n",
              "      <td>NaN</td>\n",
              "      <td>NaN</td>\n",
              "      <td>NaN</td>\n",
              "      <td>NaN</td>\n",
              "      <td>NaN</td>\n",
              "      <td>NaN</td>\n",
              "      <td>NaN</td>\n",
              "      <td>NaN</td>\n",
              "      <td>NaN</td>\n",
              "      <td>NaN</td>\n",
              "      <td>NaN</td>\n",
              "      <td>NaN</td>\n",
              "      <td>NaN</td>\n",
              "      <td>NaN</td>\n",
              "      <td>NaN</td>\n",
              "      <td>NaN</td>\n",
              "      <td>NaN</td>\n",
              "      <td>NaN</td>\n",
              "      <td>NaN</td>\n",
              "      <td>NaN</td>\n",
              "      <td>NaN</td>\n",
              "      <td>NaN</td>\n",
              "      <td>NaN</td>\n",
              "      <td>NaN</td>\n",
              "    </tr>\n",
              "    <tr>\n",
              "      <th>1</th>\n",
              "      <td>Samut Prakan</td>\n",
              "      <td>18,100</td>\n",
              "      <td>15,745</td>\n",
              "      <td>19,680</td>\n",
              "      <td>19,946</td>\n",
              "      <td>20,382</td>\n",
              "      <td>21,302</td>\n",
              "      <td>23,359</td>\n",
              "      <td>23,798</td>\n",
              "      <td>29,575</td>\n",
              "      <td>25,457</td>\n",
              "      <td>NaN</td>\n",
              "      <td>NaN</td>\n",
              "      <td>NaN</td>\n",
              "      <td>NaN</td>\n",
              "      <td>NaN</td>\n",
              "      <td>NaN</td>\n",
              "      <td>NaN</td>\n",
              "      <td>NaN</td>\n",
              "      <td>NaN</td>\n",
              "      <td>NaN</td>\n",
              "      <td>NaN</td>\n",
              "      <td>NaN</td>\n",
              "      <td>NaN</td>\n",
              "      <td>NaN</td>\n",
              "      <td>NaN</td>\n",
              "      <td>NaN</td>\n",
              "      <td>NaN</td>\n",
              "      <td>NaN</td>\n",
              "      <td>NaN</td>\n",
              "      <td>NaN</td>\n",
              "      <td>NaN</td>\n",
              "      <td>NaN</td>\n",
              "      <td>NaN</td>\n",
              "      <td>NaN</td>\n",
              "      <td>NaN</td>\n",
              "      <td>NaN</td>\n",
              "      <td>NaN</td>\n",
              "      <td>NaN</td>\n",
              "      <td>NaN</td>\n",
              "      <td>NaN</td>\n",
              "      <td>NaN</td>\n",
              "      <td>NaN</td>\n",
              "      <td>NaN</td>\n",
              "      <td>NaN</td>\n",
              "      <td>NaN</td>\n",
              "      <td>NaN</td>\n",
              "      <td>NaN</td>\n",
              "      <td>NaN</td>\n",
              "      <td>NaN</td>\n",
              "      <td>NaN</td>\n",
              "      <td>NaN</td>\n",
              "      <td>NaN</td>\n",
              "      <td>NaN</td>\n",
              "      <td>NaN</td>\n",
              "      <td>NaN</td>\n",
              "      <td>NaN</td>\n",
              "      <td>NaN</td>\n",
              "      <td>NaN</td>\n",
              "      <td>NaN</td>\n",
              "      <td>NaN</td>\n",
              "      <td>NaN</td>\n",
              "      <td>NaN</td>\n",
              "      <td>NaN</td>\n",
              "      <td>NaN</td>\n",
              "    </tr>\n",
              "    <tr>\n",
              "      <th>2</th>\n",
              "      <td>Nonthaburi</td>\n",
              "      <td>24,211</td>\n",
              "      <td>24,566</td>\n",
              "      <td>29,119</td>\n",
              "      <td>26,658</td>\n",
              "      <td>31,152</td>\n",
              "      <td>32,743</td>\n",
              "      <td>34,626</td>\n",
              "      <td>35,120</td>\n",
              "      <td>30,664</td>\n",
              "      <td>36,884</td>\n",
              "      <td>NaN</td>\n",
              "      <td>NaN</td>\n",
              "      <td>NaN</td>\n",
              "      <td>NaN</td>\n",
              "      <td>NaN</td>\n",
              "      <td>NaN</td>\n",
              "      <td>NaN</td>\n",
              "      <td>NaN</td>\n",
              "      <td>NaN</td>\n",
              "      <td>NaN</td>\n",
              "      <td>NaN</td>\n",
              "      <td>NaN</td>\n",
              "      <td>NaN</td>\n",
              "      <td>NaN</td>\n",
              "      <td>NaN</td>\n",
              "      <td>NaN</td>\n",
              "      <td>NaN</td>\n",
              "      <td>NaN</td>\n",
              "      <td>NaN</td>\n",
              "      <td>NaN</td>\n",
              "      <td>NaN</td>\n",
              "      <td>NaN</td>\n",
              "      <td>NaN</td>\n",
              "      <td>NaN</td>\n",
              "      <td>NaN</td>\n",
              "      <td>NaN</td>\n",
              "      <td>NaN</td>\n",
              "      <td>NaN</td>\n",
              "      <td>NaN</td>\n",
              "      <td>NaN</td>\n",
              "      <td>NaN</td>\n",
              "      <td>NaN</td>\n",
              "      <td>NaN</td>\n",
              "      <td>NaN</td>\n",
              "      <td>NaN</td>\n",
              "      <td>NaN</td>\n",
              "      <td>NaN</td>\n",
              "      <td>NaN</td>\n",
              "      <td>NaN</td>\n",
              "      <td>NaN</td>\n",
              "      <td>NaN</td>\n",
              "      <td>NaN</td>\n",
              "      <td>NaN</td>\n",
              "      <td>NaN</td>\n",
              "      <td>NaN</td>\n",
              "      <td>NaN</td>\n",
              "      <td>NaN</td>\n",
              "      <td>NaN</td>\n",
              "      <td>NaN</td>\n",
              "      <td>NaN</td>\n",
              "      <td>NaN</td>\n",
              "      <td>NaN</td>\n",
              "      <td>NaN</td>\n",
              "      <td>NaN</td>\n",
              "    </tr>\n",
              "    <tr>\n",
              "      <th>3</th>\n",
              "      <td>Pathum Thani</td>\n",
              "      <td>21,793</td>\n",
              "      <td>19,282</td>\n",
              "      <td>22,838</td>\n",
              "      <td>21,530</td>\n",
              "      <td>25,143</td>\n",
              "      <td>26,107</td>\n",
              "      <td>26,686</td>\n",
              "      <td>21,616</td>\n",
              "      <td>33,461</td>\n",
              "      <td>41,057</td>\n",
              "      <td>NaN</td>\n",
              "      <td>NaN</td>\n",
              "      <td>NaN</td>\n",
              "      <td>NaN</td>\n",
              "      <td>NaN</td>\n",
              "      <td>NaN</td>\n",
              "      <td>NaN</td>\n",
              "      <td>NaN</td>\n",
              "      <td>NaN</td>\n",
              "      <td>NaN</td>\n",
              "      <td>NaN</td>\n",
              "      <td>NaN</td>\n",
              "      <td>NaN</td>\n",
              "      <td>NaN</td>\n",
              "      <td>NaN</td>\n",
              "      <td>NaN</td>\n",
              "      <td>NaN</td>\n",
              "      <td>NaN</td>\n",
              "      <td>NaN</td>\n",
              "      <td>NaN</td>\n",
              "      <td>NaN</td>\n",
              "      <td>NaN</td>\n",
              "      <td>NaN</td>\n",
              "      <td>NaN</td>\n",
              "      <td>NaN</td>\n",
              "      <td>NaN</td>\n",
              "      <td>NaN</td>\n",
              "      <td>NaN</td>\n",
              "      <td>NaN</td>\n",
              "      <td>NaN</td>\n",
              "      <td>NaN</td>\n",
              "      <td>NaN</td>\n",
              "      <td>NaN</td>\n",
              "      <td>NaN</td>\n",
              "      <td>NaN</td>\n",
              "      <td>NaN</td>\n",
              "      <td>NaN</td>\n",
              "      <td>NaN</td>\n",
              "      <td>NaN</td>\n",
              "      <td>NaN</td>\n",
              "      <td>NaN</td>\n",
              "      <td>NaN</td>\n",
              "      <td>NaN</td>\n",
              "      <td>NaN</td>\n",
              "      <td>NaN</td>\n",
              "      <td>NaN</td>\n",
              "      <td>NaN</td>\n",
              "      <td>NaN</td>\n",
              "      <td>NaN</td>\n",
              "      <td>NaN</td>\n",
              "      <td>NaN</td>\n",
              "      <td>NaN</td>\n",
              "      <td>NaN</td>\n",
              "      <td>NaN</td>\n",
              "    </tr>\n",
              "    <tr>\n",
              "      <th>4</th>\n",
              "      <td>Phra Nakhon Si Ayutthaya</td>\n",
              "      <td>12,918</td>\n",
              "      <td>14,904</td>\n",
              "      <td>13,319</td>\n",
              "      <td>14,980</td>\n",
              "      <td>19,676</td>\n",
              "      <td>21,676</td>\n",
              "      <td>25,820</td>\n",
              "      <td>22,302</td>\n",
              "      <td>26,482</td>\n",
              "      <td>28,379</td>\n",
              "      <td>NaN</td>\n",
              "      <td>NaN</td>\n",
              "      <td>NaN</td>\n",
              "      <td>NaN</td>\n",
              "      <td>NaN</td>\n",
              "      <td>NaN</td>\n",
              "      <td>NaN</td>\n",
              "      <td>NaN</td>\n",
              "      <td>NaN</td>\n",
              "      <td>NaN</td>\n",
              "      <td>NaN</td>\n",
              "      <td>NaN</td>\n",
              "      <td>NaN</td>\n",
              "      <td>NaN</td>\n",
              "      <td>NaN</td>\n",
              "      <td>NaN</td>\n",
              "      <td>NaN</td>\n",
              "      <td>NaN</td>\n",
              "      <td>NaN</td>\n",
              "      <td>NaN</td>\n",
              "      <td>NaN</td>\n",
              "      <td>NaN</td>\n",
              "      <td>NaN</td>\n",
              "      <td>NaN</td>\n",
              "      <td>NaN</td>\n",
              "      <td>NaN</td>\n",
              "      <td>NaN</td>\n",
              "      <td>NaN</td>\n",
              "      <td>NaN</td>\n",
              "      <td>NaN</td>\n",
              "      <td>NaN</td>\n",
              "      <td>NaN</td>\n",
              "      <td>NaN</td>\n",
              "      <td>NaN</td>\n",
              "      <td>NaN</td>\n",
              "      <td>NaN</td>\n",
              "      <td>NaN</td>\n",
              "      <td>NaN</td>\n",
              "      <td>NaN</td>\n",
              "      <td>NaN</td>\n",
              "      <td>NaN</td>\n",
              "      <td>NaN</td>\n",
              "      <td>NaN</td>\n",
              "      <td>NaN</td>\n",
              "      <td>NaN</td>\n",
              "      <td>NaN</td>\n",
              "      <td>NaN</td>\n",
              "      <td>NaN</td>\n",
              "      <td>NaN</td>\n",
              "      <td>NaN</td>\n",
              "      <td>NaN</td>\n",
              "      <td>NaN</td>\n",
              "      <td>NaN</td>\n",
              "      <td>NaN</td>\n",
              "    </tr>\n",
              "  </tbody>\n",
              "</table>\n",
              "</div>"
            ],
            "text/plain": [
              "                         Province      2547  ... Unnamed: 63 Unnamed: 64\n",
              "0                        Bangkok    26,054   ...         NaN         NaN\n",
              "1                   Samut Prakan    18,100   ...         NaN         NaN\n",
              "2                     Nonthaburi    24,211   ...         NaN         NaN\n",
              "3                   Pathum Thani    21,793   ...         NaN         NaN\n",
              "4       Phra Nakhon Si Ayutthaya    12,918   ...         NaN         NaN\n",
              "\n",
              "[5 rows x 65 columns]"
            ]
          },
          "metadata": {
            "tags": []
          },
          "execution_count": 66
        }
      ]
    }
  ]
}