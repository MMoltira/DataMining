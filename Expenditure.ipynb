{
  "nbformat": 4,
  "nbformat_minor": 0,
  "metadata": {
    "colab": {
      "name": "Expenditure.ipynb",
      "provenance": [],
      "authorship_tag": "ABX9TyPqc2Q4CWk6b49t4rCMc+zv",
      "include_colab_link": true
    },
    "kernelspec": {
      "name": "python3",
      "display_name": "Python 3"
    }
  },
  "cells": [
    {
      "cell_type": "markdown",
      "metadata": {
        "id": "view-in-github",
        "colab_type": "text"
      },
      "source": [
        "<a href=\"https://colab.research.google.com/github/MMoltira/DataMining/blob/master/Expenditure.ipynb\" target=\"_parent\"><img src=\"https://colab.research.google.com/assets/colab-badge.svg\" alt=\"Open In Colab\"/></a>"
      ]
    },
    {
      "cell_type": "code",
      "metadata": {
        "colab": {
          "base_uri": "https://localhost:8080/"
        },
        "id": "iWTW3X9zhaUj",
        "outputId": "eb360fe7-f88c-44fb-8e1a-0696b7b5f15e"
      },
      "source": [
        "from google.colab import drive #เอาข้อมูลเข้า\n",
        "drive.mount('/content/drive')"
      ],
      "execution_count": null,
      "outputs": [
        {
          "output_type": "stream",
          "text": [
            "Drive already mounted at /content/drive; to attempt to forcibly remount, call drive.mount(\"/content/drive\", force_remount=True).\n"
          ],
          "name": "stdout"
        }
      ]
    },
    {
      "cell_type": "code",
      "metadata": {
        "id": "GpD-X0l7hq1i"
      },
      "source": [
        "path = '/content/drive/My Drive/DWDM_material'"
      ],
      "execution_count": null,
      "outputs": []
    },
    {
      "cell_type": "code",
      "metadata": {
        "id": "w7PHSOxPh26A"
      },
      "source": [
        "import os \n",
        "import pandas as pd\n",
        "import numpy as np\n",
        "import matplotlib.pyplot as plt"
      ],
      "execution_count": null,
      "outputs": []
    },
    {
      "cell_type": "code",
      "metadata": {
        "id": "vK_7bu01z_-G"
      },
      "source": [
        ""
      ],
      "execution_count": null,
      "outputs": []
    },
    {
      "cell_type": "code",
      "metadata": {
        "id": "3w8LrHBYMmW3"
      },
      "source": [
        "avg_Expenditure_1 = os.path.join(path,'avg_Expenditure_1.csv')"
      ],
      "execution_count": null,
      "outputs": []
    },
    {
      "cell_type": "code",
      "metadata": {
        "colab": {
          "base_uri": "https://localhost:8080/",
          "height": 419
        },
        "id": "qgYF8P-rMmW3",
        "outputId": "882ee354-eb37-4e94-ad1f-6b119c3a6f07"
      },
      "source": [
        "avg_Expenditure_1 = pd.read_csv(avg_Expenditure_1)\n",
        "avg_Expenditure_1"
      ],
      "execution_count": null,
      "outputs": [
        {
          "output_type": "execute_result",
          "data": {
            "text/html": [
              "<div>\n",
              "<style scoped>\n",
              "    .dataframe tbody tr th:only-of-type {\n",
              "        vertical-align: middle;\n",
              "    }\n",
              "\n",
              "    .dataframe tbody tr th {\n",
              "        vertical-align: top;\n",
              "    }\n",
              "\n",
              "    .dataframe thead th {\n",
              "        text-align: right;\n",
              "    }\n",
              "</style>\n",
              "<table border=\"1\" class=\"dataframe\">\n",
              "  <thead>\n",
              "    <tr style=\"text-align: right;\">\n",
              "      <th></th>\n",
              "      <th>จังหวัด</th>\n",
              "      <th>avg_expenditure</th>\n",
              "    </tr>\n",
              "  </thead>\n",
              "  <tbody>\n",
              "    <tr>\n",
              "      <th>0</th>\n",
              "      <td>กรุงเทพมหานคร 53</td>\n",
              "      <td>30334.0</td>\n",
              "    </tr>\n",
              "    <tr>\n",
              "      <th>1</th>\n",
              "      <td>สมุทรปราการ 53</td>\n",
              "      <td>18450.0</td>\n",
              "    </tr>\n",
              "    <tr>\n",
              "      <th>2</th>\n",
              "      <td>นนทบุรี 53</td>\n",
              "      <td>29487.0</td>\n",
              "    </tr>\n",
              "    <tr>\n",
              "      <th>3</th>\n",
              "      <td>ปทุมธานี 53</td>\n",
              "      <td>22460.0</td>\n",
              "    </tr>\n",
              "    <tr>\n",
              "      <th>4</th>\n",
              "      <td>พระนครศรีอยุธยา 53</td>\n",
              "      <td>20717.0</td>\n",
              "    </tr>\n",
              "    <tr>\n",
              "      <th>...</th>\n",
              "      <td>...</td>\n",
              "      <td>...</td>\n",
              "    </tr>\n",
              "    <tr>\n",
              "      <th>226</th>\n",
              "      <td>ตรัง 55</td>\n",
              "      <td>20922.3</td>\n",
              "    </tr>\n",
              "    <tr>\n",
              "      <th>227</th>\n",
              "      <td>พัทลุง 55</td>\n",
              "      <td>16635.7</td>\n",
              "    </tr>\n",
              "    <tr>\n",
              "      <th>228</th>\n",
              "      <td>ปัตตานี 55</td>\n",
              "      <td>16668.1</td>\n",
              "    </tr>\n",
              "    <tr>\n",
              "      <th>229</th>\n",
              "      <td>ยะลา 55</td>\n",
              "      <td>12521.7</td>\n",
              "    </tr>\n",
              "    <tr>\n",
              "      <th>230</th>\n",
              "      <td>นราธิวาส 55</td>\n",
              "      <td>13727.8</td>\n",
              "    </tr>\n",
              "  </tbody>\n",
              "</table>\n",
              "<p>231 rows × 2 columns</p>\n",
              "</div>"
            ],
            "text/plain": [
              "                จังหวัด  avg_expenditure\n",
              "0      กรุงเทพมหานคร 53          30334.0\n",
              "1        สมุทรปราการ 53          18450.0\n",
              "2            นนทบุรี 53          29487.0\n",
              "3           ปทุมธานี 53          22460.0\n",
              "4    พระนครศรีอยุธยา 53          20717.0\n",
              "..                  ...              ...\n",
              "226             ตรัง 55          20922.3\n",
              "227           พัทลุง 55          16635.7\n",
              "228          ปัตตานี 55          16668.1\n",
              "229             ยะลา 55          12521.7\n",
              "230         นราธิวาส 55          13727.8\n",
              "\n",
              "[231 rows x 2 columns]"
            ]
          },
          "metadata": {
            "tags": []
          },
          "execution_count": 103
        }
      ]
    },
    {
      "cell_type": "code",
      "metadata": {
        "colab": {
          "base_uri": "https://localhost:8080/"
        },
        "id": "dLjqk70qMmW3",
        "outputId": "5d1c49f6-b8ef-46ad-e6d2-b68b19b4aff3"
      },
      "source": [
        "avg_Expenditure_1.shape"
      ],
      "execution_count": null,
      "outputs": [
        {
          "output_type": "execute_result",
          "data": {
            "text/plain": [
              "(231, 2)"
            ]
          },
          "metadata": {
            "tags": []
          },
          "execution_count": 104
        }
      ]
    },
    {
      "cell_type": "code",
      "metadata": {
        "colab": {
          "base_uri": "https://localhost:8080/"
        },
        "id": "Orx3aJA8MmW3",
        "outputId": "c6a3cded-f517-423a-fe16-d99cb22b3084"
      },
      "source": [
        "avg_Expenditure_1.isnull().any()"
      ],
      "execution_count": null,
      "outputs": [
        {
          "output_type": "execute_result",
          "data": {
            "text/plain": [
              "จังหวัด            False\n",
              "avg_expenditure     True\n",
              "dtype: bool"
            ]
          },
          "metadata": {
            "tags": []
          },
          "execution_count": 105
        }
      ]
    },
    {
      "cell_type": "code",
      "metadata": {
        "id": "Gc31L-etMmW3"
      },
      "source": [
        "avg_Expenditure_1[['avg_expenditure']] = avg_Expenditure_1[['avg_expenditure']].fillna(0) "
      ],
      "execution_count": null,
      "outputs": []
    },
    {
      "cell_type": "code",
      "metadata": {
        "colab": {
          "base_uri": "https://localhost:8080/"
        },
        "id": "hfnWt3jLMmW4",
        "outputId": "65ffe739-acbd-4821-a78c-ac68ca2feea8"
      },
      "source": [
        "avg_Expenditure_1.isnull().any()"
      ],
      "execution_count": null,
      "outputs": [
        {
          "output_type": "execute_result",
          "data": {
            "text/plain": [
              "จังหวัด            False\n",
              "avg_expenditure    False\n",
              "dtype: bool"
            ]
          },
          "metadata": {
            "tags": []
          },
          "execution_count": 107
        }
      ]
    },
    {
      "cell_type": "code",
      "metadata": {
        "id": "H6pFHW5KMmW5"
      },
      "source": [
        "from sklearn.cluster import KMeans"
      ],
      "execution_count": null,
      "outputs": []
    },
    {
      "cell_type": "code",
      "metadata": {
        "id": "RzPKmnCTMmW5"
      },
      "source": [
        "Xe = avg_Expenditure_1[['avg_expenditure']] #Xi ตัวแปรของค่าใช้จ่าย"
      ],
      "execution_count": null,
      "outputs": []
    },
    {
      "cell_type": "code",
      "metadata": {
        "id": "87XFRQx5MmW5"
      },
      "source": [
        "from sklearn.datasets import make_blobs"
      ],
      "execution_count": null,
      "outputs": []
    },
    {
      "cell_type": "code",
      "metadata": {
        "id": "pVuV7RmMMmW5"
      },
      "source": [
        "Xe,y=make_blobs(n_samples=231, centers=4, n_features=2, random_state=6)"
      ],
      "execution_count": null,
      "outputs": []
    },
    {
      "cell_type": "code",
      "metadata": {
        "colab": {
          "base_uri": "https://localhost:8080/"
        },
        "id": "z0DwPbqAMmW5",
        "outputId": "61cd8631-7052-466a-dd9f-02374294ee7d"
      },
      "source": [
        "Xe.shape "
      ],
      "execution_count": null,
      "outputs": [
        {
          "output_type": "execute_result",
          "data": {
            "text/plain": [
              "(231, 2)"
            ]
          },
          "metadata": {
            "tags": []
          },
          "execution_count": 112
        }
      ]
    },
    {
      "cell_type": "code",
      "metadata": {
        "colab": {
          "base_uri": "https://localhost:8080/",
          "height": 282
        },
        "id": "ln7UudGyMmW5",
        "outputId": "7c8f40bb-7696-477e-8052-91f5cd74e3e1"
      },
      "source": [
        "from matplotlib import pyplot as plt\n",
        "plt.scatter(Xe[:,0],Xi[:,1]) #จะแบ่งเป็น 3 กลุ่ม ตาม centers=3"
      ],
      "execution_count": null,
      "outputs": [
        {
          "output_type": "execute_result",
          "data": {
            "text/plain": [
              "<matplotlib.collections.PathCollection at 0x7f087f057278>"
            ]
          },
          "metadata": {
            "tags": []
          },
          "execution_count": 113
        },
        {
          "output_type": "display_data",
          "data": {
            "image/png": "[encoded data removed]",
            "text/plain": [
              "<Figure size 432x288 with 1 Axes>"
            ]
          },
          "metadata": {
            "tags": [],
            "image/png": {
              "width": 386,
              "height": 248
            },
            "needs_background": "light"
          }
        }
      ]
    },
    {
      "cell_type": "code",
      "metadata": {
        "id": "micbSUfjMmW5"
      },
      "source": [
        "from sklearn.cluster import KMeans"
      ],
      "execution_count": null,
      "outputs": []
    },
    {
      "cell_type": "code",
      "metadata": {
        "id": "I-F8LsNAMmW5"
      },
      "source": [
        "KMclust=KMeans(n_clusters=2) # n_clusters=2 การกำหนดตัวแบ่งว่าจะแบ่งให้มีกลุ่ม 2 กลุ่ม"
      ],
      "execution_count": null,
      "outputs": []
    },
    {
      "cell_type": "code",
      "metadata": {
        "colab": {
          "base_uri": "https://localhost:8080/"
        },
        "id": "mC1jeiDTMmW5",
        "outputId": "cadd7687-7562-4508-999c-8503570b4a4f"
      },
      "source": [
        "KMclust.fit(Xe)"
      ],
      "execution_count": null,
      "outputs": [
        {
          "output_type": "execute_result",
          "data": {
            "text/plain": [
              "KMeans(algorithm='auto', copy_x=True, init='k-means++', max_iter=300,\n",
              "       n_clusters=2, n_init=10, n_jobs=None, precompute_distances='auto',\n",
              "       random_state=None, tol=0.0001, verbose=0)"
            ]
          },
          "metadata": {
            "tags": []
          },
          "execution_count": 116
        }
      ]
    },
    {
      "cell_type": "code",
      "metadata": {
        "id": "gP5iYF7mMmW6"
      },
      "source": [
        "label=KMclust.predict(Xi) # predict ว่าอยู่ในกลุ่มไหน"
      ],
      "execution_count": null,
      "outputs": []
    },
    {
      "cell_type": "code",
      "metadata": {
        "colab": {
          "base_uri": "https://localhost:8080/",
          "height": 282
        },
        "id": "PiZy8aBFMmW6",
        "outputId": "9cf17fae-f475-48aa-cc2e-35113dc483a1"
      },
      "source": [
        "plt.scatter(Xe[:,0], Xi[:,1], c=label) # เปลี่ยนสีให้เป็นไปตาม label ของเราโดยการสุ่ม"
      ],
      "execution_count": null,
      "outputs": [
        {
          "output_type": "execute_result",
          "data": {
            "text/plain": [
              "<matplotlib.collections.PathCollection at 0x7f087eb67400>"
            ]
          },
          "metadata": {
            "tags": []
          },
          "execution_count": 118
        },
        {
          "output_type": "display_data",
          "data": {
            "image/png": "[encoded data removed]",
            "text/plain": [
              "<Figure size 432x288 with 1 Axes>"
            ]
          },
          "metadata": {
            "tags": [],
            "image/png": {
              "width": 386,
              "height": 248
            },
            "needs_background": "light"
          }
        }
      ]
    },
    {
      "cell_type": "code",
      "metadata": {
        "id": "GiXnV8hZszEq"
      },
      "source": [
        "n_krachuke = 2 # จำนวนกระจุก\n",
        "n_thamsame = 100 # จำนวนทำซ้ำสูงสุด\n",
        "tol = 0.0001 # ค่าความเปลี่ยนแปลงสูงสุดที่ยอมให้หยุดได้\n",
        "sumlueake = np.random.choice(len(Xe),n_krachuke,replace=0)\n",
        "X_cene = Xe[sumlueake] # จุดเซนทรอยด์ตั้งต้น เลือกแบบสุ่ม\n",
        "# วนซ้ำเพื่อปรับเซนทรอยด์\n",
        "for i in range(n_thamsame):\n",
        "    raya2e = ((X_cene[None]-Xe[:,None])**2).sum(2) # วัดระยะห่างจากจุดถึงเซนทรอยด์\n",
        "    klume = raya2e.argmin(1) # ตัดสินกลุ่มของจุดโดยเลือกเซนทรอยด์ที่ใกล้สุด\n",
        "    X_cen_maie = np.empty_like(X_cene) # จุดเซนทรอยด์ใหม่\n",
        "    # วนซ้ำเพื่อหาตำแหน่งเซนทรอยด์ใหม่\n",
        "    for j in range(n_krachuke):\n",
        "        if(len(Xe[klume==j])): # ถ้ามีสมาชิกในกลุ่ม\n",
        "            X_cen_maie[j] = Xe[klume==j].mean(0) # กำหนดเซนทรอยด์ใหม่เป็นตำแหน่งเฉลี่ยของทุกจุดในกลุ่ม\n",
        "        else: # ถ้าในกลุ่มว่างเปล่าก็ให้สุ่มเซนทรอยด์ใหม่\n",
        "            X_cen_maie[j] = Xe[np.random.randint(len(Xe))]\n",
        "    if(np.allclose(X_cene,X_cen_maie,atol=tol)): # ถ้าความเปลี่ยนแปลงน้อยกว่าค่าที่กำหนดก็ให้หยุด\n",
        "        X_cene = X_cen_maie\n",
        "        break\n",
        "    X_cene = X_cen_maie # ย้ายจุดเซนทรอยด์ไปยังตำแหน่งใหม่"
      ],
      "execution_count": null,
      "outputs": []
    },
    {
      "cell_type": "code",
      "metadata": {
        "colab": {
          "base_uri": "https://localhost:8080/",
          "height": 294
        },
        "id": "gxZ9w3WjszEq",
        "outputId": "79b27fe4-ca0b-4ff0-a52d-fc1280c3c790"
      },
      "source": [
        "raya2e = ((X_cene[None]-Xe[:,None])**2).sum(2)\n",
        "ze = raya2e.argmin(1)\n",
        "plt.gca(aspect=1)\n",
        "plt.scatter(Xe[:,0],Xe[:,1],c=ze,edgecolor='k',cmap='rainbow')\n",
        "plt.scatter(X_cene[:,0],X_cene[:,1],300,'#EEAA55',marker='*',edgecolor='#9999DD',lw=2, label = 'Centroids')\n",
        "plt.scatter(Xe[0,0], Xe[0,1], c = 'red', label = 'Cluster 0')\n",
        "plt.scatter(Xe[1,0], Xe[1,1], c = 'blue', label = 'Cluster 1')\n",
        "plt.title('Clusters of Expenditure')\n",
        "plt.xlabel('Expenditure Score')\n",
        "plt.legend()\n",
        "plt.show()"
      ],
      "execution_count": null,
      "outputs": [
        {
          "output_type": "display_data",
          "data": {
            "image/png": "[encoded data removed]",
            "text/plain": [
              "<Figure size 432x288 with 1 Axes>"
            ]
          },
          "metadata": {
            "tags": [],
            "image/png": {
              "width": 317,
              "height": 277
            },
            "needs_background": "light"
          }
        }
      ]
    },
    {
      "cell_type": "code",
      "metadata": {
        "colab": {
          "base_uri": "https://localhost:8080/"
        },
        "id": "uRzjzWo6szEr",
        "outputId": "354622db-dfa3-4897-9db0-59825b8585c6"
      },
      "source": [
        "ssee = 0\n",
        "for i in range(n_krachuke):\n",
        "    ssee += np.sum(raya2e[ze==i,i])\n",
        "print(ssee)"
      ],
      "execution_count": null,
      "outputs": [
        {
          "output_type": "stream",
          "text": [
            "3827.936922165727\n"
          ],
          "name": "stdout"
        }
      ]
    },
    {
      "cell_type": "code",
      "metadata": {
        "colab": {
          "base_uri": "https://localhost:8080/"
        },
        "id": "s4EaLp7YMmW6",
        "outputId": "704d8c7e-e8fc-48a2-974f-bc5ce976bc1d"
      },
      "source": [
        "KMclust.cluster_centers_"
      ],
      "execution_count": null,
      "outputs": [
        {
          "output_type": "execute_result",
          "data": {
            "text/plain": [
              "array([[ 6.75152364, -5.91936113],\n",
              "       [-4.12560165,  0.37783701]])"
            ]
          },
          "metadata": {
            "tags": []
          },
          "execution_count": 119
        }
      ]
    },
    {
      "cell_type": "code",
      "metadata": {
        "colab": {
          "base_uri": "https://localhost:8080/"
        },
        "id": "vsotSE_lMmW6",
        "outputId": "c05952cf-4f38-435f-b60d-1f09bc5754af"
      },
      "source": [
        "KMclust.transform(Xe) # the distance between each point and centroid"
      ],
      "execution_count": null,
      "outputs": [
        {
          "output_type": "execute_result",
          "data": {
            "text/plain": [
              "array([[ 8.49095676,  4.31770556],\n",
              "       [ 4.97360404,  7.63892636],\n",
              "       [ 3.91671774, 12.62594023],\n",
              "       [17.90170884,  5.5094632 ],\n",
              "       [ 4.6527848 , 15.77802464],\n",
              "       [ 2.96883283, 14.71336771],\n",
              "       [ 9.19817054,  3.69458891],\n",
              "       [ 1.49391986, 12.03312064],\n",
              "       [ 2.38708757, 14.60823379],\n",
              "       [ 2.34635993, 13.15386759],\n",
              "       [ 3.86154095, 12.82029252],\n",
              "       [ 6.12395059,  6.44688194],\n",
              "       [ 2.68986547, 12.54525894],\n",
              "       [ 7.44873202,  5.14272332],\n",
              "       [ 2.27742269, 13.07926073],\n",
              "       [ 9.32271204,  3.25016402],\n",
              "       [ 1.54118436, 12.90915607],\n",
              "       [ 6.48822855,  6.10430737],\n",
              "       [ 5.92482191,  7.0969365 ],\n",
              "       [16.62813951,  4.29586678],\n",
              "       [16.90455017,  4.33607622],\n",
              "       [ 3.73372196, 15.03105507],\n",
              "       [ 6.55282137,  6.01828981],\n",
              "       [15.39899388,  2.94756218],\n",
              "       [14.66280001,  2.11439537],\n",
              "       [ 3.5280767 , 14.86276077],\n",
              "       [ 2.40808921, 13.09134814],\n",
              "       [ 4.84740601, 11.32431572],\n",
              "       [ 3.39947272, 11.81511832],\n",
              "       [15.83425865,  3.2848039 ],\n",
              "       [ 1.87284357, 12.25690323],\n",
              "       [15.49732189,  2.93367623],\n",
              "       [17.27952768,  4.7887796 ],\n",
              "       [ 7.48084895,  5.14777538],\n",
              "       [ 8.01877423,  4.55243659],\n",
              "       [ 2.50295031, 12.79445489],\n",
              "       [ 3.04419115, 12.07880497],\n",
              "       [ 8.39977778,  4.17209523],\n",
              "       [ 1.9591509 , 13.13914493],\n",
              "       [ 8.06755612,  4.57547435],\n",
              "       [ 6.10715454,  6.59888489],\n",
              "       [ 3.83477579, 14.57060423],\n",
              "       [ 3.87394917, 11.91231851],\n",
              "       [ 3.61162575, 13.58569453],\n",
              "       [ 2.37435546, 13.71805374],\n",
              "       [ 7.31432763,  5.89787721],\n",
              "       [ 6.60621245,  6.85961587],\n",
              "       [16.20611615,  3.70059841],\n",
              "       [ 2.88039437, 13.97836836],\n",
              "       [ 9.5200439 ,  3.04877617],\n",
              "       [15.63854088,  3.51556971],\n",
              "       [16.66585421,  4.11948658],\n",
              "       [16.81838664,  4.25895751],\n",
              "       [ 7.90233771,  4.80627883],\n",
              "       [ 4.1120464 , 14.88389192],\n",
              "       [ 6.49736973,  6.23325175],\n",
              "       [18.04316298,  5.50231568],\n",
              "       [ 2.94515632, 12.43876366],\n",
              "       [ 6.61172861,  5.9646667 ],\n",
              "       [ 1.57649539, 13.54198165],\n",
              "       [ 3.87196023, 12.44316362],\n",
              "       [16.27720922,  3.88206201],\n",
              "       [ 4.05716033, 15.2553298 ],\n",
              "       [ 3.67456557, 14.72041003],\n",
              "       [14.68517636,  2.18613923],\n",
              "       [ 3.63811578, 13.34744882],\n",
              "       [ 5.35618537,  7.2723712 ],\n",
              "       [ 2.18985892, 13.30744971],\n",
              "       [ 4.60906207, 12.4869865 ],\n",
              "       [ 6.48822062,  6.11958892],\n",
              "       [ 4.94570765, 15.6630845 ],\n",
              "       [17.29664411,  4.94941299],\n",
              "       [ 2.36427525, 13.1986026 ],\n",
              "       [ 2.55378645, 13.23418681],\n",
              "       [ 3.31282823, 13.53278671],\n",
              "       [ 1.19565167, 12.53485416],\n",
              "       [ 8.81673607,  3.75393888],\n",
              "       [ 3.62111935, 14.78364726],\n",
              "       [ 2.8074821 , 12.73821548],\n",
              "       [ 2.7294916 , 11.57912669],\n",
              "       [15.75265578,  3.21149246],\n",
              "       [ 3.89363676, 13.91185724],\n",
              "       [ 2.81514949, 12.66816677],\n",
              "       [ 3.26487546, 14.16481925],\n",
              "       [16.70725905,  4.21478333],\n",
              "       [ 3.4642187 , 10.29894022],\n",
              "       [ 8.23034435,  4.37509425],\n",
              "       [ 2.23963708, 12.88163211],\n",
              "       [16.61915216,  4.07539579],\n",
              "       [ 2.57631376, 14.58258306],\n",
              "       [ 2.86510255, 12.03868134],\n",
              "       [14.9587742 ,  2.39032745],\n",
              "       [ 8.10682358,  4.55069414],\n",
              "       [16.82360345,  4.25970332],\n",
              "       [ 7.49005983,  5.10158583],\n",
              "       [16.64919051,  4.08530284],\n",
              "       [ 8.39640671,  4.27382482],\n",
              "       [ 2.744352  , 12.06308892],\n",
              "       [ 7.01952324,  5.55343371],\n",
              "       [ 2.98579265, 14.11491545],\n",
              "       [ 4.63737683, 14.03147327],\n",
              "       [ 2.67863063, 12.67186532],\n",
              "       [ 7.55617689,  5.01464753],\n",
              "       [16.9855429 ,  4.4883063 ],\n",
              "       [ 4.23063496, 15.57087566],\n",
              "       [ 3.97079243, 11.74113819],\n",
              "       [ 3.47553226, 13.99734865],\n",
              "       [16.22550202,  3.66058486],\n",
              "       [ 2.950686  , 12.6209643 ],\n",
              "       [ 6.95042591,  5.93926188],\n",
              "       [ 5.95430887,  6.62613283],\n",
              "       [ 3.21908788, 14.02956106],\n",
              "       [ 3.76778275, 15.13870992],\n",
              "       [ 3.22841115, 12.22899501],\n",
              "       [ 4.69507867, 15.57753358],\n",
              "       [ 3.4738703 , 14.24551993],\n",
              "       [16.54430519,  4.24553616],\n",
              "       [16.49256825,  4.31156742],\n",
              "       [ 6.85560368,  5.71349466],\n",
              "       [ 8.40895026,  4.61060543],\n",
              "       [17.4963789 ,  5.0649171 ],\n",
              "       [ 3.45180281, 14.09410492],\n",
              "       [ 1.98942565, 13.06014726],\n",
              "       [ 3.71807057, 14.470207  ],\n",
              "       [ 8.30332615,  4.26622748],\n",
              "       [ 3.05675281, 15.05694781],\n",
              "       [ 4.26138835, 15.15049462],\n",
              "       [ 7.23607968,  5.56826197],\n",
              "       [ 4.01465817, 13.14076715],\n",
              "       [ 2.00436099, 10.86476644],\n",
              "       [ 2.40861951, 13.59488456],\n",
              "       [ 2.11028122, 11.42692439],\n",
              "       [17.77297501,  5.25816089],\n",
              "       [ 2.31442392, 14.14419736],\n",
              "       [ 4.06619215, 13.75370295],\n",
              "       [ 1.53369388, 13.01405607],\n",
              "       [16.08935257,  3.52304817],\n",
              "       [17.96023409,  5.40224406],\n",
              "       [ 4.22298202, 13.88103205],\n",
              "       [ 2.68893205, 13.61451934],\n",
              "       [ 5.99096659,  6.57794346],\n",
              "       [ 3.69778712, 13.66194847],\n",
              "       [ 7.06528726,  5.56699608],\n",
              "       [ 2.45275653, 12.08391415],\n",
              "       [16.91052717,  4.34864393],\n",
              "       [ 7.56250711,  5.02775423],\n",
              "       [16.32496928,  3.78529851],\n",
              "       [ 5.01916409, 13.5980345 ],\n",
              "       [17.22781135,  4.72335576],\n",
              "       [ 2.91929867, 10.47553201],\n",
              "       [ 2.74144442, 13.30196565],\n",
              "       [ 5.75472444,  6.83934339],\n",
              "       [ 3.81139087, 14.04632237],\n",
              "       [ 2.18236885, 13.91580357],\n",
              "       [ 7.91467155,  5.03663812],\n",
              "       [17.07449552,  4.51198908],\n",
              "       [ 3.79230209, 12.95222783],\n",
              "       [14.43939269,  2.61813896],\n",
              "       [17.44400296,  4.95013125],\n",
              "       [ 8.179316  ,  4.44358915],\n",
              "       [ 3.12932238, 13.34797719],\n",
              "       [ 2.48446471, 12.78431743],\n",
              "       [ 3.71197508, 14.38934315],\n",
              "       [ 7.12579534,  5.45779067],\n",
              "       [ 8.68229848,  3.91671042],\n",
              "       [ 7.50813088,  5.14674523],\n",
              "       [ 9.14967276,  3.44983261],\n",
              "       [16.38558423,  3.82098614],\n",
              "       [15.94033016,  3.41502909],\n",
              "       [ 8.84601528,  4.14546068],\n",
              "       [16.3469799 ,  3.83627857],\n",
              "       [ 8.97831283,  3.88470785],\n",
              "       [ 4.43230934, 14.21725824],\n",
              "       [18.78954029,  6.22652345],\n",
              "       [ 1.56255799, 13.2708828 ],\n",
              "       [ 6.06176484,  6.52262556],\n",
              "       [16.69615794,  4.13351991],\n",
              "       [ 1.24195591, 13.01240561],\n",
              "       [ 4.76099073, 15.13437814],\n",
              "       [ 4.89442505, 14.94685951],\n",
              "       [ 3.7260726 , 14.08196092],\n",
              "       [ 6.63166128,  6.25820726],\n",
              "       [ 2.30196124, 13.24923189],\n",
              "       [ 8.24738035,  5.65008354],\n",
              "       [ 4.52897308, 14.51292506],\n",
              "       [16.48412883,  3.91761328],\n",
              "       [17.40538446,  4.86153649],\n",
              "       [ 2.32561955, 14.02495171],\n",
              "       [ 4.93647737, 11.59637648],\n",
              "       [15.45714769,  3.11484586],\n",
              "       [17.54214503,  4.98444997],\n",
              "       [ 9.05013492,  3.52910629],\n",
              "       [16.69684046,  4.23850837],\n",
              "       [ 8.03532386,  5.0414049 ],\n",
              "       [ 3.52961017, 11.54306982],\n",
              "       [14.57877255,  3.11234641],\n",
              "       [ 2.95898373, 12.81150074],\n",
              "       [ 2.46513339, 14.12287731],\n",
              "       [ 3.55838131, 14.76975695],\n",
              "       [15.90327463,  3.43428645],\n",
              "       [ 8.04708807,  4.62318689],\n",
              "       [ 3.85627446, 14.83249783],\n",
              "       [ 2.0847227 , 13.15689203],\n",
              "       [16.65083747,  4.31612489],\n",
              "       [ 4.05886953, 15.18964896],\n",
              "       [ 2.5308778 , 12.67317216],\n",
              "       [ 6.46765974,  6.13671345],\n",
              "       [ 3.89404634, 14.40187723],\n",
              "       [16.52905836,  3.97695517],\n",
              "       [ 2.55053781, 10.78982838],\n",
              "       [17.95951048,  5.59165663],\n",
              "       [ 1.77773667, 14.12206082],\n",
              "       [16.78428201,  4.31146275],\n",
              "       [14.20032443,  1.76510446],\n",
              "       [ 3.08163457, 14.6619087 ],\n",
              "       [ 6.21313601, 15.26098384],\n",
              "       [15.06312621,  2.58605395],\n",
              "       [ 2.87684959, 12.76956234],\n",
              "       [ 1.6196055 , 12.37806798],\n",
              "       [16.71805519,  4.15088403],\n",
              "       [ 4.35926656, 12.14191047],\n",
              "       [16.09603529,  3.62078611],\n",
              "       [ 3.41849446, 12.19801065],\n",
              "       [16.67053382,  4.12868308],\n",
              "       [18.34115569,  5.92197542],\n",
              "       [ 7.31628533,  5.25285913],\n",
              "       [ 7.94175043,  5.10876627],\n",
              "       [ 2.71686052, 12.01467593],\n",
              "       [ 3.47721601, 14.4125833 ],\n",
              "       [ 7.13340511,  5.92066187],\n",
              "       [ 2.52145716, 14.15540702]])"
            ]
          },
          "metadata": {
            "tags": []
          },
          "execution_count": 120
        }
      ]
    },
    {
      "cell_type": "code",
      "metadata": {
        "colab": {
          "base_uri": "https://localhost:8080/"
        },
        "id": "yUeMD8xRMmW6",
        "outputId": "4b5828f6-bfe3-4046-8462-aa62b1612591"
      },
      "source": [
        "KMclust.labels_"
      ],
      "execution_count": null,
      "outputs": [
        {
          "output_type": "execute_result",
          "data": {
            "text/plain": [
              "array([1, 0, 0, 1, 0, 0, 1, 0, 0, 0, 0, 0, 0, 1, 0, 1, 0, 1, 0, 1, 1, 0,\n",
              "       1, 1, 1, 0, 0, 0, 0, 1, 0, 1, 1, 1, 1, 0, 0, 1, 0, 1, 0, 0, 0, 0,\n",
              "       0, 1, 0, 1, 0, 1, 1, 1, 1, 1, 0, 1, 1, 0, 1, 0, 0, 1, 0, 0, 1, 0,\n",
              "       0, 0, 0, 1, 0, 1, 0, 0, 0, 0, 1, 0, 0, 0, 1, 0, 0, 0, 1, 0, 1, 0,\n",
              "       1, 0, 0, 1, 1, 1, 1, 1, 1, 0, 1, 0, 0, 0, 1, 1, 0, 0, 0, 1, 0, 1,\n",
              "       0, 0, 0, 0, 0, 0, 1, 1, 1, 1, 1, 0, 0, 0, 1, 0, 0, 1, 0, 0, 0, 0,\n",
              "       1, 0, 0, 0, 1, 1, 0, 0, 0, 0, 1, 0, 1, 1, 1, 0, 1, 0, 0, 0, 0, 0,\n",
              "       1, 1, 0, 1, 1, 1, 0, 0, 0, 1, 1, 1, 1, 1, 1, 1, 1, 1, 0, 1, 0, 0,\n",
              "       1, 0, 0, 0, 0, 1, 0, 1, 0, 1, 1, 0, 0, 1, 1, 1, 1, 1, 0, 1, 0, 0,\n",
              "       0, 1, 1, 0, 0, 1, 0, 0, 1, 0, 1, 0, 1, 0, 1, 1, 0, 0, 1, 0, 0, 1,\n",
              "       0, 1, 0, 1, 1, 1, 1, 0, 0, 1, 0], dtype=int32)"
            ]
          },
          "metadata": {
            "tags": []
          },
          "execution_count": 121
        }
      ]
    },
    {
      "cell_type": "code",
      "metadata": {
        "colab": {
          "base_uri": "https://localhost:8080/"
        },
        "id": "vEByyxjuMmW6",
        "outputId": "53505b50-4b54-41b4-e657-fa81ffdb2c8e"
      },
      "source": [
        "ssde=[] #เซทว่างของรายได้\n",
        "for k in range(2, 10):\n",
        "    m=KMeans(n_clusters=k)\n",
        "    m.fit(Xe) #Xi ตัวแปรของรายได้\n",
        "    ssde.append([k, m.inertia_])\n",
        "ssde"
      ],
      "execution_count": null,
      "outputs": [
        {
          "output_type": "execute_result",
          "data": {
            "text/plain": [
              "[[2, 3808.025083086262],\n",
              " [3, 1472.7397344707779],\n",
              " [4, 434.8621723093945],\n",
              " [5, 387.08764317414074],\n",
              " [6, 347.90136253221664],\n",
              " [7, 305.8306786100441],\n",
              " [8, 267.0189140880368],\n",
              " [9, 244.83259980602207]]"
            ]
          },
          "metadata": {
            "tags": []
          },
          "execution_count": 122
        }
      ]
    },
    {
      "cell_type": "code",
      "metadata": {
        "colab": {
          "base_uri": "https://localhost:8080/"
        },
        "id": "wodIcEjWMmW6",
        "outputId": "73e243c1-3455-4136-aaef-26af62f9db0b"
      },
      "source": [
        "xye=np.array(ssde) #xyi ตัวแปร xy ของรายได้\n",
        "print(xye)"
      ],
      "execution_count": null,
      "outputs": [
        {
          "output_type": "stream",
          "text": [
            "[[2.00000000e+00 3.80802508e+03]\n",
            " [3.00000000e+00 1.47273973e+03]\n",
            " [4.00000000e+00 4.34862172e+02]\n",
            " [5.00000000e+00 3.87087643e+02]\n",
            " [6.00000000e+00 3.47901363e+02]\n",
            " [7.00000000e+00 3.05830679e+02]\n",
            " [8.00000000e+00 2.67018914e+02]\n",
            " [9.00000000e+00 2.44832600e+02]]\n"
          ],
          "name": "stdout"
        }
      ]
    },
    {
      "cell_type": "code",
      "metadata": {
        "colab": {
          "base_uri": "https://localhost:8080/",
          "height": 282
        },
        "id": "zke9Q5cdMmW7",
        "outputId": "c36e3f0c-d729-497d-901b-cb425cb7e9af"
      },
      "source": [
        "plt.plot(xye[:, 0], xye[:, 1], linestyle='--', marker='o')\n",
        "# plt.plot(xy[:, 0], xy[:, 1], '--o')"
      ],
      "execution_count": null,
      "outputs": [
        {
          "output_type": "execute_result",
          "data": {
            "text/plain": [
              "[<matplotlib.lines.Line2D at 0x7f087eb5cc18>]"
            ]
          },
          "metadata": {
            "tags": []
          },
          "execution_count": 124
        },
        {
          "output_type": "display_data",
          "data": {
            "image/png": "[encoded data removed]",
            "text/plain": [
              "<Figure size 432x288 with 1 Axes>"
            ]
          },
          "metadata": {
            "tags": [],
            "image/png": {
              "width": 381,
              "height": 248
            },
            "needs_background": "light"
          }
        }
      ]
    },
    {
      "cell_type": "code",
      "metadata": {
        "colab": {
          "base_uri": "https://localhost:8080/",
          "height": 297
        },
        "id": "RoklECRFMmW7",
        "outputId": "921e586c-595d-4df1-e954-6e8aa5abffab"
      },
      "source": [
        "dde=pd.DataFrame(ssde, columns=['k', 'ssde']) \n",
        "dde #ddi ตัวแปรของรายได้"
      ],
      "execution_count": null,
      "outputs": [
        {
          "output_type": "execute_result",
          "data": {
            "text/html": [
              "<div>\n",
              "<style scoped>\n",
              "    .dataframe tbody tr th:only-of-type {\n",
              "        vertical-align: middle;\n",
              "    }\n",
              "\n",
              "    .dataframe tbody tr th {\n",
              "        vertical-align: top;\n",
              "    }\n",
              "\n",
              "    .dataframe thead th {\n",
              "        text-align: right;\n",
              "    }\n",
              "</style>\n",
              "<table border=\"1\" class=\"dataframe\">\n",
              "  <thead>\n",
              "    <tr style=\"text-align: right;\">\n",
              "      <th></th>\n",
              "      <th>k</th>\n",
              "      <th>ssde</th>\n",
              "    </tr>\n",
              "  </thead>\n",
              "  <tbody>\n",
              "    <tr>\n",
              "      <th>0</th>\n",
              "      <td>2</td>\n",
              "      <td>3808.025083</td>\n",
              "    </tr>\n",
              "    <tr>\n",
              "      <th>1</th>\n",
              "      <td>3</td>\n",
              "      <td>1472.739734</td>\n",
              "    </tr>\n",
              "    <tr>\n",
              "      <th>2</th>\n",
              "      <td>4</td>\n",
              "      <td>434.862172</td>\n",
              "    </tr>\n",
              "    <tr>\n",
              "      <th>3</th>\n",
              "      <td>5</td>\n",
              "      <td>387.087643</td>\n",
              "    </tr>\n",
              "    <tr>\n",
              "      <th>4</th>\n",
              "      <td>6</td>\n",
              "      <td>347.901363</td>\n",
              "    </tr>\n",
              "    <tr>\n",
              "      <th>5</th>\n",
              "      <td>7</td>\n",
              "      <td>305.830679</td>\n",
              "    </tr>\n",
              "    <tr>\n",
              "      <th>6</th>\n",
              "      <td>8</td>\n",
              "      <td>267.018914</td>\n",
              "    </tr>\n",
              "    <tr>\n",
              "      <th>7</th>\n",
              "      <td>9</td>\n",
              "      <td>244.832600</td>\n",
              "    </tr>\n",
              "  </tbody>\n",
              "</table>\n",
              "</div>"
            ],
            "text/plain": [
              "   k         ssde\n",
              "0  2  3808.025083\n",
              "1  3  1472.739734\n",
              "2  4   434.862172\n",
              "3  5   387.087643\n",
              "4  6   347.901363\n",
              "5  7   305.830679\n",
              "6  8   267.018914\n",
              "7  9   244.832600"
            ]
          },
          "metadata": {
            "tags": []
          },
          "execution_count": 125
        }
      ]
    },
    {
      "cell_type": "code",
      "metadata": {
        "colab": {
          "base_uri": "https://localhost:8080/",
          "height": 297
        },
        "id": "qKL-j-SUMmW7",
        "outputId": "18bc2e18-93d5-4a09-9c8b-147a2bede50b"
      },
      "source": [
        "dde['pct_chg']=dde['ssde'].pct_change() * 100\n",
        "dde"
      ],
      "execution_count": null,
      "outputs": [
        {
          "output_type": "execute_result",
          "data": {
            "text/html": [
              "<div>\n",
              "<style scoped>\n",
              "    .dataframe tbody tr th:only-of-type {\n",
              "        vertical-align: middle;\n",
              "    }\n",
              "\n",
              "    .dataframe tbody tr th {\n",
              "        vertical-align: top;\n",
              "    }\n",
              "\n",
              "    .dataframe thead th {\n",
              "        text-align: right;\n",
              "    }\n",
              "</style>\n",
              "<table border=\"1\" class=\"dataframe\">\n",
              "  <thead>\n",
              "    <tr style=\"text-align: right;\">\n",
              "      <th></th>\n",
              "      <th>k</th>\n",
              "      <th>ssde</th>\n",
              "      <th>pct_chg</th>\n",
              "    </tr>\n",
              "  </thead>\n",
              "  <tbody>\n",
              "    <tr>\n",
              "      <th>0</th>\n",
              "      <td>2</td>\n",
              "      <td>3808.025083</td>\n",
              "      <td>NaN</td>\n",
              "    </tr>\n",
              "    <tr>\n",
              "      <th>1</th>\n",
              "      <td>3</td>\n",
              "      <td>1472.739734</td>\n",
              "      <td>-61.325367</td>\n",
              "    </tr>\n",
              "    <tr>\n",
              "      <th>2</th>\n",
              "      <td>4</td>\n",
              "      <td>434.862172</td>\n",
              "      <td>-70.472571</td>\n",
              "    </tr>\n",
              "    <tr>\n",
              "      <th>3</th>\n",
              "      <td>5</td>\n",
              "      <td>387.087643</td>\n",
              "      <td>-10.986131</td>\n",
              "    </tr>\n",
              "    <tr>\n",
              "      <th>4</th>\n",
              "      <td>6</td>\n",
              "      <td>347.901363</td>\n",
              "      <td>-10.123361</td>\n",
              "    </tr>\n",
              "    <tr>\n",
              "      <th>5</th>\n",
              "      <td>7</td>\n",
              "      <td>305.830679</td>\n",
              "      <td>-12.092705</td>\n",
              "    </tr>\n",
              "    <tr>\n",
              "      <th>6</th>\n",
              "      <td>8</td>\n",
              "      <td>267.018914</td>\n",
              "      <td>-12.690605</td>\n",
              "    </tr>\n",
              "    <tr>\n",
              "      <th>7</th>\n",
              "      <td>9</td>\n",
              "      <td>244.832600</td>\n",
              "      <td>-8.308892</td>\n",
              "    </tr>\n",
              "  </tbody>\n",
              "</table>\n",
              "</div>"
            ],
            "text/plain": [
              "   k         ssde    pct_chg\n",
              "0  2  3808.025083        NaN\n",
              "1  3  1472.739734 -61.325367\n",
              "2  4   434.862172 -70.472571\n",
              "3  5   387.087643 -10.986131\n",
              "4  6   347.901363 -10.123361\n",
              "5  7   305.830679 -12.092705\n",
              "6  8   267.018914 -12.690605\n",
              "7  9   244.832600  -8.308892"
            ]
          },
          "metadata": {
            "tags": []
          },
          "execution_count": 126
        }
      ]
    },
    {
      "cell_type": "code",
      "metadata": {
        "colab": {
          "base_uri": "https://localhost:8080/",
          "height": 265
        },
        "id": "bbgNMMAYMmW7",
        "outputId": "7f88247d-4958-49d1-ac4c-4877e71f2c1b"
      },
      "source": [
        "plt.plot(dde['k'], dde['ssde'], linestyle='--', marker='o')\n",
        "# plt.plot(xy[:, 0], xy[:, 1], '--o')\n",
        "for index, row in dde.iterrows():\n",
        "    plt.text(row['k']+.02, row['ssde']+.02, f'{row[\"pct_chg\"]:.2f}', fontsize=10)"
      ],
      "execution_count": null,
      "outputs": [
        {
          "output_type": "display_data",
          "data": {
            "image/png": "[encoded data removed]",
            "text/plain": [
              "<Figure size 432x288 with 1 Axes>"
            ]
          },
          "metadata": {
            "tags": [],
            "image/png": {
              "width": 393,
              "height": 248
            },
            "needs_background": "light"
          }
        }
      ]
    },
    {
      "cell_type": "code",
      "metadata": {
        "colab": {
          "base_uri": "https://localhost:8080/",
          "height": 204
        },
        "id": "-9m0a6wHMmW7",
        "outputId": "67004301-4c71-4d35-d342-4f62054f4c39"
      },
      "source": [
        "avg_Expenditure_1['cluster']=KMclust.labels_\n",
        "avg_Expenditure_1.head()"
      ],
      "execution_count": null,
      "outputs": [
        {
          "output_type": "execute_result",
          "data": {
            "text/html": [
              "<div>\n",
              "<style scoped>\n",
              "    .dataframe tbody tr th:only-of-type {\n",
              "        vertical-align: middle;\n",
              "    }\n",
              "\n",
              "    .dataframe tbody tr th {\n",
              "        vertical-align: top;\n",
              "    }\n",
              "\n",
              "    .dataframe thead th {\n",
              "        text-align: right;\n",
              "    }\n",
              "</style>\n",
              "<table border=\"1\" class=\"dataframe\">\n",
              "  <thead>\n",
              "    <tr style=\"text-align: right;\">\n",
              "      <th></th>\n",
              "      <th>จังหวัด</th>\n",
              "      <th>avg_expenditure</th>\n",
              "      <th>cluster</th>\n",
              "    </tr>\n",
              "  </thead>\n",
              "  <tbody>\n",
              "    <tr>\n",
              "      <th>0</th>\n",
              "      <td>กรุงเทพมหานคร 53</td>\n",
              "      <td>30334.0</td>\n",
              "      <td>1</td>\n",
              "    </tr>\n",
              "    <tr>\n",
              "      <th>1</th>\n",
              "      <td>สมุทรปราการ 53</td>\n",
              "      <td>18450.0</td>\n",
              "      <td>0</td>\n",
              "    </tr>\n",
              "    <tr>\n",
              "      <th>2</th>\n",
              "      <td>นนทบุรี 53</td>\n",
              "      <td>29487.0</td>\n",
              "      <td>0</td>\n",
              "    </tr>\n",
              "    <tr>\n",
              "      <th>3</th>\n",
              "      <td>ปทุมธานี 53</td>\n",
              "      <td>22460.0</td>\n",
              "      <td>1</td>\n",
              "    </tr>\n",
              "    <tr>\n",
              "      <th>4</th>\n",
              "      <td>พระนครศรีอยุธยา 53</td>\n",
              "      <td>20717.0</td>\n",
              "      <td>0</td>\n",
              "    </tr>\n",
              "  </tbody>\n",
              "</table>\n",
              "</div>"
            ],
            "text/plain": [
              "              จังหวัด  avg_expenditure  cluster\n",
              "0    กรุงเทพมหานคร 53          30334.0        1\n",
              "1      สมุทรปราการ 53          18450.0        0\n",
              "2          นนทบุรี 53          29487.0        0\n",
              "3         ปทุมธานี 53          22460.0        1\n",
              "4  พระนครศรีอยุธยา 53          20717.0        0"
            ]
          },
          "metadata": {
            "tags": []
          },
          "execution_count": 128
        }
      ]
    },
    {
      "cell_type": "code",
      "metadata": {
        "colab": {
          "base_uri": "https://localhost:8080/",
          "height": 297
        },
        "id": "TOB4H8UdMmW7",
        "outputId": "45a8cf18-28ae-48b4-d266-6bc48973f01a"
      },
      "source": [
        "avg_Expenditure_1.groupby('cluster').describe().T"
      ],
      "execution_count": null,
      "outputs": [
        {
          "output_type": "execute_result",
          "data": {
            "text/html": [
              "<div>\n",
              "<style scoped>\n",
              "    .dataframe tbody tr th:only-of-type {\n",
              "        vertical-align: middle;\n",
              "    }\n",
              "\n",
              "    .dataframe tbody tr th {\n",
              "        vertical-align: top;\n",
              "    }\n",
              "\n",
              "    .dataframe thead th {\n",
              "        text-align: right;\n",
              "    }\n",
              "</style>\n",
              "<table border=\"1\" class=\"dataframe\">\n",
              "  <thead>\n",
              "    <tr style=\"text-align: right;\">\n",
              "      <th></th>\n",
              "      <th>cluster</th>\n",
              "      <th>0</th>\n",
              "      <th>1</th>\n",
              "    </tr>\n",
              "  </thead>\n",
              "  <tbody>\n",
              "    <tr>\n",
              "      <th rowspan=\"8\" valign=\"top\">avg_expenditure</th>\n",
              "      <th>count</th>\n",
              "      <td>126.000000</td>\n",
              "      <td>105.000000</td>\n",
              "    </tr>\n",
              "    <tr>\n",
              "      <th>mean</th>\n",
              "      <td>15988.019841</td>\n",
              "      <td>16471.426667</td>\n",
              "    </tr>\n",
              "    <tr>\n",
              "      <th>std</th>\n",
              "      <td>4478.505207</td>\n",
              "      <td>5143.747580</td>\n",
              "    </tr>\n",
              "    <tr>\n",
              "      <th>min</th>\n",
              "      <td>0.000000</td>\n",
              "      <td>0.000000</td>\n",
              "    </tr>\n",
              "    <tr>\n",
              "      <th>25%</th>\n",
              "      <td>13249.150000</td>\n",
              "      <td>13148.800000</td>\n",
              "    </tr>\n",
              "    <tr>\n",
              "      <th>50%</th>\n",
              "      <td>15558.650000</td>\n",
              "      <td>15347.500000</td>\n",
              "    </tr>\n",
              "    <tr>\n",
              "      <th>75%</th>\n",
              "      <td>18464.550000</td>\n",
              "      <td>18993.200000</td>\n",
              "    </tr>\n",
              "    <tr>\n",
              "      <th>max</th>\n",
              "      <td>29969.200000</td>\n",
              "      <td>35023.700000</td>\n",
              "    </tr>\n",
              "  </tbody>\n",
              "</table>\n",
              "</div>"
            ],
            "text/plain": [
              "cluster                           0             1\n",
              "avg_expenditure count    126.000000    105.000000\n",
              "                mean   15988.019841  16471.426667\n",
              "                std     4478.505207   5143.747580\n",
              "                min        0.000000      0.000000\n",
              "                25%    13249.150000  13148.800000\n",
              "                50%    15558.650000  15347.500000\n",
              "                75%    18464.550000  18993.200000\n",
              "                max    29969.200000  35023.700000"
            ]
          },
          "metadata": {
            "tags": []
          },
          "execution_count": 129
        }
      ]
    },
    {
      "cell_type": "code",
      "metadata": {
        "colab": {
          "base_uri": "https://localhost:8080/",
          "height": 295
        },
        "id": "FsIq6wyWMmW8",
        "outputId": "d6a592bc-22ce-4f26-dba1-ef9eef33e135"
      },
      "source": [
        "sns.countplot(x='cluster', data=avg_Expenditure_1)"
      ],
      "execution_count": null,
      "outputs": [
        {
          "output_type": "execute_result",
          "data": {
            "text/plain": [
              "<matplotlib.axes._subplots.AxesSubplot at 0x7f087d29c080>"
            ]
          },
          "metadata": {
            "tags": []
          },
          "execution_count": 130
        },
        {
          "output_type": "display_data",
          "data": {
            "image/png": "[encoded data removed]",
            "text/plain": [
              "<Figure size 432x288 with 1 Axes>"
            ]
          },
          "metadata": {
            "tags": [],
            "image/png": {
              "width": 388,
              "height": 261
            },
            "needs_background": "light"
          }
        }
      ]
    },
    {
      "cell_type": "code",
      "metadata": {
        "colab": {
          "base_uri": "https://localhost:8080/",
          "height": 419
        },
        "id": "dvKad2vOMmW8",
        "outputId": "e815367b-9e1e-4662-a805-d70b6a08cd2b"
      },
      "source": [
        "avg_Expenditure_1"
      ],
      "execution_count": null,
      "outputs": [
        {
          "output_type": "execute_result",
          "data": {
            "text/html": [
              "<div>\n",
              "<style scoped>\n",
              "    .dataframe tbody tr th:only-of-type {\n",
              "        vertical-align: middle;\n",
              "    }\n",
              "\n",
              "    .dataframe tbody tr th {\n",
              "        vertical-align: top;\n",
              "    }\n",
              "\n",
              "    .dataframe thead th {\n",
              "        text-align: right;\n",
              "    }\n",
              "</style>\n",
              "<table border=\"1\" class=\"dataframe\">\n",
              "  <thead>\n",
              "    <tr style=\"text-align: right;\">\n",
              "      <th></th>\n",
              "      <th>จังหวัด</th>\n",
              "      <th>avg_expenditure</th>\n",
              "      <th>cluster</th>\n",
              "    </tr>\n",
              "  </thead>\n",
              "  <tbody>\n",
              "    <tr>\n",
              "      <th>0</th>\n",
              "      <td>กรุงเทพมหานคร 53</td>\n",
              "      <td>30334.0</td>\n",
              "      <td>1</td>\n",
              "    </tr>\n",
              "    <tr>\n",
              "      <th>1</th>\n",
              "      <td>สมุทรปราการ 53</td>\n",
              "      <td>18450.0</td>\n",
              "      <td>0</td>\n",
              "    </tr>\n",
              "    <tr>\n",
              "      <th>2</th>\n",
              "      <td>นนทบุรี 53</td>\n",
              "      <td>29487.0</td>\n",
              "      <td>0</td>\n",
              "    </tr>\n",
              "    <tr>\n",
              "      <th>3</th>\n",
              "      <td>ปทุมธานี 53</td>\n",
              "      <td>22460.0</td>\n",
              "      <td>1</td>\n",
              "    </tr>\n",
              "    <tr>\n",
              "      <th>4</th>\n",
              "      <td>พระนครศรีอยุธยา 53</td>\n",
              "      <td>20717.0</td>\n",
              "      <td>0</td>\n",
              "    </tr>\n",
              "    <tr>\n",
              "      <th>...</th>\n",
              "      <td>...</td>\n",
              "      <td>...</td>\n",
              "      <td>...</td>\n",
              "    </tr>\n",
              "    <tr>\n",
              "      <th>226</th>\n",
              "      <td>ตรัง 55</td>\n",
              "      <td>20922.3</td>\n",
              "      <td>1</td>\n",
              "    </tr>\n",
              "    <tr>\n",
              "      <th>227</th>\n",
              "      <td>พัทลุง 55</td>\n",
              "      <td>16635.7</td>\n",
              "      <td>0</td>\n",
              "    </tr>\n",
              "    <tr>\n",
              "      <th>228</th>\n",
              "      <td>ปัตตานี 55</td>\n",
              "      <td>16668.1</td>\n",
              "      <td>0</td>\n",
              "    </tr>\n",
              "    <tr>\n",
              "      <th>229</th>\n",
              "      <td>ยะลา 55</td>\n",
              "      <td>12521.7</td>\n",
              "      <td>1</td>\n",
              "    </tr>\n",
              "    <tr>\n",
              "      <th>230</th>\n",
              "      <td>นราธิวาส 55</td>\n",
              "      <td>13727.8</td>\n",
              "      <td>0</td>\n",
              "    </tr>\n",
              "  </tbody>\n",
              "</table>\n",
              "<p>231 rows × 3 columns</p>\n",
              "</div>"
            ],
            "text/plain": [
              "                จังหวัด  avg_expenditure  cluster\n",
              "0      กรุงเทพมหานคร 53          30334.0        1\n",
              "1        สมุทรปราการ 53          18450.0        0\n",
              "2            นนทบุรี 53          29487.0        0\n",
              "3           ปทุมธานี 53          22460.0        1\n",
              "4    พระนครศรีอยุธยา 53          20717.0        0\n",
              "..                  ...              ...      ...\n",
              "226             ตรัง 55          20922.3        1\n",
              "227           พัทลุง 55          16635.7        0\n",
              "228          ปัตตานี 55          16668.1        0\n",
              "229             ยะลา 55          12521.7        1\n",
              "230         นราธิวาส 55          13727.8        0\n",
              "\n",
              "[231 rows x 3 columns]"
            ]
          },
          "metadata": {
            "tags": []
          },
          "execution_count": 131
        }
      ]
    },
    {
      "cell_type": "code",
      "metadata": {
        "colab": {
          "base_uri": "https://localhost:8080/",
          "height": 359
        },
        "id": "QfqKkKtRMmW8",
        "outputId": "b090a968-0d4b-4b1d-b0e9-5528a798d9cc"
      },
      "source": [
        "avg_Expenditure_1.groupby('cluster').head().sort_values('cluster')"
      ],
      "execution_count": null,
      "outputs": [
        {
          "output_type": "execute_result",
          "data": {
            "text/html": [
              "<div>\n",
              "<style scoped>\n",
              "    .dataframe tbody tr th:only-of-type {\n",
              "        vertical-align: middle;\n",
              "    }\n",
              "\n",
              "    .dataframe tbody tr th {\n",
              "        vertical-align: top;\n",
              "    }\n",
              "\n",
              "    .dataframe thead th {\n",
              "        text-align: right;\n",
              "    }\n",
              "</style>\n",
              "<table border=\"1\" class=\"dataframe\">\n",
              "  <thead>\n",
              "    <tr style=\"text-align: right;\">\n",
              "      <th></th>\n",
              "      <th>จังหวัด</th>\n",
              "      <th>avg_expenditure</th>\n",
              "      <th>cluster</th>\n",
              "    </tr>\n",
              "  </thead>\n",
              "  <tbody>\n",
              "    <tr>\n",
              "      <th>1</th>\n",
              "      <td>สมุทรปราการ 53</td>\n",
              "      <td>18450.0</td>\n",
              "      <td>0</td>\n",
              "    </tr>\n",
              "    <tr>\n",
              "      <th>2</th>\n",
              "      <td>นนทบุรี 53</td>\n",
              "      <td>29487.0</td>\n",
              "      <td>0</td>\n",
              "    </tr>\n",
              "    <tr>\n",
              "      <th>4</th>\n",
              "      <td>พระนครศรีอยุธยา 53</td>\n",
              "      <td>20717.0</td>\n",
              "      <td>0</td>\n",
              "    </tr>\n",
              "    <tr>\n",
              "      <th>5</th>\n",
              "      <td>อ่างทอง 53</td>\n",
              "      <td>20773.0</td>\n",
              "      <td>0</td>\n",
              "    </tr>\n",
              "    <tr>\n",
              "      <th>7</th>\n",
              "      <td>สิงห์บุรี 53</td>\n",
              "      <td>17787.0</td>\n",
              "      <td>0</td>\n",
              "    </tr>\n",
              "    <tr>\n",
              "      <th>0</th>\n",
              "      <td>กรุงเทพมหานคร 53</td>\n",
              "      <td>30334.0</td>\n",
              "      <td>1</td>\n",
              "    </tr>\n",
              "    <tr>\n",
              "      <th>3</th>\n",
              "      <td>ปทุมธานี 53</td>\n",
              "      <td>22460.0</td>\n",
              "      <td>1</td>\n",
              "    </tr>\n",
              "    <tr>\n",
              "      <th>6</th>\n",
              "      <td>ลพบุรี 53</td>\n",
              "      <td>16764.0</td>\n",
              "      <td>1</td>\n",
              "    </tr>\n",
              "    <tr>\n",
              "      <th>13</th>\n",
              "      <td>ตราด 53</td>\n",
              "      <td>13365.0</td>\n",
              "      <td>1</td>\n",
              "    </tr>\n",
              "    <tr>\n",
              "      <th>15</th>\n",
              "      <td>ปราจีนบุรี 53</td>\n",
              "      <td>18472.0</td>\n",
              "      <td>1</td>\n",
              "    </tr>\n",
              "  </tbody>\n",
              "</table>\n",
              "</div>"
            ],
            "text/plain": [
              "               จังหวัด  avg_expenditure  cluster\n",
              "1       สมุทรปราการ 53          18450.0        0\n",
              "2           นนทบุรี 53          29487.0        0\n",
              "4   พระนครศรีอยุธยา 53          20717.0        0\n",
              "5           อ่างทอง 53          20773.0        0\n",
              "7         สิงห์บุรี 53          17787.0        0\n",
              "0     กรุงเทพมหานคร 53          30334.0        1\n",
              "3          ปทุมธานี 53          22460.0        1\n",
              "6            ลพบุรี 53          16764.0        1\n",
              "13             ตราด 53          13365.0        1\n",
              "15       ปราจีนบุรี 53          18472.0        1"
            ]
          },
          "metadata": {
            "tags": []
          },
          "execution_count": 132
        }
      ]
    }
  ]
}