{
  "nbformat": 4,
  "nbformat_minor": 0,
  "metadata": {
    "colab": {
      "name": "Python101.ipynb",
      "provenance": [],
      "authorship_tag": "ABX9TyPn++jmbofxp9GvCTi1GH5n",
      "include_colab_link": true
    },
    "kernelspec": {
      "name": "python3",
      "display_name": "Python 3"
    }
  },
  "cells": [
    {
      "cell_type": "markdown",
      "metadata": {
        "id": "view-in-github",
        "colab_type": "text"
      },
      "source": [
        "<a href=\"https://colab.research.google.com/github/MMoltira/DataMining/blob/master/Python101.ipynb\" target=\"_parent\"><img src=\"https://colab.research.google.com/assets/colab-badge.svg\" alt=\"Open In Colab\"/></a>"
      ]
    },
    {
      "cell_type": "code",
      "metadata": {
        "id": "yOoaq2klTBHm"
      },
      "source": [
        ""
      ],
      "execution_count": null,
      "outputs": []
    },
    {
      "cell_type": "markdown",
      "metadata": {
        "id": "ZPV_8ExDMva_"
      },
      "source": [
        "# Variables\r\n",
        "\r\n",
        "ตัวแปร เก็บข้อมูล 1 ตัว เช่น ตัวเลข ตัวหนังสือ"
      ]
    },
    {
      "cell_type": "code",
      "metadata": {
        "colab": {
          "base_uri": "https://localhost:8080/"
        },
        "id": "ELFjLoC5NNmS",
        "outputId": "d36b6951-26c4-43e3-e8b1-c5fa7d68f8e8"
      },
      "source": [
        "3.14159265359"
      ],
      "execution_count": null,
      "outputs": [
        {
          "output_type": "execute_result",
          "data": {
            "text/plain": [
              "3.14159265359"
            ]
          },
          "metadata": {
            "tags": []
          },
          "execution_count": 5
        }
      ]
    },
    {
      "cell_type": "markdown",
      "metadata": {
        "id": "304uDYM3NoE8"
      },
      "source": [
        "### หลักการตั้งชื่อตัวแปรเบื้องต้น\r\n",
        "\r\n",
        "\r\n",
        "1.   ตั้งให้สื่อ\r\n",
        "2.   ภาษาอังกฤษ\r\n",
        "3.   ใช้ตัวเลขได้ แต่ห้ามขึ้นต้นด้วยตัวเลข \r\n",
        "4.   หัวเว้นวรรค\r\n",
        "\r\n"
      ]
    },
    {
      "cell_type": "code",
      "metadata": {
        "id": "kzAUAFgcNff2"
      },
      "source": [
        "pi = 3.14159265359\r\n",
        "#ตั้งชื่อตัวแปรเพื่อมารับค่า  3.14159265359 โดยใช้ชื่อตัวแปร pi"
      ],
      "execution_count": null,
      "outputs": []
    },
    {
      "cell_type": "code",
      "metadata": {
        "colab": {
          "base_uri": "https://localhost:8080/"
        },
        "id": "4_mX4TyOOgpi",
        "outputId": "02749c0b-2005-48ca-92f6-4f5c2a6bbc44"
      },
      "source": [
        "pi"
      ],
      "execution_count": null,
      "outputs": [
        {
          "output_type": "execute_result",
          "data": {
            "text/plain": [
              "3.14159265359"
            ]
          },
          "metadata": {
            "tags": []
          },
          "execution_count": 7
        }
      ]
    },
    {
      "cell_type": "markdown",
      "metadata": {
        "id": "f-5diD4MOrY4"
      },
      "source": [
        "# ชนิดตัวแปร"
      ]
    },
    {
      "cell_type": "markdown",
      "metadata": {
        "id": "Z4PENkZ5M2Ie"
      },
      "source": [
        "## int : จำนวนเต็ม"
      ]
    },
    {
      "cell_type": "code",
      "metadata": {
        "id": "3JB7Bv-VMpkL"
      },
      "source": [
        "a = 10 "
      ],
      "execution_count": null,
      "outputs": []
    },
    {
      "cell_type": "code",
      "metadata": {
        "colab": {
          "base_uri": "https://localhost:8080/"
        },
        "id": "W25tBhqsNCs_",
        "outputId": "b8728cef-ba37-4eb7-e71a-ef84abce1f79"
      },
      "source": [
        "print(a)"
      ],
      "execution_count": null,
      "outputs": [
        {
          "output_type": "stream",
          "text": [
            "10\n"
          ],
          "name": "stdout"
        }
      ]
    },
    {
      "cell_type": "markdown",
      "metadata": {
        "id": "OIGFJ61fO4ux"
      },
      "source": [
        "## float : จำนวนจริงที่เป็นทศนิยม"
      ]
    },
    {
      "cell_type": "code",
      "metadata": {
        "colab": {
          "base_uri": "https://localhost:8080/"
        },
        "id": "Oa0M-P3hPAQ4",
        "outputId": "1991a9bc-6c39-4d55-afd4-c95a75a55c34"
      },
      "source": [
        "b = 10.\r\n",
        "print(b)"
      ],
      "execution_count": null,
      "outputs": [
        {
          "output_type": "stream",
          "text": [
            "10.0\n"
          ],
          "name": "stdout"
        }
      ]
    },
    {
      "cell_type": "markdown",
      "metadata": {
        "id": "5qP9SfikPSQE"
      },
      "source": [
        "## char : ข้อความหรือตัวอักษร\r\n",
        "\r\n",
        "-> # hashtag, sharp ใช้สำหรับคอมเม้น"
      ]
    },
    {
      "cell_type": "code",
      "metadata": {
        "colab": {
          "base_uri": "https://localhost:8080/"
        },
        "id": "5aloIN9mPAKx",
        "outputId": "be10b245-9bd7-432c-fe3a-4beb3537d243"
      },
      "source": [
        "c = 'OHH' #เราจะบอกว่าตัวแปรเป็นตัวอักษรหรือข้อความโดยการใช้ single quote '....' หรือ double quot \"...\" ล้อมรอบ\r\n",
        "print(c)"
      ],
      "execution_count": 39,
      "outputs": [
        {
          "output_type": "stream",
          "text": [
            "OHH\n"
          ],
          "name": "stdout"
        }
      ]
    },
    {
      "cell_type": "code",
      "metadata": {
        "colab": {
          "base_uri": "https://localhost:8080/"
        },
        "id": "sAr8JJh6Q8ao",
        "outputId": "d4c86f5a-536f-4ec0-fa8e-a748a0076f29"
      },
      "source": [
        "d = '10'\r\n",
        "print(d)"
      ],
      "execution_count": null,
      "outputs": [
        {
          "output_type": "stream",
          "text": [
            "10\n"
          ],
          "name": "stdout"
        }
      ]
    },
    {
      "cell_type": "code",
      "metadata": {
        "colab": {
          "base_uri": "https://localhost:8080/",
          "height": 167
        },
        "id": "c-ABHeHKREma",
        "outputId": "245bc473-6fd7-46c4-c8d5-79a865943f37"
      },
      "source": [
        "d + 1 #error ตัวเลขที่เป็น string ไม่สามารถเอามา + - x / ได้"
      ],
      "execution_count": null,
      "outputs": [
        {
          "output_type": "error",
          "ename": "TypeError",
          "evalue": "ignored",
          "traceback": [
            "\u001b[0;31m---------------------------------------------------------------------------\u001b[0m",
            "\u001b[0;31mTypeError\u001b[0m                                 Traceback (most recent call last)",
            "\u001b[0;32m<ipython-input-14-5130889708ba>\u001b[0m in \u001b[0;36m<module>\u001b[0;34m()\u001b[0m\n\u001b[0;32m----> 1\u001b[0;31m \u001b[0md\u001b[0m \u001b[0;34m+\u001b[0m \u001b[0;36m1\u001b[0m \u001b[0;31m#ตัวเลขที่เป็น string ไม่สามารถเอามา + - x / ได้\u001b[0m\u001b[0;34m\u001b[0m\u001b[0;34m\u001b[0m\u001b[0m\n\u001b[0m",
            "\u001b[0;31mTypeError\u001b[0m: must be str, not int"
          ]
        }
      ]
    },
    {
      "cell_type": "markdown",
      "metadata": {
        "id": "N0N8zxlkPiCh"
      },
      "source": [
        "## variable casting การเปลี่ยนชนิดตัวแปร\r\n",
        "\r\n",
        " การเปลี่ยน char เป็น int"
      ]
    },
    {
      "cell_type": "code",
      "metadata": {
        "colab": {
          "base_uri": "https://localhost:8080/"
        },
        "id": "ZglDp96kPACo",
        "outputId": "66c0e5e5-e7fb-49ce-883e-7e581d1db19f"
      },
      "source": [
        "ch = 10\r\n",
        "ch"
      ],
      "execution_count": null,
      "outputs": [
        {
          "output_type": "execute_result",
          "data": {
            "text/plain": [
              "10"
            ]
          },
          "metadata": {
            "tags": []
          },
          "execution_count": 15
        }
      ]
    },
    {
      "cell_type": "code",
      "metadata": {
        "colab": {
          "base_uri": "https://localhost:8080/"
        },
        "id": "WFtxdRuORhu8",
        "outputId": "a50eee59-d2e7-4c37-cd17-845aed9e8023"
      },
      "source": [
        "int(ch)"
      ],
      "execution_count": null,
      "outputs": [
        {
          "output_type": "execute_result",
          "data": {
            "text/plain": [
              "10"
            ]
          },
          "metadata": {
            "tags": []
          },
          "execution_count": 16
        }
      ]
    },
    {
      "cell_type": "code",
      "metadata": {
        "colab": {
          "base_uri": "https://localhost:8080/"
        },
        "id": "Pr_eLW2aR8Yo",
        "outputId": "5e9ac8b8-8c91-462a-805c-d4e4e8c8535d"
      },
      "source": [
        "int(d) + 1"
      ],
      "execution_count": null,
      "outputs": [
        {
          "output_type": "execute_result",
          "data": {
            "text/plain": [
              "11"
            ]
          },
          "metadata": {
            "tags": []
          },
          "execution_count": 17
        }
      ]
    },
    {
      "cell_type": "markdown",
      "metadata": {
        "id": "ooMIjnGfSHRh"
      },
      "source": [
        "## เปลี่ยน int เป็น float"
      ]
    },
    {
      "cell_type": "code",
      "metadata": {
        "colab": {
          "base_uri": "https://localhost:8080/"
        },
        "id": "Yi3cdkZnSHE1",
        "outputId": "ded4535b-6747-44b8-f06a-7bc63bb1100b"
      },
      "source": [
        "print(a)\r\n",
        "print(float(a))\r\n",
        "print(str(a))"
      ],
      "execution_count": null,
      "outputs": [
        {
          "output_type": "stream",
          "text": [
            "10\n",
            "10.0\n",
            "10\n"
          ],
          "name": "stdout"
        }
      ]
    },
    {
      "cell_type": "markdown",
      "metadata": {
        "id": "0_W5Gwu0Sah0"
      },
      "source": [
        "## Operation การเอาตัวแปรสองตัวมาบวก ลบ คูณ หาร\r\n",
        "## Operator +,-,*,/,%"
      ]
    },
    {
      "cell_type": "code",
      "metadata": {
        "colab": {
          "base_uri": "https://localhost:8080/"
        },
        "id": "0T2kP-vWSHAk",
        "outputId": "e1086e98-1c72-4a66-ddff-083a568e9a16"
      },
      "source": [
        "a+b"
      ],
      "execution_count": null,
      "outputs": [
        {
          "output_type": "execute_result",
          "data": {
            "text/plain": [
              "20.0"
            ]
          },
          "metadata": {
            "tags": []
          },
          "execution_count": 19
        }
      ]
    },
    {
      "cell_type": "code",
      "metadata": {
        "colab": {
          "base_uri": "https://localhost:8080/"
        },
        "id": "KtAYnONiSG61",
        "outputId": "efb4aba5-daf7-4582-d459-307a8eb82d7e"
      },
      "source": [
        "ab = a+b\r\n",
        "print(ab)"
      ],
      "execution_count": null,
      "outputs": [
        {
          "output_type": "stream",
          "text": [
            "20.0\n"
          ],
          "name": "stdout"
        }
      ]
    },
    {
      "cell_type": "markdown",
      "metadata": {
        "id": "hPE4wCgVS-3Z"
      },
      "source": [
        "### % คือ เครื่องหมาย modulo การหารเอาเศษ"
      ]
    },
    {
      "cell_type": "code",
      "metadata": {
        "colab": {
          "base_uri": "https://localhost:8080/"
        },
        "id": "0_Hl-vvfSG0Y",
        "outputId": "4819cc7a-de8a-424d-a9d5-8aed70cf4f06"
      },
      "source": [
        "5%3"
      ],
      "execution_count": null,
      "outputs": [
        {
          "output_type": "execute_result",
          "data": {
            "text/plain": [
              "2"
            ]
          },
          "metadata": {
            "tags": []
          },
          "execution_count": 21
        }
      ]
    },
    {
      "cell_type": "code",
      "metadata": {
        "colab": {
          "base_uri": "https://localhost:8080/"
        },
        "id": "lJee3lGrTHSu",
        "outputId": "37682b4d-d525-41fe-c508-5242a2208279"
      },
      "source": [
        "7%3"
      ],
      "execution_count": null,
      "outputs": [
        {
          "output_type": "execute_result",
          "data": {
            "text/plain": [
              "1"
            ]
          },
          "metadata": {
            "tags": []
          },
          "execution_count": 22
        }
      ]
    },
    {
      "cell_type": "markdown",
      "metadata": {
        "id": "ThTb9wstTaqj"
      },
      "source": [
        "## คำสั่ง print แบบพิเศษ (การ format string)"
      ]
    },
    {
      "cell_type": "code",
      "metadata": {
        "colab": {
          "base_uri": "https://localhost:8080/"
        },
        "id": "V3mBk9uITP4n",
        "outputId": "47b3dae4-3186-4cee-d9d1-552b3a9bedd9"
      },
      "source": [
        "print('ตัวแปร') # สิงที่อยู่ในวงเล็บคือ ตัวแปร และ string"
      ],
      "execution_count": null,
      "outputs": [
        {
          "output_type": "stream",
          "text": [
            "ตัวแปร\n"
          ],
          "name": "stdout"
        }
      ]
    },
    {
      "cell_type": "code",
      "metadata": {
        "colab": {
          "base_uri": "https://localhost:8080/"
        },
        "id": "ORlgaPvqTkkD",
        "outputId": "f74568e7-7bc9-447a-965e-45fbd70019c4"
      },
      "source": [
        "print(f'% คือ การหารเอาเศษ เช่น 7%3 = {7%3}')\r\n",
        "# เพิ่ม f หน้า 'string' และใช้ {} เพื่อใส่ code"
      ],
      "execution_count": null,
      "outputs": [
        {
          "output_type": "stream",
          "text": [
            "% คือ การหารเอาเศษ เช่น 7%3 = 1\n"
          ],
          "name": "stdout"
        }
      ]
    },
    {
      "cell_type": "code",
      "metadata": {
        "colab": {
          "base_uri": "https://localhost:8080/"
        },
        "id": "J6ZThfzkTkhL",
        "outputId": "e886af74-9af3-4f63-8be0-5b3b2a9bab1c"
      },
      "source": [
        "print(f'% คือ การหารเอาเศษ เช่น 7%3 = {7%3} \\n แต่ / คือ การหารปกติ เช่น 7/3 = {7/3}' ) # \\n คือ การขึ้นบรรทัดใหม่"
      ],
      "execution_count": null,
      "outputs": [
        {
          "output_type": "stream",
          "text": [
            "% คือ การหารเอาเศษ เช่น 7%3 = 1 \n",
            " แต่ / คือ การหารปกติ เช่น 7/3 = 2.3333333333333335\n"
          ],
          "name": "stdout"
        }
      ]
    },
    {
      "cell_type": "code",
      "metadata": {
        "id": "xlufPxprTkVr",
        "colab": {
          "base_uri": "https://localhost:8080/"
        },
        "outputId": "718b3d5c-c5b5-4deb-da5d-172a8ec8dd40"
      },
      "source": [
        "print(f'% คือ การหารเอาเศษ เช่น 7%3 = {7%3} \\n แต่ / คือ การหารปกติ เช่น 7/3 = {7/3} \\\\\r\n",
        "  และ \\n// เลือกการหารเอาส่วน เช่น 7//3 = {7//3}\\\\ หรือ \\nใช้ int เพื่อหารเอาส่วน เช่น {int(7/3)}')"
      ],
      "execution_count": 6,
      "outputs": [
        {
          "output_type": "stream",
          "text": [
            "% คือ การหารเอาเศษ เช่น 7%3 = 1 \n",
            " แต่ / คือ การหารปกติ เช่น 7/3 = 2.3333333333333335 \\  และ \n",
            "// เลือกการหารเอาส่วน เช่น 7//3 = 2\\ หรือ \n",
            "ใช้ int เพื่อหารเอาส่วน เช่น 2\n"
          ],
          "name": "stdout"
        }
      ]
    },
    {
      "cell_type": "markdown",
      "metadata": {
        "id": "zwmu8_LsbU3g"
      },
      "source": [
        "DATA STRURE (โครงสร้างข้อมูล)"
      ]
    },
    {
      "cell_type": "markdown",
      "metadata": {
        "id": "FLUBSm6GbeEa"
      },
      "source": [
        "List คือ การเอาตัวแปรหลายๆตัวมาต่อกัน  list สร้างได้ 2แบบ ดังนี้"
      ]
    },
    {
      "cell_type": "markdown",
      "metadata": {
        "id": "5IBj4ORPbs78"
      },
      "source": [
        "แบบที่ 1 > square brackets"
      ]
    },
    {
      "cell_type": "code",
      "metadata": {
        "id": "D9dIVkilZGWf"
      },
      "source": [
        "list_a = []"
      ],
      "execution_count": 19,
      "outputs": []
    },
    {
      "cell_type": "code",
      "metadata": {
        "colab": {
          "base_uri": "https://localhost:8080/"
        },
        "id": "EXW4V48xb5H9",
        "outputId": "8ea7d1f1-1f87-44fd-da1d-5e22d8c32853"
      },
      "source": [
        "list_b = [1,5,'v']\r\n",
        "print(list_b)"
      ],
      "execution_count": 20,
      "outputs": [
        {
          "output_type": "stream",
          "text": [
            "[1, 5, 'v']\n"
          ],
          "name": "stdout"
        }
      ]
    },
    {
      "cell_type": "markdown",
      "metadata": {
        "id": "Hair7cSpcIak"
      },
      "source": [
        "ลำดับที่อยู่ในลิสต์มีความสำคัญ"
      ]
    },
    {
      "cell_type": "markdown",
      "metadata": {
        "id": "0-uLgZqkcSZU"
      },
      "source": [
        "### ลำดับที่อยู่ในลิสต์ มีความสำคัญ (ลำดับในลิสต์ เริ่มจาก 0,1,2,...)"
      ]
    },
    {
      "cell_type": "code",
      "metadata": {
        "colab": {
          "base_uri": "https://localhost:8080/"
        },
        "id": "EwVQ4I7kcF6E",
        "outputId": "c2d4073d-8462-43d6-9244-fa613787292a"
      },
      "source": [
        "list_b[1]"
      ],
      "execution_count": 21,
      "outputs": [
        {
          "output_type": "execute_result",
          "data": {
            "text/plain": [
              "5"
            ]
          },
          "metadata": {
            "tags": []
          },
          "execution_count": 21
        }
      ]
    },
    {
      "cell_type": "markdown",
      "metadata": {
        "id": "7OkjO1TCci5N"
      },
      "source": [
        "แบบที่ 2"
      ]
    },
    {
      "cell_type": "code",
      "metadata": {
        "colab": {
          "base_uri": "https://localhost:8080/"
        },
        "id": "RHgrDHXFchB3",
        "outputId": "6f1b8994-db0b-48c4-e700-f0e6b4bd47dd"
      },
      "source": [
        "list_c = list()\r\n",
        "print(list_c)"
      ],
      "execution_count": 22,
      "outputs": [
        {
          "output_type": "stream",
          "text": [
            "[]\n"
          ],
          "name": "stdout"
        }
      ]
    },
    {
      "cell_type": "markdown",
      "metadata": {
        "id": "zThaGAcOdBJC"
      },
      "source": [
        "append() เพิ่มสมาชิกในลิสต์"
      ]
    },
    {
      "cell_type": "code",
      "metadata": {
        "colab": {
          "base_uri": "https://localhost:8080/"
        },
        "id": "5Bqi1hkQdHQ_",
        "outputId": "3469dac2-aaa9-4ab3-fa4f-ae6c919d3ba5"
      },
      "source": [
        "list_b.append('u')\r\n",
        "print(list_b)"
      ],
      "execution_count": 23,
      "outputs": [
        {
          "output_type": "stream",
          "text": [
            "[1, 5, 'v', 'u']\n"
          ],
          "name": "stdout"
        }
      ]
    },
    {
      "cell_type": "code",
      "metadata": {
        "colab": {
          "base_uri": "https://localhost:8080/",
          "height": 35
        },
        "id": "Kf8IDuLpdeuq",
        "outputId": "b4eef52b-eb01-4634-c8c8-4bf8683d1c49"
      },
      "source": [
        "list_b.pop()"
      ],
      "execution_count": 24,
      "outputs": [
        {
          "output_type": "execute_result",
          "data": {
            "application/vnd.google.colaboratory.intrinsic+json": {
              "type": "string"
            },
            "text/plain": [
              "'u'"
            ]
          },
          "metadata": {
            "tags": []
          },
          "execution_count": 24
        }
      ]
    },
    {
      "cell_type": "code",
      "metadata": {
        "colab": {
          "base_uri": "https://localhost:8080/"
        },
        "id": "IZw9acVvdjmi",
        "outputId": "2abf01f0-a4da-471c-e23a-c31a8ce7b12a"
      },
      "source": [
        "list_b"
      ],
      "execution_count": 25,
      "outputs": [
        {
          "output_type": "execute_result",
          "data": {
            "text/plain": [
              "[1, 5, 'v']"
            ]
          },
          "metadata": {
            "tags": []
          },
          "execution_count": 25
        }
      ]
    },
    {
      "cell_type": "markdown",
      "metadata": {
        "id": "pNyUKxS7d3vb"
      },
      "source": [
        "String> list of characters"
      ]
    },
    {
      "cell_type": "code",
      "metadata": {
        "colab": {
          "base_uri": "https://localhost:8080/",
          "height": 35
        },
        "id": "APcdGgVRd-1Z",
        "outputId": "fc9318e3-aa8f-498b-89f0-47d2ed71c7f4"
      },
      "source": [
        "t='prthon is easy'\r\n",
        "t"
      ],
      "execution_count": 26,
      "outputs": [
        {
          "output_type": "execute_result",
          "data": {
            "application/vnd.google.colaboratory.intrinsic+json": {
              "type": "string"
            },
            "text/plain": [
              "'prthon is easy'"
            ]
          },
          "metadata": {
            "tags": []
          },
          "execution_count": 26
        }
      ]
    },
    {
      "cell_type": "code",
      "metadata": {
        "colab": {
          "base_uri": "https://localhost:8080/"
        },
        "id": "EffsxiJAetvf",
        "outputId": "3f07c5dc-a3bb-4736-c639-53814beb63f7"
      },
      "source": [
        "len(list_b)"
      ],
      "execution_count": 27,
      "outputs": [
        {
          "output_type": "execute_result",
          "data": {
            "text/plain": [
              "3"
            ]
          },
          "metadata": {
            "tags": []
          },
          "execution_count": 27
        }
      ]
    },
    {
      "cell_type": "markdown",
      "metadata": {
        "id": "3yBGNNLhe3M-"
      },
      "source": [
        "access a member of a list (list&string)\r\n",
        "โดยการเริ่มนับจาก 0 โดย 0 คือสมาชิกตัวแรก , -1 คือสมาชิกตัวสุดท้าบ"
      ]
    },
    {
      "cell_type": "code",
      "metadata": {
        "colab": {
          "base_uri": "https://localhost:8080/",
          "height": 35
        },
        "id": "rATKYzBrfV-P",
        "outputId": "6dfcfae1-f049-4f44-ec6e-da775e00955f"
      },
      "source": [
        "t[1]"
      ],
      "execution_count": 28,
      "outputs": [
        {
          "output_type": "execute_result",
          "data": {
            "application/vnd.google.colaboratory.intrinsic+json": {
              "type": "string"
            },
            "text/plain": [
              "'r'"
            ]
          },
          "metadata": {
            "tags": []
          },
          "execution_count": 28
        }
      ]
    },
    {
      "cell_type": "code",
      "metadata": {
        "colab": {
          "base_uri": "https://localhost:8080/",
          "height": 35
        },
        "id": "0rphelIre28Q",
        "outputId": "3d61cb40-b042-4b49-c097-0d8202528940"
      },
      "source": [
        "t[-1]"
      ],
      "execution_count": 29,
      "outputs": [
        {
          "output_type": "execute_result",
          "data": {
            "application/vnd.google.colaboratory.intrinsic+json": {
              "type": "string"
            },
            "text/plain": [
              "'y'"
            ]
          },
          "metadata": {
            "tags": []
          },
          "execution_count": 29
        }
      ]
    },
    {
      "cell_type": "code",
      "metadata": {
        "colab": {
          "base_uri": "https://localhost:8080/",
          "height": 35
        },
        "id": "S9QDJbXnfkCz",
        "outputId": "0a789bf4-e286-4d5f-b699-f74fc8ad2b3b"
      },
      "source": [
        "t[-4]"
      ],
      "execution_count": 31,
      "outputs": [
        {
          "output_type": "execute_result",
          "data": {
            "application/vnd.google.colaboratory.intrinsic+json": {
              "type": "string"
            },
            "text/plain": [
              "'e'"
            ]
          },
          "metadata": {
            "tags": []
          },
          "execution_count": 31
        }
      ]
    },
    {
      "cell_type": "markdown",
      "metadata": {
        "id": "gTuvqVaUgFWq"
      },
      "source": [
        "ตัวที่อยู่ข้างใน [] เราเรียกว่า index (ตัวชี้)"
      ]
    },
    {
      "cell_type": "markdown",
      "metadata": {
        "id": "nQNEo_mEgWD3"
      },
      "source": [
        "### List slicing สามารถทำได้โดยใช้ colon : [a:b] -> (a,b)"
      ]
    },
    {
      "cell_type": "code",
      "metadata": {
        "id": "0Fhhke0mgUdM"
      },
      "source": [
        ""
      ],
      "execution_count": null,
      "outputs": []
    },
    {
      "cell_type": "markdown",
      "metadata": {
        "id": "cvoJNIXWiPxv"
      },
      "source": [
        "ถ้าเว้นว่างหน้า : หมายความว่า เริ่มตั้งแต่ตัวแรก\r\n",
        "ถ้าเว้นว่างหลัง : หมายความว่าไปจนถึงตัวสุดท้าย"
      ]
    },
    {
      "cell_type": "code",
      "metadata": {
        "colab": {
          "base_uri": "https://localhost:8080/"
        },
        "id": "2Aqd80f0ihvt",
        "outputId": "87dc045f-8563-4753-e6ac-4964822ca59c"
      },
      "source": [
        "print(t)\r\n",
        "print(t[:6])\r\n",
        "print(t[10:])\r\n",
        "print(t[-4:])\r\n",
        "print(t[:])"
      ],
      "execution_count": 32,
      "outputs": [
        {
          "output_type": "stream",
          "text": [
            "prthon is easy\n",
            "prthon\n",
            "easy\n",
            "easy\n",
            "prthon is easy\n"
          ],
          "name": "stdout"
        }
      ]
    },
    {
      "cell_type": "markdown",
      "metadata": {
        "id": "Ood4rp6Qi99-"
      },
      "source": [
        "###เราสามารถเอา ลิสต์ มาต่อกันด้วย +"
      ]
    },
    {
      "cell_type": "code",
      "metadata": {
        "colab": {
          "base_uri": "https://localhost:8080/",
          "height": 35
        },
        "id": "YPImgXRfjI45",
        "outputId": "efdc9d13-ff7f-49fc-c650-3feb3719a6f2"
      },
      "source": [
        "t+ '??'"
      ],
      "execution_count": 33,
      "outputs": [
        {
          "output_type": "execute_result",
          "data": {
            "application/vnd.google.colaboratory.intrinsic+json": {
              "type": "string"
            },
            "text/plain": [
              "'prthon is easy??'"
            ]
          },
          "metadata": {
            "tags": []
          },
          "execution_count": 33
        }
      ]
    },
    {
      "cell_type": "code",
      "metadata": {
        "id": "pT2pm6rAjf2X"
      },
      "source": [
        "t+list_b #ไม่สามารถเอามาต่อกับสตริง"
      ],
      "execution_count": null,
      "outputs": []
    },
    {
      "cell_type": "code",
      "metadata": {
        "colab": {
          "base_uri": "https://localhost:8080/"
        },
        "id": "wvGBoI_2jOum",
        "outputId": "04327419-55fb-4c1f-a542-d799a795745d"
      },
      "source": [
        "list_b+list_b"
      ],
      "execution_count": 35,
      "outputs": [
        {
          "output_type": "execute_result",
          "data": {
            "text/plain": [
              "[1, 5, 'v', 1, 5, 'v']"
            ]
          },
          "metadata": {
            "tags": []
          },
          "execution_count": 35
        }
      ]
    },
    {
      "cell_type": "markdown",
      "metadata": {
        "id": "GhscOUy-jrSG"
      },
      "source": [
        "การแบ่ง string ตามสัญลักษณ์ที่กำหนด ->split string (c)"
      ]
    },
    {
      "cell_type": "code",
      "metadata": {
        "colab": {
          "base_uri": "https://localhost:8080/"
        },
        "id": "hUacInPLjqM3",
        "outputId": "f80da139-6a1a-4f4f-c4da-8a2f85420e2f"
      },
      "source": [
        "t.split(' ')"
      ],
      "execution_count": 36,
      "outputs": [
        {
          "output_type": "execute_result",
          "data": {
            "text/plain": [
              "['prthon', 'is', 'easy']"
            ]
          },
          "metadata": {
            "tags": []
          },
          "execution_count": 36
        }
      ]
    },
    {
      "cell_type": "code",
      "metadata": {
        "id": "qOmUFpwFkIUp"
      },
      "source": [
        "time='12:30:15'"
      ],
      "execution_count": 37,
      "outputs": []
    },
    {
      "cell_type": "code",
      "metadata": {
        "colab": {
          "base_uri": "https://localhost:8080/"
        },
        "id": "4Fi7OcVwkOXE",
        "outputId": "02797bf1-80bf-47b6-b264-bc2b134d60bb"
      },
      "source": [
        "time.split(':')"
      ],
      "execution_count": 38,
      "outputs": [
        {
          "output_type": "execute_result",
          "data": {
            "text/plain": [
              "['12', '30', '15']"
            ]
          },
          "metadata": {
            "tags": []
          },
          "execution_count": 38
        }
      ]
    },
    {
      "cell_type": "markdown",
      "metadata": {
        "id": "xCH7oCMJksbv"
      },
      "source": [
        "###HW"
      ]
    },
    {
      "cell_type": "markdown",
      "metadata": {
        "id": "JM1x5m8HlYrr"
      },
      "source": [
        "คำนวณเวลาเป็นวินาทีของเวลาต่อไปนี้โดยใช้คำสั่ง split() ช่วย\r\n",
        "12:30:15\r\n",
        "13:41:07\r\n",
        "12:53:15\r\n",
        "00:59:25\r\n",
        "11:11:11\r\n",
        "16:06:09"
      ]
    },
    {
      "cell_type": "code",
      "metadata": {
        "id": "okOYqMS3kyzx"
      },
      "source": [
        ""
      ],
      "execution_count": null,
      "outputs": []
    }
  ]
}