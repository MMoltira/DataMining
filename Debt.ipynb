{
  "nbformat": 4,
  "nbformat_minor": 0,
  "metadata": {
    "colab": {
      "name": "Debt.ipynb",
      "provenance": [],
      "authorship_tag": "ABX9TyN1tLF76AYc1PVggpS8QHHf",
      "include_colab_link": true
    },
    "kernelspec": {
      "name": "python3",
      "display_name": "Python 3"
    }
  },
  "cells": [
    {
      "cell_type": "markdown",
      "metadata": {
        "id": "view-in-github",
        "colab_type": "text"
      },
      "source": [
        "<a href=\"https://colab.research.google.com/github/MMoltira/DataMining/blob/master/Debt.ipynb\" target=\"_parent\"><img src=\"https://colab.research.google.com/assets/colab-badge.svg\" alt=\"Open In Colab\"/></a>"
      ]
    },
    {
      "cell_type": "code",
      "metadata": {
        "colab": {
          "base_uri": "https://localhost:8080/"
        },
        "id": "iWTW3X9zhaUj",
        "outputId": "eb360fe7-f88c-44fb-8e1a-0696b7b5f15e"
      },
      "source": [
        "from google.colab import drive #เอาข้อมูลเข้า\n",
        "drive.mount('/content/drive')"
      ],
      "execution_count": null,
      "outputs": [
        {
          "output_type": "stream",
          "text": [
            "Drive already mounted at /content/drive; to attempt to forcibly remount, call drive.mount(\"/content/drive\", force_remount=True).\n"
          ],
          "name": "stdout"
        }
      ]
    },
    {
      "cell_type": "code",
      "metadata": {
        "id": "GpD-X0l7hq1i"
      },
      "source": [
        "path = '/content/drive/My Drive/DWDM_material'"
      ],
      "execution_count": null,
      "outputs": []
    },
    {
      "cell_type": "code",
      "metadata": {
        "id": "w7PHSOxPh26A"
      },
      "source": [
        "import os \n",
        "import pandas as pd\n",
        "import numpy as np\n",
        "import matplotlib.pyplot as plt"
      ],
      "execution_count": null,
      "outputs": []
    },
    {
      "cell_type": "code",
      "metadata": {
        "id": "-qv5hD0Gh8j6"
      },
      "source": [
        "avg_Debt_1 = os.path.join(path,'avg_Debt_1.csv')"
      ],
      "execution_count": null,
      "outputs": []
    },
    {
      "cell_type": "code",
      "metadata": {
        "colab": {
          "base_uri": "https://localhost:8080/",
          "height": 419
        },
        "id": "QSGPYg7WiCoG",
        "outputId": "ac64723a-44e9-4b9c-d537-32b2fc091ad6"
      },
      "source": [
        "avg_Debt_1 = pd.read_csv(avg_Debt_1)\n",
        "avg_Debt_1"
      ],
      "execution_count": null,
      "outputs": [
        {
          "output_type": "execute_result",
          "data": {
            "text/html": [
              "<div>\n",
              "<style scoped>\n",
              "    .dataframe tbody tr th:only-of-type {\n",
              "        vertical-align: middle;\n",
              "    }\n",
              "\n",
              "    .dataframe tbody tr th {\n",
              "        vertical-align: top;\n",
              "    }\n",
              "\n",
              "    .dataframe thead th {\n",
              "        text-align: right;\n",
              "    }\n",
              "</style>\n",
              "<table border=\"1\" class=\"dataframe\">\n",
              "  <thead>\n",
              "    <tr style=\"text-align: right;\">\n",
              "      <th></th>\n",
              "      <th>จังหวัด</th>\n",
              "      <th>avg_debt</th>\n",
              "    </tr>\n",
              "  </thead>\n",
              "  <tbody>\n",
              "    <tr>\n",
              "      <th>0</th>\n",
              "      <td>กรุงเทพมหานคร 53</td>\n",
              "      <td>207665.0</td>\n",
              "    </tr>\n",
              "    <tr>\n",
              "      <th>1</th>\n",
              "      <td>สมุทรปราการ 53</td>\n",
              "      <td>117360.8</td>\n",
              "    </tr>\n",
              "    <tr>\n",
              "      <th>2</th>\n",
              "      <td>นนทบุรี 53</td>\n",
              "      <td>240769.0</td>\n",
              "    </tr>\n",
              "    <tr>\n",
              "      <th>3</th>\n",
              "      <td>ปทุมธานี 53</td>\n",
              "      <td>220761.2</td>\n",
              "    </tr>\n",
              "    <tr>\n",
              "      <th>4</th>\n",
              "      <td>พระนครศรีอยุธยา 53</td>\n",
              "      <td>163424.5</td>\n",
              "    </tr>\n",
              "    <tr>\n",
              "      <th>...</th>\n",
              "      <td>...</td>\n",
              "      <td>...</td>\n",
              "    </tr>\n",
              "    <tr>\n",
              "      <th>226</th>\n",
              "      <td>ตรัง 55</td>\n",
              "      <td>160207.0</td>\n",
              "    </tr>\n",
              "    <tr>\n",
              "      <th>227</th>\n",
              "      <td>พัทลุง 55</td>\n",
              "      <td>162248.7</td>\n",
              "    </tr>\n",
              "    <tr>\n",
              "      <th>228</th>\n",
              "      <td>ปัตตานี 55</td>\n",
              "      <td>109102.5</td>\n",
              "    </tr>\n",
              "    <tr>\n",
              "      <th>229</th>\n",
              "      <td>ยะลา 55</td>\n",
              "      <td>35828.9</td>\n",
              "    </tr>\n",
              "    <tr>\n",
              "      <th>230</th>\n",
              "      <td>นราธิวาส 55</td>\n",
              "      <td>44974.1</td>\n",
              "    </tr>\n",
              "  </tbody>\n",
              "</table>\n",
              "<p>231 rows × 2 columns</p>\n",
              "</div>"
            ],
            "text/plain": [
              "                จังหวัด  avg_debt\n",
              "0      กรุงเทพมหานคร 53  207665.0\n",
              "1        สมุทรปราการ 53  117360.8\n",
              "2            นนทบุรี 53  240769.0\n",
              "3           ปทุมธานี 53  220761.2\n",
              "4    พระนครศรีอยุธยา 53  163424.5\n",
              "..                  ...       ...\n",
              "226             ตรัง 55  160207.0\n",
              "227           พัทลุง 55  162248.7\n",
              "228          ปัตตานี 55  109102.5\n",
              "229             ยะลา 55   35828.9\n",
              "230         นราธิวาส 55   44974.1\n",
              "\n",
              "[231 rows x 2 columns]"
            ]
          },
          "metadata": {
            "tags": []
          },
          "execution_count": 6
        }
      ]
    },
    {
      "cell_type": "code",
      "metadata": {
        "colab": {
          "base_uri": "https://localhost:8080/"
        },
        "id": "V09zJDZYitzc",
        "outputId": "3716811f-a151-49a9-9acc-a9de0aa3b716"
      },
      "source": [
        "avg_Debt_1.shape"
      ],
      "execution_count": null,
      "outputs": [
        {
          "output_type": "execute_result",
          "data": {
            "text/plain": [
              "(231, 2)"
            ]
          },
          "metadata": {
            "tags": []
          },
          "execution_count": 7
        }
      ]
    },
    {
      "cell_type": "code",
      "metadata": {
        "colab": {
          "base_uri": "https://localhost:8080/"
        },
        "id": "BxYrwLLHiy9p",
        "outputId": "8524d565-a546-40a9-8f84-7d8e16924bd1"
      },
      "source": [
        "avg_Debt_1.isnull().any()"
      ],
      "execution_count": null,
      "outputs": [
        {
          "output_type": "execute_result",
          "data": {
            "text/plain": [
              "จังหวัด     False\n",
              "avg_debt     True\n",
              "dtype: bool"
            ]
          },
          "metadata": {
            "tags": []
          },
          "execution_count": 8
        }
      ]
    },
    {
      "cell_type": "code",
      "metadata": {
        "id": "5qRUpEadi6SD"
      },
      "source": [
        "avg_Debt_1[['avg_debt']] = avg_Debt_1[['avg_debt']].fillna(0) "
      ],
      "execution_count": null,
      "outputs": []
    },
    {
      "cell_type": "code",
      "metadata": {
        "colab": {
          "base_uri": "https://localhost:8080/"
        },
        "id": "fLKt99HjjD_H",
        "outputId": "0b226b7a-33f2-4393-fc1e-321b40d899aa"
      },
      "source": [
        "avg_Debt_1.isnull().any()"
      ],
      "execution_count": null,
      "outputs": [
        {
          "output_type": "execute_result",
          "data": {
            "text/plain": [
              "จังหวัด     False\n",
              "avg_debt    False\n",
              "dtype: bool"
            ]
          },
          "metadata": {
            "tags": []
          },
          "execution_count": 10
        }
      ]
    },
    {
      "cell_type": "code",
      "metadata": {
        "id": "ZanLib3_axtv"
      },
      "source": [
        "avg_Debt_1 = avg_Debt_1.sort_values('avg_debt')"
      ],
      "execution_count": null,
      "outputs": []
    },
    {
      "cell_type": "code",
      "metadata": {
        "colab": {
          "base_uri": "https://localhost:8080/",
          "height": 419
        },
        "id": "s01Ef7zZa_cV",
        "outputId": "ca1ae0ff-5211-44f3-b5c1-9ccb42f1885c"
      },
      "source": [
        "avg_Debt_1"
      ],
      "execution_count": null,
      "outputs": [
        {
          "output_type": "execute_result",
          "data": {
            "text/html": [
              "<div>\n",
              "<style scoped>\n",
              "    .dataframe tbody tr th:only-of-type {\n",
              "        vertical-align: middle;\n",
              "    }\n",
              "\n",
              "    .dataframe tbody tr th {\n",
              "        vertical-align: top;\n",
              "    }\n",
              "\n",
              "    .dataframe thead th {\n",
              "        text-align: right;\n",
              "    }\n",
              "</style>\n",
              "<table border=\"1\" class=\"dataframe\">\n",
              "  <thead>\n",
              "    <tr style=\"text-align: right;\">\n",
              "      <th></th>\n",
              "      <th>จังหวัด</th>\n",
              "      <th>avg_debt</th>\n",
              "    </tr>\n",
              "  </thead>\n",
              "  <tbody>\n",
              "    <tr>\n",
              "      <th>128</th>\n",
              "      <td>บึงกาฬ 54</td>\n",
              "      <td>0.0</td>\n",
              "    </tr>\n",
              "    <tr>\n",
              "      <th>51</th>\n",
              "      <td>บึงกาฬ 53</td>\n",
              "      <td>0.0</td>\n",
              "    </tr>\n",
              "    <tr>\n",
              "      <th>100</th>\n",
              "      <td>สมุทรสงคราม 54</td>\n",
              "      <td>9244.0</td>\n",
              "    </tr>\n",
              "    <tr>\n",
              "      <th>177</th>\n",
              "      <td>สมุทรสงคราม 55</td>\n",
              "      <td>9857.2</td>\n",
              "    </tr>\n",
              "    <tr>\n",
              "      <th>75</th>\n",
              "      <td>ยะลา 53</td>\n",
              "      <td>18901.5</td>\n",
              "    </tr>\n",
              "    <tr>\n",
              "      <th>...</th>\n",
              "      <td>...</td>\n",
              "      <td>...</td>\n",
              "    </tr>\n",
              "    <tr>\n",
              "      <th>156</th>\n",
              "      <td>นนทบุรี 55</td>\n",
              "      <td>260752.2</td>\n",
              "    </tr>\n",
              "    <tr>\n",
              "      <th>162</th>\n",
              "      <td>ชัยนาท 55</td>\n",
              "      <td>264144.0</td>\n",
              "    </tr>\n",
              "    <tr>\n",
              "      <th>154</th>\n",
              "      <td>กรุงเทพมหานคร 55</td>\n",
              "      <td>275576.8</td>\n",
              "    </tr>\n",
              "    <tr>\n",
              "      <th>5</th>\n",
              "      <td>อ่างทอง 53</td>\n",
              "      <td>309493.7</td>\n",
              "    </tr>\n",
              "    <tr>\n",
              "      <th>157</th>\n",
              "      <td>ปทุมธานี 55</td>\n",
              "      <td>386957.4</td>\n",
              "    </tr>\n",
              "  </tbody>\n",
              "</table>\n",
              "<p>231 rows × 2 columns</p>\n",
              "</div>"
            ],
            "text/plain": [
              "              จังหวัด  avg_debt\n",
              "128         บึงกาฬ 54       0.0\n",
              "51          บึงกาฬ 53       0.0\n",
              "100    สมุทรสงคราม 54    9244.0\n",
              "177    สมุทรสงคราม 55    9857.2\n",
              "75            ยะลา 53   18901.5\n",
              "..                ...       ...\n",
              "156        นนทบุรี 55  260752.2\n",
              "162         ชัยนาท 55  264144.0\n",
              "154  กรุงเทพมหานคร 55  275576.8\n",
              "5          อ่างทอง 53  309493.7\n",
              "157       ปทุมธานี 55  386957.4\n",
              "\n",
              "[231 rows x 2 columns]"
            ]
          },
          "metadata": {
            "tags": []
          },
          "execution_count": 12
        }
      ]
    },
    {
      "cell_type": "code",
      "metadata": {
        "id": "qJ5ObL8kKUQ3"
      },
      "source": [
        "import pandas as pd\n",
        "import numpy as np\n",
        "import matplotlib.pyplot as plt\n",
        "import seaborn as sns\n",
        "%matplotlib inline\n",
        "%config InlineBackend.figure_format='retina'"
      ],
      "execution_count": null,
      "outputs": []
    },
    {
      "cell_type": "code",
      "metadata": {
        "colab": {
          "base_uri": "https://localhost:8080/"
        },
        "id": "Ef7fei_rKYYR",
        "outputId": "8997f451-d5b2-40e0-ab37-dcd0677726c8"
      },
      "source": [
        "print(f'pandas  version = {pd.__version__}')\n",
        "print(f'numpy   version = {np.__version__}')\n",
        "print(f'seaborn version = {sns.__version__}')"
      ],
      "execution_count": null,
      "outputs": [
        {
          "output_type": "stream",
          "text": [
            "pandas  version = 1.1.4\n",
            "numpy   version = 1.18.5\n",
            "seaborn version = 0.11.0\n"
          ],
          "name": "stdout"
        }
      ]
    },
    {
      "cell_type": "code",
      "metadata": {
        "id": "06eLhTgakYJQ"
      },
      "source": [
        "from sklearn.cluster import KMeans"
      ],
      "execution_count": null,
      "outputs": []
    },
    {
      "cell_type": "code",
      "metadata": {
        "id": "FTnwNz6vkeIJ"
      },
      "source": [
        "X = avg_Debt_1[['avg_debt']]\n",
        "# X = df[[''avg_debt 53',\t'avg_debt 54',\t'avg_debt 55'']]"
      ],
      "execution_count": null,
      "outputs": []
    },
    {
      "cell_type": "code",
      "metadata": {
        "id": "n-WJN7x5kt3C"
      },
      "source": [
        "from sklearn.datasets import make_blobs"
      ],
      "execution_count": null,
      "outputs": []
    },
    {
      "cell_type": "code",
      "metadata": {
        "id": "E2Yp-xLikxB5"
      },
      "source": [
        "Xmean=make_blobs(n_samples=231, centers=3, n_features=2, random_state=6)"
      ],
      "execution_count": null,
      "outputs": []
    },
    {
      "cell_type": "code",
      "metadata": {
        "colab": {
          "base_uri": "https://localhost:8080/"
        },
        "id": "89QV1aRek9Sz",
        "outputId": "a1a9644e-c9b7-4a2d-f12f-9b61bd551737"
      },
      "source": [
        "X.shape "
      ],
      "execution_count": null,
      "outputs": [
        {
          "output_type": "execute_result",
          "data": {
            "text/plain": [
              "(231, 2)"
            ]
          },
          "metadata": {
            "tags": []
          },
          "execution_count": 199
        }
      ]
    },
    {
      "cell_type": "code",
      "metadata": {
        "colab": {
          "base_uri": "https://localhost:8080/",
          "height": 282
        },
        "id": "0pre7OiTlBg4",
        "outputId": "409cf17b-b491-482a-a84c-d30ff3c55130"
      },
      "source": [
        "from matplotlib import pyplot as plt\n",
        "plt.scatter(X[:,0],X[:,1]) #จะแบ่งเป็น 3 กลุ่ม ตาม centers=3"
      ],
      "execution_count": null,
      "outputs": [
        {
          "output_type": "execute_result",
          "data": {
            "text/plain": [
              "<matplotlib.collections.PathCollection at 0x7f086be8f128>"
            ]
          },
          "metadata": {
            "tags": []
          },
          "execution_count": 200
        },
        {
          "output_type": "display_data",
          "data": {
            "image/png": "[encoded data removed]",
            "text/plain": [
              "<Figure size 432x288 with 1 Axes>"
            ]
          },
          "metadata": {
            "tags": [],
            "image/png": {
              "width": 386,
              "height": 248
            },
            "needs_background": "light"
          }
        }
      ]
    },
    {
      "cell_type": "code",
      "metadata": {
        "id": "E40aECMpSrvN"
      },
      "source": [
        "from sklearn.cluster import KMeans"
      ],
      "execution_count": null,
      "outputs": []
    },
    {
      "cell_type": "code",
      "metadata": {
        "id": "uk8Sht_HlOHW"
      },
      "source": [
        "KMclust=KMeans(n_clusters=2) # n_clusters=2 การกำหนดตัวแบ่งว่าจะแบ่งให้มีกลุ่ม 2 กลุ่ม"
      ],
      "execution_count": null,
      "outputs": []
    },
    {
      "cell_type": "code",
      "metadata": {
        "colab": {
          "base_uri": "https://localhost:8080/"
        },
        "id": "Gw7yCHIMlTDe",
        "outputId": "54431cb2-ac42-4f56-81fc-679954b2182e"
      },
      "source": [
        "KMclust.fit(X)"
      ],
      "execution_count": null,
      "outputs": [
        {
          "output_type": "execute_result",
          "data": {
            "text/plain": [
              "KMeans(algorithm='auto', copy_x=True, init='k-means++', max_iter=300,\n",
              "       n_clusters=2, n_init=10, n_jobs=None, precompute_distances='auto',\n",
              "       random_state=None, tol=0.0001, verbose=0)"
            ]
          },
          "metadata": {
            "tags": []
          },
          "execution_count": 203
        }
      ]
    },
    {
      "cell_type": "code",
      "metadata": {
        "id": "5KbQ0eymlWBO"
      },
      "source": [
        "label=KMclust.predict(X) # predict ว่าอยู่ในกลุ่มไหน"
      ],
      "execution_count": null,
      "outputs": []
    },
    {
      "cell_type": "code",
      "metadata": {
        "colab": {
          "base_uri": "https://localhost:8080/",
          "height": 282
        },
        "id": "uv5j3VealZDf",
        "outputId": "5129ba67-91cc-40bd-9c2f-001a1729a334"
      },
      "source": [
        "plt.scatter(X[:,0], X[:,1], c=label) # เปลี่ยนสีให้เป็นไปตาม label ของเราโดยการสุ่ม"
      ],
      "execution_count": null,
      "outputs": [
        {
          "output_type": "execute_result",
          "data": {
            "text/plain": [
              "<matplotlib.collections.PathCollection at 0x7f086be55f28>"
            ]
          },
          "metadata": {
            "tags": []
          },
          "execution_count": 205
        },
        {
          "output_type": "display_data",
          "data": {
            "image/png": "[encoded data removed]",
            "text/plain": [
              "<Figure size 432x288 with 1 Axes>"
            ]
          },
          "metadata": {
            "tags": [],
            "image/png": {
              "width": 386,
              "height": 248
            },
            "needs_background": "light"
          }
        }
      ]
    },
    {
      "cell_type": "code",
      "metadata": {
        "id": "9Q-4nAnkjZ6y"
      },
      "source": [
        "n_krachuk = 2 # จำนวนกระจุก\n",
        "n_thamsam = 100 # จำนวนทำซ้ำสูงสุด\n",
        "tol = 0.0001 # ค่าความเปลี่ยนแปลงสูงสุดที่ยอมให้หยุดได้\n",
        "sumlueak = np.random.choice(len(X),n_krachuk,replace=0)\n",
        "X_cen = X[sumlueak] # จุดเซนทรอยด์ตั้งต้น เลือกแบบสุ่ม\n",
        "# วนซ้ำเพื่อปรับเซนทรอยด์\n",
        "for i in range(n_thamsam):\n",
        "    raya2 = ((X_cen[None]-X[:,None])**2).sum(2) # วัดระยะห่างจากจุดถึงเซนทรอยด์\n",
        "    klum = raya2.argmin(1) # ตัดสินกลุ่มของจุดโดยเลือกเซนทรอยด์ที่ใกล้สุด\n",
        "    X_cen_mai = np.empty_like(X_cen) # จุดเซนทรอยด์ใหม่\n",
        "    # วนซ้ำเพื่อหาตำแหน่งเซนทรอยด์ใหม่\n",
        "    for j in range(n_krachuk):\n",
        "        if(len(X[klum==j])): # ถ้ามีสมาชิกในกลุ่ม\n",
        "            X_cen_mai[j] = X[klum==j].mean(0) # กำหนดเซนทรอยด์ใหม่เป็นตำแหน่งเฉลี่ยของทุกจุดในกลุ่ม\n",
        "        else: # ถ้าในกลุ่มว่างเปล่าก็ให้สุ่มเซนทรอยด์ใหม่\n",
        "            X_cen_mai[j] = X[np.random.randint(len(X))]\n",
        "    if(np.allclose(X_cen,X_cen_mai,atol=tol)): # ถ้าความเปลี่ยนแปลงน้อยกว่าค่าที่กำหนดก็ให้หยุด\n",
        "        X_cen = X_cen_mai\n",
        "        break\n",
        "    X_cen = X_cen_mai # ย้ายจุดเซนทรอยด์ไปยังตำแหน่งใหม่"
      ],
      "execution_count": null,
      "outputs": []
    },
    {
      "cell_type": "code",
      "metadata": {
        "colab": {
          "base_uri": "https://localhost:8080/",
          "height": 294
        },
        "id": "uSPTro9ajrjR",
        "outputId": "7b5f3314-1e07-4a68-c7b0-523dafb91555"
      },
      "source": [
        "raya2 = ((X_cen[None]-X[:,None])**2).sum(2)\n",
        "z = raya2.argmin(1)\n",
        "plt.gca(aspect=1)\n",
        "plt.scatter(X[:,0],X[:,1],c=z,edgecolor='k',cmap='rainbow')\n",
        "plt.scatter(X_cen[:,0],X_cen[:,1],300,'#EEAA55',marker='*',edgecolor='#9999DD',lw=2, label = 'Centroids')\n",
        "plt.scatter(X[0,0], X[0,1], c = 'red', label = 'Cluster 0')\n",
        "plt.scatter(X[1,0], X[1,1], c = 'purple', label = 'Cluster 1')\n",
        "plt.title('Clusters of Debt')\n",
        "plt.xlabel('Debt Score')\n",
        "plt.legend()\n",
        "plt.show()"
      ],
      "execution_count": null,
      "outputs": [
        {
          "output_type": "display_data",
          "data": {
            "image/png": "[encoded data removed]",
            "text/plain": [
              "<Figure size 432x288 with 1 Axes>"
            ]
          },
          "metadata": {
            "tags": [],
            "image/png": {
              "width": 325,
              "height": 277
            },
            "needs_background": "light"
          }
        }
      ]
    },
    {
      "cell_type": "code",
      "metadata": {
        "colab": {
          "base_uri": "https://localhost:8080/"
        },
        "id": "E0l_e0ymlvpz",
        "outputId": "80d6aed6-e546-49e5-b09e-a23955c788c7"
      },
      "source": [
        "sse = 0\n",
        "for i in range(n_krachuk):\n",
        "    sse += np.sum(raya2[z==i,i])\n",
        "print(sse)"
      ],
      "execution_count": null,
      "outputs": [
        {
          "output_type": "stream",
          "text": [
            "1751.9669425508212\n"
          ],
          "name": "stdout"
        }
      ]
    },
    {
      "cell_type": "code",
      "metadata": {
        "colab": {
          "base_uri": "https://localhost:8080/"
        },
        "id": "TEyo6_rBovyL",
        "outputId": "675c26ea-f7ea-4127-a9af-d5bfcf298c03"
      },
      "source": [
        "KMclust.cluster_centers_"
      ],
      "execution_count": null,
      "outputs": [
        {
          "output_type": "execute_result",
          "data": {
            "text/plain": [
              "array([[ 7.17049205, -6.18852947],\n",
              "       [-7.79775007,  1.78610777]])"
            ]
          },
          "metadata": {
            "tags": []
          },
          "execution_count": 212
        }
      ]
    },
    {
      "cell_type": "code",
      "metadata": {
        "colab": {
          "base_uri": "https://localhost:8080/"
        },
        "id": "pfmXyC8Go00d",
        "outputId": "793f2cd4-8402-4850-d9e9-991aced1512a"
      },
      "source": [
        "KMclust.transform(X) # the distance between each point and centroid"
      ],
      "execution_count": null,
      "outputs": [
        {
          "output_type": "execute_result",
          "data": {
            "text/plain": [
              "array([[ 4.35657384, 19.46286796],\n",
              "       [ 2.71215952, 17.25282908],\n",
              "       [ 2.70884496, 16.22743323],\n",
              "       [ 5.05983897, 17.45766143],\n",
              "       [ 2.02897205, 16.04954075],\n",
              "       [ 2.56177615, 16.71518607],\n",
              "       [15.64664579,  1.34745187],\n",
              "       [ 3.4711508 , 18.87195087],\n",
              "       [16.62190693,  1.50652845],\n",
              "       [ 2.7266152 , 17.23167107],\n",
              "       [16.6160869 ,  0.34904234],\n",
              "       [ 4.03944671, 16.52353791],\n",
              "       [ 3.85827321, 14.22449676],\n",
              "       [17.02789616,  0.19453677],\n",
              "       [ 3.61896268, 18.53323763],\n",
              "       [17.58481661,  0.66590015],\n",
              "       [ 2.30713982, 17.77093305],\n",
              "       [17.02693124,  1.03696265],\n",
              "       [17.19176311,  0.52754238],\n",
              "       [15.33005926,  1.64582881],\n",
              "       [15.60783922,  1.39409006],\n",
              "       [ 2.91852292, 16.48022043],\n",
              "       [ 3.12708999, 18.0930437 ],\n",
              "       [ 2.26100905, 17.36691817],\n",
              "       [15.76940085,  2.22813124],\n",
              "       [ 2.44106119, 17.36937133],\n",
              "       [ 4.77217036, 18.84251956],\n",
              "       [ 3.43700643, 18.43292038],\n",
              "       [ 2.62046403, 15.83178334],\n",
              "       [ 3.78488878, 15.45391096],\n",
              "       [18.27095342,  1.99299132],\n",
              "       [ 1.56324951, 16.83960694],\n",
              "       [16.75371194,  0.90237552],\n",
              "       [17.99806036,  1.10319419],\n",
              "       [18.03998532,  1.48168548],\n",
              "       [17.56146377,  2.30147336],\n",
              "       [18.03457152,  1.6424483 ],\n",
              "       [ 3.93438264, 18.80407863],\n",
              "       [18.83735603,  2.53177927],\n",
              "       [ 2.78424162, 18.4314105 ],\n",
              "       [ 2.81351594, 16.47348457],\n",
              "       [ 3.63284958, 20.19513526],\n",
              "       [ 6.09384017, 18.70041437],\n",
              "       [ 2.63440943, 15.61776043],\n",
              "       [ 3.33192603, 14.40794046],\n",
              "       [ 4.7021245 , 19.1888418 ],\n",
              "       [ 2.51784087, 18.99701274],\n",
              "       [14.53163148,  2.43245519],\n",
              "       [16.58660531,  0.60295049],\n",
              "       [ 1.79897043, 16.30969024],\n",
              "       [18.7272747 ,  1.76992575],\n",
              "       [16.13501412,  1.8417125 ],\n",
              "       [ 1.52013306, 16.94408744],\n",
              "       [ 2.98809468, 17.83782548],\n",
              "       [ 2.27260428, 17.18193776],\n",
              "       [ 3.87112346, 16.85636341],\n",
              "       [ 1.53656764, 17.41236322],\n",
              "       [ 1.17280103, 17.8921282 ],\n",
              "       [ 2.01816388, 16.94087115],\n",
              "       [ 2.88811723, 15.7398409 ],\n",
              "       [ 2.45752212, 15.35969285],\n",
              "       [15.95106526,  1.24464901],\n",
              "       [ 3.21444879, 18.95681337],\n",
              "       [ 2.73149932, 15.57485913],\n",
              "       [ 3.95901521, 16.72110117],\n",
              "       [ 2.60743405, 17.54597233],\n",
              "       [ 3.4001422 , 16.14671619],\n",
              "       [18.83873441,  2.86720509],\n",
              "       [16.70442269,  0.69815203],\n",
              "       [ 4.50821291, 12.82307252],\n",
              "       [ 2.6303264 , 16.60343624],\n",
              "       [ 3.03416063, 17.84095161],\n",
              "       [ 3.91903739, 19.28778482],\n",
              "       [ 4.075039  , 17.03882187],\n",
              "       [ 5.16921753, 15.44132246],\n",
              "       [17.06912965,  0.21011696],\n",
              "       [ 4.01655417, 16.34154496],\n",
              "       [ 1.36016918, 17.9783375 ],\n",
              "       [ 3.0083846 , 15.50797925],\n",
              "       [ 4.56050649, 18.75340136],\n",
              "       [ 4.1069742 , 18.12396319],\n",
              "       [17.04904893,  0.19108444],\n",
              "       [17.99057122,  1.2469916 ],\n",
              "       [ 1.82929176, 16.99671227],\n",
              "       [17.61821607,  0.66916481],\n",
              "       [17.42178028,  0.58848966],\n",
              "       [15.25709319,  2.04667884],\n",
              "       [ 2.5424552 , 17.16547398],\n",
              "       [ 2.21452652, 18.39677901],\n",
              "       [ 2.76427917, 17.00630792],\n",
              "       [ 2.25462519, 17.94514003],\n",
              "       [ 3.06301053, 16.54518734],\n",
              "       [18.28785267,  1.64761666],\n",
              "       [ 4.56650414, 17.597018  ],\n",
              "       [ 4.39171098, 18.11767763],\n",
              "       [ 1.77542959, 15.96302927],\n",
              "       [ 2.39450126, 15.99630643],\n",
              "       [17.80174237,  0.84446374],\n",
              "       [ 4.08097128, 15.80988501],\n",
              "       [18.64051702,  1.69950804],\n",
              "       [ 4.12301358, 17.49440297],\n",
              "       [ 3.06981617, 15.96417387],\n",
              "       [ 3.78665929, 18.89446129],\n",
              "       [ 4.19587728, 17.78110935],\n",
              "       [ 2.23974545, 18.05546306],\n",
              "       [16.92185923,  0.49866462],\n",
              "       [ 3.35862115, 17.60093557],\n",
              "       [17.74482329,  1.45468446],\n",
              "       [16.04859319,  1.25471999],\n",
              "       [17.82810598,  1.37343319],\n",
              "       [ 2.70559454, 17.97033302],\n",
              "       [ 3.62429403, 15.72878204],\n",
              "       [ 2.0614413 , 17.82446973],\n",
              "       [17.17322517,  0.70022634],\n",
              "       [ 4.07476899, 16.87946887],\n",
              "       [ 2.01691216, 17.95185078],\n",
              "       [16.49543936,  1.28390838],\n",
              "       [ 1.34998842, 16.46177683],\n",
              "       [ 2.91829214, 16.59478439],\n",
              "       [ 3.24201161, 17.22081663],\n",
              "       [ 3.19445654, 16.48351938],\n",
              "       [ 2.45962614, 14.79097691],\n",
              "       [ 4.75615465, 16.35321074],\n",
              "       [ 3.88988338, 18.38807688],\n",
              "       [ 2.31983711, 18.45810676],\n",
              "       [ 4.43376296, 17.49949346],\n",
              "       [17.19161104,  0.93768222],\n",
              "       [ 3.58330709, 18.48112098],\n",
              "       [ 3.25014622, 18.60075286],\n",
              "       [ 2.4578405 , 16.07906419],\n",
              "       [ 2.41979388, 17.02333405],\n",
              "       [ 4.20329413, 16.860217  ],\n",
              "       [16.84289403,  0.18243545],\n",
              "       [ 2.23882045, 17.65097887],\n",
              "       [ 1.98845891, 16.99297613],\n",
              "       [17.91609104,  1.12209017],\n",
              "       [ 3.75521044, 15.0668652 ],\n",
              "       [18.46150008,  1.66277316],\n",
              "       [ 2.29535936, 16.91711252],\n",
              "       [ 2.45763675, 17.53698863],\n",
              "       [16.20543852,  0.84095406],\n",
              "       [ 3.31374953, 18.74072352],\n",
              "       [ 3.65729499, 17.25971489],\n",
              "       [ 3.50762547, 17.8253299 ],\n",
              "       [ 2.13865361, 17.24037346],\n",
              "       [ 1.4607609 , 17.19994605],\n",
              "       [16.12136079,  1.30847933],\n",
              "       [ 2.35318766, 15.54343808],\n",
              "       [ 3.83133   , 17.70779582],\n",
              "       [16.03521006,  0.93252684],\n",
              "       [ 2.77971903, 16.60043027],\n",
              "       [17.32132708,  0.92652719],\n",
              "       [16.15484313,  0.93249525],\n",
              "       [ 2.64438341, 18.49808285],\n",
              "       [ 2.95513698, 14.72275055],\n",
              "       [ 1.88931135, 16.93219503],\n",
              "       [16.98354651,  1.42390057],\n",
              "       [16.64078763,  0.81041821],\n",
              "       [17.03583299,  0.09012682],\n",
              "       [ 1.50983989, 17.16759161],\n",
              "       [ 2.42958705, 18.03552144],\n",
              "       [14.90220486,  2.05798904],\n",
              "       [ 3.41467414, 17.32770958],\n",
              "       [16.37547528,  1.04061471],\n",
              "       [ 2.94808886, 15.99051121],\n",
              "       [ 3.85887658, 19.80232854],\n",
              "       [ 4.19594137, 15.63520798],\n",
              "       [15.72737201,  1.33005235],\n",
              "       [ 2.53348978, 16.53823752],\n",
              "       [ 3.72648065, 18.07113222],\n",
              "       [ 3.34092834, 18.17105329],\n",
              "       [ 2.71099665, 16.59786995],\n",
              "       [15.54363133,  1.45901517],\n",
              "       [ 3.59339718, 16.11067932],\n",
              "       [18.91914737,  1.98603883],\n",
              "       [ 4.43044897, 19.23964937],\n",
              "       [ 3.02391434, 17.88806975],\n",
              "       [ 2.78692861, 17.66118738],\n",
              "       [ 1.16091305, 16.85169316],\n",
              "       [ 3.2394761 , 16.00079409],\n",
              "       [17.1932281 ,  0.44056281],\n",
              "       [16.72268384,  0.49340016],\n",
              "       [17.63503499,  0.93644229],\n",
              "       [18.45707461,  1.51954611],\n",
              "       [19.12796373,  2.22310431],\n",
              "       [ 3.10182166, 17.95734754],\n",
              "       [16.39863165,  0.649801  ],\n",
              "       [ 3.08666594, 16.36276856],\n",
              "       [ 4.15188552, 13.83189275],\n",
              "       [ 2.69699758, 16.10289331],\n",
              "       [15.55889799,  1.41290881],\n",
              "       [15.60816625,  1.51669785],\n",
              "       [ 3.07990036, 17.04760612],\n",
              "       [ 3.63647386, 18.25636131],\n",
              "       [ 4.04929885, 19.82012771],\n",
              "       [ 4.07165953, 16.64991081],\n",
              "       [ 4.54024882, 16.01876395],\n",
              "       [17.42247892,  1.28103003],\n",
              "       [ 3.36735565, 18.50614972],\n",
              "       [17.57225361,  1.08607216],\n",
              "       [ 2.29130143, 16.81417548],\n",
              "       [ 2.16330676, 18.07664592],\n",
              "       [ 2.23998361, 16.84635214],\n",
              "       [ 2.61450007, 17.73523228],\n",
              "       [ 2.54852051, 18.57224863],\n",
              "       [ 3.79803582, 17.55579435],\n",
              "       [ 3.5252263 , 18.16217238],\n",
              "       [17.94195261,  1.89253713],\n",
              "       [ 4.0153827 , 18.82928052],\n",
              "       [ 2.74100613, 17.9098001 ],\n",
              "       [16.05321209,  0.91189524],\n",
              "       [18.43003457,  1.58406234],\n",
              "       [ 3.39887447, 18.34225764],\n",
              "       [ 2.35021929, 17.13100533],\n",
              "       [ 1.85578271, 16.35707693],\n",
              "       [15.45625925,  1.62219092],\n",
              "       [17.37852865,  2.36738786],\n",
              "       [17.34145343,  1.03794504],\n",
              "       [ 1.32906842, 17.37709693],\n",
              "       [ 3.04009756, 16.73611362],\n",
              "       [ 3.53143466, 18.07716746],\n",
              "       [ 2.72637449, 17.56375419],\n",
              "       [ 3.05653743, 15.70551996],\n",
              "       [ 1.64971319, 17.68824137],\n",
              "       [14.92939406,  2.52872159],\n",
              "       [15.06493088,  2.84924721],\n",
              "       [18.25881215,  1.30288311],\n",
              "       [ 4.09919972, 18.10067932],\n",
              "       [17.74079602,  0.78122815],\n",
              "       [16.47103052,  0.81231031],\n",
              "       [ 4.37287979, 18.11536364]])"
            ]
          },
          "metadata": {
            "tags": []
          },
          "execution_count": 213
        }
      ]
    },
    {
      "cell_type": "code",
      "metadata": {
        "colab": {
          "base_uri": "https://localhost:8080/"
        },
        "id": "s9-lFHAspeo0",
        "outputId": "1cc26f1e-50e4-4ea4-f703-ff2a851afe82"
      },
      "source": [
        "ssd=[]\n",
        "for k in range(2, 10):\n",
        "    m=KMeans(n_clusters=k)\n",
        "    m.fit(X)\n",
        "    ssd.append([k, m.inertia_])\n",
        "ssd"
      ],
      "execution_count": null,
      "outputs": [
        {
          "output_type": "execute_result",
          "data": {
            "text/plain": [
              "[[2, 1751.9669425508212],\n",
              " [3, 444.034965979045],\n",
              " [4, 380.8832597611778],\n",
              " [5, 327.11249208354513],\n",
              " [6, 274.2949319203781],\n",
              " [7, 242.1594389245151],\n",
              " [8, 209.91382876503124],\n",
              " [9, 185.83511794182064]]"
            ]
          },
          "metadata": {
            "tags": []
          },
          "execution_count": 215
        }
      ]
    },
    {
      "cell_type": "code",
      "metadata": {
        "colab": {
          "base_uri": "https://localhost:8080/"
        },
        "id": "t3pg0cIUKqzj",
        "outputId": "1ff9c47d-59df-4c31-e48c-0431fbb92b13"
      },
      "source": [
        "xy=np.array(ssd)\n",
        "print(xy)"
      ],
      "execution_count": null,
      "outputs": [
        {
          "output_type": "stream",
          "text": [
            "[[   2.         1751.96694255]\n",
            " [   3.          444.03496598]\n",
            " [   4.          380.88325976]\n",
            " [   5.          327.11249208]\n",
            " [   6.          274.29493192]\n",
            " [   7.          242.15943892]\n",
            " [   8.          209.91382877]\n",
            " [   9.          185.83511794]]\n"
          ],
          "name": "stdout"
        }
      ]
    },
    {
      "cell_type": "code",
      "metadata": {
        "colab": {
          "base_uri": "https://localhost:8080/",
          "height": 282
        },
        "id": "NUTOqJ0iKvxt",
        "outputId": "0b006fe0-bd18-4a82-a7fa-fa78f1bebf56"
      },
      "source": [
        "plt.plot(xy[:, 0], xy[:, 1], linestyle='--', marker='o')\n",
        "# plt.plot(xy[:, 0], xy[:, 1], '--o')"
      ],
      "execution_count": null,
      "outputs": [
        {
          "output_type": "execute_result",
          "data": {
            "text/plain": [
              "[<matplotlib.lines.Line2D at 0x7f086bda75f8>]"
            ]
          },
          "metadata": {
            "tags": []
          },
          "execution_count": 217
        },
        {
          "output_type": "display_data",
          "data": {
            "image/png": "[encoded data removed]",
            "text/plain": [
              "<Figure size 432x288 with 1 Axes>"
            ]
          },
          "metadata": {
            "tags": [],
            "image/png": {
              "width": 381,
              "height": 248
            },
            "needs_background": "light"
          }
        }
      ]
    },
    {
      "cell_type": "code",
      "metadata": {
        "colab": {
          "base_uri": "https://localhost:8080/",
          "height": 297
        },
        "id": "FaRkSN7vqBf4",
        "outputId": "3b213c4c-5076-45b0-ef5f-ccbf6e4f6447"
      },
      "source": [
        "dd=pd.DataFrame(ssd, columns=['k', 'ssd'])\n",
        "dd"
      ],
      "execution_count": null,
      "outputs": [
        {
          "output_type": "execute_result",
          "data": {
            "text/html": [
              "<div>\n",
              "<style scoped>\n",
              "    .dataframe tbody tr th:only-of-type {\n",
              "        vertical-align: middle;\n",
              "    }\n",
              "\n",
              "    .dataframe tbody tr th {\n",
              "        vertical-align: top;\n",
              "    }\n",
              "\n",
              "    .dataframe thead th {\n",
              "        text-align: right;\n",
              "    }\n",
              "</style>\n",
              "<table border=\"1\" class=\"dataframe\">\n",
              "  <thead>\n",
              "    <tr style=\"text-align: right;\">\n",
              "      <th></th>\n",
              "      <th>k</th>\n",
              "      <th>ssd</th>\n",
              "    </tr>\n",
              "  </thead>\n",
              "  <tbody>\n",
              "    <tr>\n",
              "      <th>0</th>\n",
              "      <td>2</td>\n",
              "      <td>1751.966943</td>\n",
              "    </tr>\n",
              "    <tr>\n",
              "      <th>1</th>\n",
              "      <td>3</td>\n",
              "      <td>444.034966</td>\n",
              "    </tr>\n",
              "    <tr>\n",
              "      <th>2</th>\n",
              "      <td>4</td>\n",
              "      <td>380.883260</td>\n",
              "    </tr>\n",
              "    <tr>\n",
              "      <th>3</th>\n",
              "      <td>5</td>\n",
              "      <td>327.112492</td>\n",
              "    </tr>\n",
              "    <tr>\n",
              "      <th>4</th>\n",
              "      <td>6</td>\n",
              "      <td>274.294932</td>\n",
              "    </tr>\n",
              "    <tr>\n",
              "      <th>5</th>\n",
              "      <td>7</td>\n",
              "      <td>242.159439</td>\n",
              "    </tr>\n",
              "    <tr>\n",
              "      <th>6</th>\n",
              "      <td>8</td>\n",
              "      <td>209.913829</td>\n",
              "    </tr>\n",
              "    <tr>\n",
              "      <th>7</th>\n",
              "      <td>9</td>\n",
              "      <td>185.835118</td>\n",
              "    </tr>\n",
              "  </tbody>\n",
              "</table>\n",
              "</div>"
            ],
            "text/plain": [
              "   k          ssd\n",
              "0  2  1751.966943\n",
              "1  3   444.034966\n",
              "2  4   380.883260\n",
              "3  5   327.112492\n",
              "4  6   274.294932\n",
              "5  7   242.159439\n",
              "6  8   209.913829\n",
              "7  9   185.835118"
            ]
          },
          "metadata": {
            "tags": []
          },
          "execution_count": 218
        }
      ]
    },
    {
      "cell_type": "code",
      "metadata": {
        "colab": {
          "base_uri": "https://localhost:8080/",
          "height": 297
        },
        "id": "DPySP3DiK6E7",
        "outputId": "9c7f2fab-7185-4132-e52e-54d3066d1692"
      },
      "source": [
        "sns.countplot(x='cluster', data=avg_Debt_1)"
      ],
      "execution_count": null,
      "outputs": [
        {
          "output_type": "execute_result",
          "data": {
            "text/plain": [
              "<matplotlib.axes._subplots.AxesSubplot at 0x7f086bce6da0>"
            ]
          },
          "metadata": {
            "tags": []
          },
          "execution_count": 222
        },
        {
          "output_type": "display_data",
          "data": {
            "image/png": "[encoded data removed]",
            "text/plain": [
              "<Figure size 432x288 with 1 Axes>"
            ]
          },
          "metadata": {
            "tags": [],
            "image/png": {
              "width": 388,
              "height": 263
            },
            "needs_background": "light"
          }
        }
      ]
    },
    {
      "cell_type": "code",
      "metadata": {
        "colab": {
          "base_uri": "https://localhost:8080/",
          "height": 297
        },
        "id": "63GDuguWqtRG",
        "outputId": "40201849-fbd6-4898-cd8b-eb96abfeca33"
      },
      "source": [
        "avg_Debt_1.groupby('cluster').describe().T"
      ],
      "execution_count": null,
      "outputs": [
        {
          "output_type": "execute_result",
          "data": {
            "text/html": [
              "<div>\n",
              "<style scoped>\n",
              "    .dataframe tbody tr th:only-of-type {\n",
              "        vertical-align: middle;\n",
              "    }\n",
              "\n",
              "    .dataframe tbody tr th {\n",
              "        vertical-align: top;\n",
              "    }\n",
              "\n",
              "    .dataframe thead th {\n",
              "        text-align: right;\n",
              "    }\n",
              "</style>\n",
              "<table border=\"1\" class=\"dataframe\">\n",
              "  <thead>\n",
              "    <tr style=\"text-align: right;\">\n",
              "      <th></th>\n",
              "      <th>cluster</th>\n",
              "      <th>0</th>\n",
              "      <th>1</th>\n",
              "    </tr>\n",
              "  </thead>\n",
              "  <tbody>\n",
              "    <tr>\n",
              "      <th rowspan=\"8\" valign=\"top\">avg_debt</th>\n",
              "      <th>count</th>\n",
              "      <td>154.000000</td>\n",
              "      <td>77.000000</td>\n",
              "    </tr>\n",
              "    <tr>\n",
              "      <th>mean</th>\n",
              "      <td>129028.938312</td>\n",
              "      <td>135418.225974</td>\n",
              "    </tr>\n",
              "    <tr>\n",
              "      <th>std</th>\n",
              "      <td>55504.453195</td>\n",
              "      <td>60090.011163</td>\n",
              "    </tr>\n",
              "    <tr>\n",
              "      <th>min</th>\n",
              "      <td>0.000000</td>\n",
              "      <td>27061.000000</td>\n",
              "    </tr>\n",
              "    <tr>\n",
              "      <th>25%</th>\n",
              "      <td>96679.250000</td>\n",
              "      <td>90411.000000</td>\n",
              "    </tr>\n",
              "    <tr>\n",
              "      <th>50%</th>\n",
              "      <td>125007.850000</td>\n",
              "      <td>125646.100000</td>\n",
              "    </tr>\n",
              "    <tr>\n",
              "      <th>75%</th>\n",
              "      <td>165346.100000</td>\n",
              "      <td>173821.400000</td>\n",
              "    </tr>\n",
              "    <tr>\n",
              "      <th>max</th>\n",
              "      <td>386957.400000</td>\n",
              "      <td>309493.700000</td>\n",
              "    </tr>\n",
              "  </tbody>\n",
              "</table>\n",
              "</div>"
            ],
            "text/plain": [
              "cluster                     0              1\n",
              "avg_debt count     154.000000      77.000000\n",
              "         mean   129028.938312  135418.225974\n",
              "         std     55504.453195   60090.011163\n",
              "         min         0.000000   27061.000000\n",
              "         25%     96679.250000   90411.000000\n",
              "         50%    125007.850000  125646.100000\n",
              "         75%    165346.100000  173821.400000\n",
              "         max    386957.400000  309493.700000"
            ]
          },
          "metadata": {
            "tags": []
          },
          "execution_count": 221
        }
      ]
    },
    {
      "cell_type": "code",
      "metadata": {
        "colab": {
          "base_uri": "https://localhost:8080/",
          "height": 419
        },
        "id": "DMA3ZX_ErlbD",
        "outputId": "7530686b-e537-41eb-82cc-414c43f8bbc9"
      },
      "source": [
        "avg_Debt_1"
      ],
      "execution_count": null,
      "outputs": [
        {
          "output_type": "execute_result",
          "data": {
            "text/html": [
              "<div>\n",
              "<style scoped>\n",
              "    .dataframe tbody tr th:only-of-type {\n",
              "        vertical-align: middle;\n",
              "    }\n",
              "\n",
              "    .dataframe tbody tr th {\n",
              "        vertical-align: top;\n",
              "    }\n",
              "\n",
              "    .dataframe thead th {\n",
              "        text-align: right;\n",
              "    }\n",
              "</style>\n",
              "<table border=\"1\" class=\"dataframe\">\n",
              "  <thead>\n",
              "    <tr style=\"text-align: right;\">\n",
              "      <th></th>\n",
              "      <th>จังหวัด</th>\n",
              "      <th>avg_debt</th>\n",
              "      <th>cluster</th>\n",
              "    </tr>\n",
              "  </thead>\n",
              "  <tbody>\n",
              "    <tr>\n",
              "      <th>128</th>\n",
              "      <td>บึงกาฬ 54</td>\n",
              "      <td>0.0</td>\n",
              "      <td>0</td>\n",
              "    </tr>\n",
              "    <tr>\n",
              "      <th>51</th>\n",
              "      <td>บึงกาฬ 53</td>\n",
              "      <td>0.0</td>\n",
              "      <td>0</td>\n",
              "    </tr>\n",
              "    <tr>\n",
              "      <th>100</th>\n",
              "      <td>สมุทรสงคราม 54</td>\n",
              "      <td>9244.0</td>\n",
              "      <td>0</td>\n",
              "    </tr>\n",
              "    <tr>\n",
              "      <th>177</th>\n",
              "      <td>สมุทรสงคราม 55</td>\n",
              "      <td>9857.2</td>\n",
              "      <td>0</td>\n",
              "    </tr>\n",
              "    <tr>\n",
              "      <th>75</th>\n",
              "      <td>ยะลา 53</td>\n",
              "      <td>18901.5</td>\n",
              "      <td>0</td>\n",
              "    </tr>\n",
              "    <tr>\n",
              "      <th>...</th>\n",
              "      <td>...</td>\n",
              "      <td>...</td>\n",
              "      <td>...</td>\n",
              "    </tr>\n",
              "    <tr>\n",
              "      <th>156</th>\n",
              "      <td>นนทบุรี 55</td>\n",
              "      <td>260752.2</td>\n",
              "      <td>1</td>\n",
              "    </tr>\n",
              "    <tr>\n",
              "      <th>162</th>\n",
              "      <td>ชัยนาท 55</td>\n",
              "      <td>264144.0</td>\n",
              "      <td>0</td>\n",
              "    </tr>\n",
              "    <tr>\n",
              "      <th>154</th>\n",
              "      <td>กรุงเทพมหานคร 55</td>\n",
              "      <td>275576.8</td>\n",
              "      <td>1</td>\n",
              "    </tr>\n",
              "    <tr>\n",
              "      <th>5</th>\n",
              "      <td>อ่างทอง 53</td>\n",
              "      <td>309493.7</td>\n",
              "      <td>1</td>\n",
              "    </tr>\n",
              "    <tr>\n",
              "      <th>157</th>\n",
              "      <td>ปทุมธานี 55</td>\n",
              "      <td>386957.4</td>\n",
              "      <td>0</td>\n",
              "    </tr>\n",
              "  </tbody>\n",
              "</table>\n",
              "<p>231 rows × 3 columns</p>\n",
              "</div>"
            ],
            "text/plain": [
              "              จังหวัด  avg_debt  cluster\n",
              "128         บึงกาฬ 54       0.0        0\n",
              "51          บึงกาฬ 53       0.0        0\n",
              "100    สมุทรสงคราม 54    9244.0        0\n",
              "177    สมุทรสงคราม 55    9857.2        0\n",
              "75            ยะลา 53   18901.5        0\n",
              "..                ...       ...      ...\n",
              "156        นนทบุรี 55  260752.2        1\n",
              "162         ชัยนาท 55  264144.0        0\n",
              "154  กรุงเทพมหานคร 55  275576.8        1\n",
              "5          อ่างทอง 53  309493.7        1\n",
              "157       ปทุมธานี 55  386957.4        0\n",
              "\n",
              "[231 rows x 3 columns]"
            ]
          },
          "metadata": {
            "tags": []
          },
          "execution_count": 224
        }
      ]
    }
  ]
}