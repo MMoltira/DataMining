{
  "nbformat": 4,
  "nbformat_minor": 0,
  "metadata": {
    "colab": {
      "name": "Untitled0.ipynb",
      "provenance": [],
      "authorship_tag": "ABX9TyPIkFTMiuxmLYfTDwaQzXh7",
      "include_colab_link": true
    },
    "kernelspec": {
      "name": "python3",
      "display_name": "Python 3"
    }
  },
  "cells": [
    {
      "cell_type": "markdown",
      "metadata": {
        "id": "view-in-github",
        "colab_type": "text"
      },
      "source": [
        "<a href=\"https://colab.research.google.com/github/MMoltira/DataMining/blob/master/Untitled0.ipynb\" target=\"_parent\"><img src=\"https://colab.research.google.com/assets/colab-badge.svg\" alt=\"Open In Colab\"/></a>"
      ]
    },
    {
      "cell_type": "code",
      "metadata": {
        "colab": {
          "base_uri": "https://localhost:8080/"
        },
        "id": "iWTW3X9zhaUj",
        "outputId": "7bc04d88-8fe4-468a-b554-2265c3a8fe1f"
      },
      "source": [
        "from google.colab import drive #เอาข้อมูลเข้า\n",
        "drive.mount('/content/drive')"
      ],
      "execution_count": 1,
      "outputs": [
        {
          "output_type": "stream",
          "text": [
            "Mounted at /content/drive\n"
          ],
          "name": "stdout"
        }
      ]
    },
    {
      "cell_type": "code",
      "metadata": {
        "id": "GpD-X0l7hq1i"
      },
      "source": [
        "path = '/content/drive/My Drive/DWDM_material'"
      ],
      "execution_count": 3,
      "outputs": []
    },
    {
      "cell_type": "code",
      "metadata": {
        "id": "w7PHSOxPh26A"
      },
      "source": [
        "import os \n",
        "import pandas as pd"
      ],
      "execution_count": 5,
      "outputs": []
    },
    {
      "cell_type": "code",
      "metadata": {
        "id": "-qv5hD0Gh8j6"
      },
      "source": [
        "avg_Debt_1 = os.path.join(path,'avg_Debt_1.csv')"
      ],
      "execution_count": 6,
      "outputs": []
    },
    {
      "cell_type": "code",
      "metadata": {
        "colab": {
          "base_uri": "https://localhost:8080/",
          "height": 419
        },
        "id": "QSGPYg7WiCoG",
        "outputId": "6c051917-ac7e-43c6-ef6a-9c5869812281"
      },
      "source": [
        "avg_Debt_1 = pd.read_csv(avg_Debt_1)\n",
        "avg_Debt_1"
      ],
      "execution_count": 7,
      "outputs": [
        {
          "output_type": "execute_result",
          "data": {
            "text/html": [
              "<div>\n",
              "<style scoped>\n",
              "    .dataframe tbody tr th:only-of-type {\n",
              "        vertical-align: middle;\n",
              "    }\n",
              "\n",
              "    .dataframe tbody tr th {\n",
              "        vertical-align: top;\n",
              "    }\n",
              "\n",
              "    .dataframe thead th {\n",
              "        text-align: right;\n",
              "    }\n",
              "</style>\n",
              "<table border=\"1\" class=\"dataframe\">\n",
              "  <thead>\n",
              "    <tr style=\"text-align: right;\">\n",
              "      <th></th>\n",
              "      <th>จังหวัด</th>\n",
              "      <th>avg_debt</th>\n",
              "    </tr>\n",
              "  </thead>\n",
              "  <tbody>\n",
              "    <tr>\n",
              "      <th>0</th>\n",
              "      <td>กรุงเทพมหานคร 53</td>\n",
              "      <td>207665.0</td>\n",
              "    </tr>\n",
              "    <tr>\n",
              "      <th>1</th>\n",
              "      <td>สมุทรปราการ 53</td>\n",
              "      <td>117360.8</td>\n",
              "    </tr>\n",
              "    <tr>\n",
              "      <th>2</th>\n",
              "      <td>นนทบุรี 53</td>\n",
              "      <td>240769.0</td>\n",
              "    </tr>\n",
              "    <tr>\n",
              "      <th>3</th>\n",
              "      <td>ปทุมธานี 53</td>\n",
              "      <td>220761.2</td>\n",
              "    </tr>\n",
              "    <tr>\n",
              "      <th>4</th>\n",
              "      <td>พระนครศรีอยุธยา 53</td>\n",
              "      <td>163424.5</td>\n",
              "    </tr>\n",
              "    <tr>\n",
              "      <th>...</th>\n",
              "      <td>...</td>\n",
              "      <td>...</td>\n",
              "    </tr>\n",
              "    <tr>\n",
              "      <th>226</th>\n",
              "      <td>ตรัง 55</td>\n",
              "      <td>160207.0</td>\n",
              "    </tr>\n",
              "    <tr>\n",
              "      <th>227</th>\n",
              "      <td>พัทลุง 55</td>\n",
              "      <td>162248.7</td>\n",
              "    </tr>\n",
              "    <tr>\n",
              "      <th>228</th>\n",
              "      <td>ปัตตานี 55</td>\n",
              "      <td>109102.5</td>\n",
              "    </tr>\n",
              "    <tr>\n",
              "      <th>229</th>\n",
              "      <td>ยะลา 55</td>\n",
              "      <td>35828.9</td>\n",
              "    </tr>\n",
              "    <tr>\n",
              "      <th>230</th>\n",
              "      <td>นราธิวาส 55</td>\n",
              "      <td>44974.1</td>\n",
              "    </tr>\n",
              "  </tbody>\n",
              "</table>\n",
              "<p>231 rows × 2 columns</p>\n",
              "</div>"
            ],
            "text/plain": [
              "                จังหวัด  avg_debt\n",
              "0      กรุงเทพมหานคร 53  207665.0\n",
              "1        สมุทรปราการ 53  117360.8\n",
              "2            นนทบุรี 53  240769.0\n",
              "3           ปทุมธานี 53  220761.2\n",
              "4    พระนครศรีอยุธยา 53  163424.5\n",
              "..                  ...       ...\n",
              "226             ตรัง 55  160207.0\n",
              "227           พัทลุง 55  162248.7\n",
              "228          ปัตตานี 55  109102.5\n",
              "229             ยะลา 55   35828.9\n",
              "230         นราธิวาส 55   44974.1\n",
              "\n",
              "[231 rows x 2 columns]"
            ]
          },
          "metadata": {
            "tags": []
          },
          "execution_count": 7
        }
      ]
    },
    {
      "cell_type": "code",
      "metadata": {
        "colab": {
          "base_uri": "https://localhost:8080/"
        },
        "id": "V09zJDZYitzc",
        "outputId": "81e11f26-3623-4af4-a053-9505460e7c21"
      },
      "source": [
        "avg_Debt_1.shape"
      ],
      "execution_count": 8,
      "outputs": [
        {
          "output_type": "execute_result",
          "data": {
            "text/plain": [
              "(231, 2)"
            ]
          },
          "metadata": {
            "tags": []
          },
          "execution_count": 8
        }
      ]
    },
    {
      "cell_type": "code",
      "metadata": {
        "colab": {
          "base_uri": "https://localhost:8080/"
        },
        "id": "BxYrwLLHiy9p",
        "outputId": "f04aabf9-43ae-4014-d86f-be9b529d2556"
      },
      "source": [
        "avg_Debt_1.isnull().any()"
      ],
      "execution_count": 9,
      "outputs": [
        {
          "output_type": "execute_result",
          "data": {
            "text/plain": [
              "จังหวัด     False\n",
              "avg_debt     True\n",
              "dtype: bool"
            ]
          },
          "metadata": {
            "tags": []
          },
          "execution_count": 9
        }
      ]
    },
    {
      "cell_type": "code",
      "metadata": {
        "id": "5qRUpEadi6SD"
      },
      "source": [
        "avg_Debt_1[['avg_debt']] = avg_Debt_1[['avg_debt']].fillna(0) "
      ],
      "execution_count": 10,
      "outputs": []
    },
    {
      "cell_type": "code",
      "metadata": {
        "colab": {
          "base_uri": "https://localhost:8080/"
        },
        "id": "fLKt99HjjD_H",
        "outputId": "f02f8381-51d8-45e9-feee-72609aa58b11"
      },
      "source": [
        "avg_Debt_1.isnull().any()"
      ],
      "execution_count": 11,
      "outputs": [
        {
          "output_type": "execute_result",
          "data": {
            "text/plain": [
              "จังหวัด     False\n",
              "avg_debt    False\n",
              "dtype: bool"
            ]
          },
          "metadata": {
            "tags": []
          },
          "execution_count": 11
        }
      ]
    },
    {
      "cell_type": "code",
      "metadata": {
        "id": "ZanLib3_axtv"
      },
      "source": [
        "avg_Debt_1 = avg_Debt_1.sort_values('avg_debt')"
      ],
      "execution_count": 167,
      "outputs": []
    },
    {
      "cell_type": "code",
      "metadata": {
        "colab": {
          "base_uri": "https://localhost:8080/",
          "height": 419
        },
        "id": "s01Ef7zZa_cV",
        "outputId": "fcda77e4-af0c-4213-80a2-27ea2ca492c9"
      },
      "source": [
        "avg_Debt_1"
      ],
      "execution_count": 168,
      "outputs": [
        {
          "output_type": "execute_result",
          "data": {
            "text/html": [
              "<div>\n",
              "<style scoped>\n",
              "    .dataframe tbody tr th:only-of-type {\n",
              "        vertical-align: middle;\n",
              "    }\n",
              "\n",
              "    .dataframe tbody tr th {\n",
              "        vertical-align: top;\n",
              "    }\n",
              "\n",
              "    .dataframe thead th {\n",
              "        text-align: right;\n",
              "    }\n",
              "</style>\n",
              "<table border=\"1\" class=\"dataframe\">\n",
              "  <thead>\n",
              "    <tr style=\"text-align: right;\">\n",
              "      <th></th>\n",
              "      <th>จังหวัด</th>\n",
              "      <th>avg_debt</th>\n",
              "      <th>cluster</th>\n",
              "    </tr>\n",
              "  </thead>\n",
              "  <tbody>\n",
              "    <tr>\n",
              "      <th>128</th>\n",
              "      <td>บึงกาฬ 54</td>\n",
              "      <td>0.0</td>\n",
              "      <td>0</td>\n",
              "    </tr>\n",
              "    <tr>\n",
              "      <th>51</th>\n",
              "      <td>บึงกาฬ 53</td>\n",
              "      <td>0.0</td>\n",
              "      <td>1</td>\n",
              "    </tr>\n",
              "    <tr>\n",
              "      <th>100</th>\n",
              "      <td>สมุทรสงคราม 54</td>\n",
              "      <td>9244.0</td>\n",
              "      <td>0</td>\n",
              "    </tr>\n",
              "    <tr>\n",
              "      <th>177</th>\n",
              "      <td>สมุทรสงคราม 55</td>\n",
              "      <td>9857.2</td>\n",
              "      <td>0</td>\n",
              "    </tr>\n",
              "    <tr>\n",
              "      <th>75</th>\n",
              "      <td>ยะลา 53</td>\n",
              "      <td>18901.5</td>\n",
              "      <td>1</td>\n",
              "    </tr>\n",
              "    <tr>\n",
              "      <th>...</th>\n",
              "      <td>...</td>\n",
              "      <td>...</td>\n",
              "      <td>...</td>\n",
              "    </tr>\n",
              "    <tr>\n",
              "      <th>156</th>\n",
              "      <td>นนทบุรี 55</td>\n",
              "      <td>260752.2</td>\n",
              "      <td>1</td>\n",
              "    </tr>\n",
              "    <tr>\n",
              "      <th>162</th>\n",
              "      <td>ชัยนาท 55</td>\n",
              "      <td>264144.0</td>\n",
              "      <td>0</td>\n",
              "    </tr>\n",
              "    <tr>\n",
              "      <th>154</th>\n",
              "      <td>กรุงเทพมหานคร 55</td>\n",
              "      <td>275576.8</td>\n",
              "      <td>0</td>\n",
              "    </tr>\n",
              "    <tr>\n",
              "      <th>5</th>\n",
              "      <td>อ่างทอง 53</td>\n",
              "      <td>309493.7</td>\n",
              "      <td>0</td>\n",
              "    </tr>\n",
              "    <tr>\n",
              "      <th>157</th>\n",
              "      <td>ปทุมธานี 55</td>\n",
              "      <td>386957.4</td>\n",
              "      <td>1</td>\n",
              "    </tr>\n",
              "  </tbody>\n",
              "</table>\n",
              "<p>231 rows × 3 columns</p>\n",
              "</div>"
            ],
            "text/plain": [
              "              จังหวัด  avg_debt  cluster\n",
              "128         บึงกาฬ 54       0.0        0\n",
              "51          บึงกาฬ 53       0.0        1\n",
              "100    สมุทรสงคราม 54    9244.0        0\n",
              "177    สมุทรสงคราม 55    9857.2        0\n",
              "75            ยะลา 53   18901.5        1\n",
              "..                ...       ...      ...\n",
              "156        นนทบุรี 55  260752.2        1\n",
              "162         ชัยนาท 55  264144.0        0\n",
              "154  กรุงเทพมหานคร 55  275576.8        0\n",
              "5          อ่างทอง 53  309493.7        0\n",
              "157       ปทุมธานี 55  386957.4        1\n",
              "\n",
              "[231 rows x 3 columns]"
            ]
          },
          "metadata": {
            "tags": []
          },
          "execution_count": 168
        }
      ]
    },
    {
      "cell_type": "code",
      "metadata": {
        "id": "qJ5ObL8kKUQ3"
      },
      "source": [
        "import pandas as pd\n",
        "import numpy as np\n",
        "import matplotlib.pyplot as plt\n",
        "import seaborn as sns\n",
        "%matplotlib inline\n",
        "%config InlineBackend.figure_format='retina'"
      ],
      "execution_count": 169,
      "outputs": []
    },
    {
      "cell_type": "code",
      "metadata": {
        "colab": {
          "base_uri": "https://localhost:8080/"
        },
        "id": "Ef7fei_rKYYR",
        "outputId": "7662ec4d-27cc-473f-d7ca-8560d562f523"
      },
      "source": [
        "print(f'pandas  version = {pd.__version__}')\n",
        "print(f'numpy   version = {np.__version__}')\n",
        "print(f'seaborn version = {sns.__version__}')"
      ],
      "execution_count": 170,
      "outputs": [
        {
          "output_type": "stream",
          "text": [
            "pandas  version = 1.1.4\n",
            "numpy   version = 1.18.5\n",
            "seaborn version = 0.11.0\n"
          ],
          "name": "stdout"
        }
      ]
    },
    {
      "cell_type": "code",
      "metadata": {
        "id": "06eLhTgakYJQ"
      },
      "source": [
        "from sklearn.cluster import KMeans"
      ],
      "execution_count": 171,
      "outputs": []
    },
    {
      "cell_type": "code",
      "metadata": {
        "id": "FTnwNz6vkeIJ"
      },
      "source": [
        "X = avg_Debt_1[['avg_debt']]\n",
        "# X = df[[''avg_debt 53',\t'avg_debt 54',\t'avg_debt 55'']]"
      ],
      "execution_count": 172,
      "outputs": []
    },
    {
      "cell_type": "code",
      "metadata": {
        "id": "n-WJN7x5kt3C"
      },
      "source": [
        "from sklearn.datasets import make_blobs"
      ],
      "execution_count": 173,
      "outputs": []
    },
    {
      "cell_type": "code",
      "metadata": {
        "id": "E2Yp-xLikxB5"
      },
      "source": [
        "X,y=make_blobs(n_samples=231, centers=3, n_features=2, random_state=6)"
      ],
      "execution_count": 174,
      "outputs": []
    },
    {
      "cell_type": "code",
      "metadata": {
        "colab": {
          "base_uri": "https://localhost:8080/"
        },
        "id": "89QV1aRek9Sz",
        "outputId": "2a33a6ff-df03-4629-892a-1ad583063296"
      },
      "source": [
        "X.shape "
      ],
      "execution_count": 175,
      "outputs": [
        {
          "output_type": "execute_result",
          "data": {
            "text/plain": [
              "(231, 2)"
            ]
          },
          "metadata": {
            "tags": []
          },
          "execution_count": 175
        }
      ]
    },
    {
      "cell_type": "code",
      "metadata": {
        "colab": {
          "base_uri": "https://localhost:8080/",
          "height": 282
        },
        "id": "0pre7OiTlBg4",
        "outputId": "da35185f-1062-41b0-c6ce-01b9f6243232"
      },
      "source": [
        "from matplotlib import pyplot as plt\n",
        "plt.scatter(X[:,0],X[:,1]) #จะแบ่งเป็น 3 กลุ่ม ตาม centers=3"
      ],
      "execution_count": 176,
      "outputs": [
        {
          "output_type": "execute_result",
          "data": {
            "text/plain": [
              "<matplotlib.collections.PathCollection at 0x7f407b1b30f0>"
            ]
          },
          "metadata": {
            "tags": []
          },
          "execution_count": 176
        },
        {
          "output_type": "display_data",
          "data": {
            "image/png": "[encoded data removed]",
            "text/plain": [
              "<Figure size 432x288 with 1 Axes>"
            ]
          },
          "metadata": {
            "tags": [],
            "image/png": {
              "width": 386,
              "height": 248
            },
            "needs_background": "light"
          }
        }
      ]
    },
    {
      "cell_type": "code",
      "metadata": {
        "id": "E40aECMpSrvN"
      },
      "source": [
        "from sklearn.cluster import KMeans"
      ],
      "execution_count": 177,
      "outputs": []
    },
    {
      "cell_type": "code",
      "metadata": {
        "id": "uk8Sht_HlOHW"
      },
      "source": [
        "KMclust=KMeans(n_clusters=2) # n_clusters=2 การกำหนดตัวแบ่งว่าจะแบ่งให้มีกลุ่ม 2 กลุ่ม"
      ],
      "execution_count": 178,
      "outputs": []
    },
    {
      "cell_type": "code",
      "metadata": {
        "colab": {
          "base_uri": "https://localhost:8080/"
        },
        "id": "Gw7yCHIMlTDe",
        "outputId": "c4972106-2f2a-49fb-8521-b8fb177c35c8"
      },
      "source": [
        "KMclust.fit(X)"
      ],
      "execution_count": 179,
      "outputs": [
        {
          "output_type": "execute_result",
          "data": {
            "text/plain": [
              "KMeans(algorithm='auto', copy_x=True, init='k-means++', max_iter=300,\n",
              "       n_clusters=2, n_init=10, n_jobs=None, precompute_distances='auto',\n",
              "       random_state=None, tol=0.0001, verbose=0)"
            ]
          },
          "metadata": {
            "tags": []
          },
          "execution_count": 179
        }
      ]
    },
    {
      "cell_type": "code",
      "metadata": {
        "id": "5KbQ0eymlWBO"
      },
      "source": [
        "label=KMclust.predict(X) # predict ว่าอยู่ในกลุ่มไหน"
      ],
      "execution_count": 180,
      "outputs": []
    },
    {
      "cell_type": "code",
      "metadata": {
        "colab": {
          "base_uri": "https://localhost:8080/",
          "height": 282
        },
        "id": "uv5j3VealZDf",
        "outputId": "ca633369-7433-41b0-a7f7-de6e9c9b4138"
      },
      "source": [
        "plt.scatter(X[:,0], X[:,1], c=label) # เปลี่ยนสีให้เป็นไปตาม label ของเราโดยการสุ่ม"
      ],
      "execution_count": 181,
      "outputs": [
        {
          "output_type": "execute_result",
          "data": {
            "text/plain": [
              "<matplotlib.collections.PathCollection at 0x7f407b1180b8>"
            ]
          },
          "metadata": {
            "tags": []
          },
          "execution_count": 181
        },
        {
          "output_type": "display_data",
          "data": {
            "image/png": "[encoded data removed]",
            "text/plain": [
              "<Figure size 432x288 with 1 Axes>"
            ]
          },
          "metadata": {
            "tags": [],
            "image/png": {
              "width": 386,
              "height": 248
            },
            "needs_background": "light"
          }
        }
      ]
    },
    {
      "cell_type": "code",
      "metadata": {
        "colab": {
          "base_uri": "https://localhost:8080/"
        },
        "id": "TEyo6_rBovyL",
        "outputId": "b9911580-237c-419d-d62d-5d4d2d72e4be"
      },
      "source": [
        "KMclust.cluster_centers_"
      ],
      "execution_count": 182,
      "outputs": [
        {
          "output_type": "execute_result",
          "data": {
            "text/plain": [
              "array([[-7.79775007,  1.78610777],\n",
              "       [ 7.17049205, -6.18852947]])"
            ]
          },
          "metadata": {
            "tags": []
          },
          "execution_count": 182
        }
      ]
    },
    {
      "cell_type": "code",
      "metadata": {
        "colab": {
          "base_uri": "https://localhost:8080/"
        },
        "id": "pfmXyC8Go00d",
        "outputId": "b0cef86a-4bb8-47f0-f3c0-7fd79fb09e21"
      },
      "source": [
        "KMclust.transform(X) # the distance between each point and centroid"
      ],
      "execution_count": 183,
      "outputs": [
        {
          "output_type": "execute_result",
          "data": {
            "text/plain": [
              "array([[19.46286796,  4.35657384],\n",
              "       [17.25282908,  2.71215952],\n",
              "       [16.22743323,  2.70884496],\n",
              "       [17.45766143,  5.05983897],\n",
              "       [16.04954075,  2.02897205],\n",
              "       [16.71518607,  2.56177615],\n",
              "       [ 1.34745187, 15.64664579],\n",
              "       [18.87195087,  3.4711508 ],\n",
              "       [ 1.50652845, 16.62190693],\n",
              "       [17.23167107,  2.7266152 ],\n",
              "       [ 0.34904234, 16.6160869 ],\n",
              "       [16.52353791,  4.03944671],\n",
              "       [14.22449676,  3.85827321],\n",
              "       [ 0.19453677, 17.02789616],\n",
              "       [18.53323763,  3.61896268],\n",
              "       [ 0.66590015, 17.58481661],\n",
              "       [17.77093305,  2.30713982],\n",
              "       [ 1.03696265, 17.02693124],\n",
              "       [ 0.52754238, 17.19176311],\n",
              "       [ 1.64582881, 15.33005926],\n",
              "       [ 1.39409006, 15.60783922],\n",
              "       [16.48022043,  2.91852292],\n",
              "       [18.0930437 ,  3.12708999],\n",
              "       [17.36691817,  2.26100905],\n",
              "       [ 2.22813124, 15.76940085],\n",
              "       [17.36937133,  2.44106119],\n",
              "       [18.84251956,  4.77217036],\n",
              "       [18.43292038,  3.43700643],\n",
              "       [15.83178334,  2.62046403],\n",
              "       [15.45391096,  3.78488878],\n",
              "       [ 1.99299132, 18.27095342],\n",
              "       [16.83960694,  1.56324951],\n",
              "       [ 0.90237552, 16.75371194],\n",
              "       [ 1.10319419, 17.99806036],\n",
              "       [ 1.48168548, 18.03998532],\n",
              "       [ 2.30147336, 17.56146377],\n",
              "       [ 1.6424483 , 18.03457152],\n",
              "       [18.80407863,  3.93438264],\n",
              "       [ 2.53177927, 18.83735603],\n",
              "       [18.4314105 ,  2.78424162],\n",
              "       [16.47348457,  2.81351594],\n",
              "       [20.19513526,  3.63284958],\n",
              "       [18.70041437,  6.09384017],\n",
              "       [15.61776043,  2.63440943],\n",
              "       [14.40794046,  3.33192603],\n",
              "       [19.1888418 ,  4.7021245 ],\n",
              "       [18.99701274,  2.51784087],\n",
              "       [ 2.43245519, 14.53163148],\n",
              "       [ 0.60295049, 16.58660531],\n",
              "       [16.30969024,  1.79897043],\n",
              "       [ 1.76992575, 18.7272747 ],\n",
              "       [ 1.8417125 , 16.13501412],\n",
              "       [16.94408744,  1.52013306],\n",
              "       [17.83782548,  2.98809468],\n",
              "       [17.18193776,  2.27260428],\n",
              "       [16.85636341,  3.87112346],\n",
              "       [17.41236322,  1.53656764],\n",
              "       [17.8921282 ,  1.17280103],\n",
              "       [16.94087115,  2.01816388],\n",
              "       [15.7398409 ,  2.88811723],\n",
              "       [15.35969285,  2.45752212],\n",
              "       [ 1.24464901, 15.95106526],\n",
              "       [18.95681337,  3.21444879],\n",
              "       [15.57485913,  2.73149932],\n",
              "       [16.72110117,  3.95901521],\n",
              "       [17.54597233,  2.60743405],\n",
              "       [16.14671619,  3.4001422 ],\n",
              "       [ 2.86720509, 18.83873441],\n",
              "       [ 0.69815203, 16.70442269],\n",
              "       [12.82307252,  4.50821291],\n",
              "       [16.60343624,  2.6303264 ],\n",
              "       [17.84095161,  3.03416063],\n",
              "       [19.28778482,  3.91903739],\n",
              "       [17.03882187,  4.075039  ],\n",
              "       [15.44132246,  5.16921753],\n",
              "       [ 0.21011696, 17.06912965],\n",
              "       [16.34154496,  4.01655417],\n",
              "       [17.9783375 ,  1.36016918],\n",
              "       [15.50797925,  3.0083846 ],\n",
              "       [18.75340136,  4.56050649],\n",
              "       [18.12396319,  4.1069742 ],\n",
              "       [ 0.19108444, 17.04904893],\n",
              "       [ 1.2469916 , 17.99057122],\n",
              "       [16.99671227,  1.82929176],\n",
              "       [ 0.66916481, 17.61821607],\n",
              "       [ 0.58848966, 17.42178028],\n",
              "       [ 2.04667884, 15.25709319],\n",
              "       [17.16547398,  2.5424552 ],\n",
              "       [18.39677901,  2.21452652],\n",
              "       [17.00630792,  2.76427917],\n",
              "       [17.94514003,  2.25462519],\n",
              "       [16.54518734,  3.06301053],\n",
              "       [ 1.64761666, 18.28785267],\n",
              "       [17.597018  ,  4.56650414],\n",
              "       [18.11767763,  4.39171098],\n",
              "       [15.96302927,  1.77542959],\n",
              "       [15.99630643,  2.39450126],\n",
              "       [ 0.84446374, 17.80174237],\n",
              "       [15.80988501,  4.08097128],\n",
              "       [ 1.69950804, 18.64051702],\n",
              "       [17.49440297,  4.12301358],\n",
              "       [15.96417387,  3.06981617],\n",
              "       [18.89446129,  3.78665929],\n",
              "       [17.78110935,  4.19587728],\n",
              "       [18.05546306,  2.23974545],\n",
              "       [ 0.49866462, 16.92185923],\n",
              "       [17.60093557,  3.35862115],\n",
              "       [ 1.45468446, 17.74482329],\n",
              "       [ 1.25471999, 16.04859319],\n",
              "       [ 1.37343319, 17.82810598],\n",
              "       [17.97033302,  2.70559454],\n",
              "       [15.72878204,  3.62429403],\n",
              "       [17.82446973,  2.0614413 ],\n",
              "       [ 0.70022634, 17.17322517],\n",
              "       [16.87946887,  4.07476899],\n",
              "       [17.95185078,  2.01691216],\n",
              "       [ 1.28390838, 16.49543936],\n",
              "       [16.46177683,  1.34998842],\n",
              "       [16.59478439,  2.91829214],\n",
              "       [17.22081663,  3.24201161],\n",
              "       [16.48351938,  3.19445654],\n",
              "       [14.79097691,  2.45962614],\n",
              "       [16.35321074,  4.75615465],\n",
              "       [18.38807688,  3.88988338],\n",
              "       [18.45810676,  2.31983711],\n",
              "       [17.49949346,  4.43376296],\n",
              "       [ 0.93768222, 17.19161104],\n",
              "       [18.48112098,  3.58330709],\n",
              "       [18.60075286,  3.25014622],\n",
              "       [16.07906419,  2.4578405 ],\n",
              "       [17.02333405,  2.41979388],\n",
              "       [16.860217  ,  4.20329413],\n",
              "       [ 0.18243545, 16.84289403],\n",
              "       [17.65097887,  2.23882045],\n",
              "       [16.99297613,  1.98845891],\n",
              "       [ 1.12209017, 17.91609104],\n",
              "       [15.0668652 ,  3.75521044],\n",
              "       [ 1.66277316, 18.46150008],\n",
              "       [16.91711252,  2.29535936],\n",
              "       [17.53698863,  2.45763675],\n",
              "       [ 0.84095406, 16.20543852],\n",
              "       [18.74072352,  3.31374953],\n",
              "       [17.25971489,  3.65729499],\n",
              "       [17.8253299 ,  3.50762547],\n",
              "       [17.24037346,  2.13865361],\n",
              "       [17.19994605,  1.4607609 ],\n",
              "       [ 1.30847933, 16.12136079],\n",
              "       [15.54343808,  2.35318766],\n",
              "       [17.70779582,  3.83133   ],\n",
              "       [ 0.93252684, 16.03521006],\n",
              "       [16.60043027,  2.77971903],\n",
              "       [ 0.92652719, 17.32132708],\n",
              "       [ 0.93249525, 16.15484313],\n",
              "       [18.49808285,  2.64438341],\n",
              "       [14.72275055,  2.95513698],\n",
              "       [16.93219503,  1.88931135],\n",
              "       [ 1.42390057, 16.98354651],\n",
              "       [ 0.81041821, 16.64078763],\n",
              "       [ 0.09012682, 17.03583299],\n",
              "       [17.16759161,  1.50983989],\n",
              "       [18.03552144,  2.42958705],\n",
              "       [ 2.05798904, 14.90220486],\n",
              "       [17.32770958,  3.41467414],\n",
              "       [ 1.04061471, 16.37547528],\n",
              "       [15.99051121,  2.94808886],\n",
              "       [19.80232854,  3.85887658],\n",
              "       [15.63520798,  4.19594137],\n",
              "       [ 1.33005235, 15.72737201],\n",
              "       [16.53823752,  2.53348978],\n",
              "       [18.07113222,  3.72648065],\n",
              "       [18.17105329,  3.34092834],\n",
              "       [16.59786995,  2.71099665],\n",
              "       [ 1.45901517, 15.54363133],\n",
              "       [16.11067932,  3.59339718],\n",
              "       [ 1.98603883, 18.91914737],\n",
              "       [19.23964937,  4.43044897],\n",
              "       [17.88806975,  3.02391434],\n",
              "       [17.66118738,  2.78692861],\n",
              "       [16.85169316,  1.16091305],\n",
              "       [16.00079409,  3.2394761 ],\n",
              "       [ 0.44056281, 17.1932281 ],\n",
              "       [ 0.49340016, 16.72268384],\n",
              "       [ 0.93644229, 17.63503499],\n",
              "       [ 1.51954611, 18.45707461],\n",
              "       [ 2.22310431, 19.12796373],\n",
              "       [17.95734754,  3.10182166],\n",
              "       [ 0.649801  , 16.39863165],\n",
              "       [16.36276856,  3.08666594],\n",
              "       [13.83189275,  4.15188552],\n",
              "       [16.10289331,  2.69699758],\n",
              "       [ 1.41290881, 15.55889799],\n",
              "       [ 1.51669785, 15.60816625],\n",
              "       [17.04760612,  3.07990036],\n",
              "       [18.25636131,  3.63647386],\n",
              "       [19.82012771,  4.04929885],\n",
              "       [16.64991081,  4.07165953],\n",
              "       [16.01876395,  4.54024882],\n",
              "       [ 1.28103003, 17.42247892],\n",
              "       [18.50614972,  3.36735565],\n",
              "       [ 1.08607216, 17.57225361],\n",
              "       [16.81417548,  2.29130143],\n",
              "       [18.07664592,  2.16330676],\n",
              "       [16.84635214,  2.23998361],\n",
              "       [17.73523228,  2.61450007],\n",
              "       [18.57224863,  2.54852051],\n",
              "       [17.55579435,  3.79803582],\n",
              "       [18.16217238,  3.5252263 ],\n",
              "       [ 1.89253713, 17.94195261],\n",
              "       [18.82928052,  4.0153827 ],\n",
              "       [17.9098001 ,  2.74100613],\n",
              "       [ 0.91189524, 16.05321209],\n",
              "       [ 1.58406234, 18.43003457],\n",
              "       [18.34225764,  3.39887447],\n",
              "       [17.13100533,  2.35021929],\n",
              "       [16.35707693,  1.85578271],\n",
              "       [ 1.62219092, 15.45625925],\n",
              "       [ 2.36738786, 17.37852865],\n",
              "       [ 1.03794504, 17.34145343],\n",
              "       [17.37709693,  1.32906842],\n",
              "       [16.73611362,  3.04009756],\n",
              "       [18.07716746,  3.53143466],\n",
              "       [17.56375419,  2.72637449],\n",
              "       [15.70551996,  3.05653743],\n",
              "       [17.68824137,  1.64971319],\n",
              "       [ 2.52872159, 14.92939406],\n",
              "       [ 2.84924721, 15.06493088],\n",
              "       [ 1.30288311, 18.25881215],\n",
              "       [18.10067932,  4.09919972],\n",
              "       [ 0.78122815, 17.74079602],\n",
              "       [ 0.81231031, 16.47103052],\n",
              "       [18.11536364,  4.37287979]])"
            ]
          },
          "metadata": {
            "tags": []
          },
          "execution_count": 183
        }
      ]
    },
    {
      "cell_type": "code",
      "metadata": {
        "colab": {
          "base_uri": "https://localhost:8080/"
        },
        "id": "Rr1M7IXCo2Yr",
        "outputId": "65d5a90f-23b5-4ff6-b499-3dcd4e1111f5"
      },
      "source": [
        "KMclust.labels_"
      ],
      "execution_count": 184,
      "outputs": [
        {
          "output_type": "execute_result",
          "data": {
            "text/plain": [
              "array([1, 1, 1, 1, 1, 1, 0, 1, 0, 1, 0, 1, 1, 0, 1, 0, 1, 0, 0, 0, 0, 1,\n",
              "       1, 1, 0, 1, 1, 1, 1, 1, 0, 1, 0, 0, 0, 0, 0, 1, 0, 1, 1, 1, 1, 1,\n",
              "       1, 1, 1, 0, 0, 1, 0, 0, 1, 1, 1, 1, 1, 1, 1, 1, 1, 0, 1, 1, 1, 1,\n",
              "       1, 0, 0, 1, 1, 1, 1, 1, 1, 0, 1, 1, 1, 1, 1, 0, 0, 1, 0, 0, 0, 1,\n",
              "       1, 1, 1, 1, 0, 1, 1, 1, 1, 0, 1, 0, 1, 1, 1, 1, 1, 0, 1, 0, 0, 0,\n",
              "       1, 1, 1, 0, 1, 1, 0, 1, 1, 1, 1, 1, 1, 1, 1, 1, 0, 1, 1, 1, 1, 1,\n",
              "       0, 1, 1, 0, 1, 0, 1, 1, 0, 1, 1, 1, 1, 1, 0, 1, 1, 0, 1, 0, 0, 1,\n",
              "       1, 1, 0, 0, 0, 1, 1, 0, 1, 0, 1, 1, 1, 0, 1, 1, 1, 1, 0, 1, 0, 1,\n",
              "       1, 1, 1, 1, 0, 0, 0, 0, 0, 1, 0, 1, 1, 1, 0, 0, 1, 1, 1, 1, 1, 0,\n",
              "       1, 0, 1, 1, 1, 1, 1, 1, 1, 0, 1, 1, 0, 0, 1, 1, 1, 0, 0, 0, 1, 1,\n",
              "       1, 1, 1, 1, 0, 0, 0, 1, 0, 0, 1], dtype=int32)"
            ]
          },
          "metadata": {
            "tags": []
          },
          "execution_count": 184
        }
      ]
    },
    {
      "cell_type": "code",
      "metadata": {
        "colab": {
          "base_uri": "https://localhost:8080/"
        },
        "id": "s9-lFHAspeo0",
        "outputId": "abb7f39d-c3d9-4505-a60c-358a29dcf413"
      },
      "source": [
        "ssd=[]\n",
        "for k in range(2, 10):\n",
        "    m=KMeans(n_clusters=k)\n",
        "    m.fit(X)\n",
        "    ssd.append([k, m.inertia_])\n",
        "ssd"
      ],
      "execution_count": 185,
      "outputs": [
        {
          "output_type": "execute_result",
          "data": {
            "text/plain": [
              "[[2, 1751.9669425508212],\n",
              " [3, 444.034965979045],\n",
              " [4, 380.2639248784881],\n",
              " [5, 327.06526965539166],\n",
              " [6, 274.61891709874715],\n",
              " [7, 242.0806642825977],\n",
              " [8, 210.91618524432224],\n",
              " [9, 187.42389911127032]]"
            ]
          },
          "metadata": {
            "tags": []
          },
          "execution_count": 185
        }
      ]
    },
    {
      "cell_type": "code",
      "metadata": {
        "colab": {
          "base_uri": "https://localhost:8080/"
        },
        "id": "t3pg0cIUKqzj",
        "outputId": "68518de1-083f-4b87-f351-1d057388696a"
      },
      "source": [
        "xy=np.array(ssd)\n",
        "print(xy)"
      ],
      "execution_count": 186,
      "outputs": [
        {
          "output_type": "stream",
          "text": [
            "[[   2.         1751.96694255]\n",
            " [   3.          444.03496598]\n",
            " [   4.          380.26392488]\n",
            " [   5.          327.06526966]\n",
            " [   6.          274.6189171 ]\n",
            " [   7.          242.08066428]\n",
            " [   8.          210.91618524]\n",
            " [   9.          187.42389911]]\n"
          ],
          "name": "stdout"
        }
      ]
    },
    {
      "cell_type": "code",
      "metadata": {
        "colab": {
          "base_uri": "https://localhost:8080/",
          "height": 282
        },
        "id": "NUTOqJ0iKvxt",
        "outputId": "18cd1177-1c33-48b5-cab0-e9fed892aa6a"
      },
      "source": [
        "plt.plot(xy[:, 0], xy[:, 1], linestyle='--', marker='o')\n",
        "# plt.plot(xy[:, 0], xy[:, 1], '--o')"
      ],
      "execution_count": 187,
      "outputs": [
        {
          "output_type": "execute_result",
          "data": {
            "text/plain": [
              "[<matplotlib.lines.Line2D at 0x7f407b0f7358>]"
            ]
          },
          "metadata": {
            "tags": []
          },
          "execution_count": 187
        },
        {
          "output_type": "display_data",
          "data": {
            "image/png": "[encoded data removed]",
            "text/plain": [
              "<Figure size 432x288 with 1 Axes>"
            ]
          },
          "metadata": {
            "tags": [],
            "image/png": {
              "width": 381,
              "height": 248
            },
            "needs_background": "light"
          }
        }
      ]
    },
    {
      "cell_type": "code",
      "metadata": {
        "colab": {
          "base_uri": "https://localhost:8080/",
          "height": 297
        },
        "id": "FaRkSN7vqBf4",
        "outputId": "e783193b-bd46-4815-9e3e-2230142febc0"
      },
      "source": [
        "dd=pd.DataFrame(ssd, columns=['k', 'ssd'])\n",
        "dd"
      ],
      "execution_count": 188,
      "outputs": [
        {
          "output_type": "execute_result",
          "data": {
            "text/html": [
              "<div>\n",
              "<style scoped>\n",
              "    .dataframe tbody tr th:only-of-type {\n",
              "        vertical-align: middle;\n",
              "    }\n",
              "\n",
              "    .dataframe tbody tr th {\n",
              "        vertical-align: top;\n",
              "    }\n",
              "\n",
              "    .dataframe thead th {\n",
              "        text-align: right;\n",
              "    }\n",
              "</style>\n",
              "<table border=\"1\" class=\"dataframe\">\n",
              "  <thead>\n",
              "    <tr style=\"text-align: right;\">\n",
              "      <th></th>\n",
              "      <th>k</th>\n",
              "      <th>ssd</th>\n",
              "    </tr>\n",
              "  </thead>\n",
              "  <tbody>\n",
              "    <tr>\n",
              "      <th>0</th>\n",
              "      <td>2</td>\n",
              "      <td>1751.966943</td>\n",
              "    </tr>\n",
              "    <tr>\n",
              "      <th>1</th>\n",
              "      <td>3</td>\n",
              "      <td>444.034966</td>\n",
              "    </tr>\n",
              "    <tr>\n",
              "      <th>2</th>\n",
              "      <td>4</td>\n",
              "      <td>380.263925</td>\n",
              "    </tr>\n",
              "    <tr>\n",
              "      <th>3</th>\n",
              "      <td>5</td>\n",
              "      <td>327.065270</td>\n",
              "    </tr>\n",
              "    <tr>\n",
              "      <th>4</th>\n",
              "      <td>6</td>\n",
              "      <td>274.618917</td>\n",
              "    </tr>\n",
              "    <tr>\n",
              "      <th>5</th>\n",
              "      <td>7</td>\n",
              "      <td>242.080664</td>\n",
              "    </tr>\n",
              "    <tr>\n",
              "      <th>6</th>\n",
              "      <td>8</td>\n",
              "      <td>210.916185</td>\n",
              "    </tr>\n",
              "    <tr>\n",
              "      <th>7</th>\n",
              "      <td>9</td>\n",
              "      <td>187.423899</td>\n",
              "    </tr>\n",
              "  </tbody>\n",
              "</table>\n",
              "</div>"
            ],
            "text/plain": [
              "   k          ssd\n",
              "0  2  1751.966943\n",
              "1  3   444.034966\n",
              "2  4   380.263925\n",
              "3  5   327.065270\n",
              "4  6   274.618917\n",
              "5  7   242.080664\n",
              "6  8   210.916185\n",
              "7  9   187.423899"
            ]
          },
          "metadata": {
            "tags": []
          },
          "execution_count": 188
        }
      ]
    },
    {
      "cell_type": "code",
      "metadata": {
        "colab": {
          "base_uri": "https://localhost:8080/",
          "height": 297
        },
        "id": "av9v5CgmqJIW",
        "outputId": "fe2b575b-3094-4af4-f0ab-8e54d32cfe93"
      },
      "source": [
        "dd['pct_chg']=dd['ssd'].pct_change() * 100\n",
        "dd"
      ],
      "execution_count": 189,
      "outputs": [
        {
          "output_type": "execute_result",
          "data": {
            "text/html": [
              "<div>\n",
              "<style scoped>\n",
              "    .dataframe tbody tr th:only-of-type {\n",
              "        vertical-align: middle;\n",
              "    }\n",
              "\n",
              "    .dataframe tbody tr th {\n",
              "        vertical-align: top;\n",
              "    }\n",
              "\n",
              "    .dataframe thead th {\n",
              "        text-align: right;\n",
              "    }\n",
              "</style>\n",
              "<table border=\"1\" class=\"dataframe\">\n",
              "  <thead>\n",
              "    <tr style=\"text-align: right;\">\n",
              "      <th></th>\n",
              "      <th>k</th>\n",
              "      <th>ssd</th>\n",
              "      <th>pct_chg</th>\n",
              "    </tr>\n",
              "  </thead>\n",
              "  <tbody>\n",
              "    <tr>\n",
              "      <th>0</th>\n",
              "      <td>2</td>\n",
              "      <td>1751.966943</td>\n",
              "      <td>NaN</td>\n",
              "    </tr>\n",
              "    <tr>\n",
              "      <th>1</th>\n",
              "      <td>3</td>\n",
              "      <td>444.034966</td>\n",
              "      <td>-74.655060</td>\n",
              "    </tr>\n",
              "    <tr>\n",
              "      <th>2</th>\n",
              "      <td>4</td>\n",
              "      <td>380.263925</td>\n",
              "      <td>-14.361716</td>\n",
              "    </tr>\n",
              "    <tr>\n",
              "      <th>3</th>\n",
              "      <td>5</td>\n",
              "      <td>327.065270</td>\n",
              "      <td>-13.989930</td>\n",
              "    </tr>\n",
              "    <tr>\n",
              "      <th>4</th>\n",
              "      <td>6</td>\n",
              "      <td>274.618917</td>\n",
              "      <td>-16.035439</td>\n",
              "    </tr>\n",
              "    <tr>\n",
              "      <th>5</th>\n",
              "      <td>7</td>\n",
              "      <td>242.080664</td>\n",
              "      <td>-11.848511</td>\n",
              "    </tr>\n",
              "    <tr>\n",
              "      <th>6</th>\n",
              "      <td>8</td>\n",
              "      <td>210.916185</td>\n",
              "      <td>-12.873593</td>\n",
              "    </tr>\n",
              "    <tr>\n",
              "      <th>7</th>\n",
              "      <td>9</td>\n",
              "      <td>187.423899</td>\n",
              "      <td>-11.138209</td>\n",
              "    </tr>\n",
              "  </tbody>\n",
              "</table>\n",
              "</div>"
            ],
            "text/plain": [
              "   k          ssd    pct_chg\n",
              "0  2  1751.966943        NaN\n",
              "1  3   444.034966 -74.655060\n",
              "2  4   380.263925 -14.361716\n",
              "3  5   327.065270 -13.989930\n",
              "4  6   274.618917 -16.035439\n",
              "5  7   242.080664 -11.848511\n",
              "6  8   210.916185 -12.873593\n",
              "7  9   187.423899 -11.138209"
            ]
          },
          "metadata": {
            "tags": []
          },
          "execution_count": 189
        }
      ]
    },
    {
      "cell_type": "code",
      "metadata": {
        "colab": {
          "base_uri": "https://localhost:8080/",
          "height": 265
        },
        "id": "rsXodcU2qSNe",
        "outputId": "392baa69-3dc2-429c-c6fc-baf1241a849a"
      },
      "source": [
        "plt.plot(dd['k'], dd['ssd'], linestyle='--', marker='o')\n",
        "# plt.plot(xy[:, 0], xy[:, 1], '--o')\n",
        "for index, row in dd.iterrows():\n",
        "    plt.text(row['k']+.02, row['ssd']+.02, f'{row[\"pct_chg\"]:.2f}', fontsize=10)"
      ],
      "execution_count": 190,
      "outputs": [
        {
          "output_type": "display_data",
          "data": {
            "image/png": "[encoded data removed]",
            "text/plain": [
              "<Figure size 432x288 with 1 Axes>"
            ]
          },
          "metadata": {
            "tags": [],
            "image/png": {
              "width": 399,
              "height": 248
            },
            "needs_background": "light"
          }
        }
      ]
    },
    {
      "cell_type": "code",
      "metadata": {
        "colab": {
          "base_uri": "https://localhost:8080/",
          "height": 204
        },
        "id": "oi-rriuNqfei",
        "outputId": "51b1cca5-d0f1-4bbe-fd6b-5789a815aaaf"
      },
      "source": [
        "avg_Debt_1['cluster']=KMclust.labels_\n",
        "avg_Debt_1.head()"
      ],
      "execution_count": 191,
      "outputs": [
        {
          "output_type": "execute_result",
          "data": {
            "text/html": [
              "<div>\n",
              "<style scoped>\n",
              "    .dataframe tbody tr th:only-of-type {\n",
              "        vertical-align: middle;\n",
              "    }\n",
              "\n",
              "    .dataframe tbody tr th {\n",
              "        vertical-align: top;\n",
              "    }\n",
              "\n",
              "    .dataframe thead th {\n",
              "        text-align: right;\n",
              "    }\n",
              "</style>\n",
              "<table border=\"1\" class=\"dataframe\">\n",
              "  <thead>\n",
              "    <tr style=\"text-align: right;\">\n",
              "      <th></th>\n",
              "      <th>จังหวัด</th>\n",
              "      <th>avg_debt</th>\n",
              "      <th>cluster</th>\n",
              "    </tr>\n",
              "  </thead>\n",
              "  <tbody>\n",
              "    <tr>\n",
              "      <th>128</th>\n",
              "      <td>บึงกาฬ 54</td>\n",
              "      <td>0.0</td>\n",
              "      <td>1</td>\n",
              "    </tr>\n",
              "    <tr>\n",
              "      <th>51</th>\n",
              "      <td>บึงกาฬ 53</td>\n",
              "      <td>0.0</td>\n",
              "      <td>1</td>\n",
              "    </tr>\n",
              "    <tr>\n",
              "      <th>100</th>\n",
              "      <td>สมุทรสงคราม 54</td>\n",
              "      <td>9244.0</td>\n",
              "      <td>1</td>\n",
              "    </tr>\n",
              "    <tr>\n",
              "      <th>177</th>\n",
              "      <td>สมุทรสงคราม 55</td>\n",
              "      <td>9857.2</td>\n",
              "      <td>1</td>\n",
              "    </tr>\n",
              "    <tr>\n",
              "      <th>75</th>\n",
              "      <td>ยะลา 53</td>\n",
              "      <td>18901.5</td>\n",
              "      <td>1</td>\n",
              "    </tr>\n",
              "  </tbody>\n",
              "</table>\n",
              "</div>"
            ],
            "text/plain": [
              "            จังหวัด  avg_debt  cluster\n",
              "128       บึงกาฬ 54       0.0        1\n",
              "51        บึงกาฬ 53       0.0        1\n",
              "100  สมุทรสงคราม 54    9244.0        1\n",
              "177  สมุทรสงคราม 55    9857.2        1\n",
              "75          ยะลา 53   18901.5        1"
            ]
          },
          "metadata": {
            "tags": []
          },
          "execution_count": 191
        }
      ]
    },
    {
      "cell_type": "code",
      "metadata": {
        "colab": {
          "base_uri": "https://localhost:8080/",
          "height": 297
        },
        "id": "63GDuguWqtRG",
        "outputId": "8a150eac-5062-4aea-c0ab-b9191c281bfd"
      },
      "source": [
        "avg_Debt_1.groupby('cluster').describe().T"
      ],
      "execution_count": 192,
      "outputs": [
        {
          "output_type": "execute_result",
          "data": {
            "text/html": [
              "<div>\n",
              "<style scoped>\n",
              "    .dataframe tbody tr th:only-of-type {\n",
              "        vertical-align: middle;\n",
              "    }\n",
              "\n",
              "    .dataframe tbody tr th {\n",
              "        vertical-align: top;\n",
              "    }\n",
              "\n",
              "    .dataframe thead th {\n",
              "        text-align: right;\n",
              "    }\n",
              "</style>\n",
              "<table border=\"1\" class=\"dataframe\">\n",
              "  <thead>\n",
              "    <tr style=\"text-align: right;\">\n",
              "      <th></th>\n",
              "      <th>cluster</th>\n",
              "      <th>0</th>\n",
              "      <th>1</th>\n",
              "    </tr>\n",
              "  </thead>\n",
              "  <tbody>\n",
              "    <tr>\n",
              "      <th rowspan=\"8\" valign=\"top\">avg_debt</th>\n",
              "      <th>count</th>\n",
              "      <td>77.000000</td>\n",
              "      <td>154.000000</td>\n",
              "    </tr>\n",
              "    <tr>\n",
              "      <th>mean</th>\n",
              "      <td>135418.225974</td>\n",
              "      <td>129028.938312</td>\n",
              "    </tr>\n",
              "    <tr>\n",
              "      <th>std</th>\n",
              "      <td>60090.011163</td>\n",
              "      <td>55504.453195</td>\n",
              "    </tr>\n",
              "    <tr>\n",
              "      <th>min</th>\n",
              "      <td>27061.000000</td>\n",
              "      <td>0.000000</td>\n",
              "    </tr>\n",
              "    <tr>\n",
              "      <th>25%</th>\n",
              "      <td>90411.000000</td>\n",
              "      <td>96679.250000</td>\n",
              "    </tr>\n",
              "    <tr>\n",
              "      <th>50%</th>\n",
              "      <td>125646.100000</td>\n",
              "      <td>125007.850000</td>\n",
              "    </tr>\n",
              "    <tr>\n",
              "      <th>75%</th>\n",
              "      <td>173821.400000</td>\n",
              "      <td>165346.100000</td>\n",
              "    </tr>\n",
              "    <tr>\n",
              "      <th>max</th>\n",
              "      <td>309493.700000</td>\n",
              "      <td>386957.400000</td>\n",
              "    </tr>\n",
              "  </tbody>\n",
              "</table>\n",
              "</div>"
            ],
            "text/plain": [
              "cluster                     0              1\n",
              "avg_debt count      77.000000     154.000000\n",
              "         mean   135418.225974  129028.938312\n",
              "         std     60090.011163   55504.453195\n",
              "         min     27061.000000       0.000000\n",
              "         25%     90411.000000   96679.250000\n",
              "         50%    125646.100000  125007.850000\n",
              "         75%    173821.400000  165346.100000\n",
              "         max    309493.700000  386957.400000"
            ]
          },
          "metadata": {
            "tags": []
          },
          "execution_count": 192
        }
      ]
    },
    {
      "cell_type": "code",
      "metadata": {
        "colab": {
          "base_uri": "https://localhost:8080/",
          "height": 297
        },
        "id": "DPySP3DiK6E7",
        "outputId": "03316f2d-3c43-4d50-ca5a-f5b92f1e7342"
      },
      "source": [
        "sns.countplot(x='cluster', data=avg_Debt_1)"
      ],
      "execution_count": 193,
      "outputs": [
        {
          "output_type": "execute_result",
          "data": {
            "text/plain": [
              "<matplotlib.axes._subplots.AxesSubplot at 0x7f407b037278>"
            ]
          },
          "metadata": {
            "tags": []
          },
          "execution_count": 193
        },
        {
          "output_type": "display_data",
          "data": {
            "image/png": "[encoded data removed]",
            "text/plain": [
              "<Figure size 432x288 with 1 Axes>"
            ]
          },
          "metadata": {
            "tags": [],
            "image/png": {
              "width": 388,
              "height": 263
            },
            "needs_background": "light"
          }
        }
      ]
    },
    {
      "cell_type": "code",
      "metadata": {
        "colab": {
          "base_uri": "https://localhost:8080/",
          "height": 419
        },
        "id": "DMA3ZX_ErlbD",
        "outputId": "d943e435-5230-440f-a7aa-8fe192af1b7f"
      },
      "source": [
        "avg_Debt_1"
      ],
      "execution_count": 194,
      "outputs": [
        {
          "output_type": "execute_result",
          "data": {
            "text/html": [
              "<div>\n",
              "<style scoped>\n",
              "    .dataframe tbody tr th:only-of-type {\n",
              "        vertical-align: middle;\n",
              "    }\n",
              "\n",
              "    .dataframe tbody tr th {\n",
              "        vertical-align: top;\n",
              "    }\n",
              "\n",
              "    .dataframe thead th {\n",
              "        text-align: right;\n",
              "    }\n",
              "</style>\n",
              "<table border=\"1\" class=\"dataframe\">\n",
              "  <thead>\n",
              "    <tr style=\"text-align: right;\">\n",
              "      <th></th>\n",
              "      <th>จังหวัด</th>\n",
              "      <th>avg_debt</th>\n",
              "      <th>cluster</th>\n",
              "    </tr>\n",
              "  </thead>\n",
              "  <tbody>\n",
              "    <tr>\n",
              "      <th>128</th>\n",
              "      <td>บึงกาฬ 54</td>\n",
              "      <td>0.0</td>\n",
              "      <td>1</td>\n",
              "    </tr>\n",
              "    <tr>\n",
              "      <th>51</th>\n",
              "      <td>บึงกาฬ 53</td>\n",
              "      <td>0.0</td>\n",
              "      <td>1</td>\n",
              "    </tr>\n",
              "    <tr>\n",
              "      <th>100</th>\n",
              "      <td>สมุทรสงคราม 54</td>\n",
              "      <td>9244.0</td>\n",
              "      <td>1</td>\n",
              "    </tr>\n",
              "    <tr>\n",
              "      <th>177</th>\n",
              "      <td>สมุทรสงคราม 55</td>\n",
              "      <td>9857.2</td>\n",
              "      <td>1</td>\n",
              "    </tr>\n",
              "    <tr>\n",
              "      <th>75</th>\n",
              "      <td>ยะลา 53</td>\n",
              "      <td>18901.5</td>\n",
              "      <td>1</td>\n",
              "    </tr>\n",
              "    <tr>\n",
              "      <th>...</th>\n",
              "      <td>...</td>\n",
              "      <td>...</td>\n",
              "      <td>...</td>\n",
              "    </tr>\n",
              "    <tr>\n",
              "      <th>156</th>\n",
              "      <td>นนทบุรี 55</td>\n",
              "      <td>260752.2</td>\n",
              "      <td>0</td>\n",
              "    </tr>\n",
              "    <tr>\n",
              "      <th>162</th>\n",
              "      <td>ชัยนาท 55</td>\n",
              "      <td>264144.0</td>\n",
              "      <td>1</td>\n",
              "    </tr>\n",
              "    <tr>\n",
              "      <th>154</th>\n",
              "      <td>กรุงเทพมหานคร 55</td>\n",
              "      <td>275576.8</td>\n",
              "      <td>0</td>\n",
              "    </tr>\n",
              "    <tr>\n",
              "      <th>5</th>\n",
              "      <td>อ่างทอง 53</td>\n",
              "      <td>309493.7</td>\n",
              "      <td>0</td>\n",
              "    </tr>\n",
              "    <tr>\n",
              "      <th>157</th>\n",
              "      <td>ปทุมธานี 55</td>\n",
              "      <td>386957.4</td>\n",
              "      <td>1</td>\n",
              "    </tr>\n",
              "  </tbody>\n",
              "</table>\n",
              "<p>231 rows × 3 columns</p>\n",
              "</div>"
            ],
            "text/plain": [
              "              จังหวัด  avg_debt  cluster\n",
              "128         บึงกาฬ 54       0.0        1\n",
              "51          บึงกาฬ 53       0.0        1\n",
              "100    สมุทรสงคราม 54    9244.0        1\n",
              "177    สมุทรสงคราม 55    9857.2        1\n",
              "75            ยะลา 53   18901.5        1\n",
              "..                ...       ...      ...\n",
              "156        นนทบุรี 55  260752.2        0\n",
              "162         ชัยนาท 55  264144.0        1\n",
              "154  กรุงเทพมหานคร 55  275576.8        0\n",
              "5          อ่างทอง 53  309493.7        0\n",
              "157       ปทุมธานี 55  386957.4        1\n",
              "\n",
              "[231 rows x 3 columns]"
            ]
          },
          "metadata": {
            "tags": []
          },
          "execution_count": 194
        }
      ]
    },
    {
      "cell_type": "code",
      "metadata": {
        "colab": {
          "base_uri": "https://localhost:8080/",
          "height": 359
        },
        "id": "sTNPg15Er2FG",
        "outputId": "346528b4-815e-41b0-b9bf-39e76c671ac8"
      },
      "source": [
        "avg_Debt_1.groupby('cluster').head().sort_values('cluster')"
      ],
      "execution_count": 195,
      "outputs": [
        {
          "output_type": "execute_result",
          "data": {
            "text/html": [
              "<div>\n",
              "<style scoped>\n",
              "    .dataframe tbody tr th:only-of-type {\n",
              "        vertical-align: middle;\n",
              "    }\n",
              "\n",
              "    .dataframe tbody tr th {\n",
              "        vertical-align: top;\n",
              "    }\n",
              "\n",
              "    .dataframe thead th {\n",
              "        text-align: right;\n",
              "    }\n",
              "</style>\n",
              "<table border=\"1\" class=\"dataframe\">\n",
              "  <thead>\n",
              "    <tr style=\"text-align: right;\">\n",
              "      <th></th>\n",
              "      <th>จังหวัด</th>\n",
              "      <th>avg_debt</th>\n",
              "      <th>cluster</th>\n",
              "    </tr>\n",
              "  </thead>\n",
              "  <tbody>\n",
              "    <tr>\n",
              "      <th>23</th>\n",
              "      <td>สมุทรสงคราม 53</td>\n",
              "      <td>27061.0</td>\n",
              "      <td>0</td>\n",
              "    </tr>\n",
              "    <tr>\n",
              "      <th>229</th>\n",
              "      <td>ยะลา 55</td>\n",
              "      <td>35828.9</td>\n",
              "      <td>0</td>\n",
              "    </tr>\n",
              "    <tr>\n",
              "      <th>188</th>\n",
              "      <td>แม่ฮ่องสอน 55</td>\n",
              "      <td>38341.2</td>\n",
              "      <td>0</td>\n",
              "    </tr>\n",
              "    <tr>\n",
              "      <th>111</th>\n",
              "      <td>แม่ฮ่องสอน 54</td>\n",
              "      <td>41957.3</td>\n",
              "      <td>0</td>\n",
              "    </tr>\n",
              "    <tr>\n",
              "      <th>230</th>\n",
              "      <td>นราธิวาส 55</td>\n",
              "      <td>44974.1</td>\n",
              "      <td>0</td>\n",
              "    </tr>\n",
              "    <tr>\n",
              "      <th>128</th>\n",
              "      <td>บึงกาฬ 54</td>\n",
              "      <td>0.0</td>\n",
              "      <td>1</td>\n",
              "    </tr>\n",
              "    <tr>\n",
              "      <th>51</th>\n",
              "      <td>บึงกาฬ 53</td>\n",
              "      <td>0.0</td>\n",
              "      <td>1</td>\n",
              "    </tr>\n",
              "    <tr>\n",
              "      <th>100</th>\n",
              "      <td>สมุทรสงคราม 54</td>\n",
              "      <td>9244.0</td>\n",
              "      <td>1</td>\n",
              "    </tr>\n",
              "    <tr>\n",
              "      <th>177</th>\n",
              "      <td>สมุทรสงคราม 55</td>\n",
              "      <td>9857.2</td>\n",
              "      <td>1</td>\n",
              "    </tr>\n",
              "    <tr>\n",
              "      <th>75</th>\n",
              "      <td>ยะลา 53</td>\n",
              "      <td>18901.5</td>\n",
              "      <td>1</td>\n",
              "    </tr>\n",
              "  </tbody>\n",
              "</table>\n",
              "</div>"
            ],
            "text/plain": [
              "            จังหวัด  avg_debt  cluster\n",
              "23   สมุทรสงคราม 53   27061.0        0\n",
              "229         ยะลา 55   35828.9        0\n",
              "188   แม่ฮ่องสอน 55   38341.2        0\n",
              "111   แม่ฮ่องสอน 54   41957.3        0\n",
              "230     นราธิวาส 55   44974.1        0\n",
              "128       บึงกาฬ 54       0.0        1\n",
              "51        บึงกาฬ 53       0.0        1\n",
              "100  สมุทรสงคราม 54    9244.0        1\n",
              "177  สมุทรสงคราม 55    9857.2        1\n",
              "75          ยะลา 53   18901.5        1"
            ]
          },
          "metadata": {
            "tags": []
          },
          "execution_count": 195
        }
      ]
    },
    {
      "cell_type": "code",
      "metadata": {
        "id": "RflwKQNB4Gmy"
      },
      "source": [
        ""
      ],
      "execution_count": null,
      "outputs": []
    },
    {
      "cell_type": "code",
      "metadata": {
        "id": "GMNvwClr1l2J"
      },
      "source": [
        "divorce_1 = os.path.join(path,'divorce_1.csv')"
      ],
      "execution_count": 43,
      "outputs": []
    },
    {
      "cell_type": "code",
      "metadata": {
        "id": "PG-RNv2I20xe",
        "colab": {
          "base_uri": "https://localhost:8080/",
          "height": 419
        },
        "outputId": "fabd3623-3c74-4f5b-cd01-eed7c435b195"
      },
      "source": [
        "divorce_1 = pd.read_csv(divorce_1)\n",
        "divorce_1"
      ],
      "execution_count": 44,
      "outputs": [
        {
          "output_type": "execute_result",
          "data": {
            "text/html": [
              "<div>\n",
              "<style scoped>\n",
              "    .dataframe tbody tr th:only-of-type {\n",
              "        vertical-align: middle;\n",
              "    }\n",
              "\n",
              "    .dataframe tbody tr th {\n",
              "        vertical-align: top;\n",
              "    }\n",
              "\n",
              "    .dataframe thead th {\n",
              "        text-align: right;\n",
              "    }\n",
              "</style>\n",
              "<table border=\"1\" class=\"dataframe\">\n",
              "  <thead>\n",
              "    <tr style=\"text-align: right;\">\n",
              "      <th></th>\n",
              "      <th>จังหวัด</th>\n",
              "      <th>couple_div</th>\n",
              "    </tr>\n",
              "  </thead>\n",
              "  <tbody>\n",
              "    <tr>\n",
              "      <th>0</th>\n",
              "      <td>กรุงเทพมหานคร 53</td>\n",
              "      <td>16608.0</td>\n",
              "    </tr>\n",
              "    <tr>\n",
              "      <th>1</th>\n",
              "      <td>สมุทรปราการ 53</td>\n",
              "      <td>3683.0</td>\n",
              "    </tr>\n",
              "    <tr>\n",
              "      <th>2</th>\n",
              "      <td>นนทบุรี 53</td>\n",
              "      <td>2389.0</td>\n",
              "    </tr>\n",
              "    <tr>\n",
              "      <th>3</th>\n",
              "      <td>ปทุมธานี 53</td>\n",
              "      <td>2370.0</td>\n",
              "    </tr>\n",
              "    <tr>\n",
              "      <th>4</th>\n",
              "      <td>พระนครศรีอยุธยา 53</td>\n",
              "      <td>1981.0</td>\n",
              "    </tr>\n",
              "    <tr>\n",
              "      <th>...</th>\n",
              "      <td>...</td>\n",
              "      <td>...</td>\n",
              "    </tr>\n",
              "    <tr>\n",
              "      <th>226</th>\n",
              "      <td>ตรัง 55</td>\n",
              "      <td>742.0</td>\n",
              "    </tr>\n",
              "    <tr>\n",
              "      <th>227</th>\n",
              "      <td>พัทลุง 55</td>\n",
              "      <td>704.0</td>\n",
              "    </tr>\n",
              "    <tr>\n",
              "      <th>228</th>\n",
              "      <td>ปัตตานี 55</td>\n",
              "      <td>255.0</td>\n",
              "    </tr>\n",
              "    <tr>\n",
              "      <th>229</th>\n",
              "      <td>ยะลา 55</td>\n",
              "      <td>301.0</td>\n",
              "    </tr>\n",
              "    <tr>\n",
              "      <th>230</th>\n",
              "      <td>นราธิวาส 55</td>\n",
              "      <td>225.0</td>\n",
              "    </tr>\n",
              "  </tbody>\n",
              "</table>\n",
              "<p>231 rows × 2 columns</p>\n",
              "</div>"
            ],
            "text/plain": [
              "                จังหวัด  couple_div\n",
              "0      กรุงเทพมหานคร 53     16608.0\n",
              "1        สมุทรปราการ 53      3683.0\n",
              "2            นนทบุรี 53      2389.0\n",
              "3           ปทุมธานี 53      2370.0\n",
              "4    พระนครศรีอยุธยา 53      1981.0\n",
              "..                  ...         ...\n",
              "226             ตรัง 55       742.0\n",
              "227           พัทลุง 55       704.0\n",
              "228          ปัตตานี 55       255.0\n",
              "229             ยะลา 55       301.0\n",
              "230         นราธิวาส 55       225.0\n",
              "\n",
              "[231 rows x 2 columns]"
            ]
          },
          "metadata": {
            "tags": []
          },
          "execution_count": 44
        }
      ]
    },
    {
      "cell_type": "code",
      "metadata": {
        "id": "BJtgLz2U27CP",
        "colab": {
          "base_uri": "https://localhost:8080/"
        },
        "outputId": "c5357396-63ec-4afa-b8bd-c16eaea22005"
      },
      "source": [
        "divorce_1.shape"
      ],
      "execution_count": 45,
      "outputs": [
        {
          "output_type": "execute_result",
          "data": {
            "text/plain": [
              "(231, 2)"
            ]
          },
          "metadata": {
            "tags": []
          },
          "execution_count": 45
        }
      ]
    },
    {
      "cell_type": "code",
      "metadata": {
        "id": "req2jf2E2--d",
        "colab": {
          "base_uri": "https://localhost:8080/"
        },
        "outputId": "d410bf6b-5baa-4a39-a625-390eeda4016b"
      },
      "source": [
        "divorce_1.isnull().any()"
      ],
      "execution_count": 46,
      "outputs": [
        {
          "output_type": "execute_result",
          "data": {
            "text/plain": [
              "จังหวัด       False\n",
              "couple_div     True\n",
              "dtype: bool"
            ]
          },
          "metadata": {
            "tags": []
          },
          "execution_count": 46
        }
      ]
    },
    {
      "cell_type": "code",
      "metadata": {
        "id": "XzDdPuaFIL2k"
      },
      "source": [
        "divorce_1[['couple_div']] = divorce_1[['couple_div']].fillna(0) "
      ],
      "execution_count": 47,
      "outputs": []
    },
    {
      "cell_type": "code",
      "metadata": {
        "colab": {
          "base_uri": "https://localhost:8080/"
        },
        "id": "T9wtkySTIL2k",
        "outputId": "f137cda7-1863-457a-8310-8413ced9c67c"
      },
      "source": [
        "divorce_1.isnull().any()"
      ],
      "execution_count": 49,
      "outputs": [
        {
          "output_type": "execute_result",
          "data": {
            "text/plain": [
              "จังหวัด       False\n",
              "couple_div    False\n",
              "dtype: bool"
            ]
          },
          "metadata": {
            "tags": []
          },
          "execution_count": 49
        }
      ]
    },
    {
      "cell_type": "code",
      "metadata": {
        "id": "rpjxBnKgIL2l"
      },
      "source": [
        "from sklearn.cluster import KMeans"
      ],
      "execution_count": 50,
      "outputs": []
    },
    {
      "cell_type": "code",
      "metadata": {
        "id": "Z6pmzARkIL2l"
      },
      "source": [
        "Xd = divorce_1[['couple_div']] #Xd คือตัวแปรของการหย่า"
      ],
      "execution_count": 51,
      "outputs": []
    },
    {
      "cell_type": "code",
      "metadata": {
        "id": "ZW94c48rIL2l"
      },
      "source": [
        "from sklearn.datasets import make_blobs"
      ],
      "execution_count": 52,
      "outputs": []
    },
    {
      "cell_type": "code",
      "metadata": {
        "id": "ie43Jy55IL2l"
      },
      "source": [
        "Xd,y=make_blobs(n_samples=231, centers=3, n_features=2, random_state=6)"
      ],
      "execution_count": 53,
      "outputs": []
    },
    {
      "cell_type": "code",
      "metadata": {
        "colab": {
          "base_uri": "https://localhost:8080/"
        },
        "id": "dKAbV9E2IL2l",
        "outputId": "c21bc77f-80f2-4bfd-b6cf-80dd7189a829"
      },
      "source": [
        "Xd.shape "
      ],
      "execution_count": 54,
      "outputs": [
        {
          "output_type": "execute_result",
          "data": {
            "text/plain": [
              "(231, 2)"
            ]
          },
          "metadata": {
            "tags": []
          },
          "execution_count": 54
        }
      ]
    },
    {
      "cell_type": "code",
      "metadata": {
        "colab": {
          "base_uri": "https://localhost:8080/",
          "height": 282
        },
        "id": "ou7AEn0oIL2l",
        "outputId": "c0835ac9-136b-470f-fa1a-908e4e653b6d"
      },
      "source": [
        "from matplotlib import pyplot as plt\n",
        "plt.scatter(Xd[:,0],Xd[:,1]) #จะแบ่งเป็น 3 กลุ่ม ตาม centers=3"
      ],
      "execution_count": 55,
      "outputs": [
        {
          "output_type": "execute_result",
          "data": {
            "text/plain": [
              "<matplotlib.collections.PathCollection at 0x7f407c51fb38>"
            ]
          },
          "metadata": {
            "tags": []
          },
          "execution_count": 55
        },
        {
          "output_type": "display_data",
          "data": {
            "image/png": "[encoded data removed]",
            "text/plain": [
              "<Figure size 432x288 with 1 Axes>"
            ]
          },
          "metadata": {
            "tags": [],
            "needs_background": "light"
          }
        }
      ]
    },
    {
      "cell_type": "code",
      "metadata": {
        "id": "tvUt9TGrIL2l"
      },
      "source": [
        "from sklearn.cluster import KMeans"
      ],
      "execution_count": 56,
      "outputs": []
    },
    {
      "cell_type": "code",
      "metadata": {
        "id": "KS1yP3w8IL2l"
      },
      "source": [
        "KMclust=KMeans(n_clusters=2) # n_clusters=2 การกำหนดตัวแบ่งว่าจะแบ่งให้มีกลุ่ม 2 กลุ่ม"
      ],
      "execution_count": 57,
      "outputs": []
    },
    {
      "cell_type": "code",
      "metadata": {
        "colab": {
          "base_uri": "https://localhost:8080/"
        },
        "id": "PzF7a3AOIL2m",
        "outputId": "34008c54-bd7d-484c-e7dc-0c6fc4cae375"
      },
      "source": [
        "KMclust.fit(Xd)"
      ],
      "execution_count": 58,
      "outputs": [
        {
          "output_type": "execute_result",
          "data": {
            "text/plain": [
              "KMeans(algorithm='auto', copy_x=True, init='k-means++', max_iter=300,\n",
              "       n_clusters=2, n_init=10, n_jobs=None, precompute_distances='auto',\n",
              "       random_state=None, tol=0.0001, verbose=0)"
            ]
          },
          "metadata": {
            "tags": []
          },
          "execution_count": 58
        }
      ]
    },
    {
      "cell_type": "code",
      "metadata": {
        "id": "5D_0MTcLIL2m"
      },
      "source": [
        "label=KMclust.predict(Xd) # predict ว่าอยู่ในกลุ่มไหน"
      ],
      "execution_count": 59,
      "outputs": []
    },
    {
      "cell_type": "code",
      "metadata": {
        "colab": {
          "base_uri": "https://localhost:8080/",
          "height": 282
        },
        "id": "ps03ye4vIL2m",
        "outputId": "1f00e849-4c58-4776-f621-347e8123939a"
      },
      "source": [
        "plt.scatter(Xd[:,0], Xd[:,1], c=label) # เปลี่ยนสีให้เป็นไปตาม label ของเราโดยการสุ่ม"
      ],
      "execution_count": 60,
      "outputs": [
        {
          "output_type": "execute_result",
          "data": {
            "text/plain": [
              "<matplotlib.collections.PathCollection at 0x7f407c453668>"
            ]
          },
          "metadata": {
            "tags": []
          },
          "execution_count": 60
        },
        {
          "output_type": "display_data",
          "data": {
            "image/png": "[encoded data removed]",
            "text/plain": [
              "<Figure size 432x288 with 1 Axes>"
            ]
          },
          "metadata": {
            "tags": [],
            "needs_background": "light"
          }
        }
      ]
    },
    {
      "cell_type": "code",
      "metadata": {
        "colab": {
          "base_uri": "https://localhost:8080/"
        },
        "id": "aTLUmTESIL2m",
        "outputId": "5c9dcc93-e91e-4c50-bdd0-cb111095e37e"
      },
      "source": [
        "KMclust.cluster_centers_"
      ],
      "execution_count": 61,
      "outputs": [
        {
          "output_type": "execute_result",
          "data": {
            "text/plain": [
              "array([[ 7.17049205, -6.18852947],\n",
              "       [-7.79775007,  1.78610777]])"
            ]
          },
          "metadata": {
            "tags": []
          },
          "execution_count": 61
        }
      ]
    },
    {
      "cell_type": "code",
      "metadata": {
        "colab": {
          "base_uri": "https://localhost:8080/"
        },
        "id": "gdnVckF5IL2m",
        "outputId": "d0eb2485-4fd1-4504-b208-0b6559128f43"
      },
      "source": [
        "KMclust.transform(Xd) # the distance between each point and centroid"
      ],
      "execution_count": 62,
      "outputs": [
        {
          "output_type": "execute_result",
          "data": {
            "text/plain": [
              "array([[ 4.35657384, 19.46286796],\n",
              "       [ 2.71215952, 17.25282908],\n",
              "       [ 2.70884496, 16.22743323],\n",
              "       [ 5.05983897, 17.45766143],\n",
              "       [ 2.02897205, 16.04954075],\n",
              "       [ 2.56177615, 16.71518607],\n",
              "       [15.64664579,  1.34745187],\n",
              "       [ 3.4711508 , 18.87195087],\n",
              "       [16.62190693,  1.50652845],\n",
              "       [ 2.7266152 , 17.23167107],\n",
              "       [16.6160869 ,  0.34904234],\n",
              "       [ 4.03944671, 16.52353791],\n",
              "       [ 3.85827321, 14.22449676],\n",
              "       [17.02789616,  0.19453677],\n",
              "       [ 3.61896268, 18.53323763],\n",
              "       [17.58481661,  0.66590015],\n",
              "       [ 2.30713982, 17.77093305],\n",
              "       [17.02693124,  1.03696265],\n",
              "       [17.19176311,  0.52754238],\n",
              "       [15.33005926,  1.64582881],\n",
              "       [15.60783922,  1.39409006],\n",
              "       [ 2.91852292, 16.48022043],\n",
              "       [ 3.12708999, 18.0930437 ],\n",
              "       [ 2.26100905, 17.36691817],\n",
              "       [15.76940085,  2.22813124],\n",
              "       [ 2.44106119, 17.36937133],\n",
              "       [ 4.77217036, 18.84251956],\n",
              "       [ 3.43700643, 18.43292038],\n",
              "       [ 2.62046403, 15.83178334],\n",
              "       [ 3.78488878, 15.45391096],\n",
              "       [18.27095342,  1.99299132],\n",
              "       [ 1.56324951, 16.83960694],\n",
              "       [16.75371194,  0.90237552],\n",
              "       [17.99806036,  1.10319419],\n",
              "       [18.03998532,  1.48168548],\n",
              "       [17.56146377,  2.30147336],\n",
              "       [18.03457152,  1.6424483 ],\n",
              "       [ 3.93438264, 18.80407863],\n",
              "       [18.83735603,  2.53177927],\n",
              "       [ 2.78424162, 18.4314105 ],\n",
              "       [ 2.81351594, 16.47348457],\n",
              "       [ 3.63284958, 20.19513526],\n",
              "       [ 6.09384017, 18.70041437],\n",
              "       [ 2.63440943, 15.61776043],\n",
              "       [ 3.33192603, 14.40794046],\n",
              "       [ 4.7021245 , 19.1888418 ],\n",
              "       [ 2.51784087, 18.99701274],\n",
              "       [14.53163148,  2.43245519],\n",
              "       [16.58660531,  0.60295049],\n",
              "       [ 1.79897043, 16.30969024],\n",
              "       [18.7272747 ,  1.76992575],\n",
              "       [16.13501412,  1.8417125 ],\n",
              "       [ 1.52013306, 16.94408744],\n",
              "       [ 2.98809468, 17.83782548],\n",
              "       [ 2.27260428, 17.18193776],\n",
              "       [ 3.87112346, 16.85636341],\n",
              "       [ 1.53656764, 17.41236322],\n",
              "       [ 1.17280103, 17.8921282 ],\n",
              "       [ 2.01816388, 16.94087115],\n",
              "       [ 2.88811723, 15.7398409 ],\n",
              "       [ 2.45752212, 15.35969285],\n",
              "       [15.95106526,  1.24464901],\n",
              "       [ 3.21444879, 18.95681337],\n",
              "       [ 2.73149932, 15.57485913],\n",
              "       [ 3.95901521, 16.72110117],\n",
              "       [ 2.60743405, 17.54597233],\n",
              "       [ 3.4001422 , 16.14671619],\n",
              "       [18.83873441,  2.86720509],\n",
              "       [16.70442269,  0.69815203],\n",
              "       [ 4.50821291, 12.82307252],\n",
              "       [ 2.6303264 , 16.60343624],\n",
              "       [ 3.03416063, 17.84095161],\n",
              "       [ 3.91903739, 19.28778482],\n",
              "       [ 4.075039  , 17.03882187],\n",
              "       [ 5.16921753, 15.44132246],\n",
              "       [17.06912965,  0.21011696],\n",
              "       [ 4.01655417, 16.34154496],\n",
              "       [ 1.36016918, 17.9783375 ],\n",
              "       [ 3.0083846 , 15.50797925],\n",
              "       [ 4.56050649, 18.75340136],\n",
              "       [ 4.1069742 , 18.12396319],\n",
              "       [17.04904893,  0.19108444],\n",
              "       [17.99057122,  1.2469916 ],\n",
              "       [ 1.82929176, 16.99671227],\n",
              "       [17.61821607,  0.66916481],\n",
              "       [17.42178028,  0.58848966],\n",
              "       [15.25709319,  2.04667884],\n",
              "       [ 2.5424552 , 17.16547398],\n",
              "       [ 2.21452652, 18.39677901],\n",
              "       [ 2.76427917, 17.00630792],\n",
              "       [ 2.25462519, 17.94514003],\n",
              "       [ 3.06301053, 16.54518734],\n",
              "       [18.28785267,  1.64761666],\n",
              "       [ 4.56650414, 17.597018  ],\n",
              "       [ 4.39171098, 18.11767763],\n",
              "       [ 1.77542959, 15.96302927],\n",
              "       [ 2.39450126, 15.99630643],\n",
              "       [17.80174237,  0.84446374],\n",
              "       [ 4.08097128, 15.80988501],\n",
              "       [18.64051702,  1.69950804],\n",
              "       [ 4.12301358, 17.49440297],\n",
              "       [ 3.06981617, 15.96417387],\n",
              "       [ 3.78665929, 18.89446129],\n",
              "       [ 4.19587728, 17.78110935],\n",
              "       [ 2.23974545, 18.05546306],\n",
              "       [16.92185923,  0.49866462],\n",
              "       [ 3.35862115, 17.60093557],\n",
              "       [17.74482329,  1.45468446],\n",
              "       [16.04859319,  1.25471999],\n",
              "       [17.82810598,  1.37343319],\n",
              "       [ 2.70559454, 17.97033302],\n",
              "       [ 3.62429403, 15.72878204],\n",
              "       [ 2.0614413 , 17.82446973],\n",
              "       [17.17322517,  0.70022634],\n",
              "       [ 4.07476899, 16.87946887],\n",
              "       [ 2.01691216, 17.95185078],\n",
              "       [16.49543936,  1.28390838],\n",
              "       [ 1.34998842, 16.46177683],\n",
              "       [ 2.91829214, 16.59478439],\n",
              "       [ 3.24201161, 17.22081663],\n",
              "       [ 3.19445654, 16.48351938],\n",
              "       [ 2.45962614, 14.79097691],\n",
              "       [ 4.75615465, 16.35321074],\n",
              "       [ 3.88988338, 18.38807688],\n",
              "       [ 2.31983711, 18.45810676],\n",
              "       [ 4.43376296, 17.49949346],\n",
              "       [17.19161104,  0.93768222],\n",
              "       [ 3.58330709, 18.48112098],\n",
              "       [ 3.25014622, 18.60075286],\n",
              "       [ 2.4578405 , 16.07906419],\n",
              "       [ 2.41979388, 17.02333405],\n",
              "       [ 4.20329413, 16.860217  ],\n",
              "       [16.84289403,  0.18243545],\n",
              "       [ 2.23882045, 17.65097887],\n",
              "       [ 1.98845891, 16.99297613],\n",
              "       [17.91609104,  1.12209017],\n",
              "       [ 3.75521044, 15.0668652 ],\n",
              "       [18.46150008,  1.66277316],\n",
              "       [ 2.29535936, 16.91711252],\n",
              "       [ 2.45763675, 17.53698863],\n",
              "       [16.20543852,  0.84095406],\n",
              "       [ 3.31374953, 18.74072352],\n",
              "       [ 3.65729499, 17.25971489],\n",
              "       [ 3.50762547, 17.8253299 ],\n",
              "       [ 2.13865361, 17.24037346],\n",
              "       [ 1.4607609 , 17.19994605],\n",
              "       [16.12136079,  1.30847933],\n",
              "       [ 2.35318766, 15.54343808],\n",
              "       [ 3.83133   , 17.70779582],\n",
              "       [16.03521006,  0.93252684],\n",
              "       [ 2.77971903, 16.60043027],\n",
              "       [17.32132708,  0.92652719],\n",
              "       [16.15484313,  0.93249525],\n",
              "       [ 2.64438341, 18.49808285],\n",
              "       [ 2.95513698, 14.72275055],\n",
              "       [ 1.88931135, 16.93219503],\n",
              "       [16.98354651,  1.42390057],\n",
              "       [16.64078763,  0.81041821],\n",
              "       [17.03583299,  0.09012682],\n",
              "       [ 1.50983989, 17.16759161],\n",
              "       [ 2.42958705, 18.03552144],\n",
              "       [14.90220486,  2.05798904],\n",
              "       [ 3.41467414, 17.32770958],\n",
              "       [16.37547528,  1.04061471],\n",
              "       [ 2.94808886, 15.99051121],\n",
              "       [ 3.85887658, 19.80232854],\n",
              "       [ 4.19594137, 15.63520798],\n",
              "       [15.72737201,  1.33005235],\n",
              "       [ 2.53348978, 16.53823752],\n",
              "       [ 3.72648065, 18.07113222],\n",
              "       [ 3.34092834, 18.17105329],\n",
              "       [ 2.71099665, 16.59786995],\n",
              "       [15.54363133,  1.45901517],\n",
              "       [ 3.59339718, 16.11067932],\n",
              "       [18.91914737,  1.98603883],\n",
              "       [ 4.43044897, 19.23964937],\n",
              "       [ 3.02391434, 17.88806975],\n",
              "       [ 2.78692861, 17.66118738],\n",
              "       [ 1.16091305, 16.85169316],\n",
              "       [ 3.2394761 , 16.00079409],\n",
              "       [17.1932281 ,  0.44056281],\n",
              "       [16.72268384,  0.49340016],\n",
              "       [17.63503499,  0.93644229],\n",
              "       [18.45707461,  1.51954611],\n",
              "       [19.12796373,  2.22310431],\n",
              "       [ 3.10182166, 17.95734754],\n",
              "       [16.39863165,  0.649801  ],\n",
              "       [ 3.08666594, 16.36276856],\n",
              "       [ 4.15188552, 13.83189275],\n",
              "       [ 2.69699758, 16.10289331],\n",
              "       [15.55889799,  1.41290881],\n",
              "       [15.60816625,  1.51669785],\n",
              "       [ 3.07990036, 17.04760612],\n",
              "       [ 3.63647386, 18.25636131],\n",
              "       [ 4.04929885, 19.82012771],\n",
              "       [ 4.07165953, 16.64991081],\n",
              "       [ 4.54024882, 16.01876395],\n",
              "       [17.42247892,  1.28103003],\n",
              "       [ 3.36735565, 18.50614972],\n",
              "       [17.57225361,  1.08607216],\n",
              "       [ 2.29130143, 16.81417548],\n",
              "       [ 2.16330676, 18.07664592],\n",
              "       [ 2.23998361, 16.84635214],\n",
              "       [ 2.61450007, 17.73523228],\n",
              "       [ 2.54852051, 18.57224863],\n",
              "       [ 3.79803582, 17.55579435],\n",
              "       [ 3.5252263 , 18.16217238],\n",
              "       [17.94195261,  1.89253713],\n",
              "       [ 4.0153827 , 18.82928052],\n",
              "       [ 2.74100613, 17.9098001 ],\n",
              "       [16.05321209,  0.91189524],\n",
              "       [18.43003457,  1.58406234],\n",
              "       [ 3.39887447, 18.34225764],\n",
              "       [ 2.35021929, 17.13100533],\n",
              "       [ 1.85578271, 16.35707693],\n",
              "       [15.45625925,  1.62219092],\n",
              "       [17.37852865,  2.36738786],\n",
              "       [17.34145343,  1.03794504],\n",
              "       [ 1.32906842, 17.37709693],\n",
              "       [ 3.04009756, 16.73611362],\n",
              "       [ 3.53143466, 18.07716746],\n",
              "       [ 2.72637449, 17.56375419],\n",
              "       [ 3.05653743, 15.70551996],\n",
              "       [ 1.64971319, 17.68824137],\n",
              "       [14.92939406,  2.52872159],\n",
              "       [15.06493088,  2.84924721],\n",
              "       [18.25881215,  1.30288311],\n",
              "       [ 4.09919972, 18.10067932],\n",
              "       [17.74079602,  0.78122815],\n",
              "       [16.47103052,  0.81231031],\n",
              "       [ 4.37287979, 18.11536364]])"
            ]
          },
          "metadata": {
            "tags": []
          },
          "execution_count": 62
        }
      ]
    },
    {
      "cell_type": "code",
      "metadata": {
        "colab": {
          "base_uri": "https://localhost:8080/"
        },
        "id": "HLshjE6LIL2m",
        "outputId": "ee6ae798-b135-4694-846e-c98570ab1563"
      },
      "source": [
        "KMclust.labels_"
      ],
      "execution_count": 63,
      "outputs": [
        {
          "output_type": "execute_result",
          "data": {
            "text/plain": [
              "array([0, 0, 0, 0, 0, 0, 1, 0, 1, 0, 1, 0, 0, 1, 0, 1, 0, 1, 1, 1, 1, 0,\n",
              "       0, 0, 1, 0, 0, 0, 0, 0, 1, 0, 1, 1, 1, 1, 1, 0, 1, 0, 0, 0, 0, 0,\n",
              "       0, 0, 0, 1, 1, 0, 1, 1, 0, 0, 0, 0, 0, 0, 0, 0, 0, 1, 0, 0, 0, 0,\n",
              "       0, 1, 1, 0, 0, 0, 0, 0, 0, 1, 0, 0, 0, 0, 0, 1, 1, 0, 1, 1, 1, 0,\n",
              "       0, 0, 0, 0, 1, 0, 0, 0, 0, 1, 0, 1, 0, 0, 0, 0, 0, 1, 0, 1, 1, 1,\n",
              "       0, 0, 0, 1, 0, 0, 1, 0, 0, 0, 0, 0, 0, 0, 0, 0, 1, 0, 0, 0, 0, 0,\n",
              "       1, 0, 0, 1, 0, 1, 0, 0, 1, 0, 0, 0, 0, 0, 1, 0, 0, 1, 0, 1, 1, 0,\n",
              "       0, 0, 1, 1, 1, 0, 0, 1, 0, 1, 0, 0, 0, 1, 0, 0, 0, 0, 1, 0, 1, 0,\n",
              "       0, 0, 0, 0, 1, 1, 1, 1, 1, 0, 1, 0, 0, 0, 1, 1, 0, 0, 0, 0, 0, 1,\n",
              "       0, 1, 0, 0, 0, 0, 0, 0, 0, 1, 0, 0, 1, 1, 0, 0, 0, 1, 1, 1, 0, 0,\n",
              "       0, 0, 0, 0, 1, 1, 1, 0, 1, 1, 0], dtype=int32)"
            ]
          },
          "metadata": {
            "tags": []
          },
          "execution_count": 63
        }
      ]
    },
    {
      "cell_type": "code",
      "metadata": {
        "colab": {
          "base_uri": "https://localhost:8080/"
        },
        "id": "I25r68bOIL2n",
        "outputId": "d8636ef4-2944-4d4e-c9d3-3e841aa7c20d"
      },
      "source": [
        "ssdd=[] #ssdd เซ็ทว่างของการหย่า\n",
        "for k in range(2, 10):\n",
        "    m=KMeans(n_clusters=k)\n",
        "    m.fit(Xd)\n",
        "    ssdd.append([k, m.inertia_])\n",
        "ssdd"
      ],
      "execution_count": 64,
      "outputs": [
        {
          "output_type": "execute_result",
          "data": {
            "text/plain": [
              "[[2, 1751.9669425508212],\n",
              " [3, 444.034965979045],\n",
              " [4, 380.93096209173507],\n",
              " [5, 327.73508679797965],\n",
              " [6, 274.1747511459091],\n",
              " [7, 242.76272024750108],\n",
              " [8, 210.8719848795434],\n",
              " [9, 186.93842281567214]]"
            ]
          },
          "metadata": {
            "tags": []
          },
          "execution_count": 64
        }
      ]
    },
    {
      "cell_type": "code",
      "metadata": {
        "colab": {
          "base_uri": "https://localhost:8080/"
        },
        "id": "oQZUn6vIpl0s",
        "outputId": "5b660f56-c744-400c-c496-a476c8c15296"
      },
      "source": [
        "xyd= np.array(ssdd) #ssdd เซ็ทว่างของการหย่า\n",
        "print(xyd) #xyd ตัวแปรของ xy ของการหย่า"
      ],
      "execution_count": 75,
      "outputs": [
        {
          "output_type": "stream",
          "text": [
            "[[   2.         1751.96694255]\n",
            " [   3.          444.03496598]\n",
            " [   4.          380.93096209]\n",
            " [   5.          327.7350868 ]\n",
            " [   6.          274.17475115]\n",
            " [   7.          242.76272025]\n",
            " [   8.          210.87198488]\n",
            " [   9.          186.93842282]]\n"
          ],
          "name": "stdout"
        }
      ]
    },
    {
      "cell_type": "code",
      "metadata": {
        "colab": {
          "base_uri": "https://localhost:8080/",
          "height": 282
        },
        "id": "z6vjXYoEp4pa",
        "outputId": "b03ab4d8-57c4-41bc-fd95-d5f7febc5a71"
      },
      "source": [
        "plt.plot(xyd[:, 0], xyd[:, 1], linestyle='--', marker='o') #xyd ตัวแปรของ xy ของการหย่า\n",
        "# plt.plot(xy[:, 0], xy[:, 1], '--o')"
      ],
      "execution_count": 76,
      "outputs": [
        {
          "output_type": "execute_result",
          "data": {
            "text/plain": [
              "[<matplotlib.lines.Line2D at 0x7f407b950390>]"
            ]
          },
          "metadata": {
            "tags": []
          },
          "execution_count": 76
        },
        {
          "output_type": "display_data",
          "data": {
            "image/png": "[encoded data removed]",
            "text/plain": [
              "<Figure size 432x288 with 1 Axes>"
            ]
          },
          "metadata": {
            "tags": [],
            "image/png": {
              "width": 381,
              "height": 248
            },
            "needs_background": "light"
          }
        }
      ]
    },
    {
      "cell_type": "code",
      "metadata": {
        "colab": {
          "base_uri": "https://localhost:8080/",
          "height": 297
        },
        "id": "1ye0paBAIL2n",
        "outputId": "ed008561-70c3-46e6-9605-dfad7af23886"
      },
      "source": [
        "ddd=pd.DataFrame(ssdd, columns=['k', 'ssdd']) #ddd ตัวแปรของการหย่า\n",
        "ddd"
      ],
      "execution_count": 77,
      "outputs": [
        {
          "output_type": "execute_result",
          "data": {
            "text/html": [
              "<div>\n",
              "<style scoped>\n",
              "    .dataframe tbody tr th:only-of-type {\n",
              "        vertical-align: middle;\n",
              "    }\n",
              "\n",
              "    .dataframe tbody tr th {\n",
              "        vertical-align: top;\n",
              "    }\n",
              "\n",
              "    .dataframe thead th {\n",
              "        text-align: right;\n",
              "    }\n",
              "</style>\n",
              "<table border=\"1\" class=\"dataframe\">\n",
              "  <thead>\n",
              "    <tr style=\"text-align: right;\">\n",
              "      <th></th>\n",
              "      <th>k</th>\n",
              "      <th>ssdd</th>\n",
              "    </tr>\n",
              "  </thead>\n",
              "  <tbody>\n",
              "    <tr>\n",
              "      <th>0</th>\n",
              "      <td>2</td>\n",
              "      <td>1751.966943</td>\n",
              "    </tr>\n",
              "    <tr>\n",
              "      <th>1</th>\n",
              "      <td>3</td>\n",
              "      <td>444.034966</td>\n",
              "    </tr>\n",
              "    <tr>\n",
              "      <th>2</th>\n",
              "      <td>4</td>\n",
              "      <td>380.930962</td>\n",
              "    </tr>\n",
              "    <tr>\n",
              "      <th>3</th>\n",
              "      <td>5</td>\n",
              "      <td>327.735087</td>\n",
              "    </tr>\n",
              "    <tr>\n",
              "      <th>4</th>\n",
              "      <td>6</td>\n",
              "      <td>274.174751</td>\n",
              "    </tr>\n",
              "    <tr>\n",
              "      <th>5</th>\n",
              "      <td>7</td>\n",
              "      <td>242.762720</td>\n",
              "    </tr>\n",
              "    <tr>\n",
              "      <th>6</th>\n",
              "      <td>8</td>\n",
              "      <td>210.871985</td>\n",
              "    </tr>\n",
              "    <tr>\n",
              "      <th>7</th>\n",
              "      <td>9</td>\n",
              "      <td>186.938423</td>\n",
              "    </tr>\n",
              "  </tbody>\n",
              "</table>\n",
              "</div>"
            ],
            "text/plain": [
              "   k         ssdd\n",
              "0  2  1751.966943\n",
              "1  3   444.034966\n",
              "2  4   380.930962\n",
              "3  5   327.735087\n",
              "4  6   274.174751\n",
              "5  7   242.762720\n",
              "6  8   210.871985\n",
              "7  9   186.938423"
            ]
          },
          "metadata": {
            "tags": []
          },
          "execution_count": 77
        }
      ]
    },
    {
      "cell_type": "code",
      "metadata": {
        "colab": {
          "base_uri": "https://localhost:8080/",
          "height": 297
        },
        "id": "ByErbJfQIL2n",
        "outputId": "1e89ee6b-7228-48e1-ee4a-54e4fb71e310"
      },
      "source": [
        "ddd['pct_chg']=ddd['ssdd'].pct_change() * 100\n",
        "ddd"
      ],
      "execution_count": 79,
      "outputs": [
        {
          "output_type": "execute_result",
          "data": {
            "text/html": [
              "<div>\n",
              "<style scoped>\n",
              "    .dataframe tbody tr th:only-of-type {\n",
              "        vertical-align: middle;\n",
              "    }\n",
              "\n",
              "    .dataframe tbody tr th {\n",
              "        vertical-align: top;\n",
              "    }\n",
              "\n",
              "    .dataframe thead th {\n",
              "        text-align: right;\n",
              "    }\n",
              "</style>\n",
              "<table border=\"1\" class=\"dataframe\">\n",
              "  <thead>\n",
              "    <tr style=\"text-align: right;\">\n",
              "      <th></th>\n",
              "      <th>k</th>\n",
              "      <th>ssdd</th>\n",
              "      <th>pct_chg</th>\n",
              "    </tr>\n",
              "  </thead>\n",
              "  <tbody>\n",
              "    <tr>\n",
              "      <th>0</th>\n",
              "      <td>2</td>\n",
              "      <td>1751.966943</td>\n",
              "      <td>NaN</td>\n",
              "    </tr>\n",
              "    <tr>\n",
              "      <th>1</th>\n",
              "      <td>3</td>\n",
              "      <td>444.034966</td>\n",
              "      <td>-74.655060</td>\n",
              "    </tr>\n",
              "    <tr>\n",
              "      <th>2</th>\n",
              "      <td>4</td>\n",
              "      <td>380.930962</td>\n",
              "      <td>-14.211494</td>\n",
              "    </tr>\n",
              "    <tr>\n",
              "      <th>3</th>\n",
              "      <td>5</td>\n",
              "      <td>327.735087</td>\n",
              "      <td>-13.964702</td>\n",
              "    </tr>\n",
              "    <tr>\n",
              "      <th>4</th>\n",
              "      <td>6</td>\n",
              "      <td>274.174751</td>\n",
              "      <td>-16.342570</td>\n",
              "    </tr>\n",
              "    <tr>\n",
              "      <th>5</th>\n",
              "      <td>7</td>\n",
              "      <td>242.762720</td>\n",
              "      <td>-11.456938</td>\n",
              "    </tr>\n",
              "    <tr>\n",
              "      <th>6</th>\n",
              "      <td>8</td>\n",
              "      <td>210.871985</td>\n",
              "      <td>-13.136587</td>\n",
              "    </tr>\n",
              "    <tr>\n",
              "      <th>7</th>\n",
              "      <td>9</td>\n",
              "      <td>186.938423</td>\n",
              "      <td>-11.349806</td>\n",
              "    </tr>\n",
              "  </tbody>\n",
              "</table>\n",
              "</div>"
            ],
            "text/plain": [
              "   k         ssdd    pct_chg\n",
              "0  2  1751.966943        NaN\n",
              "1  3   444.034966 -74.655060\n",
              "2  4   380.930962 -14.211494\n",
              "3  5   327.735087 -13.964702\n",
              "4  6   274.174751 -16.342570\n",
              "5  7   242.762720 -11.456938\n",
              "6  8   210.871985 -13.136587\n",
              "7  9   186.938423 -11.349806"
            ]
          },
          "metadata": {
            "tags": []
          },
          "execution_count": 79
        }
      ]
    },
    {
      "cell_type": "code",
      "metadata": {
        "colab": {
          "base_uri": "https://localhost:8080/",
          "height": 265
        },
        "id": "Ehd3LaWvIL2o",
        "outputId": "f6030f0a-97f7-4032-e834-df3de3a3603d"
      },
      "source": [
        "plt.plot(ddd['k'], ddd['ssdd'], linestyle='--', marker='o')\n",
        "# plt.plot(xyd[:, 0], xyd[:, 1], '--o')\n",
        "for index, row in ddd.iterrows():\n",
        "    plt.text(row['k']+.02, row['ssdd']+.02, f'{row[\"pct_chg\"]:.2f}', fontsize=10)"
      ],
      "execution_count": 80,
      "outputs": [
        {
          "output_type": "display_data",
          "data": {
            "image/png": "[encoded data removed]",
            "text/plain": [
              "<Figure size 432x288 with 1 Axes>"
            ]
          },
          "metadata": {
            "tags": [],
            "image/png": {
              "width": 399,
              "height": 248
            },
            "needs_background": "light"
          }
        }
      ]
    },
    {
      "cell_type": "code",
      "metadata": {
        "colab": {
          "base_uri": "https://localhost:8080/",
          "height": 204
        },
        "id": "WaW3tPaiIL2o",
        "outputId": "c3fd2a04-c416-45c3-b436-0a17a991b4e1"
      },
      "source": [
        "divorce_1['cluster']=KMclust.labels_\n",
        "divorce_1.head()"
      ],
      "execution_count": 81,
      "outputs": [
        {
          "output_type": "execute_result",
          "data": {
            "text/html": [
              "<div>\n",
              "<style scoped>\n",
              "    .dataframe tbody tr th:only-of-type {\n",
              "        vertical-align: middle;\n",
              "    }\n",
              "\n",
              "    .dataframe tbody tr th {\n",
              "        vertical-align: top;\n",
              "    }\n",
              "\n",
              "    .dataframe thead th {\n",
              "        text-align: right;\n",
              "    }\n",
              "</style>\n",
              "<table border=\"1\" class=\"dataframe\">\n",
              "  <thead>\n",
              "    <tr style=\"text-align: right;\">\n",
              "      <th></th>\n",
              "      <th>จังหวัด</th>\n",
              "      <th>couple_div</th>\n",
              "      <th>cluster</th>\n",
              "    </tr>\n",
              "  </thead>\n",
              "  <tbody>\n",
              "    <tr>\n",
              "      <th>0</th>\n",
              "      <td>กรุงเทพมหานคร 53</td>\n",
              "      <td>16608.0</td>\n",
              "      <td>0</td>\n",
              "    </tr>\n",
              "    <tr>\n",
              "      <th>1</th>\n",
              "      <td>สมุทรปราการ 53</td>\n",
              "      <td>3683.0</td>\n",
              "      <td>0</td>\n",
              "    </tr>\n",
              "    <tr>\n",
              "      <th>2</th>\n",
              "      <td>นนทบุรี 53</td>\n",
              "      <td>2389.0</td>\n",
              "      <td>0</td>\n",
              "    </tr>\n",
              "    <tr>\n",
              "      <th>3</th>\n",
              "      <td>ปทุมธานี 53</td>\n",
              "      <td>2370.0</td>\n",
              "      <td>0</td>\n",
              "    </tr>\n",
              "    <tr>\n",
              "      <th>4</th>\n",
              "      <td>พระนครศรีอยุธยา 53</td>\n",
              "      <td>1981.0</td>\n",
              "      <td>0</td>\n",
              "    </tr>\n",
              "  </tbody>\n",
              "</table>\n",
              "</div>"
            ],
            "text/plain": [
              "              จังหวัด  couple_div  cluster\n",
              "0    กรุงเทพมหานคร 53     16608.0        0\n",
              "1      สมุทรปราการ 53      3683.0        0\n",
              "2          นนทบุรี 53      2389.0        0\n",
              "3         ปทุมธานี 53      2370.0        0\n",
              "4  พระนครศรีอยุธยา 53      1981.0        0"
            ]
          },
          "metadata": {
            "tags": []
          },
          "execution_count": 81
        }
      ]
    },
    {
      "cell_type": "code",
      "metadata": {
        "colab": {
          "base_uri": "https://localhost:8080/",
          "height": 297
        },
        "id": "UOgV-IyyIL2o",
        "outputId": "5979c69a-2177-410b-fb0d-49cfb9b561a7"
      },
      "source": [
        "divorce_1.groupby('cluster').describe().T"
      ],
      "execution_count": 82,
      "outputs": [
        {
          "output_type": "execute_result",
          "data": {
            "text/html": [
              "<div>\n",
              "<style scoped>\n",
              "    .dataframe tbody tr th:only-of-type {\n",
              "        vertical-align: middle;\n",
              "    }\n",
              "\n",
              "    .dataframe tbody tr th {\n",
              "        vertical-align: top;\n",
              "    }\n",
              "\n",
              "    .dataframe thead th {\n",
              "        text-align: right;\n",
              "    }\n",
              "</style>\n",
              "<table border=\"1\" class=\"dataframe\">\n",
              "  <thead>\n",
              "    <tr style=\"text-align: right;\">\n",
              "      <th></th>\n",
              "      <th>cluster</th>\n",
              "      <th>0</th>\n",
              "      <th>1</th>\n",
              "    </tr>\n",
              "  </thead>\n",
              "  <tbody>\n",
              "    <tr>\n",
              "      <th rowspan=\"8\" valign=\"top\">couple_div</th>\n",
              "      <th>count</th>\n",
              "      <td>154.000000</td>\n",
              "      <td>77.000000</td>\n",
              "    </tr>\n",
              "    <tr>\n",
              "      <th>mean</th>\n",
              "      <td>1560.675325</td>\n",
              "      <td>1107.480519</td>\n",
              "    </tr>\n",
              "    <tr>\n",
              "      <th>std</th>\n",
              "      <td>2211.643017</td>\n",
              "      <td>814.130673</td>\n",
              "    </tr>\n",
              "    <tr>\n",
              "      <th>min</th>\n",
              "      <td>134.000000</td>\n",
              "      <td>0.000000</td>\n",
              "    </tr>\n",
              "    <tr>\n",
              "      <th>25%</th>\n",
              "      <td>674.250000</td>\n",
              "      <td>472.000000</td>\n",
              "    </tr>\n",
              "    <tr>\n",
              "      <th>50%</th>\n",
              "      <td>1036.000000</td>\n",
              "      <td>926.000000</td>\n",
              "    </tr>\n",
              "    <tr>\n",
              "      <th>75%</th>\n",
              "      <td>1647.250000</td>\n",
              "      <td>1465.000000</td>\n",
              "    </tr>\n",
              "    <tr>\n",
              "      <th>max</th>\n",
              "      <td>16608.000000</td>\n",
              "      <td>4446.000000</td>\n",
              "    </tr>\n",
              "  </tbody>\n",
              "</table>\n",
              "</div>"
            ],
            "text/plain": [
              "cluster                      0            1\n",
              "couple_div count    154.000000    77.000000\n",
              "           mean    1560.675325  1107.480519\n",
              "           std     2211.643017   814.130673\n",
              "           min      134.000000     0.000000\n",
              "           25%      674.250000   472.000000\n",
              "           50%     1036.000000   926.000000\n",
              "           75%     1647.250000  1465.000000\n",
              "           max    16608.000000  4446.000000"
            ]
          },
          "metadata": {
            "tags": []
          },
          "execution_count": 82
        }
      ]
    },
    {
      "cell_type": "code",
      "metadata": {
        "colab": {
          "base_uri": "https://localhost:8080/",
          "height": 297
        },
        "id": "_JI9bWCiq9AD",
        "outputId": "772bcc85-52ab-4547-bf5f-2e639050ce5c"
      },
      "source": [
        "sns.countplot(x='cluster', data=divorce_1)"
      ],
      "execution_count": 83,
      "outputs": [
        {
          "output_type": "execute_result",
          "data": {
            "text/plain": [
              "<matplotlib.axes._subplots.AxesSubplot at 0x7f407b837710>"
            ]
          },
          "metadata": {
            "tags": []
          },
          "execution_count": 83
        },
        {
          "output_type": "display_data",
          "data": {
            "image/png": "[encoded data removed]",
            "text/plain": [
              "<Figure size 432x288 with 1 Axes>"
            ]
          },
          "metadata": {
            "tags": [],
            "image/png": {
              "width": 388,
              "height": 263
            },
            "needs_background": "light"
          }
        }
      ]
    },
    {
      "cell_type": "code",
      "metadata": {
        "colab": {
          "base_uri": "https://localhost:8080/",
          "height": 419
        },
        "id": "YJREY03yIL2o",
        "outputId": "d93e0060-9a86-4f37-c564-6700f79df994"
      },
      "source": [
        "divorce_1"
      ],
      "execution_count": 84,
      "outputs": [
        {
          "output_type": "execute_result",
          "data": {
            "text/html": [
              "<div>\n",
              "<style scoped>\n",
              "    .dataframe tbody tr th:only-of-type {\n",
              "        vertical-align: middle;\n",
              "    }\n",
              "\n",
              "    .dataframe tbody tr th {\n",
              "        vertical-align: top;\n",
              "    }\n",
              "\n",
              "    .dataframe thead th {\n",
              "        text-align: right;\n",
              "    }\n",
              "</style>\n",
              "<table border=\"1\" class=\"dataframe\">\n",
              "  <thead>\n",
              "    <tr style=\"text-align: right;\">\n",
              "      <th></th>\n",
              "      <th>จังหวัด</th>\n",
              "      <th>couple_div</th>\n",
              "      <th>cluster</th>\n",
              "    </tr>\n",
              "  </thead>\n",
              "  <tbody>\n",
              "    <tr>\n",
              "      <th>0</th>\n",
              "      <td>กรุงเทพมหานคร 53</td>\n",
              "      <td>16608.0</td>\n",
              "      <td>0</td>\n",
              "    </tr>\n",
              "    <tr>\n",
              "      <th>1</th>\n",
              "      <td>สมุทรปราการ 53</td>\n",
              "      <td>3683.0</td>\n",
              "      <td>0</td>\n",
              "    </tr>\n",
              "    <tr>\n",
              "      <th>2</th>\n",
              "      <td>นนทบุรี 53</td>\n",
              "      <td>2389.0</td>\n",
              "      <td>0</td>\n",
              "    </tr>\n",
              "    <tr>\n",
              "      <th>3</th>\n",
              "      <td>ปทุมธานี 53</td>\n",
              "      <td>2370.0</td>\n",
              "      <td>0</td>\n",
              "    </tr>\n",
              "    <tr>\n",
              "      <th>4</th>\n",
              "      <td>พระนครศรีอยุธยา 53</td>\n",
              "      <td>1981.0</td>\n",
              "      <td>0</td>\n",
              "    </tr>\n",
              "    <tr>\n",
              "      <th>...</th>\n",
              "      <td>...</td>\n",
              "      <td>...</td>\n",
              "      <td>...</td>\n",
              "    </tr>\n",
              "    <tr>\n",
              "      <th>226</th>\n",
              "      <td>ตรัง 55</td>\n",
              "      <td>742.0</td>\n",
              "      <td>1</td>\n",
              "    </tr>\n",
              "    <tr>\n",
              "      <th>227</th>\n",
              "      <td>พัทลุง 55</td>\n",
              "      <td>704.0</td>\n",
              "      <td>0</td>\n",
              "    </tr>\n",
              "    <tr>\n",
              "      <th>228</th>\n",
              "      <td>ปัตตานี 55</td>\n",
              "      <td>255.0</td>\n",
              "      <td>1</td>\n",
              "    </tr>\n",
              "    <tr>\n",
              "      <th>229</th>\n",
              "      <td>ยะลา 55</td>\n",
              "      <td>301.0</td>\n",
              "      <td>1</td>\n",
              "    </tr>\n",
              "    <tr>\n",
              "      <th>230</th>\n",
              "      <td>นราธิวาส 55</td>\n",
              "      <td>225.0</td>\n",
              "      <td>0</td>\n",
              "    </tr>\n",
              "  </tbody>\n",
              "</table>\n",
              "<p>231 rows × 3 columns</p>\n",
              "</div>"
            ],
            "text/plain": [
              "                จังหวัด  couple_div  cluster\n",
              "0      กรุงเทพมหานคร 53     16608.0        0\n",
              "1        สมุทรปราการ 53      3683.0        0\n",
              "2            นนทบุรี 53      2389.0        0\n",
              "3           ปทุมธานี 53      2370.0        0\n",
              "4    พระนครศรีอยุธยา 53      1981.0        0\n",
              "..                  ...         ...      ...\n",
              "226             ตรัง 55       742.0        1\n",
              "227           พัทลุง 55       704.0        0\n",
              "228          ปัตตานี 55       255.0        1\n",
              "229             ยะลา 55       301.0        1\n",
              "230         นราธิวาส 55       225.0        0\n",
              "\n",
              "[231 rows x 3 columns]"
            ]
          },
          "metadata": {
            "tags": []
          },
          "execution_count": 84
        }
      ]
    },
    {
      "cell_type": "code",
      "metadata": {
        "colab": {
          "base_uri": "https://localhost:8080/",
          "height": 359
        },
        "id": "3rr4tq8xIL2o",
        "outputId": "6a7f9352-12fd-4a47-9ef0-dee594772e56"
      },
      "source": [
        "divorce_1.groupby('cluster').head().sort_values('cluster')"
      ],
      "execution_count": 85,
      "outputs": [
        {
          "output_type": "execute_result",
          "data": {
            "text/html": [
              "<div>\n",
              "<style scoped>\n",
              "    .dataframe tbody tr th:only-of-type {\n",
              "        vertical-align: middle;\n",
              "    }\n",
              "\n",
              "    .dataframe tbody tr th {\n",
              "        vertical-align: top;\n",
              "    }\n",
              "\n",
              "    .dataframe thead th {\n",
              "        text-align: right;\n",
              "    }\n",
              "</style>\n",
              "<table border=\"1\" class=\"dataframe\">\n",
              "  <thead>\n",
              "    <tr style=\"text-align: right;\">\n",
              "      <th></th>\n",
              "      <th>จังหวัด</th>\n",
              "      <th>couple_div</th>\n",
              "      <th>cluster</th>\n",
              "    </tr>\n",
              "  </thead>\n",
              "  <tbody>\n",
              "    <tr>\n",
              "      <th>0</th>\n",
              "      <td>กรุงเทพมหานคร 53</td>\n",
              "      <td>16608.0</td>\n",
              "      <td>0</td>\n",
              "    </tr>\n",
              "    <tr>\n",
              "      <th>1</th>\n",
              "      <td>สมุทรปราการ 53</td>\n",
              "      <td>3683.0</td>\n",
              "      <td>0</td>\n",
              "    </tr>\n",
              "    <tr>\n",
              "      <th>2</th>\n",
              "      <td>นนทบุรี 53</td>\n",
              "      <td>2389.0</td>\n",
              "      <td>0</td>\n",
              "    </tr>\n",
              "    <tr>\n",
              "      <th>3</th>\n",
              "      <td>ปทุมธานี 53</td>\n",
              "      <td>2370.0</td>\n",
              "      <td>0</td>\n",
              "    </tr>\n",
              "    <tr>\n",
              "      <th>4</th>\n",
              "      <td>พระนครศรีอยุธยา 53</td>\n",
              "      <td>1981.0</td>\n",
              "      <td>0</td>\n",
              "    </tr>\n",
              "    <tr>\n",
              "      <th>6</th>\n",
              "      <td>ลพบุรี 53</td>\n",
              "      <td>1394.0</td>\n",
              "      <td>1</td>\n",
              "    </tr>\n",
              "    <tr>\n",
              "      <th>8</th>\n",
              "      <td>ชัยนาท 53</td>\n",
              "      <td>474.0</td>\n",
              "      <td>1</td>\n",
              "    </tr>\n",
              "    <tr>\n",
              "      <th>10</th>\n",
              "      <td>ชลบุรี 53</td>\n",
              "      <td>4446.0</td>\n",
              "      <td>1</td>\n",
              "    </tr>\n",
              "    <tr>\n",
              "      <th>13</th>\n",
              "      <td>ตราด 53</td>\n",
              "      <td>364.0</td>\n",
              "      <td>1</td>\n",
              "    </tr>\n",
              "    <tr>\n",
              "      <th>15</th>\n",
              "      <td>ปราจีนบุรี 53</td>\n",
              "      <td>1088.0</td>\n",
              "      <td>1</td>\n",
              "    </tr>\n",
              "  </tbody>\n",
              "</table>\n",
              "</div>"
            ],
            "text/plain": [
              "               จังหวัด  couple_div  cluster\n",
              "0     กรุงเทพมหานคร 53     16608.0        0\n",
              "1       สมุทรปราการ 53      3683.0        0\n",
              "2           นนทบุรี 53      2389.0        0\n",
              "3          ปทุมธานี 53      2370.0        0\n",
              "4   พระนครศรีอยุธยา 53      1981.0        0\n",
              "6            ลพบุรี 53      1394.0        1\n",
              "8            ชัยนาท 53       474.0        1\n",
              "10           ชลบุรี 53      4446.0        1\n",
              "13             ตราด 53       364.0        1\n",
              "15       ปราจีนบุรี 53      1088.0        1"
            ]
          },
          "metadata": {
            "tags": []
          },
          "execution_count": 85
        }
      ]
    },
    {
      "cell_type": "markdown",
      "metadata": {
        "id": "sZkeDXNLMHtZ"
      },
      "source": [
        "#รายได้"
      ]
    },
    {
      "cell_type": "code",
      "metadata": {
        "id": "cRFxtSGEMChL"
      },
      "source": [
        "avg_Income_1 = os.path.join(path,'avg_Income_1.csv')"
      ],
      "execution_count": 87,
      "outputs": []
    },
    {
      "cell_type": "code",
      "metadata": {
        "colab": {
          "base_uri": "https://localhost:8080/",
          "height": 419
        },
        "id": "rHfuuXQHMChL",
        "outputId": "b8cb9916-1aba-493e-91d8-c2a9bd62b8d2"
      },
      "source": [
        "avg_Income_1 = pd.read_csv(avg_Income_1)\n",
        "avg_Income_1"
      ],
      "execution_count": 88,
      "outputs": [
        {
          "output_type": "execute_result",
          "data": {
            "text/html": [
              "<div>\n",
              "<style scoped>\n",
              "    .dataframe tbody tr th:only-of-type {\n",
              "        vertical-align: middle;\n",
              "    }\n",
              "\n",
              "    .dataframe tbody tr th {\n",
              "        vertical-align: top;\n",
              "    }\n",
              "\n",
              "    .dataframe thead th {\n",
              "        text-align: right;\n",
              "    }\n",
              "</style>\n",
              "<table border=\"1\" class=\"dataframe\">\n",
              "  <thead>\n",
              "    <tr style=\"text-align: right;\">\n",
              "      <th></th>\n",
              "      <th>จังหวัด</th>\n",
              "      <th>avg_income</th>\n",
              "    </tr>\n",
              "  </thead>\n",
              "  <tbody>\n",
              "    <tr>\n",
              "      <th>0</th>\n",
              "      <td>กรุงเทพมหานคร 53</td>\n",
              "      <td>42380.0</td>\n",
              "    </tr>\n",
              "    <tr>\n",
              "      <th>1</th>\n",
              "      <td>สมุทรปราการ 53</td>\n",
              "      <td>23359.0</td>\n",
              "    </tr>\n",
              "    <tr>\n",
              "      <th>2</th>\n",
              "      <td>นนทบุรี 53</td>\n",
              "      <td>34626.0</td>\n",
              "    </tr>\n",
              "    <tr>\n",
              "      <th>3</th>\n",
              "      <td>ปทุมธานี 53</td>\n",
              "      <td>26686.0</td>\n",
              "    </tr>\n",
              "    <tr>\n",
              "      <th>4</th>\n",
              "      <td>พระนครศรีอยุธยา 53</td>\n",
              "      <td>25820.0</td>\n",
              "    </tr>\n",
              "    <tr>\n",
              "      <th>...</th>\n",
              "      <td>...</td>\n",
              "      <td>...</td>\n",
              "    </tr>\n",
              "    <tr>\n",
              "      <th>226</th>\n",
              "      <td>ตรัง 55</td>\n",
              "      <td>33269.9</td>\n",
              "    </tr>\n",
              "    <tr>\n",
              "      <th>227</th>\n",
              "      <td>พัทลุง 55</td>\n",
              "      <td>26169.3</td>\n",
              "    </tr>\n",
              "    <tr>\n",
              "      <th>228</th>\n",
              "      <td>ปัตตานี 55</td>\n",
              "      <td>20199.1</td>\n",
              "    </tr>\n",
              "    <tr>\n",
              "      <th>229</th>\n",
              "      <td>ยะลา 55</td>\n",
              "      <td>22483.1</td>\n",
              "    </tr>\n",
              "    <tr>\n",
              "      <th>230</th>\n",
              "      <td>นราธิวาส 55</td>\n",
              "      <td>16772.8</td>\n",
              "    </tr>\n",
              "  </tbody>\n",
              "</table>\n",
              "<p>231 rows × 2 columns</p>\n",
              "</div>"
            ],
            "text/plain": [
              "                จังหวัด  avg_income\n",
              "0      กรุงเทพมหานคร 53     42380.0\n",
              "1        สมุทรปราการ 53     23359.0\n",
              "2            นนทบุรี 53     34626.0\n",
              "3           ปทุมธานี 53     26686.0\n",
              "4    พระนครศรีอยุธยา 53     25820.0\n",
              "..                  ...         ...\n",
              "226             ตรัง 55     33269.9\n",
              "227           พัทลุง 55     26169.3\n",
              "228          ปัตตานี 55     20199.1\n",
              "229             ยะลา 55     22483.1\n",
              "230         นราธิวาส 55     16772.8\n",
              "\n",
              "[231 rows x 2 columns]"
            ]
          },
          "metadata": {
            "tags": []
          },
          "execution_count": 88
        }
      ]
    },
    {
      "cell_type": "code",
      "metadata": {
        "colab": {
          "base_uri": "https://localhost:8080/"
        },
        "id": "9fP1QG-DMChL",
        "outputId": "d1019467-5de1-423d-e16e-daac581f6f23"
      },
      "source": [
        "avg_Income_1.shape"
      ],
      "execution_count": 89,
      "outputs": [
        {
          "output_type": "execute_result",
          "data": {
            "text/plain": [
              "(231, 2)"
            ]
          },
          "metadata": {
            "tags": []
          },
          "execution_count": 89
        }
      ]
    },
    {
      "cell_type": "code",
      "metadata": {
        "colab": {
          "base_uri": "https://localhost:8080/"
        },
        "id": "uxAbMUsDMChL",
        "outputId": "0e7f2c92-31f8-4796-cdd1-fc1a425b9e20"
      },
      "source": [
        "avg_Income_1.isnull().any()"
      ],
      "execution_count": 90,
      "outputs": [
        {
          "output_type": "execute_result",
          "data": {
            "text/plain": [
              "จังหวัด       False\n",
              "avg_income     True\n",
              "dtype: bool"
            ]
          },
          "metadata": {
            "tags": []
          },
          "execution_count": 90
        }
      ]
    },
    {
      "cell_type": "code",
      "metadata": {
        "id": "6D5_HXaAMChL"
      },
      "source": [
        "avg_Income_1[['avg_income']] = avg_Income_1[['avg_income']].fillna(0) "
      ],
      "execution_count": 91,
      "outputs": []
    },
    {
      "cell_type": "code",
      "metadata": {
        "colab": {
          "base_uri": "https://localhost:8080/"
        },
        "id": "Tx4dS-V5MChL",
        "outputId": "79e1e442-0e6e-49a0-e025-53ddae5daa5c"
      },
      "source": [
        "avg_Income_1.isnull().any()"
      ],
      "execution_count": 92,
      "outputs": [
        {
          "output_type": "execute_result",
          "data": {
            "text/plain": [
              "จังหวัด       False\n",
              "avg_income    False\n",
              "dtype: bool"
            ]
          },
          "metadata": {
            "tags": []
          },
          "execution_count": 92
        }
      ]
    },
    {
      "cell_type": "code",
      "metadata": {
        "id": "KG-nt5o-MChM"
      },
      "source": [
        "from sklearn.cluster import KMeans"
      ],
      "execution_count": 93,
      "outputs": []
    },
    {
      "cell_type": "code",
      "metadata": {
        "id": "f4z5yZlaMChM"
      },
      "source": [
        "Xi = avg_Income_1[['avg_income']] #Xi ตัวแปรของรายได้"
      ],
      "execution_count": 94,
      "outputs": []
    },
    {
      "cell_type": "code",
      "metadata": {
        "id": "dWWwvXzKMChM"
      },
      "source": [
        "from sklearn.datasets import make_blobs"
      ],
      "execution_count": 95,
      "outputs": []
    },
    {
      "cell_type": "code",
      "metadata": {
        "id": "icygwrw8MChM"
      },
      "source": [
        "Xi,y=make_blobs(n_samples=231, centers=3, n_features=2, random_state=6)"
      ],
      "execution_count": 96,
      "outputs": []
    },
    {
      "cell_type": "code",
      "metadata": {
        "colab": {
          "base_uri": "https://localhost:8080/"
        },
        "id": "x3zZEww2MChM",
        "outputId": "747ce5cf-c7ec-4bf7-95aa-37e5dd276fb0"
      },
      "source": [
        "Xi.shape "
      ],
      "execution_count": 97,
      "outputs": [
        {
          "output_type": "execute_result",
          "data": {
            "text/plain": [
              "(231, 2)"
            ]
          },
          "metadata": {
            "tags": []
          },
          "execution_count": 97
        }
      ]
    },
    {
      "cell_type": "code",
      "metadata": {
        "colab": {
          "base_uri": "https://localhost:8080/",
          "height": 282
        },
        "id": "nNnP_aCxMChN",
        "outputId": "748a2f7d-9d4c-44da-c6f3-064b47fa5138"
      },
      "source": [
        "from matplotlib import pyplot as plt\n",
        "plt.scatter(Xi[:,0],Xi[:,1]) #จะแบ่งเป็น 3 กลุ่ม ตาม centers=3"
      ],
      "execution_count": 98,
      "outputs": [
        {
          "output_type": "execute_result",
          "data": {
            "text/plain": [
              "<matplotlib.collections.PathCollection at 0x7f407b780d30>"
            ]
          },
          "metadata": {
            "tags": []
          },
          "execution_count": 98
        },
        {
          "output_type": "display_data",
          "data": {
            "image/png": "[encoded data removed]",
            "text/plain": [
              "<Figure size 432x288 with 1 Axes>"
            ]
          },
          "metadata": {
            "tags": [],
            "image/png": {
              "width": 386,
              "height": 248
            },
            "needs_background": "light"
          }
        }
      ]
    },
    {
      "cell_type": "code",
      "metadata": {
        "id": "raaTOPhiMChN"
      },
      "source": [
        "from sklearn.cluster import KMeans"
      ],
      "execution_count": 99,
      "outputs": []
    },
    {
      "cell_type": "code",
      "metadata": {
        "id": "n4gaIQymMChN"
      },
      "source": [
        "KMclust=KMeans(n_clusters=2) # n_clusters=2 การกำหนดตัวแบ่งว่าจะแบ่งให้มีกลุ่ม 2 กลุ่ม"
      ],
      "execution_count": 100,
      "outputs": []
    },
    {
      "cell_type": "code",
      "metadata": {
        "colab": {
          "base_uri": "https://localhost:8080/"
        },
        "id": "POHZDqgNMChN",
        "outputId": "2846247f-e39c-4dda-bda6-135a1c0083c1"
      },
      "source": [
        "KMclust.fit(Xi)"
      ],
      "execution_count": 101,
      "outputs": [
        {
          "output_type": "execute_result",
          "data": {
            "text/plain": [
              "KMeans(algorithm='auto', copy_x=True, init='k-means++', max_iter=300,\n",
              "       n_clusters=2, n_init=10, n_jobs=None, precompute_distances='auto',\n",
              "       random_state=None, tol=0.0001, verbose=0)"
            ]
          },
          "metadata": {
            "tags": []
          },
          "execution_count": 101
        }
      ]
    },
    {
      "cell_type": "code",
      "metadata": {
        "id": "3vtNtLC2MChN"
      },
      "source": [
        "label=KMclust.predict(Xi) # predict ว่าอยู่ในกลุ่มไหน"
      ],
      "execution_count": 102,
      "outputs": []
    },
    {
      "cell_type": "code",
      "metadata": {
        "colab": {
          "base_uri": "https://localhost:8080/",
          "height": 282
        },
        "id": "zId0gsTrMChN",
        "outputId": "53c844c8-27a3-4fd4-cebb-355d2e6df1f6"
      },
      "source": [
        "plt.scatter(Xi[:,0], Xi[:,1], c=label) # เปลี่ยนสีให้เป็นไปตาม label ของเราโดยการสุ่ม"
      ],
      "execution_count": 103,
      "outputs": [
        {
          "output_type": "execute_result",
          "data": {
            "text/plain": [
              "<matplotlib.collections.PathCollection at 0x7f407b6ec320>"
            ]
          },
          "metadata": {
            "tags": []
          },
          "execution_count": 103
        },
        {
          "output_type": "display_data",
          "data": {
            "image/png": "[encoded data removed]",
            "text/plain": [
              "<Figure size 432x288 with 1 Axes>"
            ]
          },
          "metadata": {
            "tags": [],
            "image/png": {
              "width": 386,
              "height": 248
            },
            "needs_background": "light"
          }
        }
      ]
    },
    {
      "cell_type": "code",
      "metadata": {
        "colab": {
          "base_uri": "https://localhost:8080/"
        },
        "id": "kw_TojtOMChN",
        "outputId": "2e568ee7-4f66-44b1-d5aa-eb95ccd9cdb1"
      },
      "source": [
        "KMclust.cluster_centers_"
      ],
      "execution_count": 104,
      "outputs": [
        {
          "output_type": "execute_result",
          "data": {
            "text/plain": [
              "array([[ 7.17049205, -6.18852947],\n",
              "       [-7.79775007,  1.78610777]])"
            ]
          },
          "metadata": {
            "tags": []
          },
          "execution_count": 104
        }
      ]
    },
    {
      "cell_type": "code",
      "metadata": {
        "colab": {
          "base_uri": "https://localhost:8080/"
        },
        "id": "t2p-svAAMChO",
        "outputId": "935afa06-59bc-444d-adaf-ad28fcdc8d67"
      },
      "source": [
        "KMclust.transform(Xi) # the distance between each point and centroid"
      ],
      "execution_count": 105,
      "outputs": [
        {
          "output_type": "execute_result",
          "data": {
            "text/plain": [
              "array([[ 4.35657384, 19.46286796],\n",
              "       [ 2.71215952, 17.25282908],\n",
              "       [ 2.70884496, 16.22743323],\n",
              "       [ 5.05983897, 17.45766143],\n",
              "       [ 2.02897205, 16.04954075],\n",
              "       [ 2.56177615, 16.71518607],\n",
              "       [15.64664579,  1.34745187],\n",
              "       [ 3.4711508 , 18.87195087],\n",
              "       [16.62190693,  1.50652845],\n",
              "       [ 2.7266152 , 17.23167107],\n",
              "       [16.6160869 ,  0.34904234],\n",
              "       [ 4.03944671, 16.52353791],\n",
              "       [ 3.85827321, 14.22449676],\n",
              "       [17.02789616,  0.19453677],\n",
              "       [ 3.61896268, 18.53323763],\n",
              "       [17.58481661,  0.66590015],\n",
              "       [ 2.30713982, 17.77093305],\n",
              "       [17.02693124,  1.03696265],\n",
              "       [17.19176311,  0.52754238],\n",
              "       [15.33005926,  1.64582881],\n",
              "       [15.60783922,  1.39409006],\n",
              "       [ 2.91852292, 16.48022043],\n",
              "       [ 3.12708999, 18.0930437 ],\n",
              "       [ 2.26100905, 17.36691817],\n",
              "       [15.76940085,  2.22813124],\n",
              "       [ 2.44106119, 17.36937133],\n",
              "       [ 4.77217036, 18.84251956],\n",
              "       [ 3.43700643, 18.43292038],\n",
              "       [ 2.62046403, 15.83178334],\n",
              "       [ 3.78488878, 15.45391096],\n",
              "       [18.27095342,  1.99299132],\n",
              "       [ 1.56324951, 16.83960694],\n",
              "       [16.75371194,  0.90237552],\n",
              "       [17.99806036,  1.10319419],\n",
              "       [18.03998532,  1.48168548],\n",
              "       [17.56146377,  2.30147336],\n",
              "       [18.03457152,  1.6424483 ],\n",
              "       [ 3.93438264, 18.80407863],\n",
              "       [18.83735603,  2.53177927],\n",
              "       [ 2.78424162, 18.4314105 ],\n",
              "       [ 2.81351594, 16.47348457],\n",
              "       [ 3.63284958, 20.19513526],\n",
              "       [ 6.09384017, 18.70041437],\n",
              "       [ 2.63440943, 15.61776043],\n",
              "       [ 3.33192603, 14.40794046],\n",
              "       [ 4.7021245 , 19.1888418 ],\n",
              "       [ 2.51784087, 18.99701274],\n",
              "       [14.53163148,  2.43245519],\n",
              "       [16.58660531,  0.60295049],\n",
              "       [ 1.79897043, 16.30969024],\n",
              "       [18.7272747 ,  1.76992575],\n",
              "       [16.13501412,  1.8417125 ],\n",
              "       [ 1.52013306, 16.94408744],\n",
              "       [ 2.98809468, 17.83782548],\n",
              "       [ 2.27260428, 17.18193776],\n",
              "       [ 3.87112346, 16.85636341],\n",
              "       [ 1.53656764, 17.41236322],\n",
              "       [ 1.17280103, 17.8921282 ],\n",
              "       [ 2.01816388, 16.94087115],\n",
              "       [ 2.88811723, 15.7398409 ],\n",
              "       [ 2.45752212, 15.35969285],\n",
              "       [15.95106526,  1.24464901],\n",
              "       [ 3.21444879, 18.95681337],\n",
              "       [ 2.73149932, 15.57485913],\n",
              "       [ 3.95901521, 16.72110117],\n",
              "       [ 2.60743405, 17.54597233],\n",
              "       [ 3.4001422 , 16.14671619],\n",
              "       [18.83873441,  2.86720509],\n",
              "       [16.70442269,  0.69815203],\n",
              "       [ 4.50821291, 12.82307252],\n",
              "       [ 2.6303264 , 16.60343624],\n",
              "       [ 3.03416063, 17.84095161],\n",
              "       [ 3.91903739, 19.28778482],\n",
              "       [ 4.075039  , 17.03882187],\n",
              "       [ 5.16921753, 15.44132246],\n",
              "       [17.06912965,  0.21011696],\n",
              "       [ 4.01655417, 16.34154496],\n",
              "       [ 1.36016918, 17.9783375 ],\n",
              "       [ 3.0083846 , 15.50797925],\n",
              "       [ 4.56050649, 18.75340136],\n",
              "       [ 4.1069742 , 18.12396319],\n",
              "       [17.04904893,  0.19108444],\n",
              "       [17.99057122,  1.2469916 ],\n",
              "       [ 1.82929176, 16.99671227],\n",
              "       [17.61821607,  0.66916481],\n",
              "       [17.42178028,  0.58848966],\n",
              "       [15.25709319,  2.04667884],\n",
              "       [ 2.5424552 , 17.16547398],\n",
              "       [ 2.21452652, 18.39677901],\n",
              "       [ 2.76427917, 17.00630792],\n",
              "       [ 2.25462519, 17.94514003],\n",
              "       [ 3.06301053, 16.54518734],\n",
              "       [18.28785267,  1.64761666],\n",
              "       [ 4.56650414, 17.597018  ],\n",
              "       [ 4.39171098, 18.11767763],\n",
              "       [ 1.77542959, 15.96302927],\n",
              "       [ 2.39450126, 15.99630643],\n",
              "       [17.80174237,  0.84446374],\n",
              "       [ 4.08097128, 15.80988501],\n",
              "       [18.64051702,  1.69950804],\n",
              "       [ 4.12301358, 17.49440297],\n",
              "       [ 3.06981617, 15.96417387],\n",
              "       [ 3.78665929, 18.89446129],\n",
              "       [ 4.19587728, 17.78110935],\n",
              "       [ 2.23974545, 18.05546306],\n",
              "       [16.92185923,  0.49866462],\n",
              "       [ 3.35862115, 17.60093557],\n",
              "       [17.74482329,  1.45468446],\n",
              "       [16.04859319,  1.25471999],\n",
              "       [17.82810598,  1.37343319],\n",
              "       [ 2.70559454, 17.97033302],\n",
              "       [ 3.62429403, 15.72878204],\n",
              "       [ 2.0614413 , 17.82446973],\n",
              "       [17.17322517,  0.70022634],\n",
              "       [ 4.07476899, 16.87946887],\n",
              "       [ 2.01691216, 17.95185078],\n",
              "       [16.49543936,  1.28390838],\n",
              "       [ 1.34998842, 16.46177683],\n",
              "       [ 2.91829214, 16.59478439],\n",
              "       [ 3.24201161, 17.22081663],\n",
              "       [ 3.19445654, 16.48351938],\n",
              "       [ 2.45962614, 14.79097691],\n",
              "       [ 4.75615465, 16.35321074],\n",
              "       [ 3.88988338, 18.38807688],\n",
              "       [ 2.31983711, 18.45810676],\n",
              "       [ 4.43376296, 17.49949346],\n",
              "       [17.19161104,  0.93768222],\n",
              "       [ 3.58330709, 18.48112098],\n",
              "       [ 3.25014622, 18.60075286],\n",
              "       [ 2.4578405 , 16.07906419],\n",
              "       [ 2.41979388, 17.02333405],\n",
              "       [ 4.20329413, 16.860217  ],\n",
              "       [16.84289403,  0.18243545],\n",
              "       [ 2.23882045, 17.65097887],\n",
              "       [ 1.98845891, 16.99297613],\n",
              "       [17.91609104,  1.12209017],\n",
              "       [ 3.75521044, 15.0668652 ],\n",
              "       [18.46150008,  1.66277316],\n",
              "       [ 2.29535936, 16.91711252],\n",
              "       [ 2.45763675, 17.53698863],\n",
              "       [16.20543852,  0.84095406],\n",
              "       [ 3.31374953, 18.74072352],\n",
              "       [ 3.65729499, 17.25971489],\n",
              "       [ 3.50762547, 17.8253299 ],\n",
              "       [ 2.13865361, 17.24037346],\n",
              "       [ 1.4607609 , 17.19994605],\n",
              "       [16.12136079,  1.30847933],\n",
              "       [ 2.35318766, 15.54343808],\n",
              "       [ 3.83133   , 17.70779582],\n",
              "       [16.03521006,  0.93252684],\n",
              "       [ 2.77971903, 16.60043027],\n",
              "       [17.32132708,  0.92652719],\n",
              "       [16.15484313,  0.93249525],\n",
              "       [ 2.64438341, 18.49808285],\n",
              "       [ 2.95513698, 14.72275055],\n",
              "       [ 1.88931135, 16.93219503],\n",
              "       [16.98354651,  1.42390057],\n",
              "       [16.64078763,  0.81041821],\n",
              "       [17.03583299,  0.09012682],\n",
              "       [ 1.50983989, 17.16759161],\n",
              "       [ 2.42958705, 18.03552144],\n",
              "       [14.90220486,  2.05798904],\n",
              "       [ 3.41467414, 17.32770958],\n",
              "       [16.37547528,  1.04061471],\n",
              "       [ 2.94808886, 15.99051121],\n",
              "       [ 3.85887658, 19.80232854],\n",
              "       [ 4.19594137, 15.63520798],\n",
              "       [15.72737201,  1.33005235],\n",
              "       [ 2.53348978, 16.53823752],\n",
              "       [ 3.72648065, 18.07113222],\n",
              "       [ 3.34092834, 18.17105329],\n",
              "       [ 2.71099665, 16.59786995],\n",
              "       [15.54363133,  1.45901517],\n",
              "       [ 3.59339718, 16.11067932],\n",
              "       [18.91914737,  1.98603883],\n",
              "       [ 4.43044897, 19.23964937],\n",
              "       [ 3.02391434, 17.88806975],\n",
              "       [ 2.78692861, 17.66118738],\n",
              "       [ 1.16091305, 16.85169316],\n",
              "       [ 3.2394761 , 16.00079409],\n",
              "       [17.1932281 ,  0.44056281],\n",
              "       [16.72268384,  0.49340016],\n",
              "       [17.63503499,  0.93644229],\n",
              "       [18.45707461,  1.51954611],\n",
              "       [19.12796373,  2.22310431],\n",
              "       [ 3.10182166, 17.95734754],\n",
              "       [16.39863165,  0.649801  ],\n",
              "       [ 3.08666594, 16.36276856],\n",
              "       [ 4.15188552, 13.83189275],\n",
              "       [ 2.69699758, 16.10289331],\n",
              "       [15.55889799,  1.41290881],\n",
              "       [15.60816625,  1.51669785],\n",
              "       [ 3.07990036, 17.04760612],\n",
              "       [ 3.63647386, 18.25636131],\n",
              "       [ 4.04929885, 19.82012771],\n",
              "       [ 4.07165953, 16.64991081],\n",
              "       [ 4.54024882, 16.01876395],\n",
              "       [17.42247892,  1.28103003],\n",
              "       [ 3.36735565, 18.50614972],\n",
              "       [17.57225361,  1.08607216],\n",
              "       [ 2.29130143, 16.81417548],\n",
              "       [ 2.16330676, 18.07664592],\n",
              "       [ 2.23998361, 16.84635214],\n",
              "       [ 2.61450007, 17.73523228],\n",
              "       [ 2.54852051, 18.57224863],\n",
              "       [ 3.79803582, 17.55579435],\n",
              "       [ 3.5252263 , 18.16217238],\n",
              "       [17.94195261,  1.89253713],\n",
              "       [ 4.0153827 , 18.82928052],\n",
              "       [ 2.74100613, 17.9098001 ],\n",
              "       [16.05321209,  0.91189524],\n",
              "       [18.43003457,  1.58406234],\n",
              "       [ 3.39887447, 18.34225764],\n",
              "       [ 2.35021929, 17.13100533],\n",
              "       [ 1.85578271, 16.35707693],\n",
              "       [15.45625925,  1.62219092],\n",
              "       [17.37852865,  2.36738786],\n",
              "       [17.34145343,  1.03794504],\n",
              "       [ 1.32906842, 17.37709693],\n",
              "       [ 3.04009756, 16.73611362],\n",
              "       [ 3.53143466, 18.07716746],\n",
              "       [ 2.72637449, 17.56375419],\n",
              "       [ 3.05653743, 15.70551996],\n",
              "       [ 1.64971319, 17.68824137],\n",
              "       [14.92939406,  2.52872159],\n",
              "       [15.06493088,  2.84924721],\n",
              "       [18.25881215,  1.30288311],\n",
              "       [ 4.09919972, 18.10067932],\n",
              "       [17.74079602,  0.78122815],\n",
              "       [16.47103052,  0.81231031],\n",
              "       [ 4.37287979, 18.11536364]])"
            ]
          },
          "metadata": {
            "tags": []
          },
          "execution_count": 105
        }
      ]
    },
    {
      "cell_type": "code",
      "metadata": {
        "colab": {
          "base_uri": "https://localhost:8080/"
        },
        "id": "-NSqci-NMChO",
        "outputId": "9fdb9032-d7bc-4e54-eb25-9b61be738778"
      },
      "source": [
        "KMclust.labels_"
      ],
      "execution_count": 106,
      "outputs": [
        {
          "output_type": "execute_result",
          "data": {
            "text/plain": [
              "array([0, 0, 0, 0, 0, 0, 1, 0, 1, 0, 1, 0, 0, 1, 0, 1, 0, 1, 1, 1, 1, 0,\n",
              "       0, 0, 1, 0, 0, 0, 0, 0, 1, 0, 1, 1, 1, 1, 1, 0, 1, 0, 0, 0, 0, 0,\n",
              "       0, 0, 0, 1, 1, 0, 1, 1, 0, 0, 0, 0, 0, 0, 0, 0, 0, 1, 0, 0, 0, 0,\n",
              "       0, 1, 1, 0, 0, 0, 0, 0, 0, 1, 0, 0, 0, 0, 0, 1, 1, 0, 1, 1, 1, 0,\n",
              "       0, 0, 0, 0, 1, 0, 0, 0, 0, 1, 0, 1, 0, 0, 0, 0, 0, 1, 0, 1, 1, 1,\n",
              "       0, 0, 0, 1, 0, 0, 1, 0, 0, 0, 0, 0, 0, 0, 0, 0, 1, 0, 0, 0, 0, 0,\n",
              "       1, 0, 0, 1, 0, 1, 0, 0, 1, 0, 0, 0, 0, 0, 1, 0, 0, 1, 0, 1, 1, 0,\n",
              "       0, 0, 1, 1, 1, 0, 0, 1, 0, 1, 0, 0, 0, 1, 0, 0, 0, 0, 1, 0, 1, 0,\n",
              "       0, 0, 0, 0, 1, 1, 1, 1, 1, 0, 1, 0, 0, 0, 1, 1, 0, 0, 0, 0, 0, 1,\n",
              "       0, 1, 0, 0, 0, 0, 0, 0, 0, 1, 0, 0, 1, 1, 0, 0, 0, 1, 1, 1, 0, 0,\n",
              "       0, 0, 0, 0, 1, 1, 1, 0, 1, 1, 0], dtype=int32)"
            ]
          },
          "metadata": {
            "tags": []
          },
          "execution_count": 106
        }
      ]
    },
    {
      "cell_type": "code",
      "metadata": {
        "colab": {
          "base_uri": "https://localhost:8080/"
        },
        "id": "OVdrpjpqMChO",
        "outputId": "5580d9da-48cb-46ac-a44c-6d2e9e7cca2c"
      },
      "source": [
        "ssdi=[] #เซทว่างของรายได้\n",
        "for k in range(2, 10):\n",
        "    m=KMeans(n_clusters=k)\n",
        "    m.fit(Xi) #Xi ตัวแปรของรายได้\n",
        "    ssdi.append([k, m.inertia_])\n",
        "ssdi"
      ],
      "execution_count": 107,
      "outputs": [
        {
          "output_type": "execute_result",
          "data": {
            "text/plain": [
              "[[2, 1751.9669425508212],\n",
              " [3, 444.034965979045],\n",
              " [4, 380.2639248784881],\n",
              " [5, 327.11249208354513],\n",
              " [6, 274.3351314558206],\n",
              " [7, 241.85773546409638],\n",
              " [8, 209.7057090061258],\n",
              " [9, 187.84036863425982]]"
            ]
          },
          "metadata": {
            "tags": []
          },
          "execution_count": 107
        }
      ]
    },
    {
      "cell_type": "code",
      "metadata": {
        "colab": {
          "base_uri": "https://localhost:8080/"
        },
        "id": "yPmrbi0JMChO",
        "outputId": "74caf818-9e10-4527-e182-202b608fe2b7"
      },
      "source": [
        "xyi=np.array(ssdi) #xyi ตัวแปร xy ของรายได้\n",
        "print(xyi)"
      ],
      "execution_count": 108,
      "outputs": [
        {
          "output_type": "stream",
          "text": [
            "[[   2.         1751.96694255]\n",
            " [   3.          444.03496598]\n",
            " [   4.          380.26392488]\n",
            " [   5.          327.11249208]\n",
            " [   6.          274.33513146]\n",
            " [   7.          241.85773546]\n",
            " [   8.          209.70570901]\n",
            " [   9.          187.84036863]]\n"
          ],
          "name": "stdout"
        }
      ]
    },
    {
      "cell_type": "code",
      "metadata": {
        "colab": {
          "base_uri": "https://localhost:8080/",
          "height": 282
        },
        "id": "q7aImgBEMChO",
        "outputId": "cf48c46d-1933-4cc1-9057-6c210310174b"
      },
      "source": [
        "plt.plot(xyi[:, 0], xyi[:, 1], linestyle='--', marker='o')\n",
        "# plt.plot(xy[:, 0], xy[:, 1], '--o')"
      ],
      "execution_count": 109,
      "outputs": [
        {
          "output_type": "execute_result",
          "data": {
            "text/plain": [
              "[<matplotlib.lines.Line2D at 0x7f407b6c4be0>]"
            ]
          },
          "metadata": {
            "tags": []
          },
          "execution_count": 109
        },
        {
          "output_type": "display_data",
          "data": {
            "image/png": "[encoded data removed]",
            "text/plain": [
              "<Figure size 432x288 with 1 Axes>"
            ]
          },
          "metadata": {
            "tags": [],
            "image/png": {
              "width": 381,
              "height": 248
            },
            "needs_background": "light"
          }
        }
      ]
    },
    {
      "cell_type": "code",
      "metadata": {
        "colab": {
          "base_uri": "https://localhost:8080/",
          "height": 297
        },
        "id": "N_h5Aiu_MChQ",
        "outputId": "b9d7f333-0ec0-4ff4-e447-dd71a85eb018"
      },
      "source": [
        "ddi=pd.DataFrame(ssdi, columns=['k', 'ssdi']) \n",
        "ddi #ddi ตัวแปรของรายได้"
      ],
      "execution_count": 110,
      "outputs": [
        {
          "output_type": "execute_result",
          "data": {
            "text/html": [
              "<div>\n",
              "<style scoped>\n",
              "    .dataframe tbody tr th:only-of-type {\n",
              "        vertical-align: middle;\n",
              "    }\n",
              "\n",
              "    .dataframe tbody tr th {\n",
              "        vertical-align: top;\n",
              "    }\n",
              "\n",
              "    .dataframe thead th {\n",
              "        text-align: right;\n",
              "    }\n",
              "</style>\n",
              "<table border=\"1\" class=\"dataframe\">\n",
              "  <thead>\n",
              "    <tr style=\"text-align: right;\">\n",
              "      <th></th>\n",
              "      <th>k</th>\n",
              "      <th>ssdi</th>\n",
              "    </tr>\n",
              "  </thead>\n",
              "  <tbody>\n",
              "    <tr>\n",
              "      <th>0</th>\n",
              "      <td>2</td>\n",
              "      <td>1751.966943</td>\n",
              "    </tr>\n",
              "    <tr>\n",
              "      <th>1</th>\n",
              "      <td>3</td>\n",
              "      <td>444.034966</td>\n",
              "    </tr>\n",
              "    <tr>\n",
              "      <th>2</th>\n",
              "      <td>4</td>\n",
              "      <td>380.263925</td>\n",
              "    </tr>\n",
              "    <tr>\n",
              "      <th>3</th>\n",
              "      <td>5</td>\n",
              "      <td>327.112492</td>\n",
              "    </tr>\n",
              "    <tr>\n",
              "      <th>4</th>\n",
              "      <td>6</td>\n",
              "      <td>274.335131</td>\n",
              "    </tr>\n",
              "    <tr>\n",
              "      <th>5</th>\n",
              "      <td>7</td>\n",
              "      <td>241.857735</td>\n",
              "    </tr>\n",
              "    <tr>\n",
              "      <th>6</th>\n",
              "      <td>8</td>\n",
              "      <td>209.705709</td>\n",
              "    </tr>\n",
              "    <tr>\n",
              "      <th>7</th>\n",
              "      <td>9</td>\n",
              "      <td>187.840369</td>\n",
              "    </tr>\n",
              "  </tbody>\n",
              "</table>\n",
              "</div>"
            ],
            "text/plain": [
              "   k         ssdi\n",
              "0  2  1751.966943\n",
              "1  3   444.034966\n",
              "2  4   380.263925\n",
              "3  5   327.112492\n",
              "4  6   274.335131\n",
              "5  7   241.857735\n",
              "6  8   209.705709\n",
              "7  9   187.840369"
            ]
          },
          "metadata": {
            "tags": []
          },
          "execution_count": 110
        }
      ]
    },
    {
      "cell_type": "code",
      "metadata": {
        "colab": {
          "base_uri": "https://localhost:8080/",
          "height": 297
        },
        "id": "BKy6o-YGMChQ",
        "outputId": "54d11de1-1efe-4c96-cb04-a168a9adbf6b"
      },
      "source": [
        "ddi['pct_chg']=ddi['ssdi'].pct_change() * 100\n",
        "ddi"
      ],
      "execution_count": 112,
      "outputs": [
        {
          "output_type": "execute_result",
          "data": {
            "text/html": [
              "<div>\n",
              "<style scoped>\n",
              "    .dataframe tbody tr th:only-of-type {\n",
              "        vertical-align: middle;\n",
              "    }\n",
              "\n",
              "    .dataframe tbody tr th {\n",
              "        vertical-align: top;\n",
              "    }\n",
              "\n",
              "    .dataframe thead th {\n",
              "        text-align: right;\n",
              "    }\n",
              "</style>\n",
              "<table border=\"1\" class=\"dataframe\">\n",
              "  <thead>\n",
              "    <tr style=\"text-align: right;\">\n",
              "      <th></th>\n",
              "      <th>k</th>\n",
              "      <th>ssdi</th>\n",
              "      <th>pct_chg</th>\n",
              "    </tr>\n",
              "  </thead>\n",
              "  <tbody>\n",
              "    <tr>\n",
              "      <th>0</th>\n",
              "      <td>2</td>\n",
              "      <td>1751.966943</td>\n",
              "      <td>NaN</td>\n",
              "    </tr>\n",
              "    <tr>\n",
              "      <th>1</th>\n",
              "      <td>3</td>\n",
              "      <td>444.034966</td>\n",
              "      <td>-74.655060</td>\n",
              "    </tr>\n",
              "    <tr>\n",
              "      <th>2</th>\n",
              "      <td>4</td>\n",
              "      <td>380.263925</td>\n",
              "      <td>-14.361716</td>\n",
              "    </tr>\n",
              "    <tr>\n",
              "      <th>3</th>\n",
              "      <td>5</td>\n",
              "      <td>327.112492</td>\n",
              "      <td>-13.977511</td>\n",
              "    </tr>\n",
              "    <tr>\n",
              "      <th>4</th>\n",
              "      <td>6</td>\n",
              "      <td>274.335131</td>\n",
              "      <td>-16.134315</td>\n",
              "    </tr>\n",
              "    <tr>\n",
              "      <th>5</th>\n",
              "      <td>7</td>\n",
              "      <td>241.857735</td>\n",
              "      <td>-11.838584</td>\n",
              "    </tr>\n",
              "    <tr>\n",
              "      <th>6</th>\n",
              "      <td>8</td>\n",
              "      <td>209.705709</td>\n",
              "      <td>-13.293776</td>\n",
              "    </tr>\n",
              "    <tr>\n",
              "      <th>7</th>\n",
              "      <td>9</td>\n",
              "      <td>187.840369</td>\n",
              "      <td>-10.426679</td>\n",
              "    </tr>\n",
              "  </tbody>\n",
              "</table>\n",
              "</div>"
            ],
            "text/plain": [
              "   k         ssdi    pct_chg\n",
              "0  2  1751.966943        NaN\n",
              "1  3   444.034966 -74.655060\n",
              "2  4   380.263925 -14.361716\n",
              "3  5   327.112492 -13.977511\n",
              "4  6   274.335131 -16.134315\n",
              "5  7   241.857735 -11.838584\n",
              "6  8   209.705709 -13.293776\n",
              "7  9   187.840369 -10.426679"
            ]
          },
          "metadata": {
            "tags": []
          },
          "execution_count": 112
        }
      ]
    },
    {
      "cell_type": "code",
      "metadata": {
        "colab": {
          "base_uri": "https://localhost:8080/",
          "height": 265
        },
        "id": "nLTssrX9MChR",
        "outputId": "b5017c35-df4c-4e36-ad22-7e7639fbd534"
      },
      "source": [
        "plt.plot(ddi['k'], ddi['ssdi'], linestyle='--', marker='o')\n",
        "# plt.plot(xy[:, 0], xy[:, 1], '--o')\n",
        "for index, row in ddi.iterrows():\n",
        "    plt.text(row['k']+.02, row['ssdi']+.02, f'{row[\"pct_chg\"]:.2f}', fontsize=10)"
      ],
      "execution_count": 113,
      "outputs": [
        {
          "output_type": "display_data",
          "data": {
            "image/png": "[encoded data removed]",
            "text/plain": [
              "<Figure size 432x288 with 1 Axes>"
            ]
          },
          "metadata": {
            "tags": [],
            "image/png": {
              "width": 399,
              "height": 248
            },
            "needs_background": "light"
          }
        }
      ]
    },
    {
      "cell_type": "code",
      "metadata": {
        "colab": {
          "base_uri": "https://localhost:8080/",
          "height": 204
        },
        "id": "CNfin6VxMChR",
        "outputId": "ca8e4e56-d32c-4010-a908-b704e934ce48"
      },
      "source": [
        "avg_Income_1['cluster']=KMclust.labels_\n",
        "avg_Income_1.head()"
      ],
      "execution_count": 114,
      "outputs": [
        {
          "output_type": "execute_result",
          "data": {
            "text/html": [
              "<div>\n",
              "<style scoped>\n",
              "    .dataframe tbody tr th:only-of-type {\n",
              "        vertical-align: middle;\n",
              "    }\n",
              "\n",
              "    .dataframe tbody tr th {\n",
              "        vertical-align: top;\n",
              "    }\n",
              "\n",
              "    .dataframe thead th {\n",
              "        text-align: right;\n",
              "    }\n",
              "</style>\n",
              "<table border=\"1\" class=\"dataframe\">\n",
              "  <thead>\n",
              "    <tr style=\"text-align: right;\">\n",
              "      <th></th>\n",
              "      <th>จังหวัด</th>\n",
              "      <th>avg_income</th>\n",
              "      <th>cluster</th>\n",
              "    </tr>\n",
              "  </thead>\n",
              "  <tbody>\n",
              "    <tr>\n",
              "      <th>0</th>\n",
              "      <td>กรุงเทพมหานคร 53</td>\n",
              "      <td>42380.0</td>\n",
              "      <td>0</td>\n",
              "    </tr>\n",
              "    <tr>\n",
              "      <th>1</th>\n",
              "      <td>สมุทรปราการ 53</td>\n",
              "      <td>23359.0</td>\n",
              "      <td>0</td>\n",
              "    </tr>\n",
              "    <tr>\n",
              "      <th>2</th>\n",
              "      <td>นนทบุรี 53</td>\n",
              "      <td>34626.0</td>\n",
              "      <td>0</td>\n",
              "    </tr>\n",
              "    <tr>\n",
              "      <th>3</th>\n",
              "      <td>ปทุมธานี 53</td>\n",
              "      <td>26686.0</td>\n",
              "      <td>0</td>\n",
              "    </tr>\n",
              "    <tr>\n",
              "      <th>4</th>\n",
              "      <td>พระนครศรีอยุธยา 53</td>\n",
              "      <td>25820.0</td>\n",
              "      <td>0</td>\n",
              "    </tr>\n",
              "  </tbody>\n",
              "</table>\n",
              "</div>"
            ],
            "text/plain": [
              "              จังหวัด  avg_income  cluster\n",
              "0    กรุงเทพมหานคร 53     42380.0        0\n",
              "1      สมุทรปราการ 53     23359.0        0\n",
              "2          นนทบุรี 53     34626.0        0\n",
              "3         ปทุมธานี 53     26686.0        0\n",
              "4  พระนครศรีอยุธยา 53     25820.0        0"
            ]
          },
          "metadata": {
            "tags": []
          },
          "execution_count": 114
        }
      ]
    },
    {
      "cell_type": "code",
      "metadata": {
        "colab": {
          "base_uri": "https://localhost:8080/",
          "height": 297
        },
        "id": "ZL8PoBc2MChR",
        "outputId": "4929e52f-e664-4acd-99be-092c1f1e19ca"
      },
      "source": [
        "avg_Income_1.groupby('cluster').describe().T"
      ],
      "execution_count": 115,
      "outputs": [
        {
          "output_type": "execute_result",
          "data": {
            "text/html": [
              "<div>\n",
              "<style scoped>\n",
              "    .dataframe tbody tr th:only-of-type {\n",
              "        vertical-align: middle;\n",
              "    }\n",
              "\n",
              "    .dataframe tbody tr th {\n",
              "        vertical-align: top;\n",
              "    }\n",
              "\n",
              "    .dataframe thead th {\n",
              "        text-align: right;\n",
              "    }\n",
              "</style>\n",
              "<table border=\"1\" class=\"dataframe\">\n",
              "  <thead>\n",
              "    <tr style=\"text-align: right;\">\n",
              "      <th></th>\n",
              "      <th>cluster</th>\n",
              "      <th>0</th>\n",
              "      <th>1</th>\n",
              "    </tr>\n",
              "  </thead>\n",
              "  <tbody>\n",
              "    <tr>\n",
              "      <th rowspan=\"8\" valign=\"top\">avg_income</th>\n",
              "      <th>count</th>\n",
              "      <td>154.000000</td>\n",
              "      <td>77.000000</td>\n",
              "    </tr>\n",
              "    <tr>\n",
              "      <th>mean</th>\n",
              "      <td>21081.611688</td>\n",
              "      <td>20199.318182</td>\n",
              "    </tr>\n",
              "    <tr>\n",
              "      <th>std</th>\n",
              "      <td>6998.588556</td>\n",
              "      <td>6127.008737</td>\n",
              "    </tr>\n",
              "    <tr>\n",
              "      <th>min</th>\n",
              "      <td>0.000000</td>\n",
              "      <td>0.000000</td>\n",
              "    </tr>\n",
              "    <tr>\n",
              "      <th>25%</th>\n",
              "      <td>16704.700000</td>\n",
              "      <td>16249.300000</td>\n",
              "    </tr>\n",
              "    <tr>\n",
              "      <th>50%</th>\n",
              "      <td>19881.650000</td>\n",
              "      <td>19417.800000</td>\n",
              "    </tr>\n",
              "    <tr>\n",
              "      <th>75%</th>\n",
              "      <td>24943.050000</td>\n",
              "      <td>22504.500000</td>\n",
              "    </tr>\n",
              "    <tr>\n",
              "      <th>max</th>\n",
              "      <td>49190.800000</td>\n",
              "      <td>36245.200000</td>\n",
              "    </tr>\n",
              "  </tbody>\n",
              "</table>\n",
              "</div>"
            ],
            "text/plain": [
              "cluster                      0             1\n",
              "avg_income count    154.000000     77.000000\n",
              "           mean   21081.611688  20199.318182\n",
              "           std     6998.588556   6127.008737\n",
              "           min        0.000000      0.000000\n",
              "           25%    16704.700000  16249.300000\n",
              "           50%    19881.650000  19417.800000\n",
              "           75%    24943.050000  22504.500000\n",
              "           max    49190.800000  36245.200000"
            ]
          },
          "metadata": {
            "tags": []
          },
          "execution_count": 115
        }
      ]
    },
    {
      "cell_type": "code",
      "metadata": {
        "colab": {
          "base_uri": "https://localhost:8080/",
          "height": 297
        },
        "id": "r16NYoVKMChR",
        "outputId": "621a2d17-4dec-426f-a64c-6c77e8768aa9"
      },
      "source": [
        "sns.countplot(x='cluster', data=avg_Income_1)"
      ],
      "execution_count": 116,
      "outputs": [
        {
          "output_type": "execute_result",
          "data": {
            "text/plain": [
              "<matplotlib.axes._subplots.AxesSubplot at 0x7f407b5a6668>"
            ]
          },
          "metadata": {
            "tags": []
          },
          "execution_count": 116
        },
        {
          "output_type": "display_data",
          "data": {
            "image/png": "[encoded data removed]",
            "text/plain": [
              "<Figure size 432x288 with 1 Axes>"
            ]
          },
          "metadata": {
            "tags": [],
            "image/png": {
              "width": 388,
              "height": 263
            },
            "needs_background": "light"
          }
        }
      ]
    },
    {
      "cell_type": "code",
      "metadata": {
        "colab": {
          "base_uri": "https://localhost:8080/",
          "height": 419
        },
        "id": "OR4uw03IMChS",
        "outputId": "83ae0a37-94ed-49f4-e46b-e0ebd213fbca"
      },
      "source": [
        "avg_Income_1"
      ],
      "execution_count": 117,
      "outputs": [
        {
          "output_type": "execute_result",
          "data": {
            "text/html": [
              "<div>\n",
              "<style scoped>\n",
              "    .dataframe tbody tr th:only-of-type {\n",
              "        vertical-align: middle;\n",
              "    }\n",
              "\n",
              "    .dataframe tbody tr th {\n",
              "        vertical-align: top;\n",
              "    }\n",
              "\n",
              "    .dataframe thead th {\n",
              "        text-align: right;\n",
              "    }\n",
              "</style>\n",
              "<table border=\"1\" class=\"dataframe\">\n",
              "  <thead>\n",
              "    <tr style=\"text-align: right;\">\n",
              "      <th></th>\n",
              "      <th>จังหวัด</th>\n",
              "      <th>avg_income</th>\n",
              "      <th>cluster</th>\n",
              "    </tr>\n",
              "  </thead>\n",
              "  <tbody>\n",
              "    <tr>\n",
              "      <th>0</th>\n",
              "      <td>กรุงเทพมหานคร 53</td>\n",
              "      <td>42380.0</td>\n",
              "      <td>0</td>\n",
              "    </tr>\n",
              "    <tr>\n",
              "      <th>1</th>\n",
              "      <td>สมุทรปราการ 53</td>\n",
              "      <td>23359.0</td>\n",
              "      <td>0</td>\n",
              "    </tr>\n",
              "    <tr>\n",
              "      <th>2</th>\n",
              "      <td>นนทบุรี 53</td>\n",
              "      <td>34626.0</td>\n",
              "      <td>0</td>\n",
              "    </tr>\n",
              "    <tr>\n",
              "      <th>3</th>\n",
              "      <td>ปทุมธานี 53</td>\n",
              "      <td>26686.0</td>\n",
              "      <td>0</td>\n",
              "    </tr>\n",
              "    <tr>\n",
              "      <th>4</th>\n",
              "      <td>พระนครศรีอยุธยา 53</td>\n",
              "      <td>25820.0</td>\n",
              "      <td>0</td>\n",
              "    </tr>\n",
              "    <tr>\n",
              "      <th>...</th>\n",
              "      <td>...</td>\n",
              "      <td>...</td>\n",
              "      <td>...</td>\n",
              "    </tr>\n",
              "    <tr>\n",
              "      <th>226</th>\n",
              "      <td>ตรัง 55</td>\n",
              "      <td>33269.9</td>\n",
              "      <td>1</td>\n",
              "    </tr>\n",
              "    <tr>\n",
              "      <th>227</th>\n",
              "      <td>พัทลุง 55</td>\n",
              "      <td>26169.3</td>\n",
              "      <td>0</td>\n",
              "    </tr>\n",
              "    <tr>\n",
              "      <th>228</th>\n",
              "      <td>ปัตตานี 55</td>\n",
              "      <td>20199.1</td>\n",
              "      <td>1</td>\n",
              "    </tr>\n",
              "    <tr>\n",
              "      <th>229</th>\n",
              "      <td>ยะลา 55</td>\n",
              "      <td>22483.1</td>\n",
              "      <td>1</td>\n",
              "    </tr>\n",
              "    <tr>\n",
              "      <th>230</th>\n",
              "      <td>นราธิวาส 55</td>\n",
              "      <td>16772.8</td>\n",
              "      <td>0</td>\n",
              "    </tr>\n",
              "  </tbody>\n",
              "</table>\n",
              "<p>231 rows × 3 columns</p>\n",
              "</div>"
            ],
            "text/plain": [
              "                จังหวัด  avg_income  cluster\n",
              "0      กรุงเทพมหานคร 53     42380.0        0\n",
              "1        สมุทรปราการ 53     23359.0        0\n",
              "2            นนทบุรี 53     34626.0        0\n",
              "3           ปทุมธานี 53     26686.0        0\n",
              "4    พระนครศรีอยุธยา 53     25820.0        0\n",
              "..                  ...         ...      ...\n",
              "226             ตรัง 55     33269.9        1\n",
              "227           พัทลุง 55     26169.3        0\n",
              "228          ปัตตานี 55     20199.1        1\n",
              "229             ยะลา 55     22483.1        1\n",
              "230         นราธิวาส 55     16772.8        0\n",
              "\n",
              "[231 rows x 3 columns]"
            ]
          },
          "metadata": {
            "tags": []
          },
          "execution_count": 117
        }
      ]
    },
    {
      "cell_type": "code",
      "metadata": {
        "colab": {
          "base_uri": "https://localhost:8080/",
          "height": 359
        },
        "id": "uU4Nq9g7MChW",
        "outputId": "bf7686ea-3fa1-421b-a44f-2053e5e60321"
      },
      "source": [
        "avg_Income_1.groupby('cluster').head().sort_values('cluster')"
      ],
      "execution_count": 118,
      "outputs": [
        {
          "output_type": "execute_result",
          "data": {
            "text/html": [
              "<div>\n",
              "<style scoped>\n",
              "    .dataframe tbody tr th:only-of-type {\n",
              "        vertical-align: middle;\n",
              "    }\n",
              "\n",
              "    .dataframe tbody tr th {\n",
              "        vertical-align: top;\n",
              "    }\n",
              "\n",
              "    .dataframe thead th {\n",
              "        text-align: right;\n",
              "    }\n",
              "</style>\n",
              "<table border=\"1\" class=\"dataframe\">\n",
              "  <thead>\n",
              "    <tr style=\"text-align: right;\">\n",
              "      <th></th>\n",
              "      <th>จังหวัด</th>\n",
              "      <th>avg_income</th>\n",
              "      <th>cluster</th>\n",
              "    </tr>\n",
              "  </thead>\n",
              "  <tbody>\n",
              "    <tr>\n",
              "      <th>0</th>\n",
              "      <td>กรุงเทพมหานคร 53</td>\n",
              "      <td>42380.0</td>\n",
              "      <td>0</td>\n",
              "    </tr>\n",
              "    <tr>\n",
              "      <th>1</th>\n",
              "      <td>สมุทรปราการ 53</td>\n",
              "      <td>23359.0</td>\n",
              "      <td>0</td>\n",
              "    </tr>\n",
              "    <tr>\n",
              "      <th>2</th>\n",
              "      <td>นนทบุรี 53</td>\n",
              "      <td>34626.0</td>\n",
              "      <td>0</td>\n",
              "    </tr>\n",
              "    <tr>\n",
              "      <th>3</th>\n",
              "      <td>ปทุมธานี 53</td>\n",
              "      <td>26686.0</td>\n",
              "      <td>0</td>\n",
              "    </tr>\n",
              "    <tr>\n",
              "      <th>4</th>\n",
              "      <td>พระนครศรีอยุธยา 53</td>\n",
              "      <td>25820.0</td>\n",
              "      <td>0</td>\n",
              "    </tr>\n",
              "    <tr>\n",
              "      <th>6</th>\n",
              "      <td>ลพบุรี 53</td>\n",
              "      <td>22405.0</td>\n",
              "      <td>1</td>\n",
              "    </tr>\n",
              "    <tr>\n",
              "      <th>8</th>\n",
              "      <td>ชัยนาท 53</td>\n",
              "      <td>18719.0</td>\n",
              "      <td>1</td>\n",
              "    </tr>\n",
              "    <tr>\n",
              "      <th>10</th>\n",
              "      <td>ชลบุรี 53</td>\n",
              "      <td>24052.0</td>\n",
              "      <td>1</td>\n",
              "    </tr>\n",
              "    <tr>\n",
              "      <th>13</th>\n",
              "      <td>ตราด 53</td>\n",
              "      <td>16949.0</td>\n",
              "      <td>1</td>\n",
              "    </tr>\n",
              "    <tr>\n",
              "      <th>15</th>\n",
              "      <td>ปราจีนบุรี 53</td>\n",
              "      <td>22548.0</td>\n",
              "      <td>1</td>\n",
              "    </tr>\n",
              "  </tbody>\n",
              "</table>\n",
              "</div>"
            ],
            "text/plain": [
              "               จังหวัด  avg_income  cluster\n",
              "0     กรุงเทพมหานคร 53     42380.0        0\n",
              "1       สมุทรปราการ 53     23359.0        0\n",
              "2           นนทบุรี 53     34626.0        0\n",
              "3          ปทุมธานี 53     26686.0        0\n",
              "4   พระนครศรีอยุธยา 53     25820.0        0\n",
              "6            ลพบุรี 53     22405.0        1\n",
              "8            ชัยนาท 53     18719.0        1\n",
              "10           ชลบุรี 53     24052.0        1\n",
              "13             ตราด 53     16949.0        1\n",
              "15       ปราจีนบุรี 53     22548.0        1"
            ]
          },
          "metadata": {
            "tags": []
          },
          "execution_count": 118
        }
      ]
    },
    {
      "cell_type": "markdown",
      "metadata": {
        "id": "Rr4bNcyyMe4g"
      },
      "source": [
        "#ค่าใช้จ่าย"
      ]
    },
    {
      "cell_type": "code",
      "metadata": {
        "id": "3w8LrHBYMmW3"
      },
      "source": [
        "avg_Expenditure_1 = os.path.join(path,'avg_Expenditure_1.csv')"
      ],
      "execution_count": 119,
      "outputs": []
    },
    {
      "cell_type": "code",
      "metadata": {
        "colab": {
          "base_uri": "https://localhost:8080/",
          "height": 419
        },
        "id": "qgYF8P-rMmW3",
        "outputId": "e6a72ee5-c035-4e9e-d840-3b31e9212507"
      },
      "source": [
        "avg_Expenditure_1 = pd.read_csv(avg_Expenditure_1)\n",
        "avg_Expenditure_1"
      ],
      "execution_count": 120,
      "outputs": [
        {
          "output_type": "execute_result",
          "data": {
            "text/html": [
              "<div>\n",
              "<style scoped>\n",
              "    .dataframe tbody tr th:only-of-type {\n",
              "        vertical-align: middle;\n",
              "    }\n",
              "\n",
              "    .dataframe tbody tr th {\n",
              "        vertical-align: top;\n",
              "    }\n",
              "\n",
              "    .dataframe thead th {\n",
              "        text-align: right;\n",
              "    }\n",
              "</style>\n",
              "<table border=\"1\" class=\"dataframe\">\n",
              "  <thead>\n",
              "    <tr style=\"text-align: right;\">\n",
              "      <th></th>\n",
              "      <th>จังหวัด</th>\n",
              "      <th>avg_expenditure</th>\n",
              "    </tr>\n",
              "  </thead>\n",
              "  <tbody>\n",
              "    <tr>\n",
              "      <th>0</th>\n",
              "      <td>กรุงเทพมหานคร 53</td>\n",
              "      <td>30334.0</td>\n",
              "    </tr>\n",
              "    <tr>\n",
              "      <th>1</th>\n",
              "      <td>สมุทรปราการ 53</td>\n",
              "      <td>18450.0</td>\n",
              "    </tr>\n",
              "    <tr>\n",
              "      <th>2</th>\n",
              "      <td>นนทบุรี 53</td>\n",
              "      <td>29487.0</td>\n",
              "    </tr>\n",
              "    <tr>\n",
              "      <th>3</th>\n",
              "      <td>ปทุมธานี 53</td>\n",
              "      <td>22460.0</td>\n",
              "    </tr>\n",
              "    <tr>\n",
              "      <th>4</th>\n",
              "      <td>พระนครศรีอยุธยา 53</td>\n",
              "      <td>20717.0</td>\n",
              "    </tr>\n",
              "    <tr>\n",
              "      <th>...</th>\n",
              "      <td>...</td>\n",
              "      <td>...</td>\n",
              "    </tr>\n",
              "    <tr>\n",
              "      <th>226</th>\n",
              "      <td>ตรัง 55</td>\n",
              "      <td>20922.3</td>\n",
              "    </tr>\n",
              "    <tr>\n",
              "      <th>227</th>\n",
              "      <td>พัทลุง 55</td>\n",
              "      <td>16635.7</td>\n",
              "    </tr>\n",
              "    <tr>\n",
              "      <th>228</th>\n",
              "      <td>ปัตตานี 55</td>\n",
              "      <td>16668.1</td>\n",
              "    </tr>\n",
              "    <tr>\n",
              "      <th>229</th>\n",
              "      <td>ยะลา 55</td>\n",
              "      <td>12521.7</td>\n",
              "    </tr>\n",
              "    <tr>\n",
              "      <th>230</th>\n",
              "      <td>นราธิวาส 55</td>\n",
              "      <td>13727.8</td>\n",
              "    </tr>\n",
              "  </tbody>\n",
              "</table>\n",
              "<p>231 rows × 2 columns</p>\n",
              "</div>"
            ],
            "text/plain": [
              "                จังหวัด  avg_expenditure\n",
              "0      กรุงเทพมหานคร 53          30334.0\n",
              "1        สมุทรปราการ 53          18450.0\n",
              "2            นนทบุรี 53          29487.0\n",
              "3           ปทุมธานี 53          22460.0\n",
              "4    พระนครศรีอยุธยา 53          20717.0\n",
              "..                  ...              ...\n",
              "226             ตรัง 55          20922.3\n",
              "227           พัทลุง 55          16635.7\n",
              "228          ปัตตานี 55          16668.1\n",
              "229             ยะลา 55          12521.7\n",
              "230         นราธิวาส 55          13727.8\n",
              "\n",
              "[231 rows x 2 columns]"
            ]
          },
          "metadata": {
            "tags": []
          },
          "execution_count": 120
        }
      ]
    },
    {
      "cell_type": "code",
      "metadata": {
        "colab": {
          "base_uri": "https://localhost:8080/"
        },
        "id": "dLjqk70qMmW3",
        "outputId": "07ca6e0b-2b24-4c47-d101-4e3d9f80c10d"
      },
      "source": [
        "avg_Expenditure_1.shape"
      ],
      "execution_count": 122,
      "outputs": [
        {
          "output_type": "execute_result",
          "data": {
            "text/plain": [
              "(231, 2)"
            ]
          },
          "metadata": {
            "tags": []
          },
          "execution_count": 122
        }
      ]
    },
    {
      "cell_type": "code",
      "metadata": {
        "colab": {
          "base_uri": "https://localhost:8080/"
        },
        "id": "Orx3aJA8MmW3",
        "outputId": "7fbb33b8-4483-48f7-86cd-f02f1ddf423d"
      },
      "source": [
        "avg_Expenditure_1.isnull().any()"
      ],
      "execution_count": 123,
      "outputs": [
        {
          "output_type": "execute_result",
          "data": {
            "text/plain": [
              "จังหวัด            False\n",
              "avg_expenditure     True\n",
              "dtype: bool"
            ]
          },
          "metadata": {
            "tags": []
          },
          "execution_count": 123
        }
      ]
    },
    {
      "cell_type": "code",
      "metadata": {
        "id": "Gc31L-etMmW3"
      },
      "source": [
        "avg_Expenditure_1[['avg_expenditure']] = avg_Expenditure_1[['avg_expenditure']].fillna(0) "
      ],
      "execution_count": 124,
      "outputs": []
    },
    {
      "cell_type": "code",
      "metadata": {
        "colab": {
          "base_uri": "https://localhost:8080/"
        },
        "id": "hfnWt3jLMmW4",
        "outputId": "83e170d1-294e-4b13-bc7a-85998bff526e"
      },
      "source": [
        "avg_Expenditure_1.isnull().any()"
      ],
      "execution_count": 125,
      "outputs": [
        {
          "output_type": "execute_result",
          "data": {
            "text/plain": [
              "จังหวัด            False\n",
              "avg_expenditure    False\n",
              "dtype: bool"
            ]
          },
          "metadata": {
            "tags": []
          },
          "execution_count": 125
        }
      ]
    },
    {
      "cell_type": "code",
      "metadata": {
        "id": "H6pFHW5KMmW5"
      },
      "source": [
        "from sklearn.cluster import KMeans"
      ],
      "execution_count": 160,
      "outputs": []
    },
    {
      "cell_type": "code",
      "metadata": {
        "id": "RzPKmnCTMmW5"
      },
      "source": [
        "Xe = avg_Expenditure_1[['avg_expenditure']] #Xi ตัวแปรของค่าใช้จ่าย"
      ],
      "execution_count": 161,
      "outputs": []
    },
    {
      "cell_type": "code",
      "metadata": {
        "id": "87XFRQx5MmW5"
      },
      "source": [
        "from sklearn.datasets import make_blobs"
      ],
      "execution_count": 162,
      "outputs": []
    },
    {
      "cell_type": "code",
      "metadata": {
        "id": "pVuV7RmMMmW5"
      },
      "source": [
        "Xe,y=make_blobs(n_samples=231, centers=4, n_features=2, random_state=6)"
      ],
      "execution_count": 163,
      "outputs": []
    },
    {
      "cell_type": "code",
      "metadata": {
        "colab": {
          "base_uri": "https://localhost:8080/"
        },
        "id": "z0DwPbqAMmW5",
        "outputId": "3970e71a-7611-49a2-a73d-d89f42a5ad59"
      },
      "source": [
        "Xe.shape "
      ],
      "execution_count": 164,
      "outputs": [
        {
          "output_type": "execute_result",
          "data": {
            "text/plain": [
              "(231, 2)"
            ]
          },
          "metadata": {
            "tags": []
          },
          "execution_count": 164
        }
      ]
    },
    {
      "cell_type": "code",
      "metadata": {
        "colab": {
          "base_uri": "https://localhost:8080/",
          "height": 282
        },
        "id": "ln7UudGyMmW5",
        "outputId": "4040241f-76dd-4bcc-ae5c-3037a7664500"
      },
      "source": [
        "from matplotlib import pyplot as plt\n",
        "plt.scatter(Xe[:,0],Xi[:,1]) #จะแบ่งเป็น 3 กลุ่ม ตาม centers=3"
      ],
      "execution_count": 165,
      "outputs": [
        {
          "output_type": "execute_result",
          "data": {
            "text/plain": [
              "<matplotlib.collections.PathCollection at 0x7f407b3240b8>"
            ]
          },
          "metadata": {
            "tags": []
          },
          "execution_count": 165
        },
        {
          "output_type": "display_data",
          "data": {
            "image/png": "[encoded data removed]",
            "text/plain": [
              "<Figure size 432x288 with 1 Axes>"
            ]
          },
          "metadata": {
            "tags": [],
            "image/png": {
              "width": 386,
              "height": 248
            },
            "needs_background": "light"
          }
        }
      ]
    },
    {
      "cell_type": "code",
      "metadata": {
        "id": "micbSUfjMmW5"
      },
      "source": [
        "from sklearn.cluster import KMeans"
      ],
      "execution_count": 132,
      "outputs": []
    },
    {
      "cell_type": "code",
      "metadata": {
        "id": "I-F8LsNAMmW5"
      },
      "source": [
        "KMclust=KMeans(n_clusters=2) # n_clusters=2 การกำหนดตัวแบ่งว่าจะแบ่งให้มีกลุ่ม 2 กลุ่ม"
      ],
      "execution_count": 133,
      "outputs": []
    },
    {
      "cell_type": "code",
      "metadata": {
        "colab": {
          "base_uri": "https://localhost:8080/"
        },
        "id": "mC1jeiDTMmW5",
        "outputId": "a30a3667-3e59-4bbb-924d-b9e9bf2b632c"
      },
      "source": [
        "KMclust.fit(Xe)"
      ],
      "execution_count": 135,
      "outputs": [
        {
          "output_type": "execute_result",
          "data": {
            "text/plain": [
              "KMeans(algorithm='auto', copy_x=True, init='k-means++', max_iter=300,\n",
              "       n_clusters=2, n_init=10, n_jobs=None, precompute_distances='auto',\n",
              "       random_state=None, tol=0.0001, verbose=0)"
            ]
          },
          "metadata": {
            "tags": []
          },
          "execution_count": 135
        }
      ]
    },
    {
      "cell_type": "code",
      "metadata": {
        "id": "gP5iYF7mMmW6"
      },
      "source": [
        "label=KMclust.predict(Xi) # predict ว่าอยู่ในกลุ่มไหน"
      ],
      "execution_count": 136,
      "outputs": []
    },
    {
      "cell_type": "code",
      "metadata": {
        "colab": {
          "base_uri": "https://localhost:8080/",
          "height": 282
        },
        "id": "PiZy8aBFMmW6",
        "outputId": "d62f6344-2fad-48a8-ab0f-a32c1ab35664"
      },
      "source": [
        "plt.scatter(Xe[:,0], Xi[:,1], c=label) # เปลี่ยนสีให้เป็นไปตาม label ของเราโดยการสุ่ม"
      ],
      "execution_count": 138,
      "outputs": [
        {
          "output_type": "execute_result",
          "data": {
            "text/plain": [
              "<matplotlib.collections.PathCollection at 0x7f407c25f7b8>"
            ]
          },
          "metadata": {
            "tags": []
          },
          "execution_count": 138
        },
        {
          "output_type": "display_data",
          "data": {
            "image/png": "[encoded data removed]",
            "text/plain": [
              "<Figure size 432x288 with 1 Axes>"
            ]
          },
          "metadata": {
            "tags": [],
            "image/png": {
              "width": 386,
              "height": 248
            },
            "needs_background": "light"
          }
        }
      ]
    },
    {
      "cell_type": "code",
      "metadata": {
        "colab": {
          "base_uri": "https://localhost:8080/"
        },
        "id": "s4EaLp7YMmW6",
        "outputId": "40e9da4e-d5ff-45cd-fef4-a526d8b01d08"
      },
      "source": [
        "KMclust.cluster_centers_"
      ],
      "execution_count": 139,
      "outputs": [
        {
          "output_type": "execute_result",
          "data": {
            "text/plain": [
              "array([[ 7.17049205, -6.18852947],\n",
              "       [-7.79775007,  1.78610777]])"
            ]
          },
          "metadata": {
            "tags": []
          },
          "execution_count": 139
        }
      ]
    },
    {
      "cell_type": "code",
      "metadata": {
        "colab": {
          "base_uri": "https://localhost:8080/"
        },
        "id": "vsotSE_lMmW6",
        "outputId": "60999499-f61b-4a85-c4ff-9fd367f49324"
      },
      "source": [
        "KMclust.transform(Xe) # the distance between each point and centroid"
      ],
      "execution_count": 140,
      "outputs": [
        {
          "output_type": "execute_result",
          "data": {
            "text/plain": [
              "array([[ 4.35657384, 19.46286796],\n",
              "       [ 2.71215952, 17.25282908],\n",
              "       [ 2.70884496, 16.22743323],\n",
              "       [ 5.05983897, 17.45766143],\n",
              "       [ 2.02897205, 16.04954075],\n",
              "       [ 2.56177615, 16.71518607],\n",
              "       [15.64664579,  1.34745187],\n",
              "       [ 3.4711508 , 18.87195087],\n",
              "       [16.62190693,  1.50652845],\n",
              "       [ 2.7266152 , 17.23167107],\n",
              "       [16.6160869 ,  0.34904234],\n",
              "       [ 4.03944671, 16.52353791],\n",
              "       [ 3.85827321, 14.22449676],\n",
              "       [17.02789616,  0.19453677],\n",
              "       [ 3.61896268, 18.53323763],\n",
              "       [17.58481661,  0.66590015],\n",
              "       [ 2.30713982, 17.77093305],\n",
              "       [17.02693124,  1.03696265],\n",
              "       [17.19176311,  0.52754238],\n",
              "       [15.33005926,  1.64582881],\n",
              "       [15.60783922,  1.39409006],\n",
              "       [ 2.91852292, 16.48022043],\n",
              "       [ 3.12708999, 18.0930437 ],\n",
              "       [ 2.26100905, 17.36691817],\n",
              "       [15.76940085,  2.22813124],\n",
              "       [ 2.44106119, 17.36937133],\n",
              "       [ 4.77217036, 18.84251956],\n",
              "       [ 3.43700643, 18.43292038],\n",
              "       [ 2.62046403, 15.83178334],\n",
              "       [ 3.78488878, 15.45391096],\n",
              "       [18.27095342,  1.99299132],\n",
              "       [ 1.56324951, 16.83960694],\n",
              "       [16.75371194,  0.90237552],\n",
              "       [17.99806036,  1.10319419],\n",
              "       [18.03998532,  1.48168548],\n",
              "       [17.56146377,  2.30147336],\n",
              "       [18.03457152,  1.6424483 ],\n",
              "       [ 3.93438264, 18.80407863],\n",
              "       [18.83735603,  2.53177927],\n",
              "       [ 2.78424162, 18.4314105 ],\n",
              "       [ 2.81351594, 16.47348457],\n",
              "       [ 3.63284958, 20.19513526],\n",
              "       [ 6.09384017, 18.70041437],\n",
              "       [ 2.63440943, 15.61776043],\n",
              "       [ 3.33192603, 14.40794046],\n",
              "       [ 4.7021245 , 19.1888418 ],\n",
              "       [ 2.51784087, 18.99701274],\n",
              "       [14.53163148,  2.43245519],\n",
              "       [16.58660531,  0.60295049],\n",
              "       [ 1.79897043, 16.30969024],\n",
              "       [18.7272747 ,  1.76992575],\n",
              "       [16.13501412,  1.8417125 ],\n",
              "       [ 1.52013306, 16.94408744],\n",
              "       [ 2.98809468, 17.83782548],\n",
              "       [ 2.27260428, 17.18193776],\n",
              "       [ 3.87112346, 16.85636341],\n",
              "       [ 1.53656764, 17.41236322],\n",
              "       [ 1.17280103, 17.8921282 ],\n",
              "       [ 2.01816388, 16.94087115],\n",
              "       [ 2.88811723, 15.7398409 ],\n",
              "       [ 2.45752212, 15.35969285],\n",
              "       [15.95106526,  1.24464901],\n",
              "       [ 3.21444879, 18.95681337],\n",
              "       [ 2.73149932, 15.57485913],\n",
              "       [ 3.95901521, 16.72110117],\n",
              "       [ 2.60743405, 17.54597233],\n",
              "       [ 3.4001422 , 16.14671619],\n",
              "       [18.83873441,  2.86720509],\n",
              "       [16.70442269,  0.69815203],\n",
              "       [ 4.50821291, 12.82307252],\n",
              "       [ 2.6303264 , 16.60343624],\n",
              "       [ 3.03416063, 17.84095161],\n",
              "       [ 3.91903739, 19.28778482],\n",
              "       [ 4.075039  , 17.03882187],\n",
              "       [ 5.16921753, 15.44132246],\n",
              "       [17.06912965,  0.21011696],\n",
              "       [ 4.01655417, 16.34154496],\n",
              "       [ 1.36016918, 17.9783375 ],\n",
              "       [ 3.0083846 , 15.50797925],\n",
              "       [ 4.56050649, 18.75340136],\n",
              "       [ 4.1069742 , 18.12396319],\n",
              "       [17.04904893,  0.19108444],\n",
              "       [17.99057122,  1.2469916 ],\n",
              "       [ 1.82929176, 16.99671227],\n",
              "       [17.61821607,  0.66916481],\n",
              "       [17.42178028,  0.58848966],\n",
              "       [15.25709319,  2.04667884],\n",
              "       [ 2.5424552 , 17.16547398],\n",
              "       [ 2.21452652, 18.39677901],\n",
              "       [ 2.76427917, 17.00630792],\n",
              "       [ 2.25462519, 17.94514003],\n",
              "       [ 3.06301053, 16.54518734],\n",
              "       [18.28785267,  1.64761666],\n",
              "       [ 4.56650414, 17.597018  ],\n",
              "       [ 4.39171098, 18.11767763],\n",
              "       [ 1.77542959, 15.96302927],\n",
              "       [ 2.39450126, 15.99630643],\n",
              "       [17.80174237,  0.84446374],\n",
              "       [ 4.08097128, 15.80988501],\n",
              "       [18.64051702,  1.69950804],\n",
              "       [ 4.12301358, 17.49440297],\n",
              "       [ 3.06981617, 15.96417387],\n",
              "       [ 3.78665929, 18.89446129],\n",
              "       [ 4.19587728, 17.78110935],\n",
              "       [ 2.23974545, 18.05546306],\n",
              "       [16.92185923,  0.49866462],\n",
              "       [ 3.35862115, 17.60093557],\n",
              "       [17.74482329,  1.45468446],\n",
              "       [16.04859319,  1.25471999],\n",
              "       [17.82810598,  1.37343319],\n",
              "       [ 2.70559454, 17.97033302],\n",
              "       [ 3.62429403, 15.72878204],\n",
              "       [ 2.0614413 , 17.82446973],\n",
              "       [17.17322517,  0.70022634],\n",
              "       [ 4.07476899, 16.87946887],\n",
              "       [ 2.01691216, 17.95185078],\n",
              "       [16.49543936,  1.28390838],\n",
              "       [ 1.34998842, 16.46177683],\n",
              "       [ 2.91829214, 16.59478439],\n",
              "       [ 3.24201161, 17.22081663],\n",
              "       [ 3.19445654, 16.48351938],\n",
              "       [ 2.45962614, 14.79097691],\n",
              "       [ 4.75615465, 16.35321074],\n",
              "       [ 3.88988338, 18.38807688],\n",
              "       [ 2.31983711, 18.45810676],\n",
              "       [ 4.43376296, 17.49949346],\n",
              "       [17.19161104,  0.93768222],\n",
              "       [ 3.58330709, 18.48112098],\n",
              "       [ 3.25014622, 18.60075286],\n",
              "       [ 2.4578405 , 16.07906419],\n",
              "       [ 2.41979388, 17.02333405],\n",
              "       [ 4.20329413, 16.860217  ],\n",
              "       [16.84289403,  0.18243545],\n",
              "       [ 2.23882045, 17.65097887],\n",
              "       [ 1.98845891, 16.99297613],\n",
              "       [17.91609104,  1.12209017],\n",
              "       [ 3.75521044, 15.0668652 ],\n",
              "       [18.46150008,  1.66277316],\n",
              "       [ 2.29535936, 16.91711252],\n",
              "       [ 2.45763675, 17.53698863],\n",
              "       [16.20543852,  0.84095406],\n",
              "       [ 3.31374953, 18.74072352],\n",
              "       [ 3.65729499, 17.25971489],\n",
              "       [ 3.50762547, 17.8253299 ],\n",
              "       [ 2.13865361, 17.24037346],\n",
              "       [ 1.4607609 , 17.19994605],\n",
              "       [16.12136079,  1.30847933],\n",
              "       [ 2.35318766, 15.54343808],\n",
              "       [ 3.83133   , 17.70779582],\n",
              "       [16.03521006,  0.93252684],\n",
              "       [ 2.77971903, 16.60043027],\n",
              "       [17.32132708,  0.92652719],\n",
              "       [16.15484313,  0.93249525],\n",
              "       [ 2.64438341, 18.49808285],\n",
              "       [ 2.95513698, 14.72275055],\n",
              "       [ 1.88931135, 16.93219503],\n",
              "       [16.98354651,  1.42390057],\n",
              "       [16.64078763,  0.81041821],\n",
              "       [17.03583299,  0.09012682],\n",
              "       [ 1.50983989, 17.16759161],\n",
              "       [ 2.42958705, 18.03552144],\n",
              "       [14.90220486,  2.05798904],\n",
              "       [ 3.41467414, 17.32770958],\n",
              "       [16.37547528,  1.04061471],\n",
              "       [ 2.94808886, 15.99051121],\n",
              "       [ 3.85887658, 19.80232854],\n",
              "       [ 4.19594137, 15.63520798],\n",
              "       [15.72737201,  1.33005235],\n",
              "       [ 2.53348978, 16.53823752],\n",
              "       [ 3.72648065, 18.07113222],\n",
              "       [ 3.34092834, 18.17105329],\n",
              "       [ 2.71099665, 16.59786995],\n",
              "       [15.54363133,  1.45901517],\n",
              "       [ 3.59339718, 16.11067932],\n",
              "       [18.91914737,  1.98603883],\n",
              "       [ 4.43044897, 19.23964937],\n",
              "       [ 3.02391434, 17.88806975],\n",
              "       [ 2.78692861, 17.66118738],\n",
              "       [ 1.16091305, 16.85169316],\n",
              "       [ 3.2394761 , 16.00079409],\n",
              "       [17.1932281 ,  0.44056281],\n",
              "       [16.72268384,  0.49340016],\n",
              "       [17.63503499,  0.93644229],\n",
              "       [18.45707461,  1.51954611],\n",
              "       [19.12796373,  2.22310431],\n",
              "       [ 3.10182166, 17.95734754],\n",
              "       [16.39863165,  0.649801  ],\n",
              "       [ 3.08666594, 16.36276856],\n",
              "       [ 4.15188552, 13.83189275],\n",
              "       [ 2.69699758, 16.10289331],\n",
              "       [15.55889799,  1.41290881],\n",
              "       [15.60816625,  1.51669785],\n",
              "       [ 3.07990036, 17.04760612],\n",
              "       [ 3.63647386, 18.25636131],\n",
              "       [ 4.04929885, 19.82012771],\n",
              "       [ 4.07165953, 16.64991081],\n",
              "       [ 4.54024882, 16.01876395],\n",
              "       [17.42247892,  1.28103003],\n",
              "       [ 3.36735565, 18.50614972],\n",
              "       [17.57225361,  1.08607216],\n",
              "       [ 2.29130143, 16.81417548],\n",
              "       [ 2.16330676, 18.07664592],\n",
              "       [ 2.23998361, 16.84635214],\n",
              "       [ 2.61450007, 17.73523228],\n",
              "       [ 2.54852051, 18.57224863],\n",
              "       [ 3.79803582, 17.55579435],\n",
              "       [ 3.5252263 , 18.16217238],\n",
              "       [17.94195261,  1.89253713],\n",
              "       [ 4.0153827 , 18.82928052],\n",
              "       [ 2.74100613, 17.9098001 ],\n",
              "       [16.05321209,  0.91189524],\n",
              "       [18.43003457,  1.58406234],\n",
              "       [ 3.39887447, 18.34225764],\n",
              "       [ 2.35021929, 17.13100533],\n",
              "       [ 1.85578271, 16.35707693],\n",
              "       [15.45625925,  1.62219092],\n",
              "       [17.37852865,  2.36738786],\n",
              "       [17.34145343,  1.03794504],\n",
              "       [ 1.32906842, 17.37709693],\n",
              "       [ 3.04009756, 16.73611362],\n",
              "       [ 3.53143466, 18.07716746],\n",
              "       [ 2.72637449, 17.56375419],\n",
              "       [ 3.05653743, 15.70551996],\n",
              "       [ 1.64971319, 17.68824137],\n",
              "       [14.92939406,  2.52872159],\n",
              "       [15.06493088,  2.84924721],\n",
              "       [18.25881215,  1.30288311],\n",
              "       [ 4.09919972, 18.10067932],\n",
              "       [17.74079602,  0.78122815],\n",
              "       [16.47103052,  0.81231031],\n",
              "       [ 4.37287979, 18.11536364]])"
            ]
          },
          "metadata": {
            "tags": []
          },
          "execution_count": 140
        }
      ]
    },
    {
      "cell_type": "code",
      "metadata": {
        "colab": {
          "base_uri": "https://localhost:8080/"
        },
        "id": "yUeMD8xRMmW6",
        "outputId": "7a9b30fe-2b6d-4054-d25c-641abf8236c9"
      },
      "source": [
        "KMclust.labels_"
      ],
      "execution_count": 141,
      "outputs": [
        {
          "output_type": "execute_result",
          "data": {
            "text/plain": [
              "array([0, 0, 0, 0, 0, 0, 1, 0, 1, 0, 1, 0, 0, 1, 0, 1, 0, 1, 1, 1, 1, 0,\n",
              "       0, 0, 1, 0, 0, 0, 0, 0, 1, 0, 1, 1, 1, 1, 1, 0, 1, 0, 0, 0, 0, 0,\n",
              "       0, 0, 0, 1, 1, 0, 1, 1, 0, 0, 0, 0, 0, 0, 0, 0, 0, 1, 0, 0, 0, 0,\n",
              "       0, 1, 1, 0, 0, 0, 0, 0, 0, 1, 0, 0, 0, 0, 0, 1, 1, 0, 1, 1, 1, 0,\n",
              "       0, 0, 0, 0, 1, 0, 0, 0, 0, 1, 0, 1, 0, 0, 0, 0, 0, 1, 0, 1, 1, 1,\n",
              "       0, 0, 0, 1, 0, 0, 1, 0, 0, 0, 0, 0, 0, 0, 0, 0, 1, 0, 0, 0, 0, 0,\n",
              "       1, 0, 0, 1, 0, 1, 0, 0, 1, 0, 0, 0, 0, 0, 1, 0, 0, 1, 0, 1, 1, 0,\n",
              "       0, 0, 1, 1, 1, 0, 0, 1, 0, 1, 0, 0, 0, 1, 0, 0, 0, 0, 1, 0, 1, 0,\n",
              "       0, 0, 0, 0, 1, 1, 1, 1, 1, 0, 1, 0, 0, 0, 1, 1, 0, 0, 0, 0, 0, 1,\n",
              "       0, 1, 0, 0, 0, 0, 0, 0, 0, 1, 0, 0, 1, 1, 0, 0, 0, 1, 1, 1, 0, 0,\n",
              "       0, 0, 0, 0, 1, 1, 1, 0, 1, 1, 0], dtype=int32)"
            ]
          },
          "metadata": {
            "tags": []
          },
          "execution_count": 141
        }
      ]
    },
    {
      "cell_type": "code",
      "metadata": {
        "colab": {
          "base_uri": "https://localhost:8080/"
        },
        "id": "vEByyxjuMmW6",
        "outputId": "2f776c5b-a89f-46bc-a224-bd3689120a5a"
      },
      "source": [
        "ssde=[] #เซทว่างของรายได้\n",
        "for k in range(2, 10):\n",
        "    m=KMeans(n_clusters=k)\n",
        "    m.fit(Xe) #Xi ตัวแปรของรายได้\n",
        "    ssde.append([k, m.inertia_])\n",
        "ssde"
      ],
      "execution_count": 145,
      "outputs": [
        {
          "output_type": "execute_result",
          "data": {
            "text/plain": [
              "[[2, 1751.9669425508212],\n",
              " [3, 444.034965979045],\n",
              " [4, 380.2639248784881],\n",
              " [5, 327.3734063690056],\n",
              " [6, 274.52370483751207],\n",
              " [7, 241.65185563188484],\n",
              " [8, 209.64128102035488],\n",
              " [9, 186.2393187433097]]"
            ]
          },
          "metadata": {
            "tags": []
          },
          "execution_count": 145
        }
      ]
    },
    {
      "cell_type": "code",
      "metadata": {
        "colab": {
          "base_uri": "https://localhost:8080/"
        },
        "id": "wodIcEjWMmW6",
        "outputId": "c6152c17-284d-4808-b7b4-92f3932e6033"
      },
      "source": [
        "xye=np.array(ssde) #xyi ตัวแปร xy ของรายได้\n",
        "print(xye)"
      ],
      "execution_count": 146,
      "outputs": [
        {
          "output_type": "stream",
          "text": [
            "[[   2.         1751.96694255]\n",
            " [   3.          444.03496598]\n",
            " [   4.          380.26392488]\n",
            " [   5.          327.37340637]\n",
            " [   6.          274.52370484]\n",
            " [   7.          241.65185563]\n",
            " [   8.          209.64128102]\n",
            " [   9.          186.23931874]]\n"
          ],
          "name": "stdout"
        }
      ]
    },
    {
      "cell_type": "code",
      "metadata": {
        "colab": {
          "base_uri": "https://localhost:8080/",
          "height": 282
        },
        "id": "zke9Q5cdMmW7",
        "outputId": "f7b0d0cc-4398-4862-da32-ab38828b11ba"
      },
      "source": [
        "plt.plot(xye[:, 0], xye[:, 1], linestyle='--', marker='o')\n",
        "# plt.plot(xy[:, 0], xy[:, 1], '--o')"
      ],
      "execution_count": 148,
      "outputs": [
        {
          "output_type": "execute_result",
          "data": {
            "text/plain": [
              "[<matplotlib.lines.Line2D at 0x7f407b4dec18>]"
            ]
          },
          "metadata": {
            "tags": []
          },
          "execution_count": 148
        },
        {
          "output_type": "display_data",
          "data": {
            "image/png": "[encoded data removed]",
            "text/plain": [
              "<Figure size 432x288 with 1 Axes>"
            ]
          },
          "metadata": {
            "tags": [],
            "image/png": {
              "width": 381,
              "height": 248
            },
            "needs_background": "light"
          }
        }
      ]
    },
    {
      "cell_type": "code",
      "metadata": {
        "colab": {
          "base_uri": "https://localhost:8080/",
          "height": 297
        },
        "id": "RoklECRFMmW7",
        "outputId": "a30064cf-770b-4e48-c0b3-9f48e3aaaa1d"
      },
      "source": [
        "dde=pd.DataFrame(ssde, columns=['k', 'ssde']) \n",
        "dde #ddi ตัวแปรของรายได้"
      ],
      "execution_count": 149,
      "outputs": [
        {
          "output_type": "execute_result",
          "data": {
            "text/html": [
              "<div>\n",
              "<style scoped>\n",
              "    .dataframe tbody tr th:only-of-type {\n",
              "        vertical-align: middle;\n",
              "    }\n",
              "\n",
              "    .dataframe tbody tr th {\n",
              "        vertical-align: top;\n",
              "    }\n",
              "\n",
              "    .dataframe thead th {\n",
              "        text-align: right;\n",
              "    }\n",
              "</style>\n",
              "<table border=\"1\" class=\"dataframe\">\n",
              "  <thead>\n",
              "    <tr style=\"text-align: right;\">\n",
              "      <th></th>\n",
              "      <th>k</th>\n",
              "      <th>ssde</th>\n",
              "    </tr>\n",
              "  </thead>\n",
              "  <tbody>\n",
              "    <tr>\n",
              "      <th>0</th>\n",
              "      <td>2</td>\n",
              "      <td>1751.966943</td>\n",
              "    </tr>\n",
              "    <tr>\n",
              "      <th>1</th>\n",
              "      <td>3</td>\n",
              "      <td>444.034966</td>\n",
              "    </tr>\n",
              "    <tr>\n",
              "      <th>2</th>\n",
              "      <td>4</td>\n",
              "      <td>380.263925</td>\n",
              "    </tr>\n",
              "    <tr>\n",
              "      <th>3</th>\n",
              "      <td>5</td>\n",
              "      <td>327.373406</td>\n",
              "    </tr>\n",
              "    <tr>\n",
              "      <th>4</th>\n",
              "      <td>6</td>\n",
              "      <td>274.523705</td>\n",
              "    </tr>\n",
              "    <tr>\n",
              "      <th>5</th>\n",
              "      <td>7</td>\n",
              "      <td>241.651856</td>\n",
              "    </tr>\n",
              "    <tr>\n",
              "      <th>6</th>\n",
              "      <td>8</td>\n",
              "      <td>209.641281</td>\n",
              "    </tr>\n",
              "    <tr>\n",
              "      <th>7</th>\n",
              "      <td>9</td>\n",
              "      <td>186.239319</td>\n",
              "    </tr>\n",
              "  </tbody>\n",
              "</table>\n",
              "</div>"
            ],
            "text/plain": [
              "   k         ssde\n",
              "0  2  1751.966943\n",
              "1  3   444.034966\n",
              "2  4   380.263925\n",
              "3  5   327.373406\n",
              "4  6   274.523705\n",
              "5  7   241.651856\n",
              "6  8   209.641281\n",
              "7  9   186.239319"
            ]
          },
          "metadata": {
            "tags": []
          },
          "execution_count": 149
        }
      ]
    },
    {
      "cell_type": "code",
      "metadata": {
        "colab": {
          "base_uri": "https://localhost:8080/",
          "height": 297
        },
        "id": "qKL-j-SUMmW7",
        "outputId": "82971018-8864-43b7-fa19-dc0c272a86dd"
      },
      "source": [
        "dde['pct_chg']=dde['ssde'].pct_change() * 100\n",
        "dde"
      ],
      "execution_count": 150,
      "outputs": [
        {
          "output_type": "execute_result",
          "data": {
            "text/html": [
              "<div>\n",
              "<style scoped>\n",
              "    .dataframe tbody tr th:only-of-type {\n",
              "        vertical-align: middle;\n",
              "    }\n",
              "\n",
              "    .dataframe tbody tr th {\n",
              "        vertical-align: top;\n",
              "    }\n",
              "\n",
              "    .dataframe thead th {\n",
              "        text-align: right;\n",
              "    }\n",
              "</style>\n",
              "<table border=\"1\" class=\"dataframe\">\n",
              "  <thead>\n",
              "    <tr style=\"text-align: right;\">\n",
              "      <th></th>\n",
              "      <th>k</th>\n",
              "      <th>ssde</th>\n",
              "      <th>pct_chg</th>\n",
              "    </tr>\n",
              "  </thead>\n",
              "  <tbody>\n",
              "    <tr>\n",
              "      <th>0</th>\n",
              "      <td>2</td>\n",
              "      <td>1751.966943</td>\n",
              "      <td>NaN</td>\n",
              "    </tr>\n",
              "    <tr>\n",
              "      <th>1</th>\n",
              "      <td>3</td>\n",
              "      <td>444.034966</td>\n",
              "      <td>-74.655060</td>\n",
              "    </tr>\n",
              "    <tr>\n",
              "      <th>2</th>\n",
              "      <td>4</td>\n",
              "      <td>380.263925</td>\n",
              "      <td>-14.361716</td>\n",
              "    </tr>\n",
              "    <tr>\n",
              "      <th>3</th>\n",
              "      <td>5</td>\n",
              "      <td>327.373406</td>\n",
              "      <td>-13.908897</td>\n",
              "    </tr>\n",
              "    <tr>\n",
              "      <th>4</th>\n",
              "      <td>6</td>\n",
              "      <td>274.523705</td>\n",
              "      <td>-16.143554</td>\n",
              "    </tr>\n",
              "    <tr>\n",
              "      <th>5</th>\n",
              "      <td>7</td>\n",
              "      <td>241.651856</td>\n",
              "      <td>-11.974139</td>\n",
              "    </tr>\n",
              "    <tr>\n",
              "      <th>6</th>\n",
              "      <td>8</td>\n",
              "      <td>209.641281</td>\n",
              "      <td>-13.246567</td>\n",
              "    </tr>\n",
              "    <tr>\n",
              "      <th>7</th>\n",
              "      <td>9</td>\n",
              "      <td>186.239319</td>\n",
              "      <td>-11.162860</td>\n",
              "    </tr>\n",
              "  </tbody>\n",
              "</table>\n",
              "</div>"
            ],
            "text/plain": [
              "   k         ssde    pct_chg\n",
              "0  2  1751.966943        NaN\n",
              "1  3   444.034966 -74.655060\n",
              "2  4   380.263925 -14.361716\n",
              "3  5   327.373406 -13.908897\n",
              "4  6   274.523705 -16.143554\n",
              "5  7   241.651856 -11.974139\n",
              "6  8   209.641281 -13.246567\n",
              "7  9   186.239319 -11.162860"
            ]
          },
          "metadata": {
            "tags": []
          },
          "execution_count": 150
        }
      ]
    },
    {
      "cell_type": "code",
      "metadata": {
        "colab": {
          "base_uri": "https://localhost:8080/",
          "height": 265
        },
        "id": "bbgNMMAYMmW7",
        "outputId": "f0d74974-dc3f-4178-836b-87a90bf58129"
      },
      "source": [
        "plt.plot(dde['k'], dde['ssde'], linestyle='--', marker='o')\n",
        "# plt.plot(xy[:, 0], xy[:, 1], '--o')\n",
        "for index, row in dde.iterrows():\n",
        "    plt.text(row['k']+.02, row['ssde']+.02, f'{row[\"pct_chg\"]:.2f}', fontsize=10)"
      ],
      "execution_count": 153,
      "outputs": [
        {
          "output_type": "display_data",
          "data": {
            "image/png": "[encoded data removed]",
            "text/plain": [
              "<Figure size 432x288 with 1 Axes>"
            ]
          },
          "metadata": {
            "tags": [],
            "image/png": {
              "width": 399,
              "height": 248
            },
            "needs_background": "light"
          }
        }
      ]
    },
    {
      "cell_type": "code",
      "metadata": {
        "colab": {
          "base_uri": "https://localhost:8080/",
          "height": 204
        },
        "id": "-9m0a6wHMmW7",
        "outputId": "168372b5-7fad-4a86-8a0f-82b571703463"
      },
      "source": [
        "avg_Expenditure_1['cluster']=KMclust.labels_\n",
        "avg_Expenditure_1.head()"
      ],
      "execution_count": 154,
      "outputs": [
        {
          "output_type": "execute_result",
          "data": {
            "text/html": [
              "<div>\n",
              "<style scoped>\n",
              "    .dataframe tbody tr th:only-of-type {\n",
              "        vertical-align: middle;\n",
              "    }\n",
              "\n",
              "    .dataframe tbody tr th {\n",
              "        vertical-align: top;\n",
              "    }\n",
              "\n",
              "    .dataframe thead th {\n",
              "        text-align: right;\n",
              "    }\n",
              "</style>\n",
              "<table border=\"1\" class=\"dataframe\">\n",
              "  <thead>\n",
              "    <tr style=\"text-align: right;\">\n",
              "      <th></th>\n",
              "      <th>จังหวัด</th>\n",
              "      <th>avg_expenditure</th>\n",
              "      <th>cluster</th>\n",
              "    </tr>\n",
              "  </thead>\n",
              "  <tbody>\n",
              "    <tr>\n",
              "      <th>0</th>\n",
              "      <td>กรุงเทพมหานคร 53</td>\n",
              "      <td>30334.0</td>\n",
              "      <td>0</td>\n",
              "    </tr>\n",
              "    <tr>\n",
              "      <th>1</th>\n",
              "      <td>สมุทรปราการ 53</td>\n",
              "      <td>18450.0</td>\n",
              "      <td>0</td>\n",
              "    </tr>\n",
              "    <tr>\n",
              "      <th>2</th>\n",
              "      <td>นนทบุรี 53</td>\n",
              "      <td>29487.0</td>\n",
              "      <td>0</td>\n",
              "    </tr>\n",
              "    <tr>\n",
              "      <th>3</th>\n",
              "      <td>ปทุมธานี 53</td>\n",
              "      <td>22460.0</td>\n",
              "      <td>0</td>\n",
              "    </tr>\n",
              "    <tr>\n",
              "      <th>4</th>\n",
              "      <td>พระนครศรีอยุธยา 53</td>\n",
              "      <td>20717.0</td>\n",
              "      <td>0</td>\n",
              "    </tr>\n",
              "  </tbody>\n",
              "</table>\n",
              "</div>"
            ],
            "text/plain": [
              "              จังหวัด  avg_expenditure  cluster\n",
              "0    กรุงเทพมหานคร 53          30334.0        0\n",
              "1      สมุทรปราการ 53          18450.0        0\n",
              "2          นนทบุรี 53          29487.0        0\n",
              "3         ปทุมธานี 53          22460.0        0\n",
              "4  พระนครศรีอยุธยา 53          20717.0        0"
            ]
          },
          "metadata": {
            "tags": []
          },
          "execution_count": 154
        }
      ]
    },
    {
      "cell_type": "code",
      "metadata": {
        "colab": {
          "base_uri": "https://localhost:8080/",
          "height": 297
        },
        "id": "TOB4H8UdMmW7",
        "outputId": "ffb4be92-dda3-456c-eab2-9a5af7a04265"
      },
      "source": [
        "avg_Expenditure_1.groupby('cluster').describe().T"
      ],
      "execution_count": 155,
      "outputs": [
        {
          "output_type": "execute_result",
          "data": {
            "text/html": [
              "<div>\n",
              "<style scoped>\n",
              "    .dataframe tbody tr th:only-of-type {\n",
              "        vertical-align: middle;\n",
              "    }\n",
              "\n",
              "    .dataframe tbody tr th {\n",
              "        vertical-align: top;\n",
              "    }\n",
              "\n",
              "    .dataframe thead th {\n",
              "        text-align: right;\n",
              "    }\n",
              "</style>\n",
              "<table border=\"1\" class=\"dataframe\">\n",
              "  <thead>\n",
              "    <tr style=\"text-align: right;\">\n",
              "      <th></th>\n",
              "      <th>cluster</th>\n",
              "      <th>0</th>\n",
              "      <th>1</th>\n",
              "    </tr>\n",
              "  </thead>\n",
              "  <tbody>\n",
              "    <tr>\n",
              "      <th rowspan=\"8\" valign=\"top\">avg_expenditure</th>\n",
              "      <th>count</th>\n",
              "      <td>154.000000</td>\n",
              "      <td>77.000000</td>\n",
              "    </tr>\n",
              "    <tr>\n",
              "      <th>mean</th>\n",
              "      <td>16561.024675</td>\n",
              "      <td>15501.201299</td>\n",
              "    </tr>\n",
              "    <tr>\n",
              "      <th>std</th>\n",
              "      <td>4829.068255</td>\n",
              "      <td>4654.585392</td>\n",
              "    </tr>\n",
              "    <tr>\n",
              "      <th>min</th>\n",
              "      <td>0.000000</td>\n",
              "      <td>0.000000</td>\n",
              "    </tr>\n",
              "    <tr>\n",
              "      <th>25%</th>\n",
              "      <td>13577.125000</td>\n",
              "      <td>12348.100000</td>\n",
              "    </tr>\n",
              "    <tr>\n",
              "      <th>50%</th>\n",
              "      <td>15863.400000</td>\n",
              "      <td>15101.900000</td>\n",
              "    </tr>\n",
              "    <tr>\n",
              "      <th>75%</th>\n",
              "      <td>18836.575000</td>\n",
              "      <td>18472.000000</td>\n",
              "    </tr>\n",
              "    <tr>\n",
              "      <th>max</th>\n",
              "      <td>35023.700000</td>\n",
              "      <td>29514.000000</td>\n",
              "    </tr>\n",
              "  </tbody>\n",
              "</table>\n",
              "</div>"
            ],
            "text/plain": [
              "cluster                           0             1\n",
              "avg_expenditure count    154.000000     77.000000\n",
              "                mean   16561.024675  15501.201299\n",
              "                std     4829.068255   4654.585392\n",
              "                min        0.000000      0.000000\n",
              "                25%    13577.125000  12348.100000\n",
              "                50%    15863.400000  15101.900000\n",
              "                75%    18836.575000  18472.000000\n",
              "                max    35023.700000  29514.000000"
            ]
          },
          "metadata": {
            "tags": []
          },
          "execution_count": 155
        }
      ]
    },
    {
      "cell_type": "code",
      "metadata": {
        "colab": {
          "base_uri": "https://localhost:8080/",
          "height": 297
        },
        "id": "FsIq6wyWMmW8",
        "outputId": "f232e211-c584-4c26-a809-afa407e297b4"
      },
      "source": [
        "sns.countplot(x='cluster', data=avg_Expenditure_1)"
      ],
      "execution_count": 156,
      "outputs": [
        {
          "output_type": "execute_result",
          "data": {
            "text/plain": [
              "<matplotlib.axes._subplots.AxesSubplot at 0x7f407b4def28>"
            ]
          },
          "metadata": {
            "tags": []
          },
          "execution_count": 156
        },
        {
          "output_type": "display_data",
          "data": {
            "image/png": "[encoded data removed]",
            "text/plain": [
              "<Figure size 432x288 with 1 Axes>"
            ]
          },
          "metadata": {
            "tags": [],
            "image/png": {
              "width": 388,
              "height": 263
            },
            "needs_background": "light"
          }
        }
      ]
    },
    {
      "cell_type": "code",
      "metadata": {
        "colab": {
          "base_uri": "https://localhost:8080/",
          "height": 419
        },
        "id": "dvKad2vOMmW8",
        "outputId": "ded28793-3137-4f7d-ae88-20f17f0e1e07"
      },
      "source": [
        "avg_Expenditure_1"
      ],
      "execution_count": 157,
      "outputs": [
        {
          "output_type": "execute_result",
          "data": {
            "text/html": [
              "<div>\n",
              "<style scoped>\n",
              "    .dataframe tbody tr th:only-of-type {\n",
              "        vertical-align: middle;\n",
              "    }\n",
              "\n",
              "    .dataframe tbody tr th {\n",
              "        vertical-align: top;\n",
              "    }\n",
              "\n",
              "    .dataframe thead th {\n",
              "        text-align: right;\n",
              "    }\n",
              "</style>\n",
              "<table border=\"1\" class=\"dataframe\">\n",
              "  <thead>\n",
              "    <tr style=\"text-align: right;\">\n",
              "      <th></th>\n",
              "      <th>จังหวัด</th>\n",
              "      <th>avg_expenditure</th>\n",
              "      <th>cluster</th>\n",
              "    </tr>\n",
              "  </thead>\n",
              "  <tbody>\n",
              "    <tr>\n",
              "      <th>0</th>\n",
              "      <td>กรุงเทพมหานคร 53</td>\n",
              "      <td>30334.0</td>\n",
              "      <td>0</td>\n",
              "    </tr>\n",
              "    <tr>\n",
              "      <th>1</th>\n",
              "      <td>สมุทรปราการ 53</td>\n",
              "      <td>18450.0</td>\n",
              "      <td>0</td>\n",
              "    </tr>\n",
              "    <tr>\n",
              "      <th>2</th>\n",
              "      <td>นนทบุรี 53</td>\n",
              "      <td>29487.0</td>\n",
              "      <td>0</td>\n",
              "    </tr>\n",
              "    <tr>\n",
              "      <th>3</th>\n",
              "      <td>ปทุมธานี 53</td>\n",
              "      <td>22460.0</td>\n",
              "      <td>0</td>\n",
              "    </tr>\n",
              "    <tr>\n",
              "      <th>4</th>\n",
              "      <td>พระนครศรีอยุธยา 53</td>\n",
              "      <td>20717.0</td>\n",
              "      <td>0</td>\n",
              "    </tr>\n",
              "    <tr>\n",
              "      <th>...</th>\n",
              "      <td>...</td>\n",
              "      <td>...</td>\n",
              "      <td>...</td>\n",
              "    </tr>\n",
              "    <tr>\n",
              "      <th>226</th>\n",
              "      <td>ตรัง 55</td>\n",
              "      <td>20922.3</td>\n",
              "      <td>1</td>\n",
              "    </tr>\n",
              "    <tr>\n",
              "      <th>227</th>\n",
              "      <td>พัทลุง 55</td>\n",
              "      <td>16635.7</td>\n",
              "      <td>0</td>\n",
              "    </tr>\n",
              "    <tr>\n",
              "      <th>228</th>\n",
              "      <td>ปัตตานี 55</td>\n",
              "      <td>16668.1</td>\n",
              "      <td>1</td>\n",
              "    </tr>\n",
              "    <tr>\n",
              "      <th>229</th>\n",
              "      <td>ยะลา 55</td>\n",
              "      <td>12521.7</td>\n",
              "      <td>1</td>\n",
              "    </tr>\n",
              "    <tr>\n",
              "      <th>230</th>\n",
              "      <td>นราธิวาส 55</td>\n",
              "      <td>13727.8</td>\n",
              "      <td>0</td>\n",
              "    </tr>\n",
              "  </tbody>\n",
              "</table>\n",
              "<p>231 rows × 3 columns</p>\n",
              "</div>"
            ],
            "text/plain": [
              "                จังหวัด  avg_expenditure  cluster\n",
              "0      กรุงเทพมหานคร 53          30334.0        0\n",
              "1        สมุทรปราการ 53          18450.0        0\n",
              "2            นนทบุรี 53          29487.0        0\n",
              "3           ปทุมธานี 53          22460.0        0\n",
              "4    พระนครศรีอยุธยา 53          20717.0        0\n",
              "..                  ...              ...      ...\n",
              "226             ตรัง 55          20922.3        1\n",
              "227           พัทลุง 55          16635.7        0\n",
              "228          ปัตตานี 55          16668.1        1\n",
              "229             ยะลา 55          12521.7        1\n",
              "230         นราธิวาส 55          13727.8        0\n",
              "\n",
              "[231 rows x 3 columns]"
            ]
          },
          "metadata": {
            "tags": []
          },
          "execution_count": 157
        }
      ]
    },
    {
      "cell_type": "code",
      "metadata": {
        "colab": {
          "base_uri": "https://localhost:8080/",
          "height": 359
        },
        "id": "QfqKkKtRMmW8",
        "outputId": "32e530e1-7513-4dd3-c096-a1f8c0830a24"
      },
      "source": [
        "avg_Expenditure_1.groupby('cluster').head().sort_values('cluster')"
      ],
      "execution_count": 158,
      "outputs": [
        {
          "output_type": "execute_result",
          "data": {
            "text/html": [
              "<div>\n",
              "<style scoped>\n",
              "    .dataframe tbody tr th:only-of-type {\n",
              "        vertical-align: middle;\n",
              "    }\n",
              "\n",
              "    .dataframe tbody tr th {\n",
              "        vertical-align: top;\n",
              "    }\n",
              "\n",
              "    .dataframe thead th {\n",
              "        text-align: right;\n",
              "    }\n",
              "</style>\n",
              "<table border=\"1\" class=\"dataframe\">\n",
              "  <thead>\n",
              "    <tr style=\"text-align: right;\">\n",
              "      <th></th>\n",
              "      <th>จังหวัด</th>\n",
              "      <th>avg_expenditure</th>\n",
              "      <th>cluster</th>\n",
              "    </tr>\n",
              "  </thead>\n",
              "  <tbody>\n",
              "    <tr>\n",
              "      <th>0</th>\n",
              "      <td>กรุงเทพมหานคร 53</td>\n",
              "      <td>30334.0</td>\n",
              "      <td>0</td>\n",
              "    </tr>\n",
              "    <tr>\n",
              "      <th>1</th>\n",
              "      <td>สมุทรปราการ 53</td>\n",
              "      <td>18450.0</td>\n",
              "      <td>0</td>\n",
              "    </tr>\n",
              "    <tr>\n",
              "      <th>2</th>\n",
              "      <td>นนทบุรี 53</td>\n",
              "      <td>29487.0</td>\n",
              "      <td>0</td>\n",
              "    </tr>\n",
              "    <tr>\n",
              "      <th>3</th>\n",
              "      <td>ปทุมธานี 53</td>\n",
              "      <td>22460.0</td>\n",
              "      <td>0</td>\n",
              "    </tr>\n",
              "    <tr>\n",
              "      <th>4</th>\n",
              "      <td>พระนครศรีอยุธยา 53</td>\n",
              "      <td>20717.0</td>\n",
              "      <td>0</td>\n",
              "    </tr>\n",
              "    <tr>\n",
              "      <th>6</th>\n",
              "      <td>ลพบุรี 53</td>\n",
              "      <td>16764.0</td>\n",
              "      <td>1</td>\n",
              "    </tr>\n",
              "    <tr>\n",
              "      <th>8</th>\n",
              "      <td>ชัยนาท 53</td>\n",
              "      <td>14272.0</td>\n",
              "      <td>1</td>\n",
              "    </tr>\n",
              "    <tr>\n",
              "      <th>10</th>\n",
              "      <td>ชลบุรี 53</td>\n",
              "      <td>21312.0</td>\n",
              "      <td>1</td>\n",
              "    </tr>\n",
              "    <tr>\n",
              "      <th>13</th>\n",
              "      <td>ตราด 53</td>\n",
              "      <td>13365.0</td>\n",
              "      <td>1</td>\n",
              "    </tr>\n",
              "    <tr>\n",
              "      <th>15</th>\n",
              "      <td>ปราจีนบุรี 53</td>\n",
              "      <td>18472.0</td>\n",
              "      <td>1</td>\n",
              "    </tr>\n",
              "  </tbody>\n",
              "</table>\n",
              "</div>"
            ],
            "text/plain": [
              "               จังหวัด  avg_expenditure  cluster\n",
              "0     กรุงเทพมหานคร 53          30334.0        0\n",
              "1       สมุทรปราการ 53          18450.0        0\n",
              "2           นนทบุรี 53          29487.0        0\n",
              "3          ปทุมธานี 53          22460.0        0\n",
              "4   พระนครศรีอยุธยา 53          20717.0        0\n",
              "6            ลพบุรี 53          16764.0        1\n",
              "8            ชัยนาท 53          14272.0        1\n",
              "10           ชลบุรี 53          21312.0        1\n",
              "13             ตราด 53          13365.0        1\n",
              "15       ปราจีนบุรี 53          18472.0        1"
            ]
          },
          "metadata": {
            "tags": []
          },
          "execution_count": 158
        }
      ]
    },
    {
      "cell_type": "markdown",
      "metadata": {
        "id": "El-LHjreQMOa"
      },
      "source": [
        ""
      ]
    }
  ]
}